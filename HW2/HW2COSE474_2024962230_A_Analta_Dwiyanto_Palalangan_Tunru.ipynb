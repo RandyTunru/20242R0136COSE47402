{
  "cells": [
    {
      "cell_type": "markdown",
      "source": [
        "HW2 Deep Learning (COSE474)\n",
        "\n",
        "Submitted by : Andi Analta Dwiyanto Palalangan Tunru (2024962230)"
      ],
      "metadata": {
        "id": "OPts16WyZHc2"
      }
    },
    {
      "cell_type": "code",
      "execution_count": null,
      "metadata": {
        "colab": {
          "base_uri": "https://localhost:8080/"
        },
        "id": "ZPlsh12oxJUb",
        "outputId": "7978b580-daba-4f56-bed1-3a1a90ad39c2"
      },
      "outputs": [
        {
          "output_type": "stream",
          "name": "stdout",
          "text": [
            "Requirement already satisfied: d2l in /usr/local/lib/python3.10/dist-packages (1.0.3)\n",
            "Requirement already satisfied: jupyter==1.0.0 in /usr/local/lib/python3.10/dist-packages (from d2l) (1.0.0)\n",
            "Requirement already satisfied: numpy==1.23.5 in /usr/local/lib/python3.10/dist-packages (from d2l) (1.23.5)\n",
            "Requirement already satisfied: matplotlib==3.7.2 in /usr/local/lib/python3.10/dist-packages (from d2l) (3.7.2)\n",
            "Requirement already satisfied: matplotlib-inline==0.1.6 in /usr/local/lib/python3.10/dist-packages (from d2l) (0.1.6)\n",
            "Requirement already satisfied: requests==2.31.0 in /usr/local/lib/python3.10/dist-packages (from d2l) (2.31.0)\n",
            "Requirement already satisfied: pandas==2.0.3 in /usr/local/lib/python3.10/dist-packages (from d2l) (2.0.3)\n",
            "Requirement already satisfied: scipy==1.10.1 in /usr/local/lib/python3.10/dist-packages (from d2l) (1.10.1)\n",
            "Requirement already satisfied: notebook in /usr/local/lib/python3.10/dist-packages (from jupyter==1.0.0->d2l) (6.5.5)\n",
            "Requirement already satisfied: qtconsole in /usr/local/lib/python3.10/dist-packages (from jupyter==1.0.0->d2l) (5.6.0)\n",
            "Requirement already satisfied: jupyter-console in /usr/local/lib/python3.10/dist-packages (from jupyter==1.0.0->d2l) (6.1.0)\n",
            "Requirement already satisfied: nbconvert in /usr/local/lib/python3.10/dist-packages (from jupyter==1.0.0->d2l) (6.5.4)\n",
            "Requirement already satisfied: ipykernel in /usr/local/lib/python3.10/dist-packages (from jupyter==1.0.0->d2l) (5.5.6)\n",
            "Requirement already satisfied: ipywidgets in /usr/local/lib/python3.10/dist-packages (from jupyter==1.0.0->d2l) (7.7.1)\n",
            "Requirement already satisfied: contourpy>=1.0.1 in /usr/local/lib/python3.10/dist-packages (from matplotlib==3.7.2->d2l) (1.3.0)\n",
            "Requirement already satisfied: cycler>=0.10 in /usr/local/lib/python3.10/dist-packages (from matplotlib==3.7.2->d2l) (0.12.1)\n",
            "Requirement already satisfied: fonttools>=4.22.0 in /usr/local/lib/python3.10/dist-packages (from matplotlib==3.7.2->d2l) (4.54.1)\n",
            "Requirement already satisfied: kiwisolver>=1.0.1 in /usr/local/lib/python3.10/dist-packages (from matplotlib==3.7.2->d2l) (1.4.7)\n",
            "Requirement already satisfied: packaging>=20.0 in /usr/local/lib/python3.10/dist-packages (from matplotlib==3.7.2->d2l) (24.1)\n",
            "Requirement already satisfied: pillow>=6.2.0 in /usr/local/lib/python3.10/dist-packages (from matplotlib==3.7.2->d2l) (10.4.0)\n",
            "Requirement already satisfied: pyparsing<3.1,>=2.3.1 in /usr/local/lib/python3.10/dist-packages (from matplotlib==3.7.2->d2l) (3.0.9)\n",
            "Requirement already satisfied: python-dateutil>=2.7 in /usr/local/lib/python3.10/dist-packages (from matplotlib==3.7.2->d2l) (2.8.2)\n",
            "Requirement already satisfied: traitlets in /usr/local/lib/python3.10/dist-packages (from matplotlib-inline==0.1.6->d2l) (5.7.1)\n",
            "Requirement already satisfied: pytz>=2020.1 in /usr/local/lib/python3.10/dist-packages (from pandas==2.0.3->d2l) (2024.2)\n",
            "Requirement already satisfied: tzdata>=2022.1 in /usr/local/lib/python3.10/dist-packages (from pandas==2.0.3->d2l) (2024.2)\n",
            "Requirement already satisfied: charset-normalizer<4,>=2 in /usr/local/lib/python3.10/dist-packages (from requests==2.31.0->d2l) (3.3.2)\n",
            "Requirement already satisfied: idna<4,>=2.5 in /usr/local/lib/python3.10/dist-packages (from requests==2.31.0->d2l) (3.10)\n",
            "Requirement already satisfied: urllib3<3,>=1.21.1 in /usr/local/lib/python3.10/dist-packages (from requests==2.31.0->d2l) (2.2.3)\n",
            "Requirement already satisfied: certifi>=2017.4.17 in /usr/local/lib/python3.10/dist-packages (from requests==2.31.0->d2l) (2024.8.30)\n",
            "Requirement already satisfied: six>=1.5 in /usr/local/lib/python3.10/dist-packages (from python-dateutil>=2.7->matplotlib==3.7.2->d2l) (1.16.0)\n",
            "Requirement already satisfied: ipython-genutils in /usr/local/lib/python3.10/dist-packages (from ipykernel->jupyter==1.0.0->d2l) (0.2.0)\n",
            "Requirement already satisfied: ipython>=5.0.0 in /usr/local/lib/python3.10/dist-packages (from ipykernel->jupyter==1.0.0->d2l) (7.34.0)\n",
            "Requirement already satisfied: jupyter-client in /usr/local/lib/python3.10/dist-packages (from ipykernel->jupyter==1.0.0->d2l) (6.1.12)\n",
            "Requirement already satisfied: tornado>=4.2 in /usr/local/lib/python3.10/dist-packages (from ipykernel->jupyter==1.0.0->d2l) (6.3.3)\n",
            "Requirement already satisfied: widgetsnbextension~=3.6.0 in /usr/local/lib/python3.10/dist-packages (from ipywidgets->jupyter==1.0.0->d2l) (3.6.9)\n",
            "Requirement already satisfied: jupyterlab-widgets>=1.0.0 in /usr/local/lib/python3.10/dist-packages (from ipywidgets->jupyter==1.0.0->d2l) (3.0.13)\n",
            "Requirement already satisfied: prompt-toolkit!=3.0.0,!=3.0.1,<3.1.0,>=2.0.0 in /usr/local/lib/python3.10/dist-packages (from jupyter-console->jupyter==1.0.0->d2l) (3.0.48)\n",
            "Requirement already satisfied: pygments in /usr/local/lib/python3.10/dist-packages (from jupyter-console->jupyter==1.0.0->d2l) (2.18.0)\n",
            "Requirement already satisfied: lxml in /usr/local/lib/python3.10/dist-packages (from nbconvert->jupyter==1.0.0->d2l) (4.9.4)\n",
            "Requirement already satisfied: beautifulsoup4 in /usr/local/lib/python3.10/dist-packages (from nbconvert->jupyter==1.0.0->d2l) (4.12.3)\n",
            "Requirement already satisfied: bleach in /usr/local/lib/python3.10/dist-packages (from nbconvert->jupyter==1.0.0->d2l) (6.1.0)\n",
            "Requirement already satisfied: defusedxml in /usr/local/lib/python3.10/dist-packages (from nbconvert->jupyter==1.0.0->d2l) (0.7.1)\n",
            "Requirement already satisfied: entrypoints>=0.2.2 in /usr/local/lib/python3.10/dist-packages (from nbconvert->jupyter==1.0.0->d2l) (0.4)\n",
            "Requirement already satisfied: jinja2>=3.0 in /usr/local/lib/python3.10/dist-packages (from nbconvert->jupyter==1.0.0->d2l) (3.1.4)\n",
            "Requirement already satisfied: jupyter-core>=4.7 in /usr/local/lib/python3.10/dist-packages (from nbconvert->jupyter==1.0.0->d2l) (5.7.2)\n",
            "Requirement already satisfied: jupyterlab-pygments in /usr/local/lib/python3.10/dist-packages (from nbconvert->jupyter==1.0.0->d2l) (0.3.0)\n",
            "Requirement already satisfied: MarkupSafe>=2.0 in /usr/local/lib/python3.10/dist-packages (from nbconvert->jupyter==1.0.0->d2l) (2.1.5)\n",
            "Requirement already satisfied: mistune<2,>=0.8.1 in /usr/local/lib/python3.10/dist-packages (from nbconvert->jupyter==1.0.0->d2l) (0.8.4)\n",
            "Requirement already satisfied: nbclient>=0.5.0 in /usr/local/lib/python3.10/dist-packages (from nbconvert->jupyter==1.0.0->d2l) (0.10.0)\n",
            "Requirement already satisfied: nbformat>=5.1 in /usr/local/lib/python3.10/dist-packages (from nbconvert->jupyter==1.0.0->d2l) (5.10.4)\n",
            "Requirement already satisfied: pandocfilters>=1.4.1 in /usr/local/lib/python3.10/dist-packages (from nbconvert->jupyter==1.0.0->d2l) (1.5.1)\n",
            "Requirement already satisfied: tinycss2 in /usr/local/lib/python3.10/dist-packages (from nbconvert->jupyter==1.0.0->d2l) (1.3.0)\n",
            "Requirement already satisfied: pyzmq<25,>=17 in /usr/local/lib/python3.10/dist-packages (from notebook->jupyter==1.0.0->d2l) (24.0.1)\n",
            "Requirement already satisfied: argon2-cffi in /usr/local/lib/python3.10/dist-packages (from notebook->jupyter==1.0.0->d2l) (23.1.0)\n",
            "Requirement already satisfied: nest-asyncio>=1.5 in /usr/local/lib/python3.10/dist-packages (from notebook->jupyter==1.0.0->d2l) (1.6.0)\n",
            "Requirement already satisfied: Send2Trash>=1.8.0 in /usr/local/lib/python3.10/dist-packages (from notebook->jupyter==1.0.0->d2l) (1.8.3)\n",
            "Requirement already satisfied: terminado>=0.8.3 in /usr/local/lib/python3.10/dist-packages (from notebook->jupyter==1.0.0->d2l) (0.18.1)\n",
            "Requirement already satisfied: prometheus-client in /usr/local/lib/python3.10/dist-packages (from notebook->jupyter==1.0.0->d2l) (0.21.0)\n",
            "Requirement already satisfied: nbclassic>=0.4.7 in /usr/local/lib/python3.10/dist-packages (from notebook->jupyter==1.0.0->d2l) (1.1.0)\n",
            "Requirement already satisfied: qtpy>=2.4.0 in /usr/local/lib/python3.10/dist-packages (from qtconsole->jupyter==1.0.0->d2l) (2.4.1)\n",
            "Requirement already satisfied: setuptools>=18.5 in /usr/local/lib/python3.10/dist-packages (from ipython>=5.0.0->ipykernel->jupyter==1.0.0->d2l) (71.0.4)\n",
            "Requirement already satisfied: jedi>=0.16 in /usr/local/lib/python3.10/dist-packages (from ipython>=5.0.0->ipykernel->jupyter==1.0.0->d2l) (0.19.1)\n",
            "Requirement already satisfied: decorator in /usr/local/lib/python3.10/dist-packages (from ipython>=5.0.0->ipykernel->jupyter==1.0.0->d2l) (4.4.2)\n",
            "Requirement already satisfied: pickleshare in /usr/local/lib/python3.10/dist-packages (from ipython>=5.0.0->ipykernel->jupyter==1.0.0->d2l) (0.7.5)\n",
            "Requirement already satisfied: backcall in /usr/local/lib/python3.10/dist-packages (from ipython>=5.0.0->ipykernel->jupyter==1.0.0->d2l) (0.2.0)\n",
            "Requirement already satisfied: pexpect>4.3 in /usr/local/lib/python3.10/dist-packages (from ipython>=5.0.0->ipykernel->jupyter==1.0.0->d2l) (4.9.0)\n",
            "Requirement already satisfied: platformdirs>=2.5 in /usr/local/lib/python3.10/dist-packages (from jupyter-core>=4.7->nbconvert->jupyter==1.0.0->d2l) (4.3.6)\n",
            "Requirement already satisfied: notebook-shim>=0.2.3 in /usr/local/lib/python3.10/dist-packages (from nbclassic>=0.4.7->notebook->jupyter==1.0.0->d2l) (0.2.4)\n",
            "Requirement already satisfied: fastjsonschema>=2.15 in /usr/local/lib/python3.10/dist-packages (from nbformat>=5.1->nbconvert->jupyter==1.0.0->d2l) (2.20.0)\n",
            "Requirement already satisfied: jsonschema>=2.6 in /usr/local/lib/python3.10/dist-packages (from nbformat>=5.1->nbconvert->jupyter==1.0.0->d2l) (4.23.0)\n",
            "Requirement already satisfied: wcwidth in /usr/local/lib/python3.10/dist-packages (from prompt-toolkit!=3.0.0,!=3.0.1,<3.1.0,>=2.0.0->jupyter-console->jupyter==1.0.0->d2l) (0.2.13)\n",
            "Requirement already satisfied: ptyprocess in /usr/local/lib/python3.10/dist-packages (from terminado>=0.8.3->notebook->jupyter==1.0.0->d2l) (0.7.0)\n",
            "Requirement already satisfied: argon2-cffi-bindings in /usr/local/lib/python3.10/dist-packages (from argon2-cffi->notebook->jupyter==1.0.0->d2l) (21.2.0)\n",
            "Requirement already satisfied: soupsieve>1.2 in /usr/local/lib/python3.10/dist-packages (from beautifulsoup4->nbconvert->jupyter==1.0.0->d2l) (2.6)\n",
            "Requirement already satisfied: webencodings in /usr/local/lib/python3.10/dist-packages (from bleach->nbconvert->jupyter==1.0.0->d2l) (0.5.1)\n",
            "Requirement already satisfied: parso<0.9.0,>=0.8.3 in /usr/local/lib/python3.10/dist-packages (from jedi>=0.16->ipython>=5.0.0->ipykernel->jupyter==1.0.0->d2l) (0.8.4)\n",
            "Requirement already satisfied: attrs>=22.2.0 in /usr/local/lib/python3.10/dist-packages (from jsonschema>=2.6->nbformat>=5.1->nbconvert->jupyter==1.0.0->d2l) (24.2.0)\n",
            "Requirement already satisfied: jsonschema-specifications>=2023.03.6 in /usr/local/lib/python3.10/dist-packages (from jsonschema>=2.6->nbformat>=5.1->nbconvert->jupyter==1.0.0->d2l) (2023.12.1)\n",
            "Requirement already satisfied: referencing>=0.28.4 in /usr/local/lib/python3.10/dist-packages (from jsonschema>=2.6->nbformat>=5.1->nbconvert->jupyter==1.0.0->d2l) (0.35.1)\n",
            "Requirement already satisfied: rpds-py>=0.7.1 in /usr/local/lib/python3.10/dist-packages (from jsonschema>=2.6->nbformat>=5.1->nbconvert->jupyter==1.0.0->d2l) (0.20.0)\n",
            "Requirement already satisfied: jupyter-server<3,>=1.8 in /usr/local/lib/python3.10/dist-packages (from notebook-shim>=0.2.3->nbclassic>=0.4.7->notebook->jupyter==1.0.0->d2l) (1.24.0)\n",
            "Requirement already satisfied: cffi>=1.0.1 in /usr/local/lib/python3.10/dist-packages (from argon2-cffi-bindings->argon2-cffi->notebook->jupyter==1.0.0->d2l) (1.17.1)\n",
            "Requirement already satisfied: pycparser in /usr/local/lib/python3.10/dist-packages (from cffi>=1.0.1->argon2-cffi-bindings->argon2-cffi->notebook->jupyter==1.0.0->d2l) (2.22)\n",
            "Requirement already satisfied: anyio<4,>=3.1.0 in /usr/local/lib/python3.10/dist-packages (from jupyter-server<3,>=1.8->notebook-shim>=0.2.3->nbclassic>=0.4.7->notebook->jupyter==1.0.0->d2l) (3.7.1)\n",
            "Requirement already satisfied: websocket-client in /usr/local/lib/python3.10/dist-packages (from jupyter-server<3,>=1.8->notebook-shim>=0.2.3->nbclassic>=0.4.7->notebook->jupyter==1.0.0->d2l) (1.8.0)\n",
            "Requirement already satisfied: sniffio>=1.1 in /usr/local/lib/python3.10/dist-packages (from anyio<4,>=3.1.0->jupyter-server<3,>=1.8->notebook-shim>=0.2.3->nbclassic>=0.4.7->notebook->jupyter==1.0.0->d2l) (1.3.1)\n",
            "Requirement already satisfied: exceptiongroup in /usr/local/lib/python3.10/dist-packages (from anyio<4,>=3.1.0->jupyter-server<3,>=1.8->notebook-shim>=0.2.3->nbclassic>=0.4.7->notebook->jupyter==1.0.0->d2l) (1.2.2)\n"
          ]
        }
      ],
      "source": [
        "!pip install d2l"
      ]
    },
    {
      "cell_type": "code",
      "execution_count": null,
      "metadata": {
        "id": "ftSXmfPsgbPR"
      },
      "outputs": [],
      "source": [
        "import torch\n",
        "from torch import nn\n",
        "from d2l import torch as d2l"
      ]
    },
    {
      "cell_type": "markdown",
      "metadata": {
        "id": "NKozpZBxfrox"
      },
      "source": [
        "# 7 Convolutional Neural Network"
      ]
    },
    {
      "cell_type": "markdown",
      "metadata": {
        "id": "HLzV4CVsfypf"
      },
      "source": [
        "## 7.1 From Fully Connected Layers to Convolutions"
      ]
    },
    {
      "cell_type": "markdown",
      "metadata": {
        "id": "XyKZ5j4Vf3ui"
      },
      "source": [
        "\n",
        "\n",
        "1.   Notes :\n",
        "\n",
        "*   Local Representation : Small Portions and Simpler, eg. edges, colors, texture\n",
        "*   Longer Range : Abstract / Higher Level Concept, eg. the object itself\n",
        "\n",
        "\n",
        "2.   Questions :\n",
        "\n",
        "*   Why/How did these desideratas come to be\n",
        "*   Comparison with concepts that directly focuses on longer range features\n",
        "*   Performance on challenges such as occlusion\n",
        "\n",
        "\n",
        "\n"
      ]
    },
    {
      "cell_type": "markdown",
      "metadata": {
        "id": "zIs9SfIVht8G"
      },
      "source": [
        "## 7.2 Convolutions for images"
      ]
    },
    {
      "cell_type": "markdown",
      "metadata": {
        "id": "B8wQitx7t2ui"
      },
      "source": [
        "### 7.2.1 The Cross-Correlation Operation"
      ]
    },
    {
      "cell_type": "code",
      "execution_count": null,
      "metadata": {
        "id": "ZvCC8ktZfcdv"
      },
      "outputs": [],
      "source": [
        "def corr2d(X, K):\n",
        "    \"\"\"Compute 2D cross-correlation.\"\"\"\n",
        "    h, w = K.shape\n",
        "    Y = torch.zeros((X.shape[0] - h + 1, X.shape[1] - w + 1))\n",
        "    for i in range(Y.shape[0]):\n",
        "        for j in range(Y.shape[1]):\n",
        "            Y[i, j] = (X[i:i + h, j:j + w] * K).sum()\n",
        "    return Y"
      ]
    },
    {
      "cell_type": "code",
      "execution_count": null,
      "metadata": {
        "colab": {
          "base_uri": "https://localhost:8080/"
        },
        "id": "MXQk7bQj1oIn",
        "outputId": "e292ded4-9c8d-43c1-86dd-c3c17514213d"
      },
      "outputs": [
        {
          "output_type": "execute_result",
          "data": {
            "text/plain": [
              "tensor([[19., 25.],\n",
              "        [37., 43.]])"
            ]
          },
          "metadata": {},
          "execution_count": 47
        }
      ],
      "source": [
        "X = torch.tensor([[0.0, 1.0, 2.0], [3.0, 4.0, 5.0], [6.0, 7.0, 8.0]])\n",
        "K = torch.tensor([[0.0, 1.0], [2.0, 3.0]])\n",
        "corr2d(X, K)"
      ]
    },
    {
      "cell_type": "markdown",
      "metadata": {
        "id": "X6c9q8qstz_d"
      },
      "source": [
        "### 7.2.2 Convolutional Layers"
      ]
    },
    {
      "cell_type": "code",
      "execution_count": null,
      "metadata": {
        "id": "0Maoy54suTqY"
      },
      "outputs": [],
      "source": [
        "class Conv2D(nn.Module):\n",
        "    def __init__(self, kernel_size):\n",
        "        super().__init__()\n",
        "        self.weight = nn.Parameter(torch.rand(kernel_size))\n",
        "        self.bias = nn.Parameter(torch.zeros(1))\n",
        "\n",
        "    def forward(self, x):\n",
        "        return corr2d(x, self.weight) + self.bias"
      ]
    },
    {
      "cell_type": "markdown",
      "metadata": {
        "id": "Q0zUSNkaupX0"
      },
      "source": [
        "### 7.2.3 Object Edge Detection in Images"
      ]
    },
    {
      "cell_type": "code",
      "execution_count": null,
      "metadata": {
        "colab": {
          "base_uri": "https://localhost:8080/"
        },
        "id": "LI8JMnj2utLh",
        "outputId": "8a4d8d3b-e1e5-4b5f-fd99-fea0b2aef0da"
      },
      "outputs": [
        {
          "output_type": "execute_result",
          "data": {
            "text/plain": [
              "tensor([[1., 1., 0., 0., 0., 0., 1., 1.],\n",
              "        [1., 1., 0., 0., 0., 0., 1., 1.],\n",
              "        [1., 1., 0., 0., 0., 0., 1., 1.],\n",
              "        [1., 1., 0., 0., 0., 0., 1., 1.],\n",
              "        [1., 1., 0., 0., 0., 0., 1., 1.],\n",
              "        [1., 1., 0., 0., 0., 0., 1., 1.]])"
            ]
          },
          "metadata": {},
          "execution_count": 49
        }
      ],
      "source": [
        "X = torch.ones((6, 8))\n",
        "X[:, 2:6] = 0\n",
        "X"
      ]
    },
    {
      "cell_type": "code",
      "execution_count": null,
      "metadata": {
        "id": "Oi75NKpVwxY-"
      },
      "outputs": [],
      "source": [
        "K = torch.tensor([[1.0, -1.0]])"
      ]
    },
    {
      "cell_type": "code",
      "execution_count": null,
      "metadata": {
        "colab": {
          "base_uri": "https://localhost:8080/"
        },
        "id": "oQpABrcbwzrC",
        "outputId": "a0a35545-62a1-4eb8-ad96-97c4c5556979"
      },
      "outputs": [
        {
          "output_type": "execute_result",
          "data": {
            "text/plain": [
              "tensor([[ 0.,  1.,  0.,  0.,  0., -1.,  0.],\n",
              "        [ 0.,  1.,  0.,  0.,  0., -1.,  0.],\n",
              "        [ 0.,  1.,  0.,  0.,  0., -1.,  0.],\n",
              "        [ 0.,  1.,  0.,  0.,  0., -1.,  0.],\n",
              "        [ 0.,  1.,  0.,  0.,  0., -1.,  0.],\n",
              "        [ 0.,  1.,  0.,  0.,  0., -1.,  0.]])"
            ]
          },
          "metadata": {},
          "execution_count": 51
        }
      ],
      "source": [
        "Y = corr2d(X, K)\n",
        "Y"
      ]
    },
    {
      "cell_type": "code",
      "execution_count": null,
      "metadata": {
        "colab": {
          "base_uri": "https://localhost:8080/"
        },
        "id": "QO5gWfZOw76J",
        "outputId": "b8307746-ff20-4967-d8c5-ffd9ab650969"
      },
      "outputs": [
        {
          "output_type": "execute_result",
          "data": {
            "text/plain": [
              "tensor([[0., 0., 0., 0., 0.],\n",
              "        [0., 0., 0., 0., 0.],\n",
              "        [0., 0., 0., 0., 0.],\n",
              "        [0., 0., 0., 0., 0.],\n",
              "        [0., 0., 0., 0., 0.],\n",
              "        [0., 0., 0., 0., 0.],\n",
              "        [0., 0., 0., 0., 0.],\n",
              "        [0., 0., 0., 0., 0.]])"
            ]
          },
          "metadata": {},
          "execution_count": 52
        }
      ],
      "source": [
        "corr2d(X.t(), K)"
      ]
    },
    {
      "cell_type": "markdown",
      "metadata": {
        "id": "uJc1okq94mTX"
      },
      "source": [
        "The kernel is sensitive to changes in image (tranposedd, etc.). how to fix?"
      ]
    },
    {
      "cell_type": "markdown",
      "metadata": {
        "id": "RTqRlXGu5APz"
      },
      "source": [
        "### 7.2.4 Learning a Kernel"
      ]
    },
    {
      "cell_type": "code",
      "execution_count": null,
      "metadata": {
        "colab": {
          "base_uri": "https://localhost:8080/"
        },
        "id": "b9t7fTyP5Cvu",
        "outputId": "ae332edd-fe04-43d8-f4ba-77b06e534204"
      },
      "outputs": [
        {
          "output_type": "stream",
          "name": "stdout",
          "text": [
            "tensor([[[[0.3675, 1.2287, 0.0000, 0.0000, 0.0000, 0.2523, 0.3675],\n",
            "          [0.3675, 1.2287, 0.0000, 0.0000, 0.0000, 0.2523, 0.3675],\n",
            "          [0.3675, 1.2287, 0.0000, 0.0000, 0.0000, 0.2523, 0.3675],\n",
            "          [0.3675, 1.2287, 0.0000, 0.0000, 0.0000, 0.2523, 0.3675],\n",
            "          [0.3675, 1.2287, 0.0000, 0.0000, 0.0000, 0.2523, 0.3675],\n",
            "          [0.3675, 1.2287, 0.0000, 0.0000, 0.0000, 0.2523, 0.3675]]]],\n",
            "       grad_fn=<PowBackward0>)\n",
            "tensor([[[[0.2352, 0.0745, 0.0000, 0.0000, 0.0000, 0.5744, 0.2352],\n",
            "          [0.2352, 0.0745, 0.0000, 0.0000, 0.0000, 0.5744, 0.2352],\n",
            "          [0.2352, 0.0745, 0.0000, 0.0000, 0.0000, 0.5744, 0.2352],\n",
            "          [0.2352, 0.0745, 0.0000, 0.0000, 0.0000, 0.5744, 0.2352],\n",
            "          [0.2352, 0.0745, 0.0000, 0.0000, 0.0000, 0.5744, 0.2352],\n",
            "          [0.2352, 0.0745, 0.0000, 0.0000, 0.0000, 0.5744, 0.2352]]]],\n",
            "       grad_fn=<PowBackward0>)\n",
            "epoch 2, loss 6.716\n",
            "tensor([[[[0.1505, 0.2744, 0.0000, 0.0000, 0.0000, 0.0185, 0.1505],\n",
            "          [0.1505, 0.2744, 0.0000, 0.0000, 0.0000, 0.0185, 0.1505],\n",
            "          [0.1505, 0.2744, 0.0000, 0.0000, 0.0000, 0.0185, 0.1505],\n",
            "          [0.1505, 0.2744, 0.0000, 0.0000, 0.0000, 0.0185, 0.1505],\n",
            "          [0.1505, 0.2744, 0.0000, 0.0000, 0.0000, 0.0185, 0.1505],\n",
            "          [0.1505, 0.2744, 0.0000, 0.0000, 0.0000, 0.0185, 0.1505]]]],\n",
            "       grad_fn=<PowBackward0>)\n",
            "tensor([[[[0.0963, 0.0031, 0.0000, 0.0000, 0.0000, 0.1342, 0.0963],\n",
            "          [0.0963, 0.0031, 0.0000, 0.0000, 0.0000, 0.1342, 0.0963],\n",
            "          [0.0963, 0.0031, 0.0000, 0.0000, 0.0000, 0.1342, 0.0963],\n",
            "          [0.0963, 0.0031, 0.0000, 0.0000, 0.0000, 0.1342, 0.0963],\n",
            "          [0.0963, 0.0031, 0.0000, 0.0000, 0.0000, 0.1342, 0.0963],\n",
            "          [0.0963, 0.0031, 0.0000, 0.0000, 0.0000, 0.1342, 0.0963]]]],\n",
            "       grad_fn=<PowBackward0>)\n",
            "epoch 4, loss 1.980\n",
            "tensor([[[[0.0616, 0.0672, 0.0000, 0.0000, 0.0000, 0.0001, 0.0616],\n",
            "          [0.0616, 0.0672, 0.0000, 0.0000, 0.0000, 0.0001, 0.0616],\n",
            "          [0.0616, 0.0672, 0.0000, 0.0000, 0.0000, 0.0001, 0.0616],\n",
            "          [0.0616, 0.0672, 0.0000, 0.0000, 0.0000, 0.0001, 0.0616],\n",
            "          [0.0616, 0.0672, 0.0000, 0.0000, 0.0000, 0.0001, 0.0616],\n",
            "          [0.0616, 0.0672, 0.0000, 0.0000, 0.0000, 0.0001, 0.0616]]]],\n",
            "       grad_fn=<PowBackward0>)\n",
            "tensor([[[[0.0395, 0.0002, 0.0000, 0.0000, 0.0000, 0.0345, 0.0395],\n",
            "          [0.0395, 0.0002, 0.0000, 0.0000, 0.0000, 0.0345, 0.0395],\n",
            "          [0.0395, 0.0002, 0.0000, 0.0000, 0.0000, 0.0345, 0.0395],\n",
            "          [0.0395, 0.0002, 0.0000, 0.0000, 0.0000, 0.0345, 0.0395],\n",
            "          [0.0395, 0.0002, 0.0000, 0.0000, 0.0000, 0.0345, 0.0395],\n",
            "          [0.0395, 0.0002, 0.0000, 0.0000, 0.0000, 0.0345, 0.0395]]]],\n",
            "       grad_fn=<PowBackward0>)\n",
            "epoch 6, loss 0.682\n",
            "tensor([[[[0.0253, 0.0182, 0.0000, 0.0000, 0.0000, 0.0006, 0.0253],\n",
            "          [0.0253, 0.0182, 0.0000, 0.0000, 0.0000, 0.0006, 0.0253],\n",
            "          [0.0253, 0.0182, 0.0000, 0.0000, 0.0000, 0.0006, 0.0253],\n",
            "          [0.0253, 0.0182, 0.0000, 0.0000, 0.0000, 0.0006, 0.0253],\n",
            "          [0.0253, 0.0182, 0.0000, 0.0000, 0.0000, 0.0006, 0.0253],\n",
            "          [0.0253, 0.0182, 0.0000, 0.0000, 0.0000, 0.0006, 0.0253]]]],\n",
            "       grad_fn=<PowBackward0>)\n",
            "tensor([[[[0.0162, 0.0008, 0.0000, 0.0000, 0.0000, 0.0098, 0.0162],\n",
            "          [0.0162, 0.0008, 0.0000, 0.0000, 0.0000, 0.0098, 0.0162],\n",
            "          [0.0162, 0.0008, 0.0000, 0.0000, 0.0000, 0.0098, 0.0162],\n",
            "          [0.0162, 0.0008, 0.0000, 0.0000, 0.0000, 0.0098, 0.0162],\n",
            "          [0.0162, 0.0008, 0.0000, 0.0000, 0.0000, 0.0098, 0.0162],\n",
            "          [0.0162, 0.0008, 0.0000, 0.0000, 0.0000, 0.0098, 0.0162]]]],\n",
            "       grad_fn=<PowBackward0>)\n",
            "epoch 8, loss 0.257\n",
            "tensor([[[[0.0103, 0.0054, 0.0000, 0.0000, 0.0000, 0.0008, 0.0103],\n",
            "          [0.0103, 0.0054, 0.0000, 0.0000, 0.0000, 0.0008, 0.0103],\n",
            "          [0.0103, 0.0054, 0.0000, 0.0000, 0.0000, 0.0008, 0.0103],\n",
            "          [0.0103, 0.0054, 0.0000, 0.0000, 0.0000, 0.0008, 0.0103],\n",
            "          [0.0103, 0.0054, 0.0000, 0.0000, 0.0000, 0.0008, 0.0103],\n",
            "          [0.0103, 0.0054, 0.0000, 0.0000, 0.0000, 0.0008, 0.0103]]]],\n",
            "       grad_fn=<PowBackward0>)\n",
            "tensor([[[[0.0066, 0.0007, 0.0000, 0.0000, 0.0000, 0.0030, 0.0066],\n",
            "          [0.0066, 0.0007, 0.0000, 0.0000, 0.0000, 0.0030, 0.0066],\n",
            "          [0.0066, 0.0007, 0.0000, 0.0000, 0.0000, 0.0030, 0.0066],\n",
            "          [0.0066, 0.0007, 0.0000, 0.0000, 0.0000, 0.0030, 0.0066],\n",
            "          [0.0066, 0.0007, 0.0000, 0.0000, 0.0000, 0.0030, 0.0066],\n",
            "          [0.0066, 0.0007, 0.0000, 0.0000, 0.0000, 0.0030, 0.0066]]]],\n",
            "       grad_fn=<PowBackward0>)\n",
            "epoch 10, loss 0.102\n"
          ]
        }
      ],
      "source": [
        "# Construct a two-dimensional convolutional layer with 1 output channel and a\n",
        "# kernel of shape (1, 2). For the sake of simplicity, we ignore the bias here\n",
        "conv2d = nn.LazyConv2d(1, kernel_size=(1, 2), bias=False)\n",
        "\n",
        "# The two-dimensional convolutional layer uses four-dimensional input and\n",
        "# output in the format of (example, channel, height, width), where the batch\n",
        "# size (number of examples in the batch) and the number of channels are both 1\n",
        "X = X.reshape((1, 1, 6, 8))\n",
        "Y = Y.reshape((1, 1, 6, 7))\n",
        "lr = 3e-2  # Learning rate\n",
        "\n",
        "for i in range(10):\n",
        "    Y_hat = conv2d(X)\n",
        "    l = (Y_hat - Y) ** 2\n",
        "    print(l)\n",
        "    conv2d.zero_grad()\n",
        "    l.sum().backward()\n",
        "    # Update the kernel\n",
        "    conv2d.weight.data[:] -= lr * conv2d.weight.grad\n",
        "    if (i + 1) % 2 == 0:\n",
        "        print(f'epoch {i + 1}, loss {l.sum():.3f}')"
      ]
    },
    {
      "cell_type": "code",
      "execution_count": null,
      "metadata": {
        "colab": {
          "base_uri": "https://localhost:8080/"
        },
        "id": "28svP9Pj7Pqy",
        "outputId": "5aaabc0e-0e67-4dbd-fb98-337f7338db45"
      },
      "outputs": [
        {
          "output_type": "execute_result",
          "data": {
            "text/plain": [
              "tensor([[ 0.9582, -1.0233]])"
            ]
          },
          "metadata": {},
          "execution_count": 54
        }
      ],
      "source": [
        "conv2d.weight.data.reshape((1, 2))"
      ]
    },
    {
      "cell_type": "markdown",
      "metadata": {
        "id": "mU20cXBSA6di"
      },
      "source": [
        "###7.2.6 Feature Map and Receptive Field"
      ]
    },
    {
      "cell_type": "markdown",
      "metadata": {
        "id": "RMU0DC5vA9zq"
      },
      "source": [
        "Notes:\n",
        " - Receptive Field : Elements (from all the previous layers) that may affect the calculation of X\n",
        "\n",
        "Questions :\n",
        " - How can the receptive field be of bigger dimension than the input image"
      ]
    },
    {
      "cell_type": "markdown",
      "metadata": {
        "id": "LnJ2TMgnMQ-u"
      },
      "source": [
        "## 7.3 Padding and Stride"
      ]
    },
    {
      "cell_type": "markdown",
      "metadata": {
        "id": "_7mFUoJHMVIH"
      },
      "source": [
        "### 7.3.1 Padding"
      ]
    },
    {
      "cell_type": "markdown",
      "metadata": {
        "id": "Gn5PEX2PMrHz"
      },
      "source": [
        "Common Practice :\n",
        "\n",
        "*   Use an odd number amount for kernel size\n",
        "\n"
      ]
    },
    {
      "cell_type": "code",
      "execution_count": null,
      "metadata": {
        "colab": {
          "base_uri": "https://localhost:8080/"
        },
        "id": "vwrFn_qmBDPj",
        "outputId": "22e44b86-ac44-4fa3-f8b6-7b928d484a4b"
      },
      "outputs": [
        {
          "output_type": "execute_result",
          "data": {
            "text/plain": [
              "torch.Size([8, 8])"
            ]
          },
          "metadata": {},
          "execution_count": 55
        }
      ],
      "source": [
        "# We define a helper function to calculate convolutions. It initializes the\n",
        "# convolutional layer weights and performs corresponding dimensionality\n",
        "# elevations and reductions on the input and output\n",
        "def comp_conv2d(conv2d, X):\n",
        "    # (1, 1) indicates that batch size and the number of channels are both 1\n",
        "    X = X.reshape((1, 1) + X.shape)\n",
        "    Y = conv2d(X)\n",
        "    # Strip the first two dimensions: examples and channels\n",
        "    return Y.reshape(Y.shape[2:])\n",
        "\n",
        "# 1 row and column is padded on either side, so a total of 2 rows or columns\n",
        "# are added\n",
        "conv2d = nn.LazyConv2d(1, kernel_size=3, padding=1)\n",
        "X = torch.rand(size=(8, 8))\n",
        "comp_conv2d(conv2d, X).shape"
      ]
    },
    {
      "cell_type": "code",
      "execution_count": null,
      "metadata": {
        "colab": {
          "base_uri": "https://localhost:8080/"
        },
        "id": "Gl2O_AlfQToI",
        "outputId": "63bd9669-a9b0-452b-d000-eccd49de4248"
      },
      "outputs": [
        {
          "output_type": "execute_result",
          "data": {
            "text/plain": [
              "torch.Size([8, 8])"
            ]
          },
          "metadata": {},
          "execution_count": 56
        }
      ],
      "source": [
        "# We use a convolution kernel with height 5 and width 3. The padding on either\n",
        "# side of the height and width are 2 and 1, respectively\n",
        "conv2d = nn.LazyConv2d(1, kernel_size=(5, 3), padding=(2, 1))\n",
        "comp_conv2d(conv2d, X).shape"
      ]
    },
    {
      "cell_type": "markdown",
      "metadata": {
        "id": "lpG0CDoZSqTj"
      },
      "source": [
        "### 7.3.2 Stride"
      ]
    },
    {
      "cell_type": "code",
      "execution_count": null,
      "metadata": {
        "colab": {
          "base_uri": "https://localhost:8080/"
        },
        "id": "115YgKTwSoz3",
        "outputId": "8159cca1-416b-4f19-903b-3d916b35cac1"
      },
      "outputs": [
        {
          "output_type": "execute_result",
          "data": {
            "text/plain": [
              "torch.Size([4, 4])"
            ]
          },
          "metadata": {},
          "execution_count": 57
        }
      ],
      "source": [
        "conv2d = nn.LazyConv2d(1, kernel_size=3, padding=1, stride=2)\n",
        "comp_conv2d(conv2d, X).shape"
      ]
    },
    {
      "cell_type": "code",
      "execution_count": null,
      "metadata": {
        "colab": {
          "base_uri": "https://localhost:8080/"
        },
        "id": "vx-bHVFJSuv2",
        "outputId": "f023727a-2035-4e58-f508-3cd77059785d"
      },
      "outputs": [
        {
          "output_type": "execute_result",
          "data": {
            "text/plain": [
              "torch.Size([2, 2])"
            ]
          },
          "metadata": {},
          "execution_count": 58
        }
      ],
      "source": [
        "conv2d = nn.LazyConv2d(1, kernel_size=(3, 5), padding=(0, 1), stride=(3, 4))\n",
        "comp_conv2d(conv2d, X).shape"
      ]
    },
    {
      "cell_type": "markdown",
      "metadata": {
        "id": "wHQ1VCPsVVrO"
      },
      "source": [
        "## 7.4 Multiple Input and Multiple Output Channel"
      ]
    },
    {
      "cell_type": "markdown",
      "metadata": {
        "id": "tNh8P6hbWOUb"
      },
      "source": [
        "### 7.4.1 Multiple Input Channel"
      ]
    },
    {
      "cell_type": "code",
      "execution_count": null,
      "metadata": {
        "id": "rP5L9ISjWSUl"
      },
      "outputs": [],
      "source": [
        "def corr2d_multi_in(X, K):\n",
        "    # Iterate through the 0th dimension (channel) of K first, then add them up\n",
        "    return sum(d2l.corr2d(x, k) for x, k in zip(X, K))"
      ]
    },
    {
      "cell_type": "code",
      "execution_count": null,
      "metadata": {
        "colab": {
          "base_uri": "https://localhost:8080/"
        },
        "id": "lL1KuGjWW900",
        "outputId": "ae507d0e-d0ea-40a7-be83-31770c2e28a3"
      },
      "outputs": [
        {
          "output_type": "execute_result",
          "data": {
            "text/plain": [
              "tensor([[ 56.,  72.],\n",
              "        [104., 120.]])"
            ]
          },
          "metadata": {},
          "execution_count": 60
        }
      ],
      "source": [
        "X = torch.tensor([[[0.0, 1.0, 2.0], [3.0, 4.0, 5.0], [6.0, 7.0, 8.0]],\n",
        "               [[1.0, 2.0, 3.0], [4.0, 5.0, 6.0], [7.0, 8.0, 9.0]]])\n",
        "K = torch.tensor([[[0.0, 1.0], [2.0, 3.0]], [[1.0, 2.0], [3.0, 4.0]]])\n",
        "\n",
        "corr2d_multi_in(X, K)"
      ]
    },
    {
      "cell_type": "markdown",
      "metadata": {
        "id": "V0vk4JMfY7It"
      },
      "source": [
        "### 7.4.2 Multiple Output Channel"
      ]
    },
    {
      "cell_type": "code",
      "execution_count": null,
      "metadata": {
        "id": "GeLu3B_DY-Uq"
      },
      "outputs": [],
      "source": [
        "def corr2d_multi_in_out(X, K):\n",
        "    # Iterate through the 0th dimension of K, and each time, perform\n",
        "    # cross-correlation operations with input X. All of the results are\n",
        "    # stacked together\n",
        "    return torch.stack([corr2d_multi_in(X, k) for k in K], 0)"
      ]
    },
    {
      "cell_type": "code",
      "execution_count": null,
      "metadata": {
        "colab": {
          "base_uri": "https://localhost:8080/"
        },
        "id": "9NcoBlotY_vx",
        "outputId": "054cfe8e-d5ce-4ec8-b8ef-bdd1fcff9112"
      },
      "outputs": [
        {
          "output_type": "execute_result",
          "data": {
            "text/plain": [
              "torch.Size([3, 2, 2, 2])"
            ]
          },
          "metadata": {},
          "execution_count": 62
        }
      ],
      "source": [
        "K = torch.stack((K, K + 1, K + 2), 0)\n",
        "K.shape"
      ]
    },
    {
      "cell_type": "code",
      "execution_count": null,
      "metadata": {
        "colab": {
          "base_uri": "https://localhost:8080/"
        },
        "id": "deFo7aqWZBMF",
        "outputId": "cfd14e5f-4ab8-4a39-8bb5-bbbae98dd90e"
      },
      "outputs": [
        {
          "output_type": "execute_result",
          "data": {
            "text/plain": [
              "tensor([[[ 56.,  72.],\n",
              "         [104., 120.]],\n",
              "\n",
              "        [[ 76., 100.],\n",
              "         [148., 172.]],\n",
              "\n",
              "        [[ 96., 128.],\n",
              "         [192., 224.]]])"
            ]
          },
          "metadata": {},
          "execution_count": 63
        }
      ],
      "source": [
        "corr2d_multi_in_out(X, K)"
      ]
    },
    {
      "cell_type": "markdown",
      "metadata": {
        "id": "xynYjvIqcXUa"
      },
      "source": [
        "### 7.4.3 1x1 Convolutional Layer"
      ]
    },
    {
      "cell_type": "code",
      "execution_count": null,
      "metadata": {
        "id": "e7hPOQj_ca3l"
      },
      "outputs": [],
      "source": [
        "def corr2d_multi_in_out_1x1(X, K):\n",
        "    c_i, h, w = X.shape\n",
        "    c_o = K.shape[0]\n",
        "    X = X.reshape((c_i, h * w))\n",
        "    K = K.reshape((c_o, c_i))\n",
        "    # Matrix multiplication in the fully connected layer\n",
        "    Y = torch.matmul(K, X)\n",
        "    return Y.reshape((c_o, h, w))"
      ]
    },
    {
      "cell_type": "code",
      "execution_count": null,
      "metadata": {
        "id": "q_AgDxzhce2I"
      },
      "outputs": [],
      "source": [
        "X = torch.normal(0, 1, (3, 3, 3))\n",
        "K = torch.normal(0, 1, (2, 3, 1, 1))\n",
        "Y1 = corr2d_multi_in_out_1x1(X, K)\n",
        "Y2 = corr2d_multi_in_out(X, K)\n",
        "assert float(torch.abs(Y1 - Y2).sum()) < 1e-6"
      ]
    },
    {
      "cell_type": "markdown",
      "metadata": {
        "id": "9ZHzXXRTcy0D"
      },
      "source": [
        "Note :\n",
        "\n",
        "- Acts like a Fully Connected Layer\n",
        "-  Useful for dimensionality reduction (Channel Reduction) while keeping the spatial dimension of the feature\n",
        "- Introduce non linearity, as it changes the amount of channels, it is often followed by activation functions\n",
        "- Used typically in cases such as :\n",
        "\n",
        "1.   After regular convolutional layers\n",
        "2.   Before and After pooling layers\n",
        "\n",
        "\n",
        "\n"
      ]
    },
    {
      "cell_type": "markdown",
      "metadata": {
        "id": "tFpGYCmougn9"
      },
      "source": [
        "## 7.5 Pooling"
      ]
    },
    {
      "cell_type": "markdown",
      "metadata": {
        "id": "7ZF6DRplzp1A"
      },
      "source": [
        "### 7.5.1 Max Pooling and Average Pooling"
      ]
    },
    {
      "cell_type": "code",
      "execution_count": null,
      "metadata": {
        "id": "8HLrNJJtc25i"
      },
      "outputs": [],
      "source": [
        "def pool2d(X, pool_size, mode='max'):\n",
        "    p_h, p_w = pool_size\n",
        "    Y = torch.zeros((X.shape[0] - p_h + 1, X.shape[1] - p_w + 1))\n",
        "    for i in range(Y.shape[0]):\n",
        "        for j in range(Y.shape[1]):\n",
        "            if mode == 'max':\n",
        "                Y[i, j] = X[i: i + p_h, j: j + p_w].max()\n",
        "            elif mode == 'avg':\n",
        "                Y[i, j] = X[i: i + p_h, j: j + p_w].mean()\n",
        "    return Y"
      ]
    },
    {
      "cell_type": "code",
      "execution_count": null,
      "metadata": {
        "colab": {
          "base_uri": "https://localhost:8080/"
        },
        "id": "LgkLFab50Scd",
        "outputId": "11f96c0e-cd77-46ae-c3fb-d8bdee1c590a"
      },
      "outputs": [
        {
          "output_type": "execute_result",
          "data": {
            "text/plain": [
              "tensor([[4., 5.],\n",
              "        [7., 8.]])"
            ]
          },
          "metadata": {},
          "execution_count": 67
        }
      ],
      "source": [
        "X = torch.tensor([[0.0, 1.0, 2.0], [3.0, 4.0, 5.0], [6.0, 7.0, 8.0]])\n",
        "pool2d(X, (2, 2))"
      ]
    },
    {
      "cell_type": "code",
      "execution_count": null,
      "metadata": {
        "colab": {
          "base_uri": "https://localhost:8080/"
        },
        "id": "rjftVEol0Txt",
        "outputId": "ba49dd2f-f776-4c5c-e6ad-1dc41b08465f"
      },
      "outputs": [
        {
          "output_type": "execute_result",
          "data": {
            "text/plain": [
              "tensor([[2., 3.],\n",
              "        [5., 6.]])"
            ]
          },
          "metadata": {},
          "execution_count": 68
        }
      ],
      "source": [
        "pool2d(X, (2, 2), 'avg')"
      ]
    },
    {
      "cell_type": "markdown",
      "metadata": {
        "id": "iLJvs2SV05-5"
      },
      "source": [
        "### 7.5.2 Padding and Stride"
      ]
    },
    {
      "cell_type": "code",
      "execution_count": null,
      "metadata": {
        "colab": {
          "base_uri": "https://localhost:8080/"
        },
        "id": "TRK5DWsV08pI",
        "outputId": "204e2030-51b6-4630-f257-c25d109d258e"
      },
      "outputs": [
        {
          "output_type": "execute_result",
          "data": {
            "text/plain": [
              "tensor([[[[ 0.,  1.,  2.,  3.],\n",
              "          [ 4.,  5.,  6.,  7.],\n",
              "          [ 8.,  9., 10., 11.],\n",
              "          [12., 13., 14., 15.]]]])"
            ]
          },
          "metadata": {},
          "execution_count": 69
        }
      ],
      "source": [
        "X = torch.arange(16, dtype=torch.float32).reshape((1, 1, 4, 4))\n",
        "X"
      ]
    },
    {
      "cell_type": "code",
      "execution_count": null,
      "metadata": {
        "colab": {
          "base_uri": "https://localhost:8080/"
        },
        "id": "zssYSnDL1Xh2",
        "outputId": "700b000c-227e-446d-a5da-1c9a10874e8d"
      },
      "outputs": [
        {
          "output_type": "execute_result",
          "data": {
            "text/plain": [
              "tensor([[[[10.]]]])"
            ]
          },
          "metadata": {},
          "execution_count": 70
        }
      ],
      "source": [
        "pool2d = nn.MaxPool2d(3)\n",
        "# Pooling has no model parameters, hence it needs no initialization\n",
        "pool2d(X)"
      ]
    },
    {
      "cell_type": "code",
      "execution_count": null,
      "metadata": {
        "colab": {
          "base_uri": "https://localhost:8080/"
        },
        "id": "OCWN3FpE1zQW",
        "outputId": "36593b77-4c4c-4dd4-d3ca-7e17d418a5e2"
      },
      "outputs": [
        {
          "output_type": "execute_result",
          "data": {
            "text/plain": [
              "tensor([[[[ 5.,  7.],\n",
              "          [13., 15.]]]])"
            ]
          },
          "metadata": {},
          "execution_count": 71
        }
      ],
      "source": [
        "pool2d = nn.MaxPool2d(3, padding=1, stride=2)\n",
        "pool2d(X)"
      ]
    },
    {
      "cell_type": "code",
      "execution_count": null,
      "metadata": {
        "colab": {
          "base_uri": "https://localhost:8080/"
        },
        "id": "Ln31BLJU11r4",
        "outputId": "7fc87c87-43d1-40b8-94fe-8c80c470fa7f"
      },
      "outputs": [
        {
          "output_type": "execute_result",
          "data": {
            "text/plain": [
              "tensor([[[[ 5.,  7.],\n",
              "          [13., 15.]]]])"
            ]
          },
          "metadata": {},
          "execution_count": 72
        }
      ],
      "source": [
        "pool2d = nn.MaxPool2d((2, 3), stride=(2, 3), padding=(0, 1))\n",
        "pool2d(X)"
      ]
    },
    {
      "cell_type": "markdown",
      "metadata": {
        "id": "sHquXYf713gw"
      },
      "source": [
        "### 7.5.3 Multiple Channels"
      ]
    },
    {
      "cell_type": "code",
      "execution_count": null,
      "metadata": {
        "colab": {
          "base_uri": "https://localhost:8080/"
        },
        "id": "0b8_wOP0180W",
        "outputId": "ac038d8c-a1eb-481d-eb93-d45a79612b9f"
      },
      "outputs": [
        {
          "output_type": "execute_result",
          "data": {
            "text/plain": [
              "tensor([[[[ 0.,  1.,  2.,  3.],\n",
              "          [ 4.,  5.,  6.,  7.],\n",
              "          [ 8.,  9., 10., 11.],\n",
              "          [12., 13., 14., 15.]],\n",
              "\n",
              "         [[ 1.,  2.,  3.,  4.],\n",
              "          [ 5.,  6.,  7.,  8.],\n",
              "          [ 9., 10., 11., 12.],\n",
              "          [13., 14., 15., 16.]]]])"
            ]
          },
          "metadata": {},
          "execution_count": 73
        }
      ],
      "source": [
        "X = torch.cat((X, X + 1), 1)\n",
        "X"
      ]
    },
    {
      "cell_type": "code",
      "execution_count": null,
      "metadata": {
        "colab": {
          "base_uri": "https://localhost:8080/"
        },
        "id": "xnOBWshx2JsL",
        "outputId": "c37d7651-b9af-4547-ca7e-3814c062ebd2"
      },
      "outputs": [
        {
          "output_type": "execute_result",
          "data": {
            "text/plain": [
              "tensor([[[[ 5.,  7.],\n",
              "          [13., 15.]],\n",
              "\n",
              "         [[ 6.,  8.],\n",
              "          [14., 16.]]]])"
            ]
          },
          "metadata": {},
          "execution_count": 74
        }
      ],
      "source": [
        "pool2d = nn.MaxPool2d(3, padding=1, stride=2)\n",
        "pool2d(X)"
      ]
    },
    {
      "cell_type": "markdown",
      "metadata": {
        "id": "YP6c_TsyDWXZ"
      },
      "source": [
        "## 7.6 Convolutional Neural Network (LeNet)"
      ]
    },
    {
      "cell_type": "markdown",
      "metadata": {
        "id": "Dh70THlFDZq8"
      },
      "source": [
        "### 7.6.1 LeNet"
      ]
    },
    {
      "cell_type": "code",
      "execution_count": null,
      "metadata": {
        "id": "6DXaOZtFDc94"
      },
      "outputs": [],
      "source": [
        "def init_cnn(module):\n",
        "    \"\"\"Initialize weights for CNNs.\"\"\"\n",
        "    if type(module) == nn.Linear or type(module) == nn.Conv2d:\n",
        "        nn.init.xavier_uniform_(module.weight)\n",
        "\n",
        "class LeNet(d2l.Classifier):\n",
        "    \"\"\"The LeNet-5 model.\"\"\"\n",
        "    def __init__(self, lr=0.1, num_classes=10):\n",
        "        super().__init__()\n",
        "        self.save_hyperparameters()\n",
        "        self.net = nn.Sequential(\n",
        "            nn.LazyConv2d(6, kernel_size=5, padding=2), nn.Sigmoid(),\n",
        "            nn.AvgPool2d(kernel_size=2, stride=2),\n",
        "            nn.LazyConv2d(16, kernel_size=5), nn.Sigmoid(),\n",
        "            nn.AvgPool2d(kernel_size=2, stride=2),\n",
        "            nn.Flatten(),\n",
        "            nn.LazyLinear(120), nn.Sigmoid(),\n",
        "            nn.LazyLinear(84), nn.Sigmoid(),\n",
        "            nn.LazyLinear(num_classes))"
      ]
    },
    {
      "cell_type": "code",
      "execution_count": null,
      "metadata": {
        "colab": {
          "base_uri": "https://localhost:8080/"
        },
        "id": "nD7BiR2sEp72",
        "outputId": "69983cfc-e2d6-4600-da95-9889bcd561aa"
      },
      "outputs": [
        {
          "output_type": "stream",
          "name": "stdout",
          "text": [
            "Conv2d output shape:\t torch.Size([1, 6, 28, 28])\n",
            "Sigmoid output shape:\t torch.Size([1, 6, 28, 28])\n",
            "AvgPool2d output shape:\t torch.Size([1, 6, 14, 14])\n",
            "Conv2d output shape:\t torch.Size([1, 16, 10, 10])\n",
            "Sigmoid output shape:\t torch.Size([1, 16, 10, 10])\n",
            "AvgPool2d output shape:\t torch.Size([1, 16, 5, 5])\n",
            "Flatten output shape:\t torch.Size([1, 400])\n",
            "Linear output shape:\t torch.Size([1, 120])\n",
            "Sigmoid output shape:\t torch.Size([1, 120])\n",
            "Linear output shape:\t torch.Size([1, 84])\n",
            "Sigmoid output shape:\t torch.Size([1, 84])\n",
            "Linear output shape:\t torch.Size([1, 10])\n"
          ]
        }
      ],
      "source": [
        "@d2l.add_to_class(d2l.Classifier)\n",
        "def layer_summary(self, X_shape):\n",
        "    X = torch.randn(*X_shape)\n",
        "    for layer in self.net:\n",
        "        X = layer(X)\n",
        "        print(layer.__class__.__name__, 'output shape:\\t', X.shape)\n",
        "\n",
        "model = LeNet()\n",
        "model.layer_summary((1, 1, 28, 28))"
      ]
    },
    {
      "cell_type": "markdown",
      "metadata": {
        "id": "R6vZnw38Eue7"
      },
      "source": [
        "### 7.6.2 Training"
      ]
    },
    {
      "cell_type": "code",
      "execution_count": null,
      "metadata": {
        "colab": {
          "base_uri": "https://localhost:8080/",
          "height": 265
        },
        "id": "b1VPiSnuEyA3",
        "outputId": "2be1306c-781c-42d9-d5d7-2f9fee932765"
      },
      "outputs": [
        {
          "output_type": "display_data",
          "data": {
            "text/plain": [
              "<Figure size 350x250 with 1 Axes>"
            ],
            "image/svg+xml": "<?xml version=\"1.0\" encoding=\"utf-8\" standalone=\"no\"?>\n<!DOCTYPE svg PUBLIC \"-//W3C//DTD SVG 1.1//EN\"\n  \"http://www.w3.org/Graphics/SVG/1.1/DTD/svg11.dtd\">\n<svg xmlns:xlink=\"http://www.w3.org/1999/xlink\" width=\"238.965625pt\" height=\"183.35625pt\" viewBox=\"0 0 238.965625 183.35625\" xmlns=\"http://www.w3.org/2000/svg\" version=\"1.1\">\n <metadata>\n  <rdf:RDF xmlns:dc=\"http://purl.org/dc/elements/1.1/\" xmlns:cc=\"http://creativecommons.org/ns#\" xmlns:rdf=\"http://www.w3.org/1999/02/22-rdf-syntax-ns#\">\n   <cc:Work>\n    <dc:type rdf:resource=\"http://purl.org/dc/dcmitype/StillImage\"/>\n    <dc:date>2024-10-09T07:29:15.961802</dc:date>\n    <dc:format>image/svg+xml</dc:format>\n    <dc:creator>\n     <cc:Agent>\n      <dc:title>Matplotlib v3.7.2, https://matplotlib.org/</dc:title>\n     </cc:Agent>\n    </dc:creator>\n   </cc:Work>\n  </rdf:RDF>\n </metadata>\n <defs>\n  <style type=\"text/css\">*{stroke-linejoin: round; stroke-linecap: butt}</style>\n </defs>\n <g id=\"figure_1\">\n  <g id=\"patch_1\">\n   <path d=\"M 0 183.35625 \nL 238.965625 183.35625 \nL 238.965625 0 \nL 0 0 \nz\n\" style=\"fill: #ffffff\"/>\n  </g>\n  <g id=\"axes_1\">\n   <g id=\"patch_2\">\n    <path d=\"M 30.103125 145.8 \nL 225.403125 145.8 \nL 225.403125 7.2 \nL 30.103125 7.2 \nz\n\" style=\"fill: #ffffff\"/>\n   </g>\n   <g id=\"matplotlib.axis_1\">\n    <g id=\"xtick_1\">\n     <g id=\"line2d_1\">\n      <defs>\n       <path id=\"m3cdd0febc0\" d=\"M 0 0 \nL 0 3.5 \n\" style=\"stroke: #000000; stroke-width: 0.8\"/>\n      </defs>\n      <g>\n       <use xlink:href=\"#m3cdd0febc0\" x=\"30.103125\" y=\"145.8\" style=\"stroke: #000000; stroke-width: 0.8\"/>\n      </g>\n     </g>\n     <g id=\"text_1\">\n      <!-- 0 -->\n      <g transform=\"translate(26.921875 160.398438) scale(0.1 -0.1)\">\n       <defs>\n        <path id=\"DejaVuSans-30\" d=\"M 2034 4250 \nQ 1547 4250 1301 3770 \nQ 1056 3291 1056 2328 \nQ 1056 1369 1301 889 \nQ 1547 409 2034 409 \nQ 2525 409 2770 889 \nQ 3016 1369 3016 2328 \nQ 3016 3291 2770 3770 \nQ 2525 4250 2034 4250 \nz\nM 2034 4750 \nQ 2819 4750 3233 4129 \nQ 3647 3509 3647 2328 \nQ 3647 1150 3233 529 \nQ 2819 -91 2034 -91 \nQ 1250 -91 836 529 \nQ 422 1150 422 2328 \nQ 422 3509 836 4129 \nQ 1250 4750 2034 4750 \nz\n\" transform=\"scale(0.015625)\"/>\n       </defs>\n       <use xlink:href=\"#DejaVuSans-30\"/>\n      </g>\n     </g>\n    </g>\n    <g id=\"xtick_2\">\n     <g id=\"line2d_2\">\n      <g>\n       <use xlink:href=\"#m3cdd0febc0\" x=\"69.163125\" y=\"145.8\" style=\"stroke: #000000; stroke-width: 0.8\"/>\n      </g>\n     </g>\n     <g id=\"text_2\">\n      <!-- 2 -->\n      <g transform=\"translate(65.981875 160.398438) scale(0.1 -0.1)\">\n       <defs>\n        <path id=\"DejaVuSans-32\" d=\"M 1228 531 \nL 3431 531 \nL 3431 0 \nL 469 0 \nL 469 531 \nQ 828 903 1448 1529 \nQ 2069 2156 2228 2338 \nQ 2531 2678 2651 2914 \nQ 2772 3150 2772 3378 \nQ 2772 3750 2511 3984 \nQ 2250 4219 1831 4219 \nQ 1534 4219 1204 4116 \nQ 875 4013 500 3803 \nL 500 4441 \nQ 881 4594 1212 4672 \nQ 1544 4750 1819 4750 \nQ 2544 4750 2975 4387 \nQ 3406 4025 3406 3419 \nQ 3406 3131 3298 2873 \nQ 3191 2616 2906 2266 \nQ 2828 2175 2409 1742 \nQ 1991 1309 1228 531 \nz\n\" transform=\"scale(0.015625)\"/>\n       </defs>\n       <use xlink:href=\"#DejaVuSans-32\"/>\n      </g>\n     </g>\n    </g>\n    <g id=\"xtick_3\">\n     <g id=\"line2d_3\">\n      <g>\n       <use xlink:href=\"#m3cdd0febc0\" x=\"108.223125\" y=\"145.8\" style=\"stroke: #000000; stroke-width: 0.8\"/>\n      </g>\n     </g>\n     <g id=\"text_3\">\n      <!-- 4 -->\n      <g transform=\"translate(105.041875 160.398438) scale(0.1 -0.1)\">\n       <defs>\n        <path id=\"DejaVuSans-34\" d=\"M 2419 4116 \nL 825 1625 \nL 2419 1625 \nL 2419 4116 \nz\nM 2253 4666 \nL 3047 4666 \nL 3047 1625 \nL 3713 1625 \nL 3713 1100 \nL 3047 1100 \nL 3047 0 \nL 2419 0 \nL 2419 1100 \nL 313 1100 \nL 313 1709 \nL 2253 4666 \nz\n\" transform=\"scale(0.015625)\"/>\n       </defs>\n       <use xlink:href=\"#DejaVuSans-34\"/>\n      </g>\n     </g>\n    </g>\n    <g id=\"xtick_4\">\n     <g id=\"line2d_4\">\n      <g>\n       <use xlink:href=\"#m3cdd0febc0\" x=\"147.283125\" y=\"145.8\" style=\"stroke: #000000; stroke-width: 0.8\"/>\n      </g>\n     </g>\n     <g id=\"text_4\">\n      <!-- 6 -->\n      <g transform=\"translate(144.101875 160.398438) scale(0.1 -0.1)\">\n       <defs>\n        <path id=\"DejaVuSans-36\" d=\"M 2113 2584 \nQ 1688 2584 1439 2293 \nQ 1191 2003 1191 1497 \nQ 1191 994 1439 701 \nQ 1688 409 2113 409 \nQ 2538 409 2786 701 \nQ 3034 994 3034 1497 \nQ 3034 2003 2786 2293 \nQ 2538 2584 2113 2584 \nz\nM 3366 4563 \nL 3366 3988 \nQ 3128 4100 2886 4159 \nQ 2644 4219 2406 4219 \nQ 1781 4219 1451 3797 \nQ 1122 3375 1075 2522 \nQ 1259 2794 1537 2939 \nQ 1816 3084 2150 3084 \nQ 2853 3084 3261 2657 \nQ 3669 2231 3669 1497 \nQ 3669 778 3244 343 \nQ 2819 -91 2113 -91 \nQ 1303 -91 875 529 \nQ 447 1150 447 2328 \nQ 447 3434 972 4092 \nQ 1497 4750 2381 4750 \nQ 2619 4750 2861 4703 \nQ 3103 4656 3366 4563 \nz\n\" transform=\"scale(0.015625)\"/>\n       </defs>\n       <use xlink:href=\"#DejaVuSans-36\"/>\n      </g>\n     </g>\n    </g>\n    <g id=\"xtick_5\">\n     <g id=\"line2d_5\">\n      <g>\n       <use xlink:href=\"#m3cdd0febc0\" x=\"186.343125\" y=\"145.8\" style=\"stroke: #000000; stroke-width: 0.8\"/>\n      </g>\n     </g>\n     <g id=\"text_5\">\n      <!-- 8 -->\n      <g transform=\"translate(183.161875 160.398438) scale(0.1 -0.1)\">\n       <defs>\n        <path id=\"DejaVuSans-38\" d=\"M 2034 2216 \nQ 1584 2216 1326 1975 \nQ 1069 1734 1069 1313 \nQ 1069 891 1326 650 \nQ 1584 409 2034 409 \nQ 2484 409 2743 651 \nQ 3003 894 3003 1313 \nQ 3003 1734 2745 1975 \nQ 2488 2216 2034 2216 \nz\nM 1403 2484 \nQ 997 2584 770 2862 \nQ 544 3141 544 3541 \nQ 544 4100 942 4425 \nQ 1341 4750 2034 4750 \nQ 2731 4750 3128 4425 \nQ 3525 4100 3525 3541 \nQ 3525 3141 3298 2862 \nQ 3072 2584 2669 2484 \nQ 3125 2378 3379 2068 \nQ 3634 1759 3634 1313 \nQ 3634 634 3220 271 \nQ 2806 -91 2034 -91 \nQ 1263 -91 848 271 \nQ 434 634 434 1313 \nQ 434 1759 690 2068 \nQ 947 2378 1403 2484 \nz\nM 1172 3481 \nQ 1172 3119 1398 2916 \nQ 1625 2713 2034 2713 \nQ 2441 2713 2670 2916 \nQ 2900 3119 2900 3481 \nQ 2900 3844 2670 4047 \nQ 2441 4250 2034 4250 \nQ 1625 4250 1398 4047 \nQ 1172 3844 1172 3481 \nz\n\" transform=\"scale(0.015625)\"/>\n       </defs>\n       <use xlink:href=\"#DejaVuSans-38\"/>\n      </g>\n     </g>\n    </g>\n    <g id=\"xtick_6\">\n     <g id=\"line2d_6\">\n      <g>\n       <use xlink:href=\"#m3cdd0febc0\" x=\"225.403125\" y=\"145.8\" style=\"stroke: #000000; stroke-width: 0.8\"/>\n      </g>\n     </g>\n     <g id=\"text_6\">\n      <!-- 10 -->\n      <g transform=\"translate(219.040625 160.398438) scale(0.1 -0.1)\">\n       <defs>\n        <path id=\"DejaVuSans-31\" d=\"M 794 531 \nL 1825 531 \nL 1825 4091 \nL 703 3866 \nL 703 4441 \nL 1819 4666 \nL 2450 4666 \nL 2450 531 \nL 3481 531 \nL 3481 0 \nL 794 0 \nL 794 531 \nz\n\" transform=\"scale(0.015625)\"/>\n       </defs>\n       <use xlink:href=\"#DejaVuSans-31\"/>\n       <use xlink:href=\"#DejaVuSans-30\" x=\"63.623047\"/>\n      </g>\n     </g>\n    </g>\n    <g id=\"text_7\">\n     <!-- epoch -->\n     <g transform=\"translate(112.525 174.076563) scale(0.1 -0.1)\">\n      <defs>\n       <path id=\"DejaVuSans-65\" d=\"M 3597 1894 \nL 3597 1613 \nL 953 1613 \nQ 991 1019 1311 708 \nQ 1631 397 2203 397 \nQ 2534 397 2845 478 \nQ 3156 559 3463 722 \nL 3463 178 \nQ 3153 47 2828 -22 \nQ 2503 -91 2169 -91 \nQ 1331 -91 842 396 \nQ 353 884 353 1716 \nQ 353 2575 817 3079 \nQ 1281 3584 2069 3584 \nQ 2775 3584 3186 3129 \nQ 3597 2675 3597 1894 \nz\nM 3022 2063 \nQ 3016 2534 2758 2815 \nQ 2500 3097 2075 3097 \nQ 1594 3097 1305 2825 \nQ 1016 2553 972 2059 \nL 3022 2063 \nz\n\" transform=\"scale(0.015625)\"/>\n       <path id=\"DejaVuSans-70\" d=\"M 1159 525 \nL 1159 -1331 \nL 581 -1331 \nL 581 3500 \nL 1159 3500 \nL 1159 2969 \nQ 1341 3281 1617 3432 \nQ 1894 3584 2278 3584 \nQ 2916 3584 3314 3078 \nQ 3713 2572 3713 1747 \nQ 3713 922 3314 415 \nQ 2916 -91 2278 -91 \nQ 1894 -91 1617 61 \nQ 1341 213 1159 525 \nz\nM 3116 1747 \nQ 3116 2381 2855 2742 \nQ 2594 3103 2138 3103 \nQ 1681 3103 1420 2742 \nQ 1159 2381 1159 1747 \nQ 1159 1113 1420 752 \nQ 1681 391 2138 391 \nQ 2594 391 2855 752 \nQ 3116 1113 3116 1747 \nz\n\" transform=\"scale(0.015625)\"/>\n       <path id=\"DejaVuSans-6f\" d=\"M 1959 3097 \nQ 1497 3097 1228 2736 \nQ 959 2375 959 1747 \nQ 959 1119 1226 758 \nQ 1494 397 1959 397 \nQ 2419 397 2687 759 \nQ 2956 1122 2956 1747 \nQ 2956 2369 2687 2733 \nQ 2419 3097 1959 3097 \nz\nM 1959 3584 \nQ 2709 3584 3137 3096 \nQ 3566 2609 3566 1747 \nQ 3566 888 3137 398 \nQ 2709 -91 1959 -91 \nQ 1206 -91 779 398 \nQ 353 888 353 1747 \nQ 353 2609 779 3096 \nQ 1206 3584 1959 3584 \nz\n\" transform=\"scale(0.015625)\"/>\n       <path id=\"DejaVuSans-63\" d=\"M 3122 3366 \nL 3122 2828 \nQ 2878 2963 2633 3030 \nQ 2388 3097 2138 3097 \nQ 1578 3097 1268 2742 \nQ 959 2388 959 1747 \nQ 959 1106 1268 751 \nQ 1578 397 2138 397 \nQ 2388 397 2633 464 \nQ 2878 531 3122 666 \nL 3122 134 \nQ 2881 22 2623 -34 \nQ 2366 -91 2075 -91 \nQ 1284 -91 818 406 \nQ 353 903 353 1747 \nQ 353 2603 823 3093 \nQ 1294 3584 2113 3584 \nQ 2378 3584 2631 3529 \nQ 2884 3475 3122 3366 \nz\n\" transform=\"scale(0.015625)\"/>\n       <path id=\"DejaVuSans-68\" d=\"M 3513 2113 \nL 3513 0 \nL 2938 0 \nL 2938 2094 \nQ 2938 2591 2744 2837 \nQ 2550 3084 2163 3084 \nQ 1697 3084 1428 2787 \nQ 1159 2491 1159 1978 \nL 1159 0 \nL 581 0 \nL 581 4863 \nL 1159 4863 \nL 1159 2956 \nQ 1366 3272 1645 3428 \nQ 1925 3584 2291 3584 \nQ 2894 3584 3203 3211 \nQ 3513 2838 3513 2113 \nz\n\" transform=\"scale(0.015625)\"/>\n      </defs>\n      <use xlink:href=\"#DejaVuSans-65\"/>\n      <use xlink:href=\"#DejaVuSans-70\" x=\"61.523438\"/>\n      <use xlink:href=\"#DejaVuSans-6f\" x=\"125\"/>\n      <use xlink:href=\"#DejaVuSans-63\" x=\"186.181641\"/>\n      <use xlink:href=\"#DejaVuSans-68\" x=\"241.162109\"/>\n     </g>\n    </g>\n   </g>\n   <g id=\"matplotlib.axis_2\">\n    <g id=\"ytick_1\">\n     <g id=\"line2d_7\">\n      <defs>\n       <path id=\"mbb41124ed4\" d=\"M 0 0 \nL -3.5 0 \n\" style=\"stroke: #000000; stroke-width: 0.8\"/>\n      </defs>\n      <g>\n       <use xlink:href=\"#mbb41124ed4\" x=\"30.103125\" y=\"145.178685\" style=\"stroke: #000000; stroke-width: 0.8\"/>\n      </g>\n     </g>\n     <g id=\"text_8\">\n      <!-- 0.0 -->\n      <g transform=\"translate(7.2 148.977903) scale(0.1 -0.1)\">\n       <defs>\n        <path id=\"DejaVuSans-2e\" d=\"M 684 794 \nL 1344 794 \nL 1344 0 \nL 684 0 \nL 684 794 \nz\n\" transform=\"scale(0.015625)\"/>\n       </defs>\n       <use xlink:href=\"#DejaVuSans-30\"/>\n       <use xlink:href=\"#DejaVuSans-2e\" x=\"63.623047\"/>\n       <use xlink:href=\"#DejaVuSans-30\" x=\"95.410156\"/>\n      </g>\n     </g>\n    </g>\n    <g id=\"ytick_2\">\n     <g id=\"line2d_8\">\n      <g>\n       <use xlink:href=\"#mbb41124ed4\" x=\"30.103125\" y=\"116.666838\" style=\"stroke: #000000; stroke-width: 0.8\"/>\n      </g>\n     </g>\n     <g id=\"text_9\">\n      <!-- 0.5 -->\n      <g transform=\"translate(7.2 120.466056) scale(0.1 -0.1)\">\n       <defs>\n        <path id=\"DejaVuSans-35\" d=\"M 691 4666 \nL 3169 4666 \nL 3169 4134 \nL 1269 4134 \nL 1269 2991 \nQ 1406 3038 1543 3061 \nQ 1681 3084 1819 3084 \nQ 2600 3084 3056 2656 \nQ 3513 2228 3513 1497 \nQ 3513 744 3044 326 \nQ 2575 -91 1722 -91 \nQ 1428 -91 1123 -41 \nQ 819 9 494 109 \nL 494 744 \nQ 775 591 1075 516 \nQ 1375 441 1709 441 \nQ 2250 441 2565 725 \nQ 2881 1009 2881 1497 \nQ 2881 1984 2565 2268 \nQ 2250 2553 1709 2553 \nQ 1456 2553 1204 2497 \nQ 953 2441 691 2322 \nL 691 4666 \nz\n\" transform=\"scale(0.015625)\"/>\n       </defs>\n       <use xlink:href=\"#DejaVuSans-30\"/>\n       <use xlink:href=\"#DejaVuSans-2e\" x=\"63.623047\"/>\n       <use xlink:href=\"#DejaVuSans-35\" x=\"95.410156\"/>\n      </g>\n     </g>\n    </g>\n    <g id=\"ytick_3\">\n     <g id=\"line2d_9\">\n      <g>\n       <use xlink:href=\"#mbb41124ed4\" x=\"30.103125\" y=\"88.154991\" style=\"stroke: #000000; stroke-width: 0.8\"/>\n      </g>\n     </g>\n     <g id=\"text_10\">\n      <!-- 1.0 -->\n      <g transform=\"translate(7.2 91.954209) scale(0.1 -0.1)\">\n       <use xlink:href=\"#DejaVuSans-31\"/>\n       <use xlink:href=\"#DejaVuSans-2e\" x=\"63.623047\"/>\n       <use xlink:href=\"#DejaVuSans-30\" x=\"95.410156\"/>\n      </g>\n     </g>\n    </g>\n    <g id=\"ytick_4\">\n     <g id=\"line2d_10\">\n      <g>\n       <use xlink:href=\"#mbb41124ed4\" x=\"30.103125\" y=\"59.643143\" style=\"stroke: #000000; stroke-width: 0.8\"/>\n      </g>\n     </g>\n     <g id=\"text_11\">\n      <!-- 1.5 -->\n      <g transform=\"translate(7.2 63.442362) scale(0.1 -0.1)\">\n       <use xlink:href=\"#DejaVuSans-31\"/>\n       <use xlink:href=\"#DejaVuSans-2e\" x=\"63.623047\"/>\n       <use xlink:href=\"#DejaVuSans-35\" x=\"95.410156\"/>\n      </g>\n     </g>\n    </g>\n    <g id=\"ytick_5\">\n     <g id=\"line2d_11\">\n      <g>\n       <use xlink:href=\"#mbb41124ed4\" x=\"30.103125\" y=\"31.131296\" style=\"stroke: #000000; stroke-width: 0.8\"/>\n      </g>\n     </g>\n     <g id=\"text_12\">\n      <!-- 2.0 -->\n      <g transform=\"translate(7.2 34.930515) scale(0.1 -0.1)\">\n       <use xlink:href=\"#DejaVuSans-32\"/>\n       <use xlink:href=\"#DejaVuSans-2e\" x=\"63.623047\"/>\n       <use xlink:href=\"#DejaVuSans-30\" x=\"95.410156\"/>\n      </g>\n     </g>\n    </g>\n   </g>\n   <g id=\"line2d_12\">\n    <path d=\"M 34.954394 13.5 \n\" clip-path=\"url(#p2e00a0e0ba)\" style=\"fill: none; stroke: #1f77b4; stroke-width: 1.5; stroke-linecap: square\"/>\n   </g>\n   <g id=\"line2d_13\">\n    <path d=\"M 34.954394 13.5 \nL 44.698573 13.580335 \n\" clip-path=\"url(#p2e00a0e0ba)\" style=\"fill: none; stroke: #1f77b4; stroke-width: 1.5; stroke-linecap: square\"/>\n   </g>\n   <g id=\"line2d_14\">\n    <path d=\"M 34.954394 13.5 \nL 44.698573 13.580335 \n\" clip-path=\"url(#p2e00a0e0ba)\" style=\"fill: none; stroke: #1f77b4; stroke-width: 1.5; stroke-linecap: square\"/>\n   </g>\n   <g id=\"line2d_15\">\n    <path d=\"M 49.633125 13.701853 \n\" clip-path=\"url(#p2e00a0e0ba)\" style=\"fill: none; stroke-dasharray: 5.55,2.4; stroke-dashoffset: 0; stroke: #ff7f0e; stroke-width: 1.5\"/>\n   </g>\n   <g id=\"line2d_16\"/>\n   <g id=\"line2d_17\">\n    <path d=\"M 34.954394 13.5 \nL 44.698573 13.580335 \n\" clip-path=\"url(#p2e00a0e0ba)\" style=\"fill: none; stroke: #1f77b4; stroke-width: 1.5; stroke-linecap: square\"/>\n   </g>\n   <g id=\"line2d_18\">\n    <path d=\"M 49.633125 13.701853 \n\" clip-path=\"url(#p2e00a0e0ba)\" style=\"fill: none; stroke-dasharray: 5.55,2.4; stroke-dashoffset: 0; stroke: #ff7f0e; stroke-width: 1.5\"/>\n   </g>\n   <g id=\"line2d_19\">\n    <path d=\"M 49.633125 139.5 \n\" clip-path=\"url(#p2e00a0e0ba)\" style=\"fill: none; stroke-dasharray: 9.6,2.4,1.5,2.4; stroke-dashoffset: 0; stroke: #2ca02c; stroke-width: 1.5\"/>\n   </g>\n   <g id=\"line2d_20\">\n    <path d=\"M 34.954394 13.5 \nL 44.698573 13.580335 \nL 54.442752 13.595041 \n\" clip-path=\"url(#p2e00a0e0ba)\" style=\"fill: none; stroke: #1f77b4; stroke-width: 1.5; stroke-linecap: square\"/>\n   </g>\n   <g id=\"line2d_21\">\n    <path d=\"M 49.633125 13.701853 \n\" clip-path=\"url(#p2e00a0e0ba)\" style=\"fill: none; stroke-dasharray: 5.55,2.4; stroke-dashoffset: 0; stroke: #ff7f0e; stroke-width: 1.5\"/>\n   </g>\n   <g id=\"line2d_22\">\n    <path d=\"M 49.633125 139.5 \n\" clip-path=\"url(#p2e00a0e0ba)\" style=\"fill: none; stroke-dasharray: 9.6,2.4,1.5,2.4; stroke-dashoffset: 0; stroke: #2ca02c; stroke-width: 1.5\"/>\n   </g>\n   <g id=\"line2d_23\">\n    <path d=\"M 34.954394 13.5 \nL 44.698573 13.580335 \nL 54.442752 13.595041 \nL 64.186931 13.66292 \n\" clip-path=\"url(#p2e00a0e0ba)\" style=\"fill: none; stroke: #1f77b4; stroke-width: 1.5; stroke-linecap: square\"/>\n   </g>\n   <g id=\"line2d_24\">\n    <path d=\"M 49.633125 13.701853 \n\" clip-path=\"url(#p2e00a0e0ba)\" style=\"fill: none; stroke-dasharray: 5.55,2.4; stroke-dashoffset: 0; stroke: #ff7f0e; stroke-width: 1.5\"/>\n   </g>\n   <g id=\"line2d_25\">\n    <path d=\"M 49.633125 139.5 \n\" clip-path=\"url(#p2e00a0e0ba)\" style=\"fill: none; stroke-dasharray: 9.6,2.4,1.5,2.4; stroke-dashoffset: 0; stroke: #2ca02c; stroke-width: 1.5\"/>\n   </g>\n   <g id=\"line2d_26\">\n    <path d=\"M 34.954394 13.5 \nL 44.698573 13.580335 \nL 54.442752 13.595041 \nL 64.186931 13.66292 \n\" clip-path=\"url(#p2e00a0e0ba)\" style=\"fill: none; stroke: #1f77b4; stroke-width: 1.5; stroke-linecap: square\"/>\n   </g>\n   <g id=\"line2d_27\">\n    <path d=\"M 49.633125 13.701853 \nL 69.163125 13.638661 \n\" clip-path=\"url(#p2e00a0e0ba)\" style=\"fill: none; stroke-dasharray: 5.55,2.4; stroke-dashoffset: 0; stroke: #ff7f0e; stroke-width: 1.5\"/>\n   </g>\n   <g id=\"line2d_28\">\n    <path d=\"M 49.633125 139.5 \n\" clip-path=\"url(#p2e00a0e0ba)\" style=\"fill: none; stroke-dasharray: 9.6,2.4,1.5,2.4; stroke-dashoffset: 0; stroke: #2ca02c; stroke-width: 1.5\"/>\n   </g>\n   <g id=\"line2d_29\">\n    <path d=\"M 34.954394 13.5 \nL 44.698573 13.580335 \nL 54.442752 13.595041 \nL 64.186931 13.66292 \n\" clip-path=\"url(#p2e00a0e0ba)\" style=\"fill: none; stroke: #1f77b4; stroke-width: 1.5; stroke-linecap: square\"/>\n   </g>\n   <g id=\"line2d_30\">\n    <path d=\"M 49.633125 13.701853 \nL 69.163125 13.638661 \n\" clip-path=\"url(#p2e00a0e0ba)\" style=\"fill: none; stroke-dasharray: 5.55,2.4; stroke-dashoffset: 0; stroke: #ff7f0e; stroke-width: 1.5\"/>\n   </g>\n   <g id=\"line2d_31\">\n    <path d=\"M 49.633125 139.5 \nL 69.163125 139.5 \n\" clip-path=\"url(#p2e00a0e0ba)\" style=\"fill: none; stroke-dasharray: 9.6,2.4,1.5,2.4; stroke-dashoffset: 0; stroke: #2ca02c; stroke-width: 1.5\"/>\n   </g>\n   <g id=\"line2d_32\">\n    <path d=\"M 34.954394 13.5 \nL 44.698573 13.580335 \nL 54.442752 13.595041 \nL 64.186931 13.66292 \nL 73.93111 13.684882 \n\" clip-path=\"url(#p2e00a0e0ba)\" style=\"fill: none; stroke: #1f77b4; stroke-width: 1.5; stroke-linecap: square\"/>\n   </g>\n   <g id=\"line2d_33\">\n    <path d=\"M 49.633125 13.701853 \nL 69.163125 13.638661 \n\" clip-path=\"url(#p2e00a0e0ba)\" style=\"fill: none; stroke-dasharray: 5.55,2.4; stroke-dashoffset: 0; stroke: #ff7f0e; stroke-width: 1.5\"/>\n   </g>\n   <g id=\"line2d_34\">\n    <path d=\"M 49.633125 139.5 \nL 69.163125 139.5 \n\" clip-path=\"url(#p2e00a0e0ba)\" style=\"fill: none; stroke-dasharray: 9.6,2.4,1.5,2.4; stroke-dashoffset: 0; stroke: #2ca02c; stroke-width: 1.5\"/>\n   </g>\n   <g id=\"line2d_35\">\n    <path d=\"M 34.954394 13.5 \nL 44.698573 13.580335 \nL 54.442752 13.595041 \nL 64.186931 13.66292 \nL 73.93111 13.684882 \nL 83.675289 13.822816 \n\" clip-path=\"url(#p2e00a0e0ba)\" style=\"fill: none; stroke: #1f77b4; stroke-width: 1.5; stroke-linecap: square\"/>\n   </g>\n   <g id=\"line2d_36\">\n    <path d=\"M 49.633125 13.701853 \nL 69.163125 13.638661 \n\" clip-path=\"url(#p2e00a0e0ba)\" style=\"fill: none; stroke-dasharray: 5.55,2.4; stroke-dashoffset: 0; stroke: #ff7f0e; stroke-width: 1.5\"/>\n   </g>\n   <g id=\"line2d_37\">\n    <path d=\"M 49.633125 139.5 \nL 69.163125 139.5 \n\" clip-path=\"url(#p2e00a0e0ba)\" style=\"fill: none; stroke-dasharray: 9.6,2.4,1.5,2.4; stroke-dashoffset: 0; stroke: #2ca02c; stroke-width: 1.5\"/>\n   </g>\n   <g id=\"line2d_38\">\n    <path d=\"M 34.954394 13.5 \nL 44.698573 13.580335 \nL 54.442752 13.595041 \nL 64.186931 13.66292 \nL 73.93111 13.684882 \nL 83.675289 13.822816 \n\" clip-path=\"url(#p2e00a0e0ba)\" style=\"fill: none; stroke: #1f77b4; stroke-width: 1.5; stroke-linecap: square\"/>\n   </g>\n   <g id=\"line2d_39\">\n    <path d=\"M 49.633125 13.701853 \nL 69.163125 13.638661 \nL 88.693125 13.936862 \n\" clip-path=\"url(#p2e00a0e0ba)\" style=\"fill: none; stroke-dasharray: 5.55,2.4; stroke-dashoffset: 0; stroke: #ff7f0e; stroke-width: 1.5\"/>\n   </g>\n   <g id=\"line2d_40\">\n    <path d=\"M 49.633125 139.5 \nL 69.163125 139.5 \n\" clip-path=\"url(#p2e00a0e0ba)\" style=\"fill: none; stroke-dasharray: 9.6,2.4,1.5,2.4; stroke-dashoffset: 0; stroke: #2ca02c; stroke-width: 1.5\"/>\n   </g>\n   <g id=\"line2d_41\">\n    <path d=\"M 34.954394 13.5 \nL 44.698573 13.580335 \nL 54.442752 13.595041 \nL 64.186931 13.66292 \nL 73.93111 13.684882 \nL 83.675289 13.822816 \n\" clip-path=\"url(#p2e00a0e0ba)\" style=\"fill: none; stroke: #1f77b4; stroke-width: 1.5; stroke-linecap: square\"/>\n   </g>\n   <g id=\"line2d_42\">\n    <path d=\"M 49.633125 13.701853 \nL 69.163125 13.638661 \nL 88.693125 13.936862 \n\" clip-path=\"url(#p2e00a0e0ba)\" style=\"fill: none; stroke-dasharray: 5.55,2.4; stroke-dashoffset: 0; stroke: #ff7f0e; stroke-width: 1.5\"/>\n   </g>\n   <g id=\"line2d_43\">\n    <path d=\"M 49.633125 139.5 \nL 69.163125 139.5 \nL 88.693125 139.5 \n\" clip-path=\"url(#p2e00a0e0ba)\" style=\"fill: none; stroke-dasharray: 9.6,2.4,1.5,2.4; stroke-dashoffset: 0; stroke: #2ca02c; stroke-width: 1.5\"/>\n   </g>\n   <g id=\"line2d_44\">\n    <path d=\"M 34.954394 13.5 \nL 44.698573 13.580335 \nL 54.442752 13.595041 \nL 64.186931 13.66292 \nL 73.93111 13.684882 \nL 83.675289 13.822816 \nL 93.419468 14.151432 \n\" clip-path=\"url(#p2e00a0e0ba)\" style=\"fill: none; stroke: #1f77b4; stroke-width: 1.5; stroke-linecap: square\"/>\n   </g>\n   <g id=\"line2d_45\">\n    <path d=\"M 49.633125 13.701853 \nL 69.163125 13.638661 \nL 88.693125 13.936862 \n\" clip-path=\"url(#p2e00a0e0ba)\" style=\"fill: none; stroke-dasharray: 5.55,2.4; stroke-dashoffset: 0; stroke: #ff7f0e; stroke-width: 1.5\"/>\n   </g>\n   <g id=\"line2d_46\">\n    <path d=\"M 49.633125 139.5 \nL 69.163125 139.5 \nL 88.693125 139.5 \n\" clip-path=\"url(#p2e00a0e0ba)\" style=\"fill: none; stroke-dasharray: 9.6,2.4,1.5,2.4; stroke-dashoffset: 0; stroke: #2ca02c; stroke-width: 1.5\"/>\n   </g>\n   <g id=\"line2d_47\">\n    <path d=\"M 34.954394 13.5 \nL 44.698573 13.580335 \nL 54.442752 13.595041 \nL 64.186931 13.66292 \nL 73.93111 13.684882 \nL 83.675289 13.822816 \nL 93.419468 14.151432 \nL 103.163647 16.178551 \n\" clip-path=\"url(#p2e00a0e0ba)\" style=\"fill: none; stroke: #1f77b4; stroke-width: 1.5; stroke-linecap: square\"/>\n   </g>\n   <g id=\"line2d_48\">\n    <path d=\"M 49.633125 13.701853 \nL 69.163125 13.638661 \nL 88.693125 13.936862 \n\" clip-path=\"url(#p2e00a0e0ba)\" style=\"fill: none; stroke-dasharray: 5.55,2.4; stroke-dashoffset: 0; stroke: #ff7f0e; stroke-width: 1.5\"/>\n   </g>\n   <g id=\"line2d_49\">\n    <path d=\"M 49.633125 139.5 \nL 69.163125 139.5 \nL 88.693125 139.5 \n\" clip-path=\"url(#p2e00a0e0ba)\" style=\"fill: none; stroke-dasharray: 9.6,2.4,1.5,2.4; stroke-dashoffset: 0; stroke: #2ca02c; stroke-width: 1.5\"/>\n   </g>\n   <g id=\"line2d_50\">\n    <path d=\"M 34.954394 13.5 \nL 44.698573 13.580335 \nL 54.442752 13.595041 \nL 64.186931 13.66292 \nL 73.93111 13.684882 \nL 83.675289 13.822816 \nL 93.419468 14.151432 \nL 103.163647 16.178551 \n\" clip-path=\"url(#p2e00a0e0ba)\" style=\"fill: none; stroke: #1f77b4; stroke-width: 1.5; stroke-linecap: square\"/>\n   </g>\n   <g id=\"line2d_51\">\n    <path d=\"M 49.633125 13.701853 \nL 69.163125 13.638661 \nL 88.693125 13.936862 \nL 108.223125 19.766601 \n\" clip-path=\"url(#p2e00a0e0ba)\" style=\"fill: none; stroke-dasharray: 5.55,2.4; stroke-dashoffset: 0; stroke: #ff7f0e; stroke-width: 1.5\"/>\n   </g>\n   <g id=\"line2d_52\">\n    <path d=\"M 49.633125 139.5 \nL 69.163125 139.5 \nL 88.693125 139.5 \n\" clip-path=\"url(#p2e00a0e0ba)\" style=\"fill: none; stroke-dasharray: 9.6,2.4,1.5,2.4; stroke-dashoffset: 0; stroke: #2ca02c; stroke-width: 1.5\"/>\n   </g>\n   <g id=\"line2d_53\">\n    <path d=\"M 34.954394 13.5 \nL 44.698573 13.580335 \nL 54.442752 13.595041 \nL 64.186931 13.66292 \nL 73.93111 13.684882 \nL 83.675289 13.822816 \nL 93.419468 14.151432 \nL 103.163647 16.178551 \n\" clip-path=\"url(#p2e00a0e0ba)\" style=\"fill: none; stroke: #1f77b4; stroke-width: 1.5; stroke-linecap: square\"/>\n   </g>\n   <g id=\"line2d_54\">\n    <path d=\"M 49.633125 13.701853 \nL 69.163125 13.638661 \nL 88.693125 13.936862 \nL 108.223125 19.766601 \n\" clip-path=\"url(#p2e00a0e0ba)\" style=\"fill: none; stroke-dasharray: 5.55,2.4; stroke-dashoffset: 0; stroke: #ff7f0e; stroke-width: 1.5\"/>\n   </g>\n   <g id=\"line2d_55\">\n    <path d=\"M 49.633125 139.5 \nL 69.163125 139.5 \nL 88.693125 139.5 \nL 108.223125 137.746206 \n\" clip-path=\"url(#p2e00a0e0ba)\" style=\"fill: none; stroke-dasharray: 9.6,2.4,1.5,2.4; stroke-dashoffset: 0; stroke: #2ca02c; stroke-width: 1.5\"/>\n   </g>\n   <g id=\"line2d_56\">\n    <path d=\"M 34.954394 13.5 \nL 44.698573 13.580335 \nL 54.442752 13.595041 \nL 64.186931 13.66292 \nL 73.93111 13.684882 \nL 83.675289 13.822816 \nL 93.419468 14.151432 \nL 103.163647 16.178551 \nL 112.907826 37.943168 \n\" clip-path=\"url(#p2e00a0e0ba)\" style=\"fill: none; stroke: #1f77b4; stroke-width: 1.5; stroke-linecap: square\"/>\n   </g>\n   <g id=\"line2d_57\">\n    <path d=\"M 49.633125 13.701853 \nL 69.163125 13.638661 \nL 88.693125 13.936862 \nL 108.223125 19.766601 \n\" clip-path=\"url(#p2e00a0e0ba)\" style=\"fill: none; stroke-dasharray: 5.55,2.4; stroke-dashoffset: 0; stroke: #ff7f0e; stroke-width: 1.5\"/>\n   </g>\n   <g id=\"line2d_58\">\n    <path d=\"M 49.633125 139.5 \nL 69.163125 139.5 \nL 88.693125 139.5 \nL 108.223125 137.746206 \n\" clip-path=\"url(#p2e00a0e0ba)\" style=\"fill: none; stroke-dasharray: 9.6,2.4,1.5,2.4; stroke-dashoffset: 0; stroke: #2ca02c; stroke-width: 1.5\"/>\n   </g>\n   <g id=\"line2d_59\">\n    <path d=\"M 34.954394 13.5 \nL 44.698573 13.580335 \nL 54.442752 13.595041 \nL 64.186931 13.66292 \nL 73.93111 13.684882 \nL 83.675289 13.822816 \nL 93.419468 14.151432 \nL 103.163647 16.178551 \nL 112.907826 37.943168 \nL 122.652006 69.545034 \n\" clip-path=\"url(#p2e00a0e0ba)\" style=\"fill: none; stroke: #1f77b4; stroke-width: 1.5; stroke-linecap: square\"/>\n   </g>\n   <g id=\"line2d_60\">\n    <path d=\"M 49.633125 13.701853 \nL 69.163125 13.638661 \nL 88.693125 13.936862 \nL 108.223125 19.766601 \n\" clip-path=\"url(#p2e00a0e0ba)\" style=\"fill: none; stroke-dasharray: 5.55,2.4; stroke-dashoffset: 0; stroke: #ff7f0e; stroke-width: 1.5\"/>\n   </g>\n   <g id=\"line2d_61\">\n    <path d=\"M 49.633125 139.5 \nL 69.163125 139.5 \nL 88.693125 139.5 \nL 108.223125 137.746206 \n\" clip-path=\"url(#p2e00a0e0ba)\" style=\"fill: none; stroke-dasharray: 9.6,2.4,1.5,2.4; stroke-dashoffset: 0; stroke: #2ca02c; stroke-width: 1.5\"/>\n   </g>\n   <g id=\"line2d_62\">\n    <path d=\"M 34.954394 13.5 \nL 44.698573 13.580335 \nL 54.442752 13.595041 \nL 64.186931 13.66292 \nL 73.93111 13.684882 \nL 83.675289 13.822816 \nL 93.419468 14.151432 \nL 103.163647 16.178551 \nL 112.907826 37.943168 \nL 122.652006 69.545034 \n\" clip-path=\"url(#p2e00a0e0ba)\" style=\"fill: none; stroke: #1f77b4; stroke-width: 1.5; stroke-linecap: square\"/>\n   </g>\n   <g id=\"line2d_63\">\n    <path d=\"M 49.633125 13.701853 \nL 69.163125 13.638661 \nL 88.693125 13.936862 \nL 108.223125 19.766601 \nL 127.753125 76.493021 \n\" clip-path=\"url(#p2e00a0e0ba)\" style=\"fill: none; stroke-dasharray: 5.55,2.4; stroke-dashoffset: 0; stroke: #ff7f0e; stroke-width: 1.5\"/>\n   </g>\n   <g id=\"line2d_64\">\n    <path d=\"M 49.633125 139.5 \nL 69.163125 139.5 \nL 88.693125 139.5 \nL 108.223125 137.746206 \n\" clip-path=\"url(#p2e00a0e0ba)\" style=\"fill: none; stroke-dasharray: 9.6,2.4,1.5,2.4; stroke-dashoffset: 0; stroke: #2ca02c; stroke-width: 1.5\"/>\n   </g>\n   <g id=\"line2d_65\">\n    <path d=\"M 34.954394 13.5 \nL 44.698573 13.580335 \nL 54.442752 13.595041 \nL 64.186931 13.66292 \nL 73.93111 13.684882 \nL 83.675289 13.822816 \nL 93.419468 14.151432 \nL 103.163647 16.178551 \nL 112.907826 37.943168 \nL 122.652006 69.545034 \n\" clip-path=\"url(#p2e00a0e0ba)\" style=\"fill: none; stroke: #1f77b4; stroke-width: 1.5; stroke-linecap: square\"/>\n   </g>\n   <g id=\"line2d_66\">\n    <path d=\"M 49.633125 13.701853 \nL 69.163125 13.638661 \nL 88.693125 13.936862 \nL 108.223125 19.766601 \nL 127.753125 76.493021 \n\" clip-path=\"url(#p2e00a0e0ba)\" style=\"fill: none; stroke-dasharray: 5.55,2.4; stroke-dashoffset: 0; stroke: #ff7f0e; stroke-width: 1.5\"/>\n   </g>\n   <g id=\"line2d_67\">\n    <path d=\"M 49.633125 139.5 \nL 69.163125 139.5 \nL 88.693125 139.5 \nL 108.223125 137.746206 \nL 127.753125 113.706252 \n\" clip-path=\"url(#p2e00a0e0ba)\" style=\"fill: none; stroke-dasharray: 9.6,2.4,1.5,2.4; stroke-dashoffset: 0; stroke: #2ca02c; stroke-width: 1.5\"/>\n   </g>\n   <g id=\"line2d_68\">\n    <path d=\"M 34.954394 13.5 \nL 44.698573 13.580335 \nL 54.442752 13.595041 \nL 64.186931 13.66292 \nL 73.93111 13.684882 \nL 83.675289 13.822816 \nL 93.419468 14.151432 \nL 103.163647 16.178551 \nL 112.907826 37.943168 \nL 122.652006 69.545034 \nL 132.396185 80.278642 \n\" clip-path=\"url(#p2e00a0e0ba)\" style=\"fill: none; stroke: #1f77b4; stroke-width: 1.5; stroke-linecap: square\"/>\n   </g>\n   <g id=\"line2d_69\">\n    <path d=\"M 49.633125 13.701853 \nL 69.163125 13.638661 \nL 88.693125 13.936862 \nL 108.223125 19.766601 \nL 127.753125 76.493021 \n\" clip-path=\"url(#p2e00a0e0ba)\" style=\"fill: none; stroke-dasharray: 5.55,2.4; stroke-dashoffset: 0; stroke: #ff7f0e; stroke-width: 1.5\"/>\n   </g>\n   <g id=\"line2d_70\">\n    <path d=\"M 49.633125 139.5 \nL 69.163125 139.5 \nL 88.693125 139.5 \nL 108.223125 137.746206 \nL 127.753125 113.706252 \n\" clip-path=\"url(#p2e00a0e0ba)\" style=\"fill: none; stroke-dasharray: 9.6,2.4,1.5,2.4; stroke-dashoffset: 0; stroke: #2ca02c; stroke-width: 1.5\"/>\n   </g>\n   <g id=\"line2d_71\">\n    <path d=\"M 34.954394 13.5 \nL 44.698573 13.580335 \nL 54.442752 13.595041 \nL 64.186931 13.66292 \nL 73.93111 13.684882 \nL 83.675289 13.822816 \nL 93.419468 14.151432 \nL 103.163647 16.178551 \nL 112.907826 37.943168 \nL 122.652006 69.545034 \nL 132.396185 80.278642 \nL 142.140364 86.778368 \n\" clip-path=\"url(#p2e00a0e0ba)\" style=\"fill: none; stroke: #1f77b4; stroke-width: 1.5; stroke-linecap: square\"/>\n   </g>\n   <g id=\"line2d_72\">\n    <path d=\"M 49.633125 13.701853 \nL 69.163125 13.638661 \nL 88.693125 13.936862 \nL 108.223125 19.766601 \nL 127.753125 76.493021 \n\" clip-path=\"url(#p2e00a0e0ba)\" style=\"fill: none; stroke-dasharray: 5.55,2.4; stroke-dashoffset: 0; stroke: #ff7f0e; stroke-width: 1.5\"/>\n   </g>\n   <g id=\"line2d_73\">\n    <path d=\"M 49.633125 139.5 \nL 69.163125 139.5 \nL 88.693125 139.5 \nL 108.223125 137.746206 \nL 127.753125 113.706252 \n\" clip-path=\"url(#p2e00a0e0ba)\" style=\"fill: none; stroke-dasharray: 9.6,2.4,1.5,2.4; stroke-dashoffset: 0; stroke: #2ca02c; stroke-width: 1.5\"/>\n   </g>\n   <g id=\"line2d_74\">\n    <path d=\"M 34.954394 13.5 \nL 44.698573 13.580335 \nL 54.442752 13.595041 \nL 64.186931 13.66292 \nL 73.93111 13.684882 \nL 83.675289 13.822816 \nL 93.419468 14.151432 \nL 103.163647 16.178551 \nL 112.907826 37.943168 \nL 122.652006 69.545034 \nL 132.396185 80.278642 \nL 142.140364 86.778368 \n\" clip-path=\"url(#p2e00a0e0ba)\" style=\"fill: none; stroke: #1f77b4; stroke-width: 1.5; stroke-linecap: square\"/>\n   </g>\n   <g id=\"line2d_75\">\n    <path d=\"M 49.633125 13.701853 \nL 69.163125 13.638661 \nL 88.693125 13.936862 \nL 108.223125 19.766601 \nL 127.753125 76.493021 \nL 147.283125 89.02849 \n\" clip-path=\"url(#p2e00a0e0ba)\" style=\"fill: none; stroke-dasharray: 5.55,2.4; stroke-dashoffset: 0; stroke: #ff7f0e; stroke-width: 1.5\"/>\n   </g>\n   <g id=\"line2d_76\">\n    <path d=\"M 49.633125 139.5 \nL 69.163125 139.5 \nL 88.693125 139.5 \nL 108.223125 137.746206 \nL 127.753125 113.706252 \n\" clip-path=\"url(#p2e00a0e0ba)\" style=\"fill: none; stroke-dasharray: 9.6,2.4,1.5,2.4; stroke-dashoffset: 0; stroke: #2ca02c; stroke-width: 1.5\"/>\n   </g>\n   <g id=\"line2d_77\">\n    <path d=\"M 34.954394 13.5 \nL 44.698573 13.580335 \nL 54.442752 13.595041 \nL 64.186931 13.66292 \nL 73.93111 13.684882 \nL 83.675289 13.822816 \nL 93.419468 14.151432 \nL 103.163647 16.178551 \nL 112.907826 37.943168 \nL 122.652006 69.545034 \nL 132.396185 80.278642 \nL 142.140364 86.778368 \n\" clip-path=\"url(#p2e00a0e0ba)\" style=\"fill: none; stroke: #1f77b4; stroke-width: 1.5; stroke-linecap: square\"/>\n   </g>\n   <g id=\"line2d_78\">\n    <path d=\"M 49.633125 13.701853 \nL 69.163125 13.638661 \nL 88.693125 13.936862 \nL 108.223125 19.766601 \nL 127.753125 76.493021 \nL 147.283125 89.02849 \n\" clip-path=\"url(#p2e00a0e0ba)\" style=\"fill: none; stroke-dasharray: 5.55,2.4; stroke-dashoffset: 0; stroke: #ff7f0e; stroke-width: 1.5\"/>\n   </g>\n   <g id=\"line2d_79\">\n    <path d=\"M 49.633125 139.5 \nL 69.163125 139.5 \nL 88.693125 139.5 \nL 108.223125 137.746206 \nL 127.753125 113.706252 \nL 147.283125 110.023848 \n\" clip-path=\"url(#p2e00a0e0ba)\" style=\"fill: none; stroke-dasharray: 9.6,2.4,1.5,2.4; stroke-dashoffset: 0; stroke: #2ca02c; stroke-width: 1.5\"/>\n   </g>\n   <g id=\"line2d_80\">\n    <path d=\"M 34.954394 13.5 \nL 44.698573 13.580335 \nL 54.442752 13.595041 \nL 64.186931 13.66292 \nL 73.93111 13.684882 \nL 83.675289 13.822816 \nL 93.419468 14.151432 \nL 103.163647 16.178551 \nL 112.907826 37.943168 \nL 122.652006 69.545034 \nL 132.396185 80.278642 \nL 142.140364 86.778368 \nL 151.884543 91.050126 \n\" clip-path=\"url(#p2e00a0e0ba)\" style=\"fill: none; stroke: #1f77b4; stroke-width: 1.5; stroke-linecap: square\"/>\n   </g>\n   <g id=\"line2d_81\">\n    <path d=\"M 49.633125 13.701853 \nL 69.163125 13.638661 \nL 88.693125 13.936862 \nL 108.223125 19.766601 \nL 127.753125 76.493021 \nL 147.283125 89.02849 \n\" clip-path=\"url(#p2e00a0e0ba)\" style=\"fill: none; stroke-dasharray: 5.55,2.4; stroke-dashoffset: 0; stroke: #ff7f0e; stroke-width: 1.5\"/>\n   </g>\n   <g id=\"line2d_82\">\n    <path d=\"M 49.633125 139.5 \nL 69.163125 139.5 \nL 88.693125 139.5 \nL 108.223125 137.746206 \nL 127.753125 113.706252 \nL 147.283125 110.023848 \n\" clip-path=\"url(#p2e00a0e0ba)\" style=\"fill: none; stroke-dasharray: 9.6,2.4,1.5,2.4; stroke-dashoffset: 0; stroke: #2ca02c; stroke-width: 1.5\"/>\n   </g>\n   <g id=\"line2d_83\">\n    <path d=\"M 34.954394 13.5 \nL 44.698573 13.580335 \nL 54.442752 13.595041 \nL 64.186931 13.66292 \nL 73.93111 13.684882 \nL 83.675289 13.822816 \nL 93.419468 14.151432 \nL 103.163647 16.178551 \nL 112.907826 37.943168 \nL 122.652006 69.545034 \nL 132.396185 80.278642 \nL 142.140364 86.778368 \nL 151.884543 91.050126 \nL 161.628722 93.41042 \n\" clip-path=\"url(#p2e00a0e0ba)\" style=\"fill: none; stroke: #1f77b4; stroke-width: 1.5; stroke-linecap: square\"/>\n   </g>\n   <g id=\"line2d_84\">\n    <path d=\"M 49.633125 13.701853 \nL 69.163125 13.638661 \nL 88.693125 13.936862 \nL 108.223125 19.766601 \nL 127.753125 76.493021 \nL 147.283125 89.02849 \n\" clip-path=\"url(#p2e00a0e0ba)\" style=\"fill: none; stroke-dasharray: 5.55,2.4; stroke-dashoffset: 0; stroke: #ff7f0e; stroke-width: 1.5\"/>\n   </g>\n   <g id=\"line2d_85\">\n    <path d=\"M 49.633125 139.5 \nL 69.163125 139.5 \nL 88.693125 139.5 \nL 108.223125 137.746206 \nL 127.753125 113.706252 \nL 147.283125 110.023848 \n\" clip-path=\"url(#p2e00a0e0ba)\" style=\"fill: none; stroke-dasharray: 9.6,2.4,1.5,2.4; stroke-dashoffset: 0; stroke: #2ca02c; stroke-width: 1.5\"/>\n   </g>\n   <g id=\"line2d_86\">\n    <path d=\"M 34.954394 13.5 \nL 44.698573 13.580335 \nL 54.442752 13.595041 \nL 64.186931 13.66292 \nL 73.93111 13.684882 \nL 83.675289 13.822816 \nL 93.419468 14.151432 \nL 103.163647 16.178551 \nL 112.907826 37.943168 \nL 122.652006 69.545034 \nL 132.396185 80.278642 \nL 142.140364 86.778368 \nL 151.884543 91.050126 \nL 161.628722 93.41042 \n\" clip-path=\"url(#p2e00a0e0ba)\" style=\"fill: none; stroke: #1f77b4; stroke-width: 1.5; stroke-linecap: square\"/>\n   </g>\n   <g id=\"line2d_87\">\n    <path d=\"M 49.633125 13.701853 \nL 69.163125 13.638661 \nL 88.693125 13.936862 \nL 108.223125 19.766601 \nL 127.753125 76.493021 \nL 147.283125 89.02849 \nL 166.813125 93.990931 \n\" clip-path=\"url(#p2e00a0e0ba)\" style=\"fill: none; stroke-dasharray: 5.55,2.4; stroke-dashoffset: 0; stroke: #ff7f0e; stroke-width: 1.5\"/>\n   </g>\n   <g id=\"line2d_88\">\n    <path d=\"M 49.633125 139.5 \nL 69.163125 139.5 \nL 88.693125 139.5 \nL 108.223125 137.746206 \nL 127.753125 113.706252 \nL 147.283125 110.023848 \n\" clip-path=\"url(#p2e00a0e0ba)\" style=\"fill: none; stroke-dasharray: 9.6,2.4,1.5,2.4; stroke-dashoffset: 0; stroke: #2ca02c; stroke-width: 1.5\"/>\n   </g>\n   <g id=\"line2d_89\">\n    <path d=\"M 34.954394 13.5 \nL 44.698573 13.580335 \nL 54.442752 13.595041 \nL 64.186931 13.66292 \nL 73.93111 13.684882 \nL 83.675289 13.822816 \nL 93.419468 14.151432 \nL 103.163647 16.178551 \nL 112.907826 37.943168 \nL 122.652006 69.545034 \nL 132.396185 80.278642 \nL 142.140364 86.778368 \nL 151.884543 91.050126 \nL 161.628722 93.41042 \n\" clip-path=\"url(#p2e00a0e0ba)\" style=\"fill: none; stroke: #1f77b4; stroke-width: 1.5; stroke-linecap: square\"/>\n   </g>\n   <g id=\"line2d_90\">\n    <path d=\"M 49.633125 13.701853 \nL 69.163125 13.638661 \nL 88.693125 13.936862 \nL 108.223125 19.766601 \nL 127.753125 76.493021 \nL 147.283125 89.02849 \nL 166.813125 93.990931 \n\" clip-path=\"url(#p2e00a0e0ba)\" style=\"fill: none; stroke-dasharray: 5.55,2.4; stroke-dashoffset: 0; stroke: #ff7f0e; stroke-width: 1.5\"/>\n   </g>\n   <g id=\"line2d_91\">\n    <path d=\"M 49.633125 139.5 \nL 69.163125 139.5 \nL 88.693125 139.5 \nL 108.223125 137.746206 \nL 127.753125 113.706252 \nL 147.283125 110.023848 \nL 166.813125 108.08396 \n\" clip-path=\"url(#p2e00a0e0ba)\" style=\"fill: none; stroke-dasharray: 9.6,2.4,1.5,2.4; stroke-dashoffset: 0; stroke: #2ca02c; stroke-width: 1.5\"/>\n   </g>\n   <g id=\"line2d_92\">\n    <path d=\"M 34.954394 13.5 \nL 44.698573 13.580335 \nL 54.442752 13.595041 \nL 64.186931 13.66292 \nL 73.93111 13.684882 \nL 83.675289 13.822816 \nL 93.419468 14.151432 \nL 103.163647 16.178551 \nL 112.907826 37.943168 \nL 122.652006 69.545034 \nL 132.396185 80.278642 \nL 142.140364 86.778368 \nL 151.884543 91.050126 \nL 161.628722 93.41042 \nL 171.372901 95.60263 \n\" clip-path=\"url(#p2e00a0e0ba)\" style=\"fill: none; stroke: #1f77b4; stroke-width: 1.5; stroke-linecap: square\"/>\n   </g>\n   <g id=\"line2d_93\">\n    <path d=\"M 49.633125 13.701853 \nL 69.163125 13.638661 \nL 88.693125 13.936862 \nL 108.223125 19.766601 \nL 127.753125 76.493021 \nL 147.283125 89.02849 \nL 166.813125 93.990931 \n\" clip-path=\"url(#p2e00a0e0ba)\" style=\"fill: none; stroke-dasharray: 5.55,2.4; stroke-dashoffset: 0; stroke: #ff7f0e; stroke-width: 1.5\"/>\n   </g>\n   <g id=\"line2d_94\">\n    <path d=\"M 49.633125 139.5 \nL 69.163125 139.5 \nL 88.693125 139.5 \nL 108.223125 137.746206 \nL 127.753125 113.706252 \nL 147.283125 110.023848 \nL 166.813125 108.08396 \n\" clip-path=\"url(#p2e00a0e0ba)\" style=\"fill: none; stroke-dasharray: 9.6,2.4,1.5,2.4; stroke-dashoffset: 0; stroke: #2ca02c; stroke-width: 1.5\"/>\n   </g>\n   <g id=\"line2d_95\">\n    <path d=\"M 34.954394 13.5 \nL 44.698573 13.580335 \nL 54.442752 13.595041 \nL 64.186931 13.66292 \nL 73.93111 13.684882 \nL 83.675289 13.822816 \nL 93.419468 14.151432 \nL 103.163647 16.178551 \nL 112.907826 37.943168 \nL 122.652006 69.545034 \nL 132.396185 80.278642 \nL 142.140364 86.778368 \nL 151.884543 91.050126 \nL 161.628722 93.41042 \nL 171.372901 95.60263 \nL 181.11708 97.299612 \n\" clip-path=\"url(#p2e00a0e0ba)\" style=\"fill: none; stroke: #1f77b4; stroke-width: 1.5; stroke-linecap: square\"/>\n   </g>\n   <g id=\"line2d_96\">\n    <path d=\"M 49.633125 13.701853 \nL 69.163125 13.638661 \nL 88.693125 13.936862 \nL 108.223125 19.766601 \nL 127.753125 76.493021 \nL 147.283125 89.02849 \nL 166.813125 93.990931 \n\" clip-path=\"url(#p2e00a0e0ba)\" style=\"fill: none; stroke-dasharray: 5.55,2.4; stroke-dashoffset: 0; stroke: #ff7f0e; stroke-width: 1.5\"/>\n   </g>\n   <g id=\"line2d_97\">\n    <path d=\"M 49.633125 139.5 \nL 69.163125 139.5 \nL 88.693125 139.5 \nL 108.223125 137.746206 \nL 127.753125 113.706252 \nL 147.283125 110.023848 \nL 166.813125 108.08396 \n\" clip-path=\"url(#p2e00a0e0ba)\" style=\"fill: none; stroke-dasharray: 9.6,2.4,1.5,2.4; stroke-dashoffset: 0; stroke: #2ca02c; stroke-width: 1.5\"/>\n   </g>\n   <g id=\"line2d_98\">\n    <path d=\"M 34.954394 13.5 \nL 44.698573 13.580335 \nL 54.442752 13.595041 \nL 64.186931 13.66292 \nL 73.93111 13.684882 \nL 83.675289 13.822816 \nL 93.419468 14.151432 \nL 103.163647 16.178551 \nL 112.907826 37.943168 \nL 122.652006 69.545034 \nL 132.396185 80.278642 \nL 142.140364 86.778368 \nL 151.884543 91.050126 \nL 161.628722 93.41042 \nL 171.372901 95.60263 \nL 181.11708 97.299612 \n\" clip-path=\"url(#p2e00a0e0ba)\" style=\"fill: none; stroke: #1f77b4; stroke-width: 1.5; stroke-linecap: square\"/>\n   </g>\n   <g id=\"line2d_99\">\n    <path d=\"M 49.633125 13.701853 \nL 69.163125 13.638661 \nL 88.693125 13.936862 \nL 108.223125 19.766601 \nL 127.753125 76.493021 \nL 147.283125 89.02849 \nL 166.813125 93.990931 \nL 186.343125 97.349344 \n\" clip-path=\"url(#p2e00a0e0ba)\" style=\"fill: none; stroke-dasharray: 5.55,2.4; stroke-dashoffset: 0; stroke: #ff7f0e; stroke-width: 1.5\"/>\n   </g>\n   <g id=\"line2d_100\">\n    <path d=\"M 49.633125 139.5 \nL 69.163125 139.5 \nL 88.693125 139.5 \nL 108.223125 137.746206 \nL 127.753125 113.706252 \nL 147.283125 110.023848 \nL 166.813125 108.08396 \n\" clip-path=\"url(#p2e00a0e0ba)\" style=\"fill: none; stroke-dasharray: 9.6,2.4,1.5,2.4; stroke-dashoffset: 0; stroke: #2ca02c; stroke-width: 1.5\"/>\n   </g>\n   <g id=\"line2d_101\">\n    <path d=\"M 34.954394 13.5 \nL 44.698573 13.580335 \nL 54.442752 13.595041 \nL 64.186931 13.66292 \nL 73.93111 13.684882 \nL 83.675289 13.822816 \nL 93.419468 14.151432 \nL 103.163647 16.178551 \nL 112.907826 37.943168 \nL 122.652006 69.545034 \nL 132.396185 80.278642 \nL 142.140364 86.778368 \nL 151.884543 91.050126 \nL 161.628722 93.41042 \nL 171.372901 95.60263 \nL 181.11708 97.299612 \n\" clip-path=\"url(#p2e00a0e0ba)\" style=\"fill: none; stroke: #1f77b4; stroke-width: 1.5; stroke-linecap: square\"/>\n   </g>\n   <g id=\"line2d_102\">\n    <path d=\"M 49.633125 13.701853 \nL 69.163125 13.638661 \nL 88.693125 13.936862 \nL 108.223125 19.766601 \nL 127.753125 76.493021 \nL 147.283125 89.02849 \nL 166.813125 93.990931 \nL 186.343125 97.349344 \n\" clip-path=\"url(#p2e00a0e0ba)\" style=\"fill: none; stroke-dasharray: 5.55,2.4; stroke-dashoffset: 0; stroke: #ff7f0e; stroke-width: 1.5\"/>\n   </g>\n   <g id=\"line2d_103\">\n    <path d=\"M 49.633125 139.5 \nL 69.163125 139.5 \nL 88.693125 139.5 \nL 108.223125 137.746206 \nL 127.753125 113.706252 \nL 147.283125 110.023848 \nL 166.813125 108.08396 \nL 186.343125 105.732409 \n\" clip-path=\"url(#p2e00a0e0ba)\" style=\"fill: none; stroke-dasharray: 9.6,2.4,1.5,2.4; stroke-dashoffset: 0; stroke: #2ca02c; stroke-width: 1.5\"/>\n   </g>\n   <g id=\"line2d_104\">\n    <path d=\"M 34.954394 13.5 \nL 44.698573 13.580335 \nL 54.442752 13.595041 \nL 64.186931 13.66292 \nL 73.93111 13.684882 \nL 83.675289 13.822816 \nL 93.419468 14.151432 \nL 103.163647 16.178551 \nL 112.907826 37.943168 \nL 122.652006 69.545034 \nL 132.396185 80.278642 \nL 142.140364 86.778368 \nL 151.884543 91.050126 \nL 161.628722 93.41042 \nL 171.372901 95.60263 \nL 181.11708 97.299612 \nL 190.861259 98.835155 \n\" clip-path=\"url(#p2e00a0e0ba)\" style=\"fill: none; stroke: #1f77b4; stroke-width: 1.5; stroke-linecap: square\"/>\n   </g>\n   <g id=\"line2d_105\">\n    <path d=\"M 49.633125 13.701853 \nL 69.163125 13.638661 \nL 88.693125 13.936862 \nL 108.223125 19.766601 \nL 127.753125 76.493021 \nL 147.283125 89.02849 \nL 166.813125 93.990931 \nL 186.343125 97.349344 \n\" clip-path=\"url(#p2e00a0e0ba)\" style=\"fill: none; stroke-dasharray: 5.55,2.4; stroke-dashoffset: 0; stroke: #ff7f0e; stroke-width: 1.5\"/>\n   </g>\n   <g id=\"line2d_106\">\n    <path d=\"M 49.633125 139.5 \nL 69.163125 139.5 \nL 88.693125 139.5 \nL 108.223125 137.746206 \nL 127.753125 113.706252 \nL 147.283125 110.023848 \nL 166.813125 108.08396 \nL 186.343125 105.732409 \n\" clip-path=\"url(#p2e00a0e0ba)\" style=\"fill: none; stroke-dasharray: 9.6,2.4,1.5,2.4; stroke-dashoffset: 0; stroke: #2ca02c; stroke-width: 1.5\"/>\n   </g>\n   <g id=\"line2d_107\">\n    <path d=\"M 34.954394 13.5 \nL 44.698573 13.580335 \nL 54.442752 13.595041 \nL 64.186931 13.66292 \nL 73.93111 13.684882 \nL 83.675289 13.822816 \nL 93.419468 14.151432 \nL 103.163647 16.178551 \nL 112.907826 37.943168 \nL 122.652006 69.545034 \nL 132.396185 80.278642 \nL 142.140364 86.778368 \nL 151.884543 91.050126 \nL 161.628722 93.41042 \nL 171.372901 95.60263 \nL 181.11708 97.299612 \nL 190.861259 98.835155 \nL 200.605438 99.170757 \n\" clip-path=\"url(#p2e00a0e0ba)\" style=\"fill: none; stroke: #1f77b4; stroke-width: 1.5; stroke-linecap: square\"/>\n   </g>\n   <g id=\"line2d_108\">\n    <path d=\"M 49.633125 13.701853 \nL 69.163125 13.638661 \nL 88.693125 13.936862 \nL 108.223125 19.766601 \nL 127.753125 76.493021 \nL 147.283125 89.02849 \nL 166.813125 93.990931 \nL 186.343125 97.349344 \n\" clip-path=\"url(#p2e00a0e0ba)\" style=\"fill: none; stroke-dasharray: 5.55,2.4; stroke-dashoffset: 0; stroke: #ff7f0e; stroke-width: 1.5\"/>\n   </g>\n   <g id=\"line2d_109\">\n    <path d=\"M 49.633125 139.5 \nL 69.163125 139.5 \nL 88.693125 139.5 \nL 108.223125 137.746206 \nL 127.753125 113.706252 \nL 147.283125 110.023848 \nL 166.813125 108.08396 \nL 186.343125 105.732409 \n\" clip-path=\"url(#p2e00a0e0ba)\" style=\"fill: none; stroke-dasharray: 9.6,2.4,1.5,2.4; stroke-dashoffset: 0; stroke: #2ca02c; stroke-width: 1.5\"/>\n   </g>\n   <g id=\"line2d_110\">\n    <path d=\"M 34.954394 13.5 \nL 44.698573 13.580335 \nL 54.442752 13.595041 \nL 64.186931 13.66292 \nL 73.93111 13.684882 \nL 83.675289 13.822816 \nL 93.419468 14.151432 \nL 103.163647 16.178551 \nL 112.907826 37.943168 \nL 122.652006 69.545034 \nL 132.396185 80.278642 \nL 142.140364 86.778368 \nL 151.884543 91.050126 \nL 161.628722 93.41042 \nL 171.372901 95.60263 \nL 181.11708 97.299612 \nL 190.861259 98.835155 \nL 200.605438 99.170757 \n\" clip-path=\"url(#p2e00a0e0ba)\" style=\"fill: none; stroke: #1f77b4; stroke-width: 1.5; stroke-linecap: square\"/>\n   </g>\n   <g id=\"line2d_111\">\n    <path d=\"M 49.633125 13.701853 \nL 69.163125 13.638661 \nL 88.693125 13.936862 \nL 108.223125 19.766601 \nL 127.753125 76.493021 \nL 147.283125 89.02849 \nL 166.813125 93.990931 \nL 186.343125 97.349344 \nL 205.873125 99.692143 \n\" clip-path=\"url(#p2e00a0e0ba)\" style=\"fill: none; stroke-dasharray: 5.55,2.4; stroke-dashoffset: 0; stroke: #ff7f0e; stroke-width: 1.5\"/>\n   </g>\n   <g id=\"line2d_112\">\n    <path d=\"M 49.633125 139.5 \nL 69.163125 139.5 \nL 88.693125 139.5 \nL 108.223125 137.746206 \nL 127.753125 113.706252 \nL 147.283125 110.023848 \nL 166.813125 108.08396 \nL 186.343125 105.732409 \n\" clip-path=\"url(#p2e00a0e0ba)\" style=\"fill: none; stroke-dasharray: 9.6,2.4,1.5,2.4; stroke-dashoffset: 0; stroke: #2ca02c; stroke-width: 1.5\"/>\n   </g>\n   <g id=\"line2d_113\">\n    <path d=\"M 34.954394 13.5 \nL 44.698573 13.580335 \nL 54.442752 13.595041 \nL 64.186931 13.66292 \nL 73.93111 13.684882 \nL 83.675289 13.822816 \nL 93.419468 14.151432 \nL 103.163647 16.178551 \nL 112.907826 37.943168 \nL 122.652006 69.545034 \nL 132.396185 80.278642 \nL 142.140364 86.778368 \nL 151.884543 91.050126 \nL 161.628722 93.41042 \nL 171.372901 95.60263 \nL 181.11708 97.299612 \nL 190.861259 98.835155 \nL 200.605438 99.170757 \n\" clip-path=\"url(#p2e00a0e0ba)\" style=\"fill: none; stroke: #1f77b4; stroke-width: 1.5; stroke-linecap: square\"/>\n   </g>\n   <g id=\"line2d_114\">\n    <path d=\"M 49.633125 13.701853 \nL 69.163125 13.638661 \nL 88.693125 13.936862 \nL 108.223125 19.766601 \nL 127.753125 76.493021 \nL 147.283125 89.02849 \nL 166.813125 93.990931 \nL 186.343125 97.349344 \nL 205.873125 99.692143 \n\" clip-path=\"url(#p2e00a0e0ba)\" style=\"fill: none; stroke-dasharray: 5.55,2.4; stroke-dashoffset: 0; stroke: #ff7f0e; stroke-width: 1.5\"/>\n   </g>\n   <g id=\"line2d_115\">\n    <path d=\"M 49.633125 139.5 \nL 69.163125 139.5 \nL 88.693125 139.5 \nL 108.223125 137.746206 \nL 127.753125 113.706252 \nL 147.283125 110.023848 \nL 166.813125 108.08396 \nL 186.343125 105.732409 \nL 205.873125 104.779382 \n\" clip-path=\"url(#p2e00a0e0ba)\" style=\"fill: none; stroke-dasharray: 9.6,2.4,1.5,2.4; stroke-dashoffset: 0; stroke: #2ca02c; stroke-width: 1.5\"/>\n   </g>\n   <g id=\"line2d_116\">\n    <path d=\"M 34.954394 13.5 \nL 44.698573 13.580335 \nL 54.442752 13.595041 \nL 64.186931 13.66292 \nL 73.93111 13.684882 \nL 83.675289 13.822816 \nL 93.419468 14.151432 \nL 103.163647 16.178551 \nL 112.907826 37.943168 \nL 122.652006 69.545034 \nL 132.396185 80.278642 \nL 142.140364 86.778368 \nL 151.884543 91.050126 \nL 161.628722 93.41042 \nL 171.372901 95.60263 \nL 181.11708 97.299612 \nL 190.861259 98.835155 \nL 200.605438 99.170757 \nL 210.349618 101.094552 \n\" clip-path=\"url(#p2e00a0e0ba)\" style=\"fill: none; stroke: #1f77b4; stroke-width: 1.5; stroke-linecap: square\"/>\n   </g>\n   <g id=\"line2d_117\">\n    <path d=\"M 49.633125 13.701853 \nL 69.163125 13.638661 \nL 88.693125 13.936862 \nL 108.223125 19.766601 \nL 127.753125 76.493021 \nL 147.283125 89.02849 \nL 166.813125 93.990931 \nL 186.343125 97.349344 \nL 205.873125 99.692143 \n\" clip-path=\"url(#p2e00a0e0ba)\" style=\"fill: none; stroke-dasharray: 5.55,2.4; stroke-dashoffset: 0; stroke: #ff7f0e; stroke-width: 1.5\"/>\n   </g>\n   <g id=\"line2d_118\">\n    <path d=\"M 49.633125 139.5 \nL 69.163125 139.5 \nL 88.693125 139.5 \nL 108.223125 137.746206 \nL 127.753125 113.706252 \nL 147.283125 110.023848 \nL 166.813125 108.08396 \nL 186.343125 105.732409 \nL 205.873125 104.779382 \n\" clip-path=\"url(#p2e00a0e0ba)\" style=\"fill: none; stroke-dasharray: 9.6,2.4,1.5,2.4; stroke-dashoffset: 0; stroke: #2ca02c; stroke-width: 1.5\"/>\n   </g>\n   <g id=\"line2d_119\">\n    <path d=\"M 34.954394 13.5 \nL 44.698573 13.580335 \nL 54.442752 13.595041 \nL 64.186931 13.66292 \nL 73.93111 13.684882 \nL 83.675289 13.822816 \nL 93.419468 14.151432 \nL 103.163647 16.178551 \nL 112.907826 37.943168 \nL 122.652006 69.545034 \nL 132.396185 80.278642 \nL 142.140364 86.778368 \nL 151.884543 91.050126 \nL 161.628722 93.41042 \nL 171.372901 95.60263 \nL 181.11708 97.299612 \nL 190.861259 98.835155 \nL 200.605438 99.170757 \nL 210.349618 101.094552 \nL 220.093797 102.249927 \n\" clip-path=\"url(#p2e00a0e0ba)\" style=\"fill: none; stroke: #1f77b4; stroke-width: 1.5; stroke-linecap: square\"/>\n   </g>\n   <g id=\"line2d_120\">\n    <path d=\"M 49.633125 13.701853 \nL 69.163125 13.638661 \nL 88.693125 13.936862 \nL 108.223125 19.766601 \nL 127.753125 76.493021 \nL 147.283125 89.02849 \nL 166.813125 93.990931 \nL 186.343125 97.349344 \nL 205.873125 99.692143 \n\" clip-path=\"url(#p2e00a0e0ba)\" style=\"fill: none; stroke-dasharray: 5.55,2.4; stroke-dashoffset: 0; stroke: #ff7f0e; stroke-width: 1.5\"/>\n   </g>\n   <g id=\"line2d_121\">\n    <path d=\"M 49.633125 139.5 \nL 69.163125 139.5 \nL 88.693125 139.5 \nL 108.223125 137.746206 \nL 127.753125 113.706252 \nL 147.283125 110.023848 \nL 166.813125 108.08396 \nL 186.343125 105.732409 \nL 205.873125 104.779382 \n\" clip-path=\"url(#p2e00a0e0ba)\" style=\"fill: none; stroke-dasharray: 9.6,2.4,1.5,2.4; stroke-dashoffset: 0; stroke: #2ca02c; stroke-width: 1.5\"/>\n   </g>\n   <g id=\"line2d_122\">\n    <path d=\"M 34.954394 13.5 \nL 44.698573 13.580335 \nL 54.442752 13.595041 \nL 64.186931 13.66292 \nL 73.93111 13.684882 \nL 83.675289 13.822816 \nL 93.419468 14.151432 \nL 103.163647 16.178551 \nL 112.907826 37.943168 \nL 122.652006 69.545034 \nL 132.396185 80.278642 \nL 142.140364 86.778368 \nL 151.884543 91.050126 \nL 161.628722 93.41042 \nL 171.372901 95.60263 \nL 181.11708 97.299612 \nL 190.861259 98.835155 \nL 200.605438 99.170757 \nL 210.349618 101.094552 \nL 220.093797 102.249927 \n\" clip-path=\"url(#p2e00a0e0ba)\" style=\"fill: none; stroke: #1f77b4; stroke-width: 1.5; stroke-linecap: square\"/>\n   </g>\n   <g id=\"line2d_123\">\n    <path d=\"M 49.633125 13.701853 \nL 69.163125 13.638661 \nL 88.693125 13.936862 \nL 108.223125 19.766601 \nL 127.753125 76.493021 \nL 147.283125 89.02849 \nL 166.813125 93.990931 \nL 186.343125 97.349344 \nL 205.873125 99.692143 \nL 225.403125 102.268631 \n\" clip-path=\"url(#p2e00a0e0ba)\" style=\"fill: none; stroke-dasharray: 5.55,2.4; stroke-dashoffset: 0; stroke: #ff7f0e; stroke-width: 1.5\"/>\n   </g>\n   <g id=\"line2d_124\">\n    <path d=\"M 49.633125 139.5 \nL 69.163125 139.5 \nL 88.693125 139.5 \nL 108.223125 137.746206 \nL 127.753125 113.706252 \nL 147.283125 110.023848 \nL 166.813125 108.08396 \nL 186.343125 105.732409 \nL 205.873125 104.779382 \n\" clip-path=\"url(#p2e00a0e0ba)\" style=\"fill: none; stroke-dasharray: 9.6,2.4,1.5,2.4; stroke-dashoffset: 0; stroke: #2ca02c; stroke-width: 1.5\"/>\n   </g>\n   <g id=\"line2d_125\">\n    <path d=\"M 34.954394 13.5 \nL 44.698573 13.580335 \nL 54.442752 13.595041 \nL 64.186931 13.66292 \nL 73.93111 13.684882 \nL 83.675289 13.822816 \nL 93.419468 14.151432 \nL 103.163647 16.178551 \nL 112.907826 37.943168 \nL 122.652006 69.545034 \nL 132.396185 80.278642 \nL 142.140364 86.778368 \nL 151.884543 91.050126 \nL 161.628722 93.41042 \nL 171.372901 95.60263 \nL 181.11708 97.299612 \nL 190.861259 98.835155 \nL 200.605438 99.170757 \nL 210.349618 101.094552 \nL 220.093797 102.249927 \n\" clip-path=\"url(#p2e00a0e0ba)\" style=\"fill: none; stroke: #1f77b4; stroke-width: 1.5; stroke-linecap: square\"/>\n   </g>\n   <g id=\"line2d_126\">\n    <path d=\"M 49.633125 13.701853 \nL 69.163125 13.638661 \nL 88.693125 13.936862 \nL 108.223125 19.766601 \nL 127.753125 76.493021 \nL 147.283125 89.02849 \nL 166.813125 93.990931 \nL 186.343125 97.349344 \nL 205.873125 99.692143 \nL 225.403125 102.268631 \n\" clip-path=\"url(#p2e00a0e0ba)\" style=\"fill: none; stroke-dasharray: 5.55,2.4; stroke-dashoffset: 0; stroke: #ff7f0e; stroke-width: 1.5\"/>\n   </g>\n   <g id=\"line2d_127\">\n    <path d=\"M 49.633125 139.5 \nL 69.163125 139.5 \nL 88.693125 139.5 \nL 108.223125 137.746206 \nL 127.753125 113.706252 \nL 147.283125 110.023848 \nL 166.813125 108.08396 \nL 186.343125 105.732409 \nL 205.873125 104.779382 \nL 225.403125 103.826356 \n\" clip-path=\"url(#p2e00a0e0ba)\" style=\"fill: none; stroke-dasharray: 9.6,2.4,1.5,2.4; stroke-dashoffset: 0; stroke: #2ca02c; stroke-width: 1.5\"/>\n   </g>\n   <g id=\"patch_3\">\n    <path d=\"M 30.103125 145.8 \nL 30.103125 7.2 \n\" style=\"fill: none; stroke: #000000; stroke-width: 0.8; stroke-linejoin: miter; stroke-linecap: square\"/>\n   </g>\n   <g id=\"patch_4\">\n    <path d=\"M 225.403125 145.8 \nL 225.403125 7.2 \n\" style=\"fill: none; stroke: #000000; stroke-width: 0.8; stroke-linejoin: miter; stroke-linecap: square\"/>\n   </g>\n   <g id=\"patch_5\">\n    <path d=\"M 30.103125 145.8 \nL 225.403125 145.8 \n\" style=\"fill: none; stroke: #000000; stroke-width: 0.8; stroke-linejoin: miter; stroke-linecap: square\"/>\n   </g>\n   <g id=\"patch_6\">\n    <path d=\"M 30.103125 7.2 \nL 225.403125 7.2 \n\" style=\"fill: none; stroke: #000000; stroke-width: 0.8; stroke-linejoin: miter; stroke-linecap: square\"/>\n   </g>\n   <g id=\"legend_1\">\n    <g id=\"patch_7\">\n     <path d=\"M 138.8125 60.06875 \nL 218.403125 60.06875 \nQ 220.403125 60.06875 220.403125 58.06875 \nL 220.403125 14.2 \nQ 220.403125 12.2 218.403125 12.2 \nL 138.8125 12.2 \nQ 136.8125 12.2 136.8125 14.2 \nL 136.8125 58.06875 \nQ 136.8125 60.06875 138.8125 60.06875 \nz\n\" style=\"fill: #ffffff; opacity: 0.8; stroke: #cccccc; stroke-linejoin: miter\"/>\n    </g>\n    <g id=\"line2d_128\">\n     <path d=\"M 140.8125 20.298438 \nL 150.8125 20.298438 \nL 160.8125 20.298438 \n\" style=\"fill: none; stroke: #1f77b4; stroke-width: 1.5; stroke-linecap: square\"/>\n    </g>\n    <g id=\"text_13\">\n     <!-- train_loss -->\n     <g transform=\"translate(168.8125 23.798438) scale(0.1 -0.1)\">\n      <defs>\n       <path id=\"DejaVuSans-74\" d=\"M 1172 4494 \nL 1172 3500 \nL 2356 3500 \nL 2356 3053 \nL 1172 3053 \nL 1172 1153 \nQ 1172 725 1289 603 \nQ 1406 481 1766 481 \nL 2356 481 \nL 2356 0 \nL 1766 0 \nQ 1100 0 847 248 \nQ 594 497 594 1153 \nL 594 3053 \nL 172 3053 \nL 172 3500 \nL 594 3500 \nL 594 4494 \nL 1172 4494 \nz\n\" transform=\"scale(0.015625)\"/>\n       <path id=\"DejaVuSans-72\" d=\"M 2631 2963 \nQ 2534 3019 2420 3045 \nQ 2306 3072 2169 3072 \nQ 1681 3072 1420 2755 \nQ 1159 2438 1159 1844 \nL 1159 0 \nL 581 0 \nL 581 3500 \nL 1159 3500 \nL 1159 2956 \nQ 1341 3275 1631 3429 \nQ 1922 3584 2338 3584 \nQ 2397 3584 2469 3576 \nQ 2541 3569 2628 3553 \nL 2631 2963 \nz\n\" transform=\"scale(0.015625)\"/>\n       <path id=\"DejaVuSans-61\" d=\"M 2194 1759 \nQ 1497 1759 1228 1600 \nQ 959 1441 959 1056 \nQ 959 750 1161 570 \nQ 1363 391 1709 391 \nQ 2188 391 2477 730 \nQ 2766 1069 2766 1631 \nL 2766 1759 \nL 2194 1759 \nz\nM 3341 1997 \nL 3341 0 \nL 2766 0 \nL 2766 531 \nQ 2569 213 2275 61 \nQ 1981 -91 1556 -91 \nQ 1019 -91 701 211 \nQ 384 513 384 1019 \nQ 384 1609 779 1909 \nQ 1175 2209 1959 2209 \nL 2766 2209 \nL 2766 2266 \nQ 2766 2663 2505 2880 \nQ 2244 3097 1772 3097 \nQ 1472 3097 1187 3025 \nQ 903 2953 641 2809 \nL 641 3341 \nQ 956 3463 1253 3523 \nQ 1550 3584 1831 3584 \nQ 2591 3584 2966 3190 \nQ 3341 2797 3341 1997 \nz\n\" transform=\"scale(0.015625)\"/>\n       <path id=\"DejaVuSans-69\" d=\"M 603 3500 \nL 1178 3500 \nL 1178 0 \nL 603 0 \nL 603 3500 \nz\nM 603 4863 \nL 1178 4863 \nL 1178 4134 \nL 603 4134 \nL 603 4863 \nz\n\" transform=\"scale(0.015625)\"/>\n       <path id=\"DejaVuSans-6e\" d=\"M 3513 2113 \nL 3513 0 \nL 2938 0 \nL 2938 2094 \nQ 2938 2591 2744 2837 \nQ 2550 3084 2163 3084 \nQ 1697 3084 1428 2787 \nQ 1159 2491 1159 1978 \nL 1159 0 \nL 581 0 \nL 581 3500 \nL 1159 3500 \nL 1159 2956 \nQ 1366 3272 1645 3428 \nQ 1925 3584 2291 3584 \nQ 2894 3584 3203 3211 \nQ 3513 2838 3513 2113 \nz\n\" transform=\"scale(0.015625)\"/>\n       <path id=\"DejaVuSans-5f\" d=\"M 3263 -1063 \nL 3263 -1509 \nL -63 -1509 \nL -63 -1063 \nL 3263 -1063 \nz\n\" transform=\"scale(0.015625)\"/>\n       <path id=\"DejaVuSans-6c\" d=\"M 603 4863 \nL 1178 4863 \nL 1178 0 \nL 603 0 \nL 603 4863 \nz\n\" transform=\"scale(0.015625)\"/>\n       <path id=\"DejaVuSans-73\" d=\"M 2834 3397 \nL 2834 2853 \nQ 2591 2978 2328 3040 \nQ 2066 3103 1784 3103 \nQ 1356 3103 1142 2972 \nQ 928 2841 928 2578 \nQ 928 2378 1081 2264 \nQ 1234 2150 1697 2047 \nL 1894 2003 \nQ 2506 1872 2764 1633 \nQ 3022 1394 3022 966 \nQ 3022 478 2636 193 \nQ 2250 -91 1575 -91 \nQ 1294 -91 989 -36 \nQ 684 19 347 128 \nL 347 722 \nQ 666 556 975 473 \nQ 1284 391 1588 391 \nQ 1994 391 2212 530 \nQ 2431 669 2431 922 \nQ 2431 1156 2273 1281 \nQ 2116 1406 1581 1522 \nL 1381 1569 \nQ 847 1681 609 1914 \nQ 372 2147 372 2553 \nQ 372 3047 722 3315 \nQ 1072 3584 1716 3584 \nQ 2034 3584 2315 3537 \nQ 2597 3491 2834 3397 \nz\n\" transform=\"scale(0.015625)\"/>\n      </defs>\n      <use xlink:href=\"#DejaVuSans-74\"/>\n      <use xlink:href=\"#DejaVuSans-72\" x=\"39.208984\"/>\n      <use xlink:href=\"#DejaVuSans-61\" x=\"80.322266\"/>\n      <use xlink:href=\"#DejaVuSans-69\" x=\"141.601562\"/>\n      <use xlink:href=\"#DejaVuSans-6e\" x=\"169.384766\"/>\n      <use xlink:href=\"#DejaVuSans-5f\" x=\"232.763672\"/>\n      <use xlink:href=\"#DejaVuSans-6c\" x=\"282.763672\"/>\n      <use xlink:href=\"#DejaVuSans-6f\" x=\"310.546875\"/>\n      <use xlink:href=\"#DejaVuSans-73\" x=\"371.728516\"/>\n      <use xlink:href=\"#DejaVuSans-73\" x=\"423.828125\"/>\n     </g>\n    </g>\n    <g id=\"line2d_129\">\n     <path d=\"M 140.8125 35.254688 \nL 150.8125 35.254688 \nL 160.8125 35.254688 \n\" style=\"fill: none; stroke-dasharray: 5.55,2.4; stroke-dashoffset: 0; stroke: #ff7f0e; stroke-width: 1.5\"/>\n    </g>\n    <g id=\"text_14\">\n     <!-- val_loss -->\n     <g transform=\"translate(168.8125 38.754688) scale(0.1 -0.1)\">\n      <defs>\n       <path id=\"DejaVuSans-76\" d=\"M 191 3500 \nL 800 3500 \nL 1894 563 \nL 2988 3500 \nL 3597 3500 \nL 2284 0 \nL 1503 0 \nL 191 3500 \nz\n\" transform=\"scale(0.015625)\"/>\n      </defs>\n      <use xlink:href=\"#DejaVuSans-76\"/>\n      <use xlink:href=\"#DejaVuSans-61\" x=\"59.179688\"/>\n      <use xlink:href=\"#DejaVuSans-6c\" x=\"120.458984\"/>\n      <use xlink:href=\"#DejaVuSans-5f\" x=\"148.242188\"/>\n      <use xlink:href=\"#DejaVuSans-6c\" x=\"198.242188\"/>\n      <use xlink:href=\"#DejaVuSans-6f\" x=\"226.025391\"/>\n      <use xlink:href=\"#DejaVuSans-73\" x=\"287.207031\"/>\n      <use xlink:href=\"#DejaVuSans-73\" x=\"339.306641\"/>\n     </g>\n    </g>\n    <g id=\"line2d_130\">\n     <path d=\"M 140.8125 50.210938 \nL 150.8125 50.210938 \nL 160.8125 50.210938 \n\" style=\"fill: none; stroke-dasharray: 9.6,2.4,1.5,2.4; stroke-dashoffset: 0; stroke: #2ca02c; stroke-width: 1.5\"/>\n    </g>\n    <g id=\"text_15\">\n     <!-- val_acc -->\n     <g transform=\"translate(168.8125 53.710938) scale(0.1 -0.1)\">\n      <use xlink:href=\"#DejaVuSans-76\"/>\n      <use xlink:href=\"#DejaVuSans-61\" x=\"59.179688\"/>\n      <use xlink:href=\"#DejaVuSans-6c\" x=\"120.458984\"/>\n      <use xlink:href=\"#DejaVuSans-5f\" x=\"148.242188\"/>\n      <use xlink:href=\"#DejaVuSans-61\" x=\"198.242188\"/>\n      <use xlink:href=\"#DejaVuSans-63\" x=\"259.521484\"/>\n      <use xlink:href=\"#DejaVuSans-63\" x=\"314.501953\"/>\n     </g>\n    </g>\n   </g>\n  </g>\n </g>\n <defs>\n  <clipPath id=\"p2e00a0e0ba\">\n   <rect x=\"30.103125\" y=\"7.2\" width=\"195.3\" height=\"138.6\"/>\n  </clipPath>\n </defs>\n</svg>\n"
          },
          "metadata": {}
        }
      ],
      "source": [
        "trainer = d2l.Trainer(max_epochs=10, num_gpus=1)\n",
        "data = d2l.FashionMNIST(batch_size=128)\n",
        "model = LeNet(lr=0.1)\n",
        "model.apply_init([next(iter(data.get_dataloader(True)))[0]], init_cnn)\n",
        "trainer.fit(model, data)"
      ]
    },
    {
      "cell_type": "markdown",
      "source": [
        "# 8. Modern Convolutional Neural Network (CNN)"
      ],
      "metadata": {
        "id": "cPrJ2wdFhTtW"
      }
    },
    {
      "cell_type": "markdown",
      "source": [
        "## 8.1 Deep Convolutional Neural Network (AlexNet)"
      ],
      "metadata": {
        "id": "KAYTxEHchYpS"
      }
    },
    {
      "cell_type": "markdown",
      "source": [
        "### 8.1.2 AlexNet"
      ],
      "metadata": {
        "id": "0jBFr3Vip_Og"
      }
    },
    {
      "cell_type": "markdown",
      "source": [
        "#### 8.1.2.3 Capacity Control and Preprocessing"
      ],
      "metadata": {
        "id": "0IFNMNDXhd-J"
      }
    },
    {
      "cell_type": "code",
      "source": [
        "class AlexNet(d2l.Classifier):\n",
        "    def __init__(self, lr=0.1, num_classes=10):\n",
        "        super().__init__()\n",
        "        self.save_hyperparameters()\n",
        "        self.net = nn.Sequential(\n",
        "            nn.LazyConv2d(96, kernel_size=11, stride=4, padding=1),\n",
        "            nn.ReLU(), nn.MaxPool2d(kernel_size=3, stride=2),\n",
        "            nn.LazyConv2d(256, kernel_size=5, padding=2), nn.ReLU(),\n",
        "            nn.MaxPool2d(kernel_size=3, stride=2),\n",
        "            nn.LazyConv2d(384, kernel_size=3, padding=1), nn.ReLU(),\n",
        "            nn.LazyConv2d(384, kernel_size=3, padding=1), nn.ReLU(),\n",
        "            nn.LazyConv2d(256, kernel_size=3, padding=1), nn.ReLU(),\n",
        "            nn.MaxPool2d(kernel_size=3, stride=2), nn.Flatten(),\n",
        "            nn.LazyLinear(4096), nn.ReLU(), nn.Dropout(p=0.5),\n",
        "            nn.LazyLinear(4096), nn.ReLU(),nn.Dropout(p=0.5),\n",
        "            nn.LazyLinear(num_classes))\n",
        "        self.net.apply(d2l.init_cnn)"
      ],
      "metadata": {
        "id": "2WTlFEiTqH5h"
      },
      "execution_count": null,
      "outputs": []
    },
    {
      "cell_type": "code",
      "source": [
        "AlexNet().layer_summary((1, 1, 224, 224))"
      ],
      "metadata": {
        "id": "SFZtvoijqQGf",
        "colab": {
          "base_uri": "https://localhost:8080/"
        },
        "outputId": "627ce6ee-e3c9-4e24-d487-b7e26c85e527"
      },
      "execution_count": null,
      "outputs": [
        {
          "output_type": "stream",
          "name": "stdout",
          "text": [
            "Conv2d output shape:\t torch.Size([1, 96, 54, 54])\n",
            "ReLU output shape:\t torch.Size([1, 96, 54, 54])\n",
            "MaxPool2d output shape:\t torch.Size([1, 96, 26, 26])\n",
            "Conv2d output shape:\t torch.Size([1, 256, 26, 26])\n",
            "ReLU output shape:\t torch.Size([1, 256, 26, 26])\n",
            "MaxPool2d output shape:\t torch.Size([1, 256, 12, 12])\n",
            "Conv2d output shape:\t torch.Size([1, 384, 12, 12])\n",
            "ReLU output shape:\t torch.Size([1, 384, 12, 12])\n",
            "Conv2d output shape:\t torch.Size([1, 384, 12, 12])\n",
            "ReLU output shape:\t torch.Size([1, 384, 12, 12])\n",
            "Conv2d output shape:\t torch.Size([1, 256, 12, 12])\n",
            "ReLU output shape:\t torch.Size([1, 256, 12, 12])\n",
            "MaxPool2d output shape:\t torch.Size([1, 256, 5, 5])\n",
            "Flatten output shape:\t torch.Size([1, 6400])\n",
            "Linear output shape:\t torch.Size([1, 4096])\n",
            "ReLU output shape:\t torch.Size([1, 4096])\n",
            "Dropout output shape:\t torch.Size([1, 4096])\n",
            "Linear output shape:\t torch.Size([1, 4096])\n",
            "ReLU output shape:\t torch.Size([1, 4096])\n",
            "Dropout output shape:\t torch.Size([1, 4096])\n",
            "Linear output shape:\t torch.Size([1, 10])\n"
          ]
        }
      ]
    },
    {
      "cell_type": "markdown",
      "source": [
        "### 8.1.3 Training"
      ],
      "metadata": {
        "id": "hSSZQZN-qS4a"
      }
    },
    {
      "cell_type": "code",
      "source": [
        "model = AlexNet(lr=0.01)\n",
        "data = d2l.FashionMNIST(batch_size=128, resize=(224, 224))\n",
        "trainer = d2l.Trainer(max_epochs=10, num_gpus=1)\n",
        "trainer.fit(model, data)"
      ],
      "metadata": {
        "id": "Kv7VunboqUiA",
        "colab": {
          "base_uri": "https://localhost:8080/",
          "height": 265
        },
        "outputId": "ce20385a-da97-4865-d6b0-fda8afa17c3a"
      },
      "execution_count": null,
      "outputs": [
        {
          "output_type": "display_data",
          "data": {
            "text/plain": [
              "<Figure size 350x250 with 1 Axes>"
            ],
            "image/svg+xml": "<?xml version=\"1.0\" encoding=\"utf-8\" standalone=\"no\"?>\n<!DOCTYPE svg PUBLIC \"-//W3C//DTD SVG 1.1//EN\"\n  \"http://www.w3.org/Graphics/SVG/1.1/DTD/svg11.dtd\">\n<svg xmlns:xlink=\"http://www.w3.org/1999/xlink\" width=\"238.965625pt\" height=\"183.35625pt\" viewBox=\"0 0 238.965625 183.35625\" xmlns=\"http://www.w3.org/2000/svg\" version=\"1.1\">\n <metadata>\n  <rdf:RDF xmlns:dc=\"http://purl.org/dc/elements/1.1/\" xmlns:cc=\"http://creativecommons.org/ns#\" xmlns:rdf=\"http://www.w3.org/1999/02/22-rdf-syntax-ns#\">\n   <cc:Work>\n    <dc:type rdf:resource=\"http://purl.org/dc/dcmitype/StillImage\"/>\n    <dc:date>2024-10-09T07:38:34.496168</dc:date>\n    <dc:format>image/svg+xml</dc:format>\n    <dc:creator>\n     <cc:Agent>\n      <dc:title>Matplotlib v3.7.2, https://matplotlib.org/</dc:title>\n     </cc:Agent>\n    </dc:creator>\n   </cc:Work>\n  </rdf:RDF>\n </metadata>\n <defs>\n  <style type=\"text/css\">*{stroke-linejoin: round; stroke-linecap: butt}</style>\n </defs>\n <g id=\"figure_1\">\n  <g id=\"patch_1\">\n   <path d=\"M 0 183.35625 \nL 238.965625 183.35625 \nL 238.965625 0 \nL 0 0 \nz\n\" style=\"fill: #ffffff\"/>\n  </g>\n  <g id=\"axes_1\">\n   <g id=\"patch_2\">\n    <path d=\"M 30.103125 145.8 \nL 225.403125 145.8 \nL 225.403125 7.2 \nL 30.103125 7.2 \nz\n\" style=\"fill: #ffffff\"/>\n   </g>\n   <g id=\"matplotlib.axis_1\">\n    <g id=\"xtick_1\">\n     <g id=\"line2d_1\">\n      <defs>\n       <path id=\"mf46b8e5412\" d=\"M 0 0 \nL 0 3.5 \n\" style=\"stroke: #000000; stroke-width: 0.8\"/>\n      </defs>\n      <g>\n       <use xlink:href=\"#mf46b8e5412\" x=\"30.103125\" y=\"145.8\" style=\"stroke: #000000; stroke-width: 0.8\"/>\n      </g>\n     </g>\n     <g id=\"text_1\">\n      <!-- 0 -->\n      <g transform=\"translate(26.921875 160.398438) scale(0.1 -0.1)\">\n       <defs>\n        <path id=\"DejaVuSans-30\" d=\"M 2034 4250 \nQ 1547 4250 1301 3770 \nQ 1056 3291 1056 2328 \nQ 1056 1369 1301 889 \nQ 1547 409 2034 409 \nQ 2525 409 2770 889 \nQ 3016 1369 3016 2328 \nQ 3016 3291 2770 3770 \nQ 2525 4250 2034 4250 \nz\nM 2034 4750 \nQ 2819 4750 3233 4129 \nQ 3647 3509 3647 2328 \nQ 3647 1150 3233 529 \nQ 2819 -91 2034 -91 \nQ 1250 -91 836 529 \nQ 422 1150 422 2328 \nQ 422 3509 836 4129 \nQ 1250 4750 2034 4750 \nz\n\" transform=\"scale(0.015625)\"/>\n       </defs>\n       <use xlink:href=\"#DejaVuSans-30\"/>\n      </g>\n     </g>\n    </g>\n    <g id=\"xtick_2\">\n     <g id=\"line2d_2\">\n      <g>\n       <use xlink:href=\"#mf46b8e5412\" x=\"69.163125\" y=\"145.8\" style=\"stroke: #000000; stroke-width: 0.8\"/>\n      </g>\n     </g>\n     <g id=\"text_2\">\n      <!-- 2 -->\n      <g transform=\"translate(65.981875 160.398438) scale(0.1 -0.1)\">\n       <defs>\n        <path id=\"DejaVuSans-32\" d=\"M 1228 531 \nL 3431 531 \nL 3431 0 \nL 469 0 \nL 469 531 \nQ 828 903 1448 1529 \nQ 2069 2156 2228 2338 \nQ 2531 2678 2651 2914 \nQ 2772 3150 2772 3378 \nQ 2772 3750 2511 3984 \nQ 2250 4219 1831 4219 \nQ 1534 4219 1204 4116 \nQ 875 4013 500 3803 \nL 500 4441 \nQ 881 4594 1212 4672 \nQ 1544 4750 1819 4750 \nQ 2544 4750 2975 4387 \nQ 3406 4025 3406 3419 \nQ 3406 3131 3298 2873 \nQ 3191 2616 2906 2266 \nQ 2828 2175 2409 1742 \nQ 1991 1309 1228 531 \nz\n\" transform=\"scale(0.015625)\"/>\n       </defs>\n       <use xlink:href=\"#DejaVuSans-32\"/>\n      </g>\n     </g>\n    </g>\n    <g id=\"xtick_3\">\n     <g id=\"line2d_3\">\n      <g>\n       <use xlink:href=\"#mf46b8e5412\" x=\"108.223125\" y=\"145.8\" style=\"stroke: #000000; stroke-width: 0.8\"/>\n      </g>\n     </g>\n     <g id=\"text_3\">\n      <!-- 4 -->\n      <g transform=\"translate(105.041875 160.398438) scale(0.1 -0.1)\">\n       <defs>\n        <path id=\"DejaVuSans-34\" d=\"M 2419 4116 \nL 825 1625 \nL 2419 1625 \nL 2419 4116 \nz\nM 2253 4666 \nL 3047 4666 \nL 3047 1625 \nL 3713 1625 \nL 3713 1100 \nL 3047 1100 \nL 3047 0 \nL 2419 0 \nL 2419 1100 \nL 313 1100 \nL 313 1709 \nL 2253 4666 \nz\n\" transform=\"scale(0.015625)\"/>\n       </defs>\n       <use xlink:href=\"#DejaVuSans-34\"/>\n      </g>\n     </g>\n    </g>\n    <g id=\"xtick_4\">\n     <g id=\"line2d_4\">\n      <g>\n       <use xlink:href=\"#mf46b8e5412\" x=\"147.283125\" y=\"145.8\" style=\"stroke: #000000; stroke-width: 0.8\"/>\n      </g>\n     </g>\n     <g id=\"text_4\">\n      <!-- 6 -->\n      <g transform=\"translate(144.101875 160.398438) scale(0.1 -0.1)\">\n       <defs>\n        <path id=\"DejaVuSans-36\" d=\"M 2113 2584 \nQ 1688 2584 1439 2293 \nQ 1191 2003 1191 1497 \nQ 1191 994 1439 701 \nQ 1688 409 2113 409 \nQ 2538 409 2786 701 \nQ 3034 994 3034 1497 \nQ 3034 2003 2786 2293 \nQ 2538 2584 2113 2584 \nz\nM 3366 4563 \nL 3366 3988 \nQ 3128 4100 2886 4159 \nQ 2644 4219 2406 4219 \nQ 1781 4219 1451 3797 \nQ 1122 3375 1075 2522 \nQ 1259 2794 1537 2939 \nQ 1816 3084 2150 3084 \nQ 2853 3084 3261 2657 \nQ 3669 2231 3669 1497 \nQ 3669 778 3244 343 \nQ 2819 -91 2113 -91 \nQ 1303 -91 875 529 \nQ 447 1150 447 2328 \nQ 447 3434 972 4092 \nQ 1497 4750 2381 4750 \nQ 2619 4750 2861 4703 \nQ 3103 4656 3366 4563 \nz\n\" transform=\"scale(0.015625)\"/>\n       </defs>\n       <use xlink:href=\"#DejaVuSans-36\"/>\n      </g>\n     </g>\n    </g>\n    <g id=\"xtick_5\">\n     <g id=\"line2d_5\">\n      <g>\n       <use xlink:href=\"#mf46b8e5412\" x=\"186.343125\" y=\"145.8\" style=\"stroke: #000000; stroke-width: 0.8\"/>\n      </g>\n     </g>\n     <g id=\"text_5\">\n      <!-- 8 -->\n      <g transform=\"translate(183.161875 160.398438) scale(0.1 -0.1)\">\n       <defs>\n        <path id=\"DejaVuSans-38\" d=\"M 2034 2216 \nQ 1584 2216 1326 1975 \nQ 1069 1734 1069 1313 \nQ 1069 891 1326 650 \nQ 1584 409 2034 409 \nQ 2484 409 2743 651 \nQ 3003 894 3003 1313 \nQ 3003 1734 2745 1975 \nQ 2488 2216 2034 2216 \nz\nM 1403 2484 \nQ 997 2584 770 2862 \nQ 544 3141 544 3541 \nQ 544 4100 942 4425 \nQ 1341 4750 2034 4750 \nQ 2731 4750 3128 4425 \nQ 3525 4100 3525 3541 \nQ 3525 3141 3298 2862 \nQ 3072 2584 2669 2484 \nQ 3125 2378 3379 2068 \nQ 3634 1759 3634 1313 \nQ 3634 634 3220 271 \nQ 2806 -91 2034 -91 \nQ 1263 -91 848 271 \nQ 434 634 434 1313 \nQ 434 1759 690 2068 \nQ 947 2378 1403 2484 \nz\nM 1172 3481 \nQ 1172 3119 1398 2916 \nQ 1625 2713 2034 2713 \nQ 2441 2713 2670 2916 \nQ 2900 3119 2900 3481 \nQ 2900 3844 2670 4047 \nQ 2441 4250 2034 4250 \nQ 1625 4250 1398 4047 \nQ 1172 3844 1172 3481 \nz\n\" transform=\"scale(0.015625)\"/>\n       </defs>\n       <use xlink:href=\"#DejaVuSans-38\"/>\n      </g>\n     </g>\n    </g>\n    <g id=\"xtick_6\">\n     <g id=\"line2d_6\">\n      <g>\n       <use xlink:href=\"#mf46b8e5412\" x=\"225.403125\" y=\"145.8\" style=\"stroke: #000000; stroke-width: 0.8\"/>\n      </g>\n     </g>\n     <g id=\"text_6\">\n      <!-- 10 -->\n      <g transform=\"translate(219.040625 160.398438) scale(0.1 -0.1)\">\n       <defs>\n        <path id=\"DejaVuSans-31\" d=\"M 794 531 \nL 1825 531 \nL 1825 4091 \nL 703 3866 \nL 703 4441 \nL 1819 4666 \nL 2450 4666 \nL 2450 531 \nL 3481 531 \nL 3481 0 \nL 794 0 \nL 794 531 \nz\n\" transform=\"scale(0.015625)\"/>\n       </defs>\n       <use xlink:href=\"#DejaVuSans-31\"/>\n       <use xlink:href=\"#DejaVuSans-30\" x=\"63.623047\"/>\n      </g>\n     </g>\n    </g>\n    <g id=\"text_7\">\n     <!-- epoch -->\n     <g transform=\"translate(112.525 174.076563) scale(0.1 -0.1)\">\n      <defs>\n       <path id=\"DejaVuSans-65\" d=\"M 3597 1894 \nL 3597 1613 \nL 953 1613 \nQ 991 1019 1311 708 \nQ 1631 397 2203 397 \nQ 2534 397 2845 478 \nQ 3156 559 3463 722 \nL 3463 178 \nQ 3153 47 2828 -22 \nQ 2503 -91 2169 -91 \nQ 1331 -91 842 396 \nQ 353 884 353 1716 \nQ 353 2575 817 3079 \nQ 1281 3584 2069 3584 \nQ 2775 3584 3186 3129 \nQ 3597 2675 3597 1894 \nz\nM 3022 2063 \nQ 3016 2534 2758 2815 \nQ 2500 3097 2075 3097 \nQ 1594 3097 1305 2825 \nQ 1016 2553 972 2059 \nL 3022 2063 \nz\n\" transform=\"scale(0.015625)\"/>\n       <path id=\"DejaVuSans-70\" d=\"M 1159 525 \nL 1159 -1331 \nL 581 -1331 \nL 581 3500 \nL 1159 3500 \nL 1159 2969 \nQ 1341 3281 1617 3432 \nQ 1894 3584 2278 3584 \nQ 2916 3584 3314 3078 \nQ 3713 2572 3713 1747 \nQ 3713 922 3314 415 \nQ 2916 -91 2278 -91 \nQ 1894 -91 1617 61 \nQ 1341 213 1159 525 \nz\nM 3116 1747 \nQ 3116 2381 2855 2742 \nQ 2594 3103 2138 3103 \nQ 1681 3103 1420 2742 \nQ 1159 2381 1159 1747 \nQ 1159 1113 1420 752 \nQ 1681 391 2138 391 \nQ 2594 391 2855 752 \nQ 3116 1113 3116 1747 \nz\n\" transform=\"scale(0.015625)\"/>\n       <path id=\"DejaVuSans-6f\" d=\"M 1959 3097 \nQ 1497 3097 1228 2736 \nQ 959 2375 959 1747 \nQ 959 1119 1226 758 \nQ 1494 397 1959 397 \nQ 2419 397 2687 759 \nQ 2956 1122 2956 1747 \nQ 2956 2369 2687 2733 \nQ 2419 3097 1959 3097 \nz\nM 1959 3584 \nQ 2709 3584 3137 3096 \nQ 3566 2609 3566 1747 \nQ 3566 888 3137 398 \nQ 2709 -91 1959 -91 \nQ 1206 -91 779 398 \nQ 353 888 353 1747 \nQ 353 2609 779 3096 \nQ 1206 3584 1959 3584 \nz\n\" transform=\"scale(0.015625)\"/>\n       <path id=\"DejaVuSans-63\" d=\"M 3122 3366 \nL 3122 2828 \nQ 2878 2963 2633 3030 \nQ 2388 3097 2138 3097 \nQ 1578 3097 1268 2742 \nQ 959 2388 959 1747 \nQ 959 1106 1268 751 \nQ 1578 397 2138 397 \nQ 2388 397 2633 464 \nQ 2878 531 3122 666 \nL 3122 134 \nQ 2881 22 2623 -34 \nQ 2366 -91 2075 -91 \nQ 1284 -91 818 406 \nQ 353 903 353 1747 \nQ 353 2603 823 3093 \nQ 1294 3584 2113 3584 \nQ 2378 3584 2631 3529 \nQ 2884 3475 3122 3366 \nz\n\" transform=\"scale(0.015625)\"/>\n       <path id=\"DejaVuSans-68\" d=\"M 3513 2113 \nL 3513 0 \nL 2938 0 \nL 2938 2094 \nQ 2938 2591 2744 2837 \nQ 2550 3084 2163 3084 \nQ 1697 3084 1428 2787 \nQ 1159 2491 1159 1978 \nL 1159 0 \nL 581 0 \nL 581 4863 \nL 1159 4863 \nL 1159 2956 \nQ 1366 3272 1645 3428 \nQ 1925 3584 2291 3584 \nQ 2894 3584 3203 3211 \nQ 3513 2838 3513 2113 \nz\n\" transform=\"scale(0.015625)\"/>\n      </defs>\n      <use xlink:href=\"#DejaVuSans-65\"/>\n      <use xlink:href=\"#DejaVuSans-70\" x=\"61.523438\"/>\n      <use xlink:href=\"#DejaVuSans-6f\" x=\"125\"/>\n      <use xlink:href=\"#DejaVuSans-63\" x=\"186.181641\"/>\n      <use xlink:href=\"#DejaVuSans-68\" x=\"241.162109\"/>\n     </g>\n    </g>\n   </g>\n   <g id=\"matplotlib.axis_2\">\n    <g id=\"ytick_1\">\n     <g id=\"line2d_7\">\n      <defs>\n       <path id=\"mc94b3d2cd2\" d=\"M 0 0 \nL -3.5 0 \n\" style=\"stroke: #000000; stroke-width: 0.8\"/>\n      </defs>\n      <g>\n       <use xlink:href=\"#mc94b3d2cd2\" x=\"30.103125\" y=\"122.678432\" style=\"stroke: #000000; stroke-width: 0.8\"/>\n      </g>\n     </g>\n     <g id=\"text_8\">\n      <!-- 0.5 -->\n      <g transform=\"translate(7.2 126.477651) scale(0.1 -0.1)\">\n       <defs>\n        <path id=\"DejaVuSans-2e\" d=\"M 684 794 \nL 1344 794 \nL 1344 0 \nL 684 0 \nL 684 794 \nz\n\" transform=\"scale(0.015625)\"/>\n        <path id=\"DejaVuSans-35\" d=\"M 691 4666 \nL 3169 4666 \nL 3169 4134 \nL 1269 4134 \nL 1269 2991 \nQ 1406 3038 1543 3061 \nQ 1681 3084 1819 3084 \nQ 2600 3084 3056 2656 \nQ 3513 2228 3513 1497 \nQ 3513 744 3044 326 \nQ 2575 -91 1722 -91 \nQ 1428 -91 1123 -41 \nQ 819 9 494 109 \nL 494 744 \nQ 775 591 1075 516 \nQ 1375 441 1709 441 \nQ 2250 441 2565 725 \nQ 2881 1009 2881 1497 \nQ 2881 1984 2565 2268 \nQ 2250 2553 1709 2553 \nQ 1456 2553 1204 2497 \nQ 953 2441 691 2322 \nL 691 4666 \nz\n\" transform=\"scale(0.015625)\"/>\n       </defs>\n       <use xlink:href=\"#DejaVuSans-30\"/>\n       <use xlink:href=\"#DejaVuSans-2e\" x=\"63.623047\"/>\n       <use xlink:href=\"#DejaVuSans-35\" x=\"95.410156\"/>\n      </g>\n     </g>\n    </g>\n    <g id=\"ytick_2\">\n     <g id=\"line2d_8\">\n      <g>\n       <use xlink:href=\"#mc94b3d2cd2\" x=\"30.103125\" y=\"92.390025\" style=\"stroke: #000000; stroke-width: 0.8\"/>\n      </g>\n     </g>\n     <g id=\"text_9\">\n      <!-- 1.0 -->\n      <g transform=\"translate(7.2 96.189243) scale(0.1 -0.1)\">\n       <use xlink:href=\"#DejaVuSans-31\"/>\n       <use xlink:href=\"#DejaVuSans-2e\" x=\"63.623047\"/>\n       <use xlink:href=\"#DejaVuSans-30\" x=\"95.410156\"/>\n      </g>\n     </g>\n    </g>\n    <g id=\"ytick_3\">\n     <g id=\"line2d_9\">\n      <g>\n       <use xlink:href=\"#mc94b3d2cd2\" x=\"30.103125\" y=\"62.101617\" style=\"stroke: #000000; stroke-width: 0.8\"/>\n      </g>\n     </g>\n     <g id=\"text_10\">\n      <!-- 1.5 -->\n      <g transform=\"translate(7.2 65.900836) scale(0.1 -0.1)\">\n       <use xlink:href=\"#DejaVuSans-31\"/>\n       <use xlink:href=\"#DejaVuSans-2e\" x=\"63.623047\"/>\n       <use xlink:href=\"#DejaVuSans-35\" x=\"95.410156\"/>\n      </g>\n     </g>\n    </g>\n    <g id=\"ytick_4\">\n     <g id=\"line2d_10\">\n      <g>\n       <use xlink:href=\"#mc94b3d2cd2\" x=\"30.103125\" y=\"31.81321\" style=\"stroke: #000000; stroke-width: 0.8\"/>\n      </g>\n     </g>\n     <g id=\"text_11\">\n      <!-- 2.0 -->\n      <g transform=\"translate(7.2 35.612429) scale(0.1 -0.1)\">\n       <use xlink:href=\"#DejaVuSans-32\"/>\n       <use xlink:href=\"#DejaVuSans-2e\" x=\"63.623047\"/>\n       <use xlink:href=\"#DejaVuSans-30\" x=\"95.410156\"/>\n      </g>\n     </g>\n    </g>\n   </g>\n   <g id=\"line2d_11\">\n    <path d=\"M 34.954394 13.5 \n\" clip-path=\"url(#p970be07a3c)\" style=\"fill: none; stroke: #1f77b4; stroke-width: 1.5; stroke-linecap: square\"/>\n   </g>\n   <g id=\"line2d_12\">\n    <path d=\"M 34.954394 13.5 \nL 44.698573 13.568748 \n\" clip-path=\"url(#p970be07a3c)\" style=\"fill: none; stroke: #1f77b4; stroke-width: 1.5; stroke-linecap: square\"/>\n   </g>\n   <g id=\"line2d_13\">\n    <path d=\"M 34.954394 13.5 \nL 44.698573 13.568748 \n\" clip-path=\"url(#p970be07a3c)\" style=\"fill: none; stroke: #1f77b4; stroke-width: 1.5; stroke-linecap: square\"/>\n   </g>\n   <g id=\"line2d_14\">\n    <path d=\"M 49.633125 13.634522 \n\" clip-path=\"url(#p970be07a3c)\" style=\"fill: none; stroke-dasharray: 5.55,2.4; stroke-dashoffset: 0; stroke: #ff7f0e; stroke-width: 1.5\"/>\n   </g>\n   <g id=\"line2d_15\"/>\n   <g id=\"line2d_16\">\n    <path d=\"M 34.954394 13.5 \nL 44.698573 13.568748 \n\" clip-path=\"url(#p970be07a3c)\" style=\"fill: none; stroke: #1f77b4; stroke-width: 1.5; stroke-linecap: square\"/>\n   </g>\n   <g id=\"line2d_17\">\n    <path d=\"M 49.633125 13.634522 \n\" clip-path=\"url(#p970be07a3c)\" style=\"fill: none; stroke-dasharray: 5.55,2.4; stroke-dashoffset: 0; stroke: #ff7f0e; stroke-width: 1.5\"/>\n   </g>\n   <g id=\"line2d_18\">\n    <path d=\"M 49.633125 138.158109 \n\" clip-path=\"url(#p970be07a3c)\" style=\"fill: none; stroke-dasharray: 9.6,2.4,1.5,2.4; stroke-dashoffset: 0; stroke: #2ca02c; stroke-width: 1.5\"/>\n   </g>\n   <g id=\"line2d_19\">\n    <path d=\"M 34.954394 13.5 \nL 44.698573 13.568748 \nL 54.442752 13.71585 \n\" clip-path=\"url(#p970be07a3c)\" style=\"fill: none; stroke: #1f77b4; stroke-width: 1.5; stroke-linecap: square\"/>\n   </g>\n   <g id=\"line2d_20\">\n    <path d=\"M 49.633125 13.634522 \n\" clip-path=\"url(#p970be07a3c)\" style=\"fill: none; stroke-dasharray: 5.55,2.4; stroke-dashoffset: 0; stroke: #ff7f0e; stroke-width: 1.5\"/>\n   </g>\n   <g id=\"line2d_21\">\n    <path d=\"M 49.633125 138.158109 \n\" clip-path=\"url(#p970be07a3c)\" style=\"fill: none; stroke-dasharray: 9.6,2.4,1.5,2.4; stroke-dashoffset: 0; stroke: #2ca02c; stroke-width: 1.5\"/>\n   </g>\n   <g id=\"line2d_22\">\n    <path d=\"M 34.954394 13.5 \nL 44.698573 13.568748 \nL 54.442752 13.71585 \nL 64.186931 14.908824 \n\" clip-path=\"url(#p970be07a3c)\" style=\"fill: none; stroke: #1f77b4; stroke-width: 1.5; stroke-linecap: square\"/>\n   </g>\n   <g id=\"line2d_23\">\n    <path d=\"M 49.633125 13.634522 \n\" clip-path=\"url(#p970be07a3c)\" style=\"fill: none; stroke-dasharray: 5.55,2.4; stroke-dashoffset: 0; stroke: #ff7f0e; stroke-width: 1.5\"/>\n   </g>\n   <g id=\"line2d_24\">\n    <path d=\"M 49.633125 138.158109 \n\" clip-path=\"url(#p970be07a3c)\" style=\"fill: none; stroke-dasharray: 9.6,2.4,1.5,2.4; stroke-dashoffset: 0; stroke: #2ca02c; stroke-width: 1.5\"/>\n   </g>\n   <g id=\"line2d_25\">\n    <path d=\"M 34.954394 13.5 \nL 44.698573 13.568748 \nL 54.442752 13.71585 \nL 64.186931 14.908824 \n\" clip-path=\"url(#p970be07a3c)\" style=\"fill: none; stroke: #1f77b4; stroke-width: 1.5; stroke-linecap: square\"/>\n   </g>\n   <g id=\"line2d_26\">\n    <path d=\"M 49.633125 13.634522 \nL 69.163125 22.887663 \n\" clip-path=\"url(#p970be07a3c)\" style=\"fill: none; stroke-dasharray: 5.55,2.4; stroke-dashoffset: 0; stroke: #ff7f0e; stroke-width: 1.5\"/>\n   </g>\n   <g id=\"line2d_27\">\n    <path d=\"M 49.633125 138.158109 \n\" clip-path=\"url(#p970be07a3c)\" style=\"fill: none; stroke-dasharray: 9.6,2.4,1.5,2.4; stroke-dashoffset: 0; stroke: #2ca02c; stroke-width: 1.5\"/>\n   </g>\n   <g id=\"line2d_28\">\n    <path d=\"M 34.954394 13.5 \nL 44.698573 13.568748 \nL 54.442752 13.71585 \nL 64.186931 14.908824 \n\" clip-path=\"url(#p970be07a3c)\" style=\"fill: none; stroke: #1f77b4; stroke-width: 1.5; stroke-linecap: square\"/>\n   </g>\n   <g id=\"line2d_29\">\n    <path d=\"M 49.633125 13.634522 \nL 69.163125 22.887663 \n\" clip-path=\"url(#p970be07a3c)\" style=\"fill: none; stroke-dasharray: 5.55,2.4; stroke-dashoffset: 0; stroke: #ff7f0e; stroke-width: 1.5\"/>\n   </g>\n   <g id=\"line2d_30\">\n    <path d=\"M 49.633125 138.158109 \nL 69.163125 139.5 \n\" clip-path=\"url(#p970be07a3c)\" style=\"fill: none; stroke-dasharray: 9.6,2.4,1.5,2.4; stroke-dashoffset: 0; stroke: #2ca02c; stroke-width: 1.5\"/>\n   </g>\n   <g id=\"line2d_31\">\n    <path d=\"M 34.954394 13.5 \nL 44.698573 13.568748 \nL 54.442752 13.71585 \nL 64.186931 14.908824 \nL 73.93111 72.469412 \n\" clip-path=\"url(#p970be07a3c)\" style=\"fill: none; stroke: #1f77b4; stroke-width: 1.5; stroke-linecap: square\"/>\n   </g>\n   <g id=\"line2d_32\">\n    <path d=\"M 49.633125 13.634522 \nL 69.163125 22.887663 \n\" clip-path=\"url(#p970be07a3c)\" style=\"fill: none; stroke-dasharray: 5.55,2.4; stroke-dashoffset: 0; stroke: #ff7f0e; stroke-width: 1.5\"/>\n   </g>\n   <g id=\"line2d_33\">\n    <path d=\"M 49.633125 138.158109 \nL 69.163125 139.5 \n\" clip-path=\"url(#p970be07a3c)\" style=\"fill: none; stroke-dasharray: 9.6,2.4,1.5,2.4; stroke-dashoffset: 0; stroke: #2ca02c; stroke-width: 1.5\"/>\n   </g>\n   <g id=\"line2d_34\">\n    <path d=\"M 34.954394 13.5 \nL 44.698573 13.568748 \nL 54.442752 13.71585 \nL 64.186931 14.908824 \nL 73.93111 72.469412 \nL 83.675289 92.60647 \n\" clip-path=\"url(#p970be07a3c)\" style=\"fill: none; stroke: #1f77b4; stroke-width: 1.5; stroke-linecap: square\"/>\n   </g>\n   <g id=\"line2d_35\">\n    <path d=\"M 49.633125 13.634522 \nL 69.163125 22.887663 \n\" clip-path=\"url(#p970be07a3c)\" style=\"fill: none; stroke-dasharray: 5.55,2.4; stroke-dashoffset: 0; stroke: #ff7f0e; stroke-width: 1.5\"/>\n   </g>\n   <g id=\"line2d_36\">\n    <path d=\"M 49.633125 138.158109 \nL 69.163125 139.5 \n\" clip-path=\"url(#p970be07a3c)\" style=\"fill: none; stroke-dasharray: 9.6,2.4,1.5,2.4; stroke-dashoffset: 0; stroke: #2ca02c; stroke-width: 1.5\"/>\n   </g>\n   <g id=\"line2d_37\">\n    <path d=\"M 34.954394 13.5 \nL 44.698573 13.568748 \nL 54.442752 13.71585 \nL 64.186931 14.908824 \nL 73.93111 72.469412 \nL 83.675289 92.60647 \n\" clip-path=\"url(#p970be07a3c)\" style=\"fill: none; stroke: #1f77b4; stroke-width: 1.5; stroke-linecap: square\"/>\n   </g>\n   <g id=\"line2d_38\">\n    <path d=\"M 49.633125 13.634522 \nL 69.163125 22.887663 \nL 88.693125 95.317744 \n\" clip-path=\"url(#p970be07a3c)\" style=\"fill: none; stroke-dasharray: 5.55,2.4; stroke-dashoffset: 0; stroke: #ff7f0e; stroke-width: 1.5\"/>\n   </g>\n   <g id=\"line2d_39\">\n    <path d=\"M 49.633125 138.158109 \nL 69.163125 139.5 \n\" clip-path=\"url(#p970be07a3c)\" style=\"fill: none; stroke-dasharray: 9.6,2.4,1.5,2.4; stroke-dashoffset: 0; stroke: #2ca02c; stroke-width: 1.5\"/>\n   </g>\n   <g id=\"line2d_40\">\n    <path d=\"M 34.954394 13.5 \nL 44.698573 13.568748 \nL 54.442752 13.71585 \nL 64.186931 14.908824 \nL 73.93111 72.469412 \nL 83.675289 92.60647 \n\" clip-path=\"url(#p970be07a3c)\" style=\"fill: none; stroke: #1f77b4; stroke-width: 1.5; stroke-linecap: square\"/>\n   </g>\n   <g id=\"line2d_41\">\n    <path d=\"M 49.633125 13.634522 \nL 69.163125 22.887663 \nL 88.693125 95.317744 \n\" clip-path=\"url(#p970be07a3c)\" style=\"fill: none; stroke-dasharray: 5.55,2.4; stroke-dashoffset: 0; stroke: #ff7f0e; stroke-width: 1.5\"/>\n   </g>\n   <g id=\"line2d_42\">\n    <path d=\"M 49.633125 138.158109 \nL 69.163125 139.5 \nL 88.693125 115.220151 \n\" clip-path=\"url(#p970be07a3c)\" style=\"fill: none; stroke-dasharray: 9.6,2.4,1.5,2.4; stroke-dashoffset: 0; stroke: #2ca02c; stroke-width: 1.5\"/>\n   </g>\n   <g id=\"line2d_43\">\n    <path d=\"M 34.954394 13.5 \nL 44.698573 13.568748 \nL 54.442752 13.71585 \nL 64.186931 14.908824 \nL 73.93111 72.469412 \nL 83.675289 92.60647 \nL 93.419468 98.421678 \n\" clip-path=\"url(#p970be07a3c)\" style=\"fill: none; stroke: #1f77b4; stroke-width: 1.5; stroke-linecap: square\"/>\n   </g>\n   <g id=\"line2d_44\">\n    <path d=\"M 49.633125 13.634522 \nL 69.163125 22.887663 \nL 88.693125 95.317744 \n\" clip-path=\"url(#p970be07a3c)\" style=\"fill: none; stroke-dasharray: 5.55,2.4; stroke-dashoffset: 0; stroke: #ff7f0e; stroke-width: 1.5\"/>\n   </g>\n   <g id=\"line2d_45\">\n    <path d=\"M 49.633125 138.158109 \nL 69.163125 139.5 \nL 88.693125 115.220151 \n\" clip-path=\"url(#p970be07a3c)\" style=\"fill: none; stroke-dasharray: 9.6,2.4,1.5,2.4; stroke-dashoffset: 0; stroke: #2ca02c; stroke-width: 1.5\"/>\n   </g>\n   <g id=\"line2d_46\">\n    <path d=\"M 34.954394 13.5 \nL 44.698573 13.568748 \nL 54.442752 13.71585 \nL 64.186931 14.908824 \nL 73.93111 72.469412 \nL 83.675289 92.60647 \nL 93.419468 98.421678 \nL 103.163647 103.583654 \n\" clip-path=\"url(#p970be07a3c)\" style=\"fill: none; stroke: #1f77b4; stroke-width: 1.5; stroke-linecap: square\"/>\n   </g>\n   <g id=\"line2d_47\">\n    <path d=\"M 49.633125 13.634522 \nL 69.163125 22.887663 \nL 88.693125 95.317744 \n\" clip-path=\"url(#p970be07a3c)\" style=\"fill: none; stroke-dasharray: 5.55,2.4; stroke-dashoffset: 0; stroke: #ff7f0e; stroke-width: 1.5\"/>\n   </g>\n   <g id=\"line2d_48\">\n    <path d=\"M 49.633125 138.158109 \nL 69.163125 139.5 \nL 88.693125 115.220151 \n\" clip-path=\"url(#p970be07a3c)\" style=\"fill: none; stroke-dasharray: 9.6,2.4,1.5,2.4; stroke-dashoffset: 0; stroke: #2ca02c; stroke-width: 1.5\"/>\n   </g>\n   <g id=\"line2d_49\">\n    <path d=\"M 34.954394 13.5 \nL 44.698573 13.568748 \nL 54.442752 13.71585 \nL 64.186931 14.908824 \nL 73.93111 72.469412 \nL 83.675289 92.60647 \nL 93.419468 98.421678 \nL 103.163647 103.583654 \n\" clip-path=\"url(#p970be07a3c)\" style=\"fill: none; stroke: #1f77b4; stroke-width: 1.5; stroke-linecap: square\"/>\n   </g>\n   <g id=\"line2d_50\">\n    <path d=\"M 49.633125 13.634522 \nL 69.163125 22.887663 \nL 88.693125 95.317744 \nL 108.223125 104.971002 \n\" clip-path=\"url(#p970be07a3c)\" style=\"fill: none; stroke-dasharray: 5.55,2.4; stroke-dashoffset: 0; stroke: #ff7f0e; stroke-width: 1.5\"/>\n   </g>\n   <g id=\"line2d_51\">\n    <path d=\"M 49.633125 138.158109 \nL 69.163125 139.5 \nL 88.693125 115.220151 \n\" clip-path=\"url(#p970be07a3c)\" style=\"fill: none; stroke-dasharray: 9.6,2.4,1.5,2.4; stroke-dashoffset: 0; stroke: #2ca02c; stroke-width: 1.5\"/>\n   </g>\n   <g id=\"line2d_52\">\n    <path d=\"M 34.954394 13.5 \nL 44.698573 13.568748 \nL 54.442752 13.71585 \nL 64.186931 14.908824 \nL 73.93111 72.469412 \nL 83.675289 92.60647 \nL 93.419468 98.421678 \nL 103.163647 103.583654 \n\" clip-path=\"url(#p970be07a3c)\" style=\"fill: none; stroke: #1f77b4; stroke-width: 1.5; stroke-linecap: square\"/>\n   </g>\n   <g id=\"line2d_53\">\n    <path d=\"M 49.633125 13.634522 \nL 69.163125 22.887663 \nL 88.693125 95.317744 \nL 108.223125 104.971002 \n\" clip-path=\"url(#p970be07a3c)\" style=\"fill: none; stroke-dasharray: 5.55,2.4; stroke-dashoffset: 0; stroke: #ff7f0e; stroke-width: 1.5\"/>\n   </g>\n   <g id=\"line2d_54\">\n    <path d=\"M 49.633125 138.158109 \nL 69.163125 139.5 \nL 88.693125 115.220151 \nL 108.223125 110.805089 \n\" clip-path=\"url(#p970be07a3c)\" style=\"fill: none; stroke-dasharray: 9.6,2.4,1.5,2.4; stroke-dashoffset: 0; stroke: #2ca02c; stroke-width: 1.5\"/>\n   </g>\n   <g id=\"line2d_55\">\n    <path d=\"M 34.954394 13.5 \nL 44.698573 13.568748 \nL 54.442752 13.71585 \nL 64.186931 14.908824 \nL 73.93111 72.469412 \nL 83.675289 92.60647 \nL 93.419468 98.421678 \nL 103.163647 103.583654 \nL 112.907826 106.736064 \n\" clip-path=\"url(#p970be07a3c)\" style=\"fill: none; stroke: #1f77b4; stroke-width: 1.5; stroke-linecap: square\"/>\n   </g>\n   <g id=\"line2d_56\">\n    <path d=\"M 49.633125 13.634522 \nL 69.163125 22.887663 \nL 88.693125 95.317744 \nL 108.223125 104.971002 \n\" clip-path=\"url(#p970be07a3c)\" style=\"fill: none; stroke-dasharray: 5.55,2.4; stroke-dashoffset: 0; stroke: #ff7f0e; stroke-width: 1.5\"/>\n   </g>\n   <g id=\"line2d_57\">\n    <path d=\"M 49.633125 138.158109 \nL 69.163125 139.5 \nL 88.693125 115.220151 \nL 108.223125 110.805089 \n\" clip-path=\"url(#p970be07a3c)\" style=\"fill: none; stroke-dasharray: 9.6,2.4,1.5,2.4; stroke-dashoffset: 0; stroke: #2ca02c; stroke-width: 1.5\"/>\n   </g>\n   <g id=\"line2d_58\">\n    <path d=\"M 34.954394 13.5 \nL 44.698573 13.568748 \nL 54.442752 13.71585 \nL 64.186931 14.908824 \nL 73.93111 72.469412 \nL 83.675289 92.60647 \nL 93.419468 98.421678 \nL 103.163647 103.583654 \nL 112.907826 106.736064 \nL 122.652006 110.010746 \n\" clip-path=\"url(#p970be07a3c)\" style=\"fill: none; stroke: #1f77b4; stroke-width: 1.5; stroke-linecap: square\"/>\n   </g>\n   <g id=\"line2d_59\">\n    <path d=\"M 49.633125 13.634522 \nL 69.163125 22.887663 \nL 88.693125 95.317744 \nL 108.223125 104.971002 \n\" clip-path=\"url(#p970be07a3c)\" style=\"fill: none; stroke-dasharray: 5.55,2.4; stroke-dashoffset: 0; stroke: #ff7f0e; stroke-width: 1.5\"/>\n   </g>\n   <g id=\"line2d_60\">\n    <path d=\"M 49.633125 138.158109 \nL 69.163125 139.5 \nL 88.693125 115.220151 \nL 108.223125 110.805089 \n\" clip-path=\"url(#p970be07a3c)\" style=\"fill: none; stroke-dasharray: 9.6,2.4,1.5,2.4; stroke-dashoffset: 0; stroke: #2ca02c; stroke-width: 1.5\"/>\n   </g>\n   <g id=\"line2d_61\">\n    <path d=\"M 34.954394 13.5 \nL 44.698573 13.568748 \nL 54.442752 13.71585 \nL 64.186931 14.908824 \nL 73.93111 72.469412 \nL 83.675289 92.60647 \nL 93.419468 98.421678 \nL 103.163647 103.583654 \nL 112.907826 106.736064 \nL 122.652006 110.010746 \n\" clip-path=\"url(#p970be07a3c)\" style=\"fill: none; stroke: #1f77b4; stroke-width: 1.5; stroke-linecap: square\"/>\n   </g>\n   <g id=\"line2d_62\">\n    <path d=\"M 49.633125 13.634522 \nL 69.163125 22.887663 \nL 88.693125 95.317744 \nL 108.223125 104.971002 \nL 127.753125 112.252009 \n\" clip-path=\"url(#p970be07a3c)\" style=\"fill: none; stroke-dasharray: 5.55,2.4; stroke-dashoffset: 0; stroke: #ff7f0e; stroke-width: 1.5\"/>\n   </g>\n   <g id=\"line2d_63\">\n    <path d=\"M 49.633125 138.158109 \nL 69.163125 139.5 \nL 88.693125 115.220151 \nL 108.223125 110.805089 \n\" clip-path=\"url(#p970be07a3c)\" style=\"fill: none; stroke-dasharray: 9.6,2.4,1.5,2.4; stroke-dashoffset: 0; stroke: #2ca02c; stroke-width: 1.5\"/>\n   </g>\n   <g id=\"line2d_64\">\n    <path d=\"M 34.954394 13.5 \nL 44.698573 13.568748 \nL 54.442752 13.71585 \nL 64.186931 14.908824 \nL 73.93111 72.469412 \nL 83.675289 92.60647 \nL 93.419468 98.421678 \nL 103.163647 103.583654 \nL 112.907826 106.736064 \nL 122.652006 110.010746 \n\" clip-path=\"url(#p970be07a3c)\" style=\"fill: none; stroke: #1f77b4; stroke-width: 1.5; stroke-linecap: square\"/>\n   </g>\n   <g id=\"line2d_65\">\n    <path d=\"M 49.633125 13.634522 \nL 69.163125 22.887663 \nL 88.693125 95.317744 \nL 108.223125 104.971002 \nL 127.753125 112.252009 \n\" clip-path=\"url(#p970be07a3c)\" style=\"fill: none; stroke-dasharray: 5.55,2.4; stroke-dashoffset: 0; stroke: #ff7f0e; stroke-width: 1.5\"/>\n   </g>\n   <g id=\"line2d_66\">\n    <path d=\"M 49.633125 138.158109 \nL 69.163125 139.5 \nL 88.693125 115.220151 \nL 108.223125 110.805089 \nL 127.753125 107.821776 \n\" clip-path=\"url(#p970be07a3c)\" style=\"fill: none; stroke-dasharray: 9.6,2.4,1.5,2.4; stroke-dashoffset: 0; stroke: #2ca02c; stroke-width: 1.5\"/>\n   </g>\n   <g id=\"line2d_67\">\n    <path d=\"M 34.954394 13.5 \nL 44.698573 13.568748 \nL 54.442752 13.71585 \nL 64.186931 14.908824 \nL 73.93111 72.469412 \nL 83.675289 92.60647 \nL 93.419468 98.421678 \nL 103.163647 103.583654 \nL 112.907826 106.736064 \nL 122.652006 110.010746 \nL 132.396185 113.038419 \n\" clip-path=\"url(#p970be07a3c)\" style=\"fill: none; stroke: #1f77b4; stroke-width: 1.5; stroke-linecap: square\"/>\n   </g>\n   <g id=\"line2d_68\">\n    <path d=\"M 49.633125 13.634522 \nL 69.163125 22.887663 \nL 88.693125 95.317744 \nL 108.223125 104.971002 \nL 127.753125 112.252009 \n\" clip-path=\"url(#p970be07a3c)\" style=\"fill: none; stroke-dasharray: 5.55,2.4; stroke-dashoffset: 0; stroke: #ff7f0e; stroke-width: 1.5\"/>\n   </g>\n   <g id=\"line2d_69\">\n    <path d=\"M 49.633125 138.158109 \nL 69.163125 139.5 \nL 88.693125 115.220151 \nL 108.223125 110.805089 \nL 127.753125 107.821776 \n\" clip-path=\"url(#p970be07a3c)\" style=\"fill: none; stroke-dasharray: 9.6,2.4,1.5,2.4; stroke-dashoffset: 0; stroke: #2ca02c; stroke-width: 1.5\"/>\n   </g>\n   <g id=\"line2d_70\">\n    <path d=\"M 34.954394 13.5 \nL 44.698573 13.568748 \nL 54.442752 13.71585 \nL 64.186931 14.908824 \nL 73.93111 72.469412 \nL 83.675289 92.60647 \nL 93.419468 98.421678 \nL 103.163647 103.583654 \nL 112.907826 106.736064 \nL 122.652006 110.010746 \nL 132.396185 113.038419 \nL 142.140364 115.169727 \n\" clip-path=\"url(#p970be07a3c)\" style=\"fill: none; stroke: #1f77b4; stroke-width: 1.5; stroke-linecap: square\"/>\n   </g>\n   <g id=\"line2d_71\">\n    <path d=\"M 49.633125 13.634522 \nL 69.163125 22.887663 \nL 88.693125 95.317744 \nL 108.223125 104.971002 \nL 127.753125 112.252009 \n\" clip-path=\"url(#p970be07a3c)\" style=\"fill: none; stroke-dasharray: 5.55,2.4; stroke-dashoffset: 0; stroke: #ff7f0e; stroke-width: 1.5\"/>\n   </g>\n   <g id=\"line2d_72\">\n    <path d=\"M 49.633125 138.158109 \nL 69.163125 139.5 \nL 88.693125 115.220151 \nL 108.223125 110.805089 \nL 127.753125 107.821776 \n\" clip-path=\"url(#p970be07a3c)\" style=\"fill: none; stroke-dasharray: 9.6,2.4,1.5,2.4; stroke-dashoffset: 0; stroke: #2ca02c; stroke-width: 1.5\"/>\n   </g>\n   <g id=\"line2d_73\">\n    <path d=\"M 34.954394 13.5 \nL 44.698573 13.568748 \nL 54.442752 13.71585 \nL 64.186931 14.908824 \nL 73.93111 72.469412 \nL 83.675289 92.60647 \nL 93.419468 98.421678 \nL 103.163647 103.583654 \nL 112.907826 106.736064 \nL 122.652006 110.010746 \nL 132.396185 113.038419 \nL 142.140364 115.169727 \n\" clip-path=\"url(#p970be07a3c)\" style=\"fill: none; stroke: #1f77b4; stroke-width: 1.5; stroke-linecap: square\"/>\n   </g>\n   <g id=\"line2d_74\">\n    <path d=\"M 49.633125 13.634522 \nL 69.163125 22.887663 \nL 88.693125 95.317744 \nL 108.223125 104.971002 \nL 127.753125 112.252009 \nL 147.283125 115.678529 \n\" clip-path=\"url(#p970be07a3c)\" style=\"fill: none; stroke-dasharray: 5.55,2.4; stroke-dashoffset: 0; stroke: #ff7f0e; stroke-width: 1.5\"/>\n   </g>\n   <g id=\"line2d_75\">\n    <path d=\"M 49.633125 138.158109 \nL 69.163125 139.5 \nL 88.693125 115.220151 \nL 108.223125 110.805089 \nL 127.753125 107.821776 \n\" clip-path=\"url(#p970be07a3c)\" style=\"fill: none; stroke-dasharray: 9.6,2.4,1.5,2.4; stroke-dashoffset: 0; stroke: #2ca02c; stroke-width: 1.5\"/>\n   </g>\n   <g id=\"line2d_76\">\n    <path d=\"M 34.954394 13.5 \nL 44.698573 13.568748 \nL 54.442752 13.71585 \nL 64.186931 14.908824 \nL 73.93111 72.469412 \nL 83.675289 92.60647 \nL 93.419468 98.421678 \nL 103.163647 103.583654 \nL 112.907826 106.736064 \nL 122.652006 110.010746 \nL 132.396185 113.038419 \nL 142.140364 115.169727 \n\" clip-path=\"url(#p970be07a3c)\" style=\"fill: none; stroke: #1f77b4; stroke-width: 1.5; stroke-linecap: square\"/>\n   </g>\n   <g id=\"line2d_77\">\n    <path d=\"M 49.633125 13.634522 \nL 69.163125 22.887663 \nL 88.693125 95.317744 \nL 108.223125 104.971002 \nL 127.753125 112.252009 \nL 147.283125 115.678529 \n\" clip-path=\"url(#p970be07a3c)\" style=\"fill: none; stroke-dasharray: 5.55,2.4; stroke-dashoffset: 0; stroke: #ff7f0e; stroke-width: 1.5\"/>\n   </g>\n   <g id=\"line2d_78\">\n    <path d=\"M 49.633125 138.158109 \nL 69.163125 139.5 \nL 88.693125 115.220151 \nL 108.223125 110.805089 \nL 127.753125 107.821776 \nL 147.283125 106.372054 \n\" clip-path=\"url(#p970be07a3c)\" style=\"fill: none; stroke-dasharray: 9.6,2.4,1.5,2.4; stroke-dashoffset: 0; stroke: #2ca02c; stroke-width: 1.5\"/>\n   </g>\n   <g id=\"line2d_79\">\n    <path d=\"M 34.954394 13.5 \nL 44.698573 13.568748 \nL 54.442752 13.71585 \nL 64.186931 14.908824 \nL 73.93111 72.469412 \nL 83.675289 92.60647 \nL 93.419468 98.421678 \nL 103.163647 103.583654 \nL 112.907826 106.736064 \nL 122.652006 110.010746 \nL 132.396185 113.038419 \nL 142.140364 115.169727 \nL 151.884543 117.341493 \n\" clip-path=\"url(#p970be07a3c)\" style=\"fill: none; stroke: #1f77b4; stroke-width: 1.5; stroke-linecap: square\"/>\n   </g>\n   <g id=\"line2d_80\">\n    <path d=\"M 49.633125 13.634522 \nL 69.163125 22.887663 \nL 88.693125 95.317744 \nL 108.223125 104.971002 \nL 127.753125 112.252009 \nL 147.283125 115.678529 \n\" clip-path=\"url(#p970be07a3c)\" style=\"fill: none; stroke-dasharray: 5.55,2.4; stroke-dashoffset: 0; stroke: #ff7f0e; stroke-width: 1.5\"/>\n   </g>\n   <g id=\"line2d_81\">\n    <path d=\"M 49.633125 138.158109 \nL 69.163125 139.5 \nL 88.693125 115.220151 \nL 108.223125 110.805089 \nL 127.753125 107.821776 \nL 147.283125 106.372054 \n\" clip-path=\"url(#p970be07a3c)\" style=\"fill: none; stroke-dasharray: 9.6,2.4,1.5,2.4; stroke-dashoffset: 0; stroke: #2ca02c; stroke-width: 1.5\"/>\n   </g>\n   <g id=\"line2d_82\">\n    <path d=\"M 34.954394 13.5 \nL 44.698573 13.568748 \nL 54.442752 13.71585 \nL 64.186931 14.908824 \nL 73.93111 72.469412 \nL 83.675289 92.60647 \nL 93.419468 98.421678 \nL 103.163647 103.583654 \nL 112.907826 106.736064 \nL 122.652006 110.010746 \nL 132.396185 113.038419 \nL 142.140364 115.169727 \nL 151.884543 117.341493 \nL 161.628722 119.106122 \n\" clip-path=\"url(#p970be07a3c)\" style=\"fill: none; stroke: #1f77b4; stroke-width: 1.5; stroke-linecap: square\"/>\n   </g>\n   <g id=\"line2d_83\">\n    <path d=\"M 49.633125 13.634522 \nL 69.163125 22.887663 \nL 88.693125 95.317744 \nL 108.223125 104.971002 \nL 127.753125 112.252009 \nL 147.283125 115.678529 \n\" clip-path=\"url(#p970be07a3c)\" style=\"fill: none; stroke-dasharray: 5.55,2.4; stroke-dashoffset: 0; stroke: #ff7f0e; stroke-width: 1.5\"/>\n   </g>\n   <g id=\"line2d_84\">\n    <path d=\"M 49.633125 138.158109 \nL 69.163125 139.5 \nL 88.693125 115.220151 \nL 108.223125 110.805089 \nL 127.753125 107.821776 \nL 147.283125 106.372054 \n\" clip-path=\"url(#p970be07a3c)\" style=\"fill: none; stroke-dasharray: 9.6,2.4,1.5,2.4; stroke-dashoffset: 0; stroke: #2ca02c; stroke-width: 1.5\"/>\n   </g>\n   <g id=\"line2d_85\">\n    <path d=\"M 34.954394 13.5 \nL 44.698573 13.568748 \nL 54.442752 13.71585 \nL 64.186931 14.908824 \nL 73.93111 72.469412 \nL 83.675289 92.60647 \nL 93.419468 98.421678 \nL 103.163647 103.583654 \nL 112.907826 106.736064 \nL 122.652006 110.010746 \nL 132.396185 113.038419 \nL 142.140364 115.169727 \nL 151.884543 117.341493 \nL 161.628722 119.106122 \n\" clip-path=\"url(#p970be07a3c)\" style=\"fill: none; stroke: #1f77b4; stroke-width: 1.5; stroke-linecap: square\"/>\n   </g>\n   <g id=\"line2d_86\">\n    <path d=\"M 49.633125 13.634522 \nL 69.163125 22.887663 \nL 88.693125 95.317744 \nL 108.223125 104.971002 \nL 127.753125 112.252009 \nL 147.283125 115.678529 \nL 166.813125 118.932052 \n\" clip-path=\"url(#p970be07a3c)\" style=\"fill: none; stroke-dasharray: 5.55,2.4; stroke-dashoffset: 0; stroke: #ff7f0e; stroke-width: 1.5\"/>\n   </g>\n   <g id=\"line2d_87\">\n    <path d=\"M 49.633125 138.158109 \nL 69.163125 139.5 \nL 88.693125 115.220151 \nL 108.223125 110.805089 \nL 127.753125 107.821776 \nL 147.283125 106.372054 \n\" clip-path=\"url(#p970be07a3c)\" style=\"fill: none; stroke-dasharray: 9.6,2.4,1.5,2.4; stroke-dashoffset: 0; stroke: #2ca02c; stroke-width: 1.5\"/>\n   </g>\n   <g id=\"line2d_88\">\n    <path d=\"M 34.954394 13.5 \nL 44.698573 13.568748 \nL 54.442752 13.71585 \nL 64.186931 14.908824 \nL 73.93111 72.469412 \nL 83.675289 92.60647 \nL 93.419468 98.421678 \nL 103.163647 103.583654 \nL 112.907826 106.736064 \nL 122.652006 110.010746 \nL 132.396185 113.038419 \nL 142.140364 115.169727 \nL 151.884543 117.341493 \nL 161.628722 119.106122 \n\" clip-path=\"url(#p970be07a3c)\" style=\"fill: none; stroke: #1f77b4; stroke-width: 1.5; stroke-linecap: square\"/>\n   </g>\n   <g id=\"line2d_89\">\n    <path d=\"M 49.633125 13.634522 \nL 69.163125 22.887663 \nL 88.693125 95.317744 \nL 108.223125 104.971002 \nL 127.753125 112.252009 \nL 147.283125 115.678529 \nL 166.813125 118.932052 \n\" clip-path=\"url(#p970be07a3c)\" style=\"fill: none; stroke-dasharray: 5.55,2.4; stroke-dashoffset: 0; stroke: #ff7f0e; stroke-width: 1.5\"/>\n   </g>\n   <g id=\"line2d_90\">\n    <path d=\"M 49.633125 138.158109 \nL 69.163125 139.5 \nL 88.693125 115.220151 \nL 108.223125 110.805089 \nL 127.753125 107.821776 \nL 147.283125 106.372054 \nL 166.813125 105.335683 \n\" clip-path=\"url(#p970be07a3c)\" style=\"fill: none; stroke-dasharray: 9.6,2.4,1.5,2.4; stroke-dashoffset: 0; stroke: #2ca02c; stroke-width: 1.5\"/>\n   </g>\n   <g id=\"line2d_91\">\n    <path d=\"M 34.954394 13.5 \nL 44.698573 13.568748 \nL 54.442752 13.71585 \nL 64.186931 14.908824 \nL 73.93111 72.469412 \nL 83.675289 92.60647 \nL 93.419468 98.421678 \nL 103.163647 103.583654 \nL 112.907826 106.736064 \nL 122.652006 110.010746 \nL 132.396185 113.038419 \nL 142.140364 115.169727 \nL 151.884543 117.341493 \nL 161.628722 119.106122 \nL 171.372901 120.320866 \n\" clip-path=\"url(#p970be07a3c)\" style=\"fill: none; stroke: #1f77b4; stroke-width: 1.5; stroke-linecap: square\"/>\n   </g>\n   <g id=\"line2d_92\">\n    <path d=\"M 49.633125 13.634522 \nL 69.163125 22.887663 \nL 88.693125 95.317744 \nL 108.223125 104.971002 \nL 127.753125 112.252009 \nL 147.283125 115.678529 \nL 166.813125 118.932052 \n\" clip-path=\"url(#p970be07a3c)\" style=\"fill: none; stroke-dasharray: 5.55,2.4; stroke-dashoffset: 0; stroke: #ff7f0e; stroke-width: 1.5\"/>\n   </g>\n   <g id=\"line2d_93\">\n    <path d=\"M 49.633125 138.158109 \nL 69.163125 139.5 \nL 88.693125 115.220151 \nL 108.223125 110.805089 \nL 127.753125 107.821776 \nL 147.283125 106.372054 \nL 166.813125 105.335683 \n\" clip-path=\"url(#p970be07a3c)\" style=\"fill: none; stroke-dasharray: 9.6,2.4,1.5,2.4; stroke-dashoffset: 0; stroke: #2ca02c; stroke-width: 1.5\"/>\n   </g>\n   <g id=\"line2d_94\">\n    <path d=\"M 34.954394 13.5 \nL 44.698573 13.568748 \nL 54.442752 13.71585 \nL 64.186931 14.908824 \nL 73.93111 72.469412 \nL 83.675289 92.60647 \nL 93.419468 98.421678 \nL 103.163647 103.583654 \nL 112.907826 106.736064 \nL 122.652006 110.010746 \nL 132.396185 113.038419 \nL 142.140364 115.169727 \nL 151.884543 117.341493 \nL 161.628722 119.106122 \nL 171.372901 120.320866 \nL 181.11708 121.606981 \n\" clip-path=\"url(#p970be07a3c)\" style=\"fill: none; stroke: #1f77b4; stroke-width: 1.5; stroke-linecap: square\"/>\n   </g>\n   <g id=\"line2d_95\">\n    <path d=\"M 49.633125 13.634522 \nL 69.163125 22.887663 \nL 88.693125 95.317744 \nL 108.223125 104.971002 \nL 127.753125 112.252009 \nL 147.283125 115.678529 \nL 166.813125 118.932052 \n\" clip-path=\"url(#p970be07a3c)\" style=\"fill: none; stroke-dasharray: 5.55,2.4; stroke-dashoffset: 0; stroke: #ff7f0e; stroke-width: 1.5\"/>\n   </g>\n   <g id=\"line2d_96\">\n    <path d=\"M 49.633125 138.158109 \nL 69.163125 139.5 \nL 88.693125 115.220151 \nL 108.223125 110.805089 \nL 127.753125 107.821776 \nL 147.283125 106.372054 \nL 166.813125 105.335683 \n\" clip-path=\"url(#p970be07a3c)\" style=\"fill: none; stroke-dasharray: 9.6,2.4,1.5,2.4; stroke-dashoffset: 0; stroke: #2ca02c; stroke-width: 1.5\"/>\n   </g>\n   <g id=\"line2d_97\">\n    <path d=\"M 34.954394 13.5 \nL 44.698573 13.568748 \nL 54.442752 13.71585 \nL 64.186931 14.908824 \nL 73.93111 72.469412 \nL 83.675289 92.60647 \nL 93.419468 98.421678 \nL 103.163647 103.583654 \nL 112.907826 106.736064 \nL 122.652006 110.010746 \nL 132.396185 113.038419 \nL 142.140364 115.169727 \nL 151.884543 117.341493 \nL 161.628722 119.106122 \nL 171.372901 120.320866 \nL 181.11708 121.606981 \n\" clip-path=\"url(#p970be07a3c)\" style=\"fill: none; stroke: #1f77b4; stroke-width: 1.5; stroke-linecap: square\"/>\n   </g>\n   <g id=\"line2d_98\">\n    <path d=\"M 49.633125 13.634522 \nL 69.163125 22.887663 \nL 88.693125 95.317744 \nL 108.223125 104.971002 \nL 127.753125 112.252009 \nL 147.283125 115.678529 \nL 166.813125 118.932052 \nL 186.343125 123.074728 \n\" clip-path=\"url(#p970be07a3c)\" style=\"fill: none; stroke-dasharray: 5.55,2.4; stroke-dashoffset: 0; stroke: #ff7f0e; stroke-width: 1.5\"/>\n   </g>\n   <g id=\"line2d_99\">\n    <path d=\"M 49.633125 138.158109 \nL 69.163125 139.5 \nL 88.693125 115.220151 \nL 108.223125 110.805089 \nL 127.753125 107.821776 \nL 147.283125 106.372054 \nL 166.813125 105.335683 \n\" clip-path=\"url(#p970be07a3c)\" style=\"fill: none; stroke-dasharray: 9.6,2.4,1.5,2.4; stroke-dashoffset: 0; stroke: #2ca02c; stroke-width: 1.5\"/>\n   </g>\n   <g id=\"line2d_100\">\n    <path d=\"M 34.954394 13.5 \nL 44.698573 13.568748 \nL 54.442752 13.71585 \nL 64.186931 14.908824 \nL 73.93111 72.469412 \nL 83.675289 92.60647 \nL 93.419468 98.421678 \nL 103.163647 103.583654 \nL 112.907826 106.736064 \nL 122.652006 110.010746 \nL 132.396185 113.038419 \nL 142.140364 115.169727 \nL 151.884543 117.341493 \nL 161.628722 119.106122 \nL 171.372901 120.320866 \nL 181.11708 121.606981 \n\" clip-path=\"url(#p970be07a3c)\" style=\"fill: none; stroke: #1f77b4; stroke-width: 1.5; stroke-linecap: square\"/>\n   </g>\n   <g id=\"line2d_101\">\n    <path d=\"M 49.633125 13.634522 \nL 69.163125 22.887663 \nL 88.693125 95.317744 \nL 108.223125 104.971002 \nL 127.753125 112.252009 \nL 147.283125 115.678529 \nL 166.813125 118.932052 \nL 186.343125 123.074728 \n\" clip-path=\"url(#p970be07a3c)\" style=\"fill: none; stroke-dasharray: 5.55,2.4; stroke-dashoffset: 0; stroke: #ff7f0e; stroke-width: 1.5\"/>\n   </g>\n   <g id=\"line2d_102\">\n    <path d=\"M 49.633125 138.158109 \nL 69.163125 139.5 \nL 88.693125 115.220151 \nL 108.223125 110.805089 \nL 127.753125 107.821776 \nL 147.283125 106.372054 \nL 166.813125 105.335683 \nL 186.343125 103.56846 \n\" clip-path=\"url(#p970be07a3c)\" style=\"fill: none; stroke-dasharray: 9.6,2.4,1.5,2.4; stroke-dashoffset: 0; stroke: #2ca02c; stroke-width: 1.5\"/>\n   </g>\n   <g id=\"line2d_103\">\n    <path d=\"M 34.954394 13.5 \nL 44.698573 13.568748 \nL 54.442752 13.71585 \nL 64.186931 14.908824 \nL 73.93111 72.469412 \nL 83.675289 92.60647 \nL 93.419468 98.421678 \nL 103.163647 103.583654 \nL 112.907826 106.736064 \nL 122.652006 110.010746 \nL 132.396185 113.038419 \nL 142.140364 115.169727 \nL 151.884543 117.341493 \nL 161.628722 119.106122 \nL 171.372901 120.320866 \nL 181.11708 121.606981 \nL 190.861259 122.567935 \n\" clip-path=\"url(#p970be07a3c)\" style=\"fill: none; stroke: #1f77b4; stroke-width: 1.5; stroke-linecap: square\"/>\n   </g>\n   <g id=\"line2d_104\">\n    <path d=\"M 49.633125 13.634522 \nL 69.163125 22.887663 \nL 88.693125 95.317744 \nL 108.223125 104.971002 \nL 127.753125 112.252009 \nL 147.283125 115.678529 \nL 166.813125 118.932052 \nL 186.343125 123.074728 \n\" clip-path=\"url(#p970be07a3c)\" style=\"fill: none; stroke-dasharray: 5.55,2.4; stroke-dashoffset: 0; stroke: #ff7f0e; stroke-width: 1.5\"/>\n   </g>\n   <g id=\"line2d_105\">\n    <path d=\"M 49.633125 138.158109 \nL 69.163125 139.5 \nL 88.693125 115.220151 \nL 108.223125 110.805089 \nL 127.753125 107.821776 \nL 147.283125 106.372054 \nL 166.813125 105.335683 \nL 186.343125 103.56846 \n\" clip-path=\"url(#p970be07a3c)\" style=\"fill: none; stroke-dasharray: 9.6,2.4,1.5,2.4; stroke-dashoffset: 0; stroke: #2ca02c; stroke-width: 1.5\"/>\n   </g>\n   <g id=\"line2d_106\">\n    <path d=\"M 34.954394 13.5 \nL 44.698573 13.568748 \nL 54.442752 13.71585 \nL 64.186931 14.908824 \nL 73.93111 72.469412 \nL 83.675289 92.60647 \nL 93.419468 98.421678 \nL 103.163647 103.583654 \nL 112.907826 106.736064 \nL 122.652006 110.010746 \nL 132.396185 113.038419 \nL 142.140364 115.169727 \nL 151.884543 117.341493 \nL 161.628722 119.106122 \nL 171.372901 120.320866 \nL 181.11708 121.606981 \nL 190.861259 122.567935 \nL 200.605438 123.734219 \n\" clip-path=\"url(#p970be07a3c)\" style=\"fill: none; stroke: #1f77b4; stroke-width: 1.5; stroke-linecap: square\"/>\n   </g>\n   <g id=\"line2d_107\">\n    <path d=\"M 49.633125 13.634522 \nL 69.163125 22.887663 \nL 88.693125 95.317744 \nL 108.223125 104.971002 \nL 127.753125 112.252009 \nL 147.283125 115.678529 \nL 166.813125 118.932052 \nL 186.343125 123.074728 \n\" clip-path=\"url(#p970be07a3c)\" style=\"fill: none; stroke-dasharray: 5.55,2.4; stroke-dashoffset: 0; stroke: #ff7f0e; stroke-width: 1.5\"/>\n   </g>\n   <g id=\"line2d_108\">\n    <path d=\"M 49.633125 138.158109 \nL 69.163125 139.5 \nL 88.693125 115.220151 \nL 108.223125 110.805089 \nL 127.753125 107.821776 \nL 147.283125 106.372054 \nL 166.813125 105.335683 \nL 186.343125 103.56846 \n\" clip-path=\"url(#p970be07a3c)\" style=\"fill: none; stroke-dasharray: 9.6,2.4,1.5,2.4; stroke-dashoffset: 0; stroke: #2ca02c; stroke-width: 1.5\"/>\n   </g>\n   <g id=\"line2d_109\">\n    <path d=\"M 34.954394 13.5 \nL 44.698573 13.568748 \nL 54.442752 13.71585 \nL 64.186931 14.908824 \nL 73.93111 72.469412 \nL 83.675289 92.60647 \nL 93.419468 98.421678 \nL 103.163647 103.583654 \nL 112.907826 106.736064 \nL 122.652006 110.010746 \nL 132.396185 113.038419 \nL 142.140364 115.169727 \nL 151.884543 117.341493 \nL 161.628722 119.106122 \nL 171.372901 120.320866 \nL 181.11708 121.606981 \nL 190.861259 122.567935 \nL 200.605438 123.734219 \n\" clip-path=\"url(#p970be07a3c)\" style=\"fill: none; stroke: #1f77b4; stroke-width: 1.5; stroke-linecap: square\"/>\n   </g>\n   <g id=\"line2d_110\">\n    <path d=\"M 49.633125 13.634522 \nL 69.163125 22.887663 \nL 88.693125 95.317744 \nL 108.223125 104.971002 \nL 127.753125 112.252009 \nL 147.283125 115.678529 \nL 166.813125 118.932052 \nL 186.343125 123.074728 \nL 205.873125 124.784503 \n\" clip-path=\"url(#p970be07a3c)\" style=\"fill: none; stroke-dasharray: 5.55,2.4; stroke-dashoffset: 0; stroke: #ff7f0e; stroke-width: 1.5\"/>\n   </g>\n   <g id=\"line2d_111\">\n    <path d=\"M 49.633125 138.158109 \nL 69.163125 139.5 \nL 88.693125 115.220151 \nL 108.223125 110.805089 \nL 127.753125 107.821776 \nL 147.283125 106.372054 \nL 166.813125 105.335683 \nL 186.343125 103.56846 \n\" clip-path=\"url(#p970be07a3c)\" style=\"fill: none; stroke-dasharray: 9.6,2.4,1.5,2.4; stroke-dashoffset: 0; stroke: #2ca02c; stroke-width: 1.5\"/>\n   </g>\n   <g id=\"line2d_112\">\n    <path d=\"M 34.954394 13.5 \nL 44.698573 13.568748 \nL 54.442752 13.71585 \nL 64.186931 14.908824 \nL 73.93111 72.469412 \nL 83.675289 92.60647 \nL 93.419468 98.421678 \nL 103.163647 103.583654 \nL 112.907826 106.736064 \nL 122.652006 110.010746 \nL 132.396185 113.038419 \nL 142.140364 115.169727 \nL 151.884543 117.341493 \nL 161.628722 119.106122 \nL 171.372901 120.320866 \nL 181.11708 121.606981 \nL 190.861259 122.567935 \nL 200.605438 123.734219 \n\" clip-path=\"url(#p970be07a3c)\" style=\"fill: none; stroke: #1f77b4; stroke-width: 1.5; stroke-linecap: square\"/>\n   </g>\n   <g id=\"line2d_113\">\n    <path d=\"M 49.633125 13.634522 \nL 69.163125 22.887663 \nL 88.693125 95.317744 \nL 108.223125 104.971002 \nL 127.753125 112.252009 \nL 147.283125 115.678529 \nL 166.813125 118.932052 \nL 186.343125 123.074728 \nL 205.873125 124.784503 \n\" clip-path=\"url(#p970be07a3c)\" style=\"fill: none; stroke-dasharray: 5.55,2.4; stroke-dashoffset: 0; stroke: #ff7f0e; stroke-width: 1.5\"/>\n   </g>\n   <g id=\"line2d_114\">\n    <path d=\"M 49.633125 138.158109 \nL 69.163125 139.5 \nL 88.693125 115.220151 \nL 108.223125 110.805089 \nL 127.753125 107.821776 \nL 147.283125 106.372054 \nL 166.813125 105.335683 \nL 186.343125 103.56846 \nL 205.873125 102.747749 \n\" clip-path=\"url(#p970be07a3c)\" style=\"fill: none; stroke-dasharray: 9.6,2.4,1.5,2.4; stroke-dashoffset: 0; stroke: #2ca02c; stroke-width: 1.5\"/>\n   </g>\n   <g id=\"line2d_115\">\n    <path d=\"M 34.954394 13.5 \nL 44.698573 13.568748 \nL 54.442752 13.71585 \nL 64.186931 14.908824 \nL 73.93111 72.469412 \nL 83.675289 92.60647 \nL 93.419468 98.421678 \nL 103.163647 103.583654 \nL 112.907826 106.736064 \nL 122.652006 110.010746 \nL 132.396185 113.038419 \nL 142.140364 115.169727 \nL 151.884543 117.341493 \nL 161.628722 119.106122 \nL 171.372901 120.320866 \nL 181.11708 121.606981 \nL 190.861259 122.567935 \nL 200.605438 123.734219 \nL 210.349618 124.433786 \n\" clip-path=\"url(#p970be07a3c)\" style=\"fill: none; stroke: #1f77b4; stroke-width: 1.5; stroke-linecap: square\"/>\n   </g>\n   <g id=\"line2d_116\">\n    <path d=\"M 49.633125 13.634522 \nL 69.163125 22.887663 \nL 88.693125 95.317744 \nL 108.223125 104.971002 \nL 127.753125 112.252009 \nL 147.283125 115.678529 \nL 166.813125 118.932052 \nL 186.343125 123.074728 \nL 205.873125 124.784503 \n\" clip-path=\"url(#p970be07a3c)\" style=\"fill: none; stroke-dasharray: 5.55,2.4; stroke-dashoffset: 0; stroke: #ff7f0e; stroke-width: 1.5\"/>\n   </g>\n   <g id=\"line2d_117\">\n    <path d=\"M 49.633125 138.158109 \nL 69.163125 139.5 \nL 88.693125 115.220151 \nL 108.223125 110.805089 \nL 127.753125 107.821776 \nL 147.283125 106.372054 \nL 166.813125 105.335683 \nL 186.343125 103.56846 \nL 205.873125 102.747749 \n\" clip-path=\"url(#p970be07a3c)\" style=\"fill: none; stroke-dasharray: 9.6,2.4,1.5,2.4; stroke-dashoffset: 0; stroke: #2ca02c; stroke-width: 1.5\"/>\n   </g>\n   <g id=\"line2d_118\">\n    <path d=\"M 34.954394 13.5 \nL 44.698573 13.568748 \nL 54.442752 13.71585 \nL 64.186931 14.908824 \nL 73.93111 72.469412 \nL 83.675289 92.60647 \nL 93.419468 98.421678 \nL 103.163647 103.583654 \nL 112.907826 106.736064 \nL 122.652006 110.010746 \nL 132.396185 113.038419 \nL 142.140364 115.169727 \nL 151.884543 117.341493 \nL 161.628722 119.106122 \nL 171.372901 120.320866 \nL 181.11708 121.606981 \nL 190.861259 122.567935 \nL 200.605438 123.734219 \nL 210.349618 124.433786 \nL 220.093797 125.423075 \n\" clip-path=\"url(#p970be07a3c)\" style=\"fill: none; stroke: #1f77b4; stroke-width: 1.5; stroke-linecap: square\"/>\n   </g>\n   <g id=\"line2d_119\">\n    <path d=\"M 49.633125 13.634522 \nL 69.163125 22.887663 \nL 88.693125 95.317744 \nL 108.223125 104.971002 \nL 127.753125 112.252009 \nL 147.283125 115.678529 \nL 166.813125 118.932052 \nL 186.343125 123.074728 \nL 205.873125 124.784503 \n\" clip-path=\"url(#p970be07a3c)\" style=\"fill: none; stroke-dasharray: 5.55,2.4; stroke-dashoffset: 0; stroke: #ff7f0e; stroke-width: 1.5\"/>\n   </g>\n   <g id=\"line2d_120\">\n    <path d=\"M 49.633125 138.158109 \nL 69.163125 139.5 \nL 88.693125 115.220151 \nL 108.223125 110.805089 \nL 127.753125 107.821776 \nL 147.283125 106.372054 \nL 166.813125 105.335683 \nL 186.343125 103.56846 \nL 205.873125 102.747749 \n\" clip-path=\"url(#p970be07a3c)\" style=\"fill: none; stroke-dasharray: 9.6,2.4,1.5,2.4; stroke-dashoffset: 0; stroke: #2ca02c; stroke-width: 1.5\"/>\n   </g>\n   <g id=\"line2d_121\">\n    <path d=\"M 34.954394 13.5 \nL 44.698573 13.568748 \nL 54.442752 13.71585 \nL 64.186931 14.908824 \nL 73.93111 72.469412 \nL 83.675289 92.60647 \nL 93.419468 98.421678 \nL 103.163647 103.583654 \nL 112.907826 106.736064 \nL 122.652006 110.010746 \nL 132.396185 113.038419 \nL 142.140364 115.169727 \nL 151.884543 117.341493 \nL 161.628722 119.106122 \nL 171.372901 120.320866 \nL 181.11708 121.606981 \nL 190.861259 122.567935 \nL 200.605438 123.734219 \nL 210.349618 124.433786 \nL 220.093797 125.423075 \n\" clip-path=\"url(#p970be07a3c)\" style=\"fill: none; stroke: #1f77b4; stroke-width: 1.5; stroke-linecap: square\"/>\n   </g>\n   <g id=\"line2d_122\">\n    <path d=\"M 49.633125 13.634522 \nL 69.163125 22.887663 \nL 88.693125 95.317744 \nL 108.223125 104.971002 \nL 127.753125 112.252009 \nL 147.283125 115.678529 \nL 166.813125 118.932052 \nL 186.343125 123.074728 \nL 205.873125 124.784503 \nL 225.403125 124.898201 \n\" clip-path=\"url(#p970be07a3c)\" style=\"fill: none; stroke-dasharray: 5.55,2.4; stroke-dashoffset: 0; stroke: #ff7f0e; stroke-width: 1.5\"/>\n   </g>\n   <g id=\"line2d_123\">\n    <path d=\"M 49.633125 138.158109 \nL 69.163125 139.5 \nL 88.693125 115.220151 \nL 108.223125 110.805089 \nL 127.753125 107.821776 \nL 147.283125 106.372054 \nL 166.813125 105.335683 \nL 186.343125 103.56846 \nL 205.873125 102.747749 \n\" clip-path=\"url(#p970be07a3c)\" style=\"fill: none; stroke-dasharray: 9.6,2.4,1.5,2.4; stroke-dashoffset: 0; stroke: #2ca02c; stroke-width: 1.5\"/>\n   </g>\n   <g id=\"line2d_124\">\n    <path d=\"M 34.954394 13.5 \nL 44.698573 13.568748 \nL 54.442752 13.71585 \nL 64.186931 14.908824 \nL 73.93111 72.469412 \nL 83.675289 92.60647 \nL 93.419468 98.421678 \nL 103.163647 103.583654 \nL 112.907826 106.736064 \nL 122.652006 110.010746 \nL 132.396185 113.038419 \nL 142.140364 115.169727 \nL 151.884543 117.341493 \nL 161.628722 119.106122 \nL 171.372901 120.320866 \nL 181.11708 121.606981 \nL 190.861259 122.567935 \nL 200.605438 123.734219 \nL 210.349618 124.433786 \nL 220.093797 125.423075 \n\" clip-path=\"url(#p970be07a3c)\" style=\"fill: none; stroke: #1f77b4; stroke-width: 1.5; stroke-linecap: square\"/>\n   </g>\n   <g id=\"line2d_125\">\n    <path d=\"M 49.633125 13.634522 \nL 69.163125 22.887663 \nL 88.693125 95.317744 \nL 108.223125 104.971002 \nL 127.753125 112.252009 \nL 147.283125 115.678529 \nL 166.813125 118.932052 \nL 186.343125 123.074728 \nL 205.873125 124.784503 \nL 225.403125 124.898201 \n\" clip-path=\"url(#p970be07a3c)\" style=\"fill: none; stroke-dasharray: 5.55,2.4; stroke-dashoffset: 0; stroke: #ff7f0e; stroke-width: 1.5\"/>\n   </g>\n   <g id=\"line2d_126\">\n    <path d=\"M 49.633125 138.158109 \nL 69.163125 139.5 \nL 88.693125 115.220151 \nL 108.223125 110.805089 \nL 127.753125 107.821776 \nL 147.283125 106.372054 \nL 166.813125 105.335683 \nL 186.343125 103.56846 \nL 205.873125 102.747749 \nL 225.403125 102.837608 \n\" clip-path=\"url(#p970be07a3c)\" style=\"fill: none; stroke-dasharray: 9.6,2.4,1.5,2.4; stroke-dashoffset: 0; stroke: #2ca02c; stroke-width: 1.5\"/>\n   </g>\n   <g id=\"patch_3\">\n    <path d=\"M 30.103125 145.8 \nL 30.103125 7.2 \n\" style=\"fill: none; stroke: #000000; stroke-width: 0.8; stroke-linejoin: miter; stroke-linecap: square\"/>\n   </g>\n   <g id=\"patch_4\">\n    <path d=\"M 225.403125 145.8 \nL 225.403125 7.2 \n\" style=\"fill: none; stroke: #000000; stroke-width: 0.8; stroke-linejoin: miter; stroke-linecap: square\"/>\n   </g>\n   <g id=\"patch_5\">\n    <path d=\"M 30.103125 145.8 \nL 225.403125 145.8 \n\" style=\"fill: none; stroke: #000000; stroke-width: 0.8; stroke-linejoin: miter; stroke-linecap: square\"/>\n   </g>\n   <g id=\"patch_6\">\n    <path d=\"M 30.103125 7.2 \nL 225.403125 7.2 \n\" style=\"fill: none; stroke: #000000; stroke-width: 0.8; stroke-linejoin: miter; stroke-linecap: square\"/>\n   </g>\n   <g id=\"legend_1\">\n    <g id=\"patch_7\">\n     <path d=\"M 138.8125 60.06875 \nL 218.403125 60.06875 \nQ 220.403125 60.06875 220.403125 58.06875 \nL 220.403125 14.2 \nQ 220.403125 12.2 218.403125 12.2 \nL 138.8125 12.2 \nQ 136.8125 12.2 136.8125 14.2 \nL 136.8125 58.06875 \nQ 136.8125 60.06875 138.8125 60.06875 \nz\n\" style=\"fill: #ffffff; opacity: 0.8; stroke: #cccccc; stroke-linejoin: miter\"/>\n    </g>\n    <g id=\"line2d_127\">\n     <path d=\"M 140.8125 20.298438 \nL 150.8125 20.298438 \nL 160.8125 20.298438 \n\" style=\"fill: none; stroke: #1f77b4; stroke-width: 1.5; stroke-linecap: square\"/>\n    </g>\n    <g id=\"text_12\">\n     <!-- train_loss -->\n     <g transform=\"translate(168.8125 23.798438) scale(0.1 -0.1)\">\n      <defs>\n       <path id=\"DejaVuSans-74\" d=\"M 1172 4494 \nL 1172 3500 \nL 2356 3500 \nL 2356 3053 \nL 1172 3053 \nL 1172 1153 \nQ 1172 725 1289 603 \nQ 1406 481 1766 481 \nL 2356 481 \nL 2356 0 \nL 1766 0 \nQ 1100 0 847 248 \nQ 594 497 594 1153 \nL 594 3053 \nL 172 3053 \nL 172 3500 \nL 594 3500 \nL 594 4494 \nL 1172 4494 \nz\n\" transform=\"scale(0.015625)\"/>\n       <path id=\"DejaVuSans-72\" d=\"M 2631 2963 \nQ 2534 3019 2420 3045 \nQ 2306 3072 2169 3072 \nQ 1681 3072 1420 2755 \nQ 1159 2438 1159 1844 \nL 1159 0 \nL 581 0 \nL 581 3500 \nL 1159 3500 \nL 1159 2956 \nQ 1341 3275 1631 3429 \nQ 1922 3584 2338 3584 \nQ 2397 3584 2469 3576 \nQ 2541 3569 2628 3553 \nL 2631 2963 \nz\n\" transform=\"scale(0.015625)\"/>\n       <path id=\"DejaVuSans-61\" d=\"M 2194 1759 \nQ 1497 1759 1228 1600 \nQ 959 1441 959 1056 \nQ 959 750 1161 570 \nQ 1363 391 1709 391 \nQ 2188 391 2477 730 \nQ 2766 1069 2766 1631 \nL 2766 1759 \nL 2194 1759 \nz\nM 3341 1997 \nL 3341 0 \nL 2766 0 \nL 2766 531 \nQ 2569 213 2275 61 \nQ 1981 -91 1556 -91 \nQ 1019 -91 701 211 \nQ 384 513 384 1019 \nQ 384 1609 779 1909 \nQ 1175 2209 1959 2209 \nL 2766 2209 \nL 2766 2266 \nQ 2766 2663 2505 2880 \nQ 2244 3097 1772 3097 \nQ 1472 3097 1187 3025 \nQ 903 2953 641 2809 \nL 641 3341 \nQ 956 3463 1253 3523 \nQ 1550 3584 1831 3584 \nQ 2591 3584 2966 3190 \nQ 3341 2797 3341 1997 \nz\n\" transform=\"scale(0.015625)\"/>\n       <path id=\"DejaVuSans-69\" d=\"M 603 3500 \nL 1178 3500 \nL 1178 0 \nL 603 0 \nL 603 3500 \nz\nM 603 4863 \nL 1178 4863 \nL 1178 4134 \nL 603 4134 \nL 603 4863 \nz\n\" transform=\"scale(0.015625)\"/>\n       <path id=\"DejaVuSans-6e\" d=\"M 3513 2113 \nL 3513 0 \nL 2938 0 \nL 2938 2094 \nQ 2938 2591 2744 2837 \nQ 2550 3084 2163 3084 \nQ 1697 3084 1428 2787 \nQ 1159 2491 1159 1978 \nL 1159 0 \nL 581 0 \nL 581 3500 \nL 1159 3500 \nL 1159 2956 \nQ 1366 3272 1645 3428 \nQ 1925 3584 2291 3584 \nQ 2894 3584 3203 3211 \nQ 3513 2838 3513 2113 \nz\n\" transform=\"scale(0.015625)\"/>\n       <path id=\"DejaVuSans-5f\" d=\"M 3263 -1063 \nL 3263 -1509 \nL -63 -1509 \nL -63 -1063 \nL 3263 -1063 \nz\n\" transform=\"scale(0.015625)\"/>\n       <path id=\"DejaVuSans-6c\" d=\"M 603 4863 \nL 1178 4863 \nL 1178 0 \nL 603 0 \nL 603 4863 \nz\n\" transform=\"scale(0.015625)\"/>\n       <path id=\"DejaVuSans-73\" d=\"M 2834 3397 \nL 2834 2853 \nQ 2591 2978 2328 3040 \nQ 2066 3103 1784 3103 \nQ 1356 3103 1142 2972 \nQ 928 2841 928 2578 \nQ 928 2378 1081 2264 \nQ 1234 2150 1697 2047 \nL 1894 2003 \nQ 2506 1872 2764 1633 \nQ 3022 1394 3022 966 \nQ 3022 478 2636 193 \nQ 2250 -91 1575 -91 \nQ 1294 -91 989 -36 \nQ 684 19 347 128 \nL 347 722 \nQ 666 556 975 473 \nQ 1284 391 1588 391 \nQ 1994 391 2212 530 \nQ 2431 669 2431 922 \nQ 2431 1156 2273 1281 \nQ 2116 1406 1581 1522 \nL 1381 1569 \nQ 847 1681 609 1914 \nQ 372 2147 372 2553 \nQ 372 3047 722 3315 \nQ 1072 3584 1716 3584 \nQ 2034 3584 2315 3537 \nQ 2597 3491 2834 3397 \nz\n\" transform=\"scale(0.015625)\"/>\n      </defs>\n      <use xlink:href=\"#DejaVuSans-74\"/>\n      <use xlink:href=\"#DejaVuSans-72\" x=\"39.208984\"/>\n      <use xlink:href=\"#DejaVuSans-61\" x=\"80.322266\"/>\n      <use xlink:href=\"#DejaVuSans-69\" x=\"141.601562\"/>\n      <use xlink:href=\"#DejaVuSans-6e\" x=\"169.384766\"/>\n      <use xlink:href=\"#DejaVuSans-5f\" x=\"232.763672\"/>\n      <use xlink:href=\"#DejaVuSans-6c\" x=\"282.763672\"/>\n      <use xlink:href=\"#DejaVuSans-6f\" x=\"310.546875\"/>\n      <use xlink:href=\"#DejaVuSans-73\" x=\"371.728516\"/>\n      <use xlink:href=\"#DejaVuSans-73\" x=\"423.828125\"/>\n     </g>\n    </g>\n    <g id=\"line2d_128\">\n     <path d=\"M 140.8125 35.254688 \nL 150.8125 35.254688 \nL 160.8125 35.254688 \n\" style=\"fill: none; stroke-dasharray: 5.55,2.4; stroke-dashoffset: 0; stroke: #ff7f0e; stroke-width: 1.5\"/>\n    </g>\n    <g id=\"text_13\">\n     <!-- val_loss -->\n     <g transform=\"translate(168.8125 38.754688) scale(0.1 -0.1)\">\n      <defs>\n       <path id=\"DejaVuSans-76\" d=\"M 191 3500 \nL 800 3500 \nL 1894 563 \nL 2988 3500 \nL 3597 3500 \nL 2284 0 \nL 1503 0 \nL 191 3500 \nz\n\" transform=\"scale(0.015625)\"/>\n      </defs>\n      <use xlink:href=\"#DejaVuSans-76\"/>\n      <use xlink:href=\"#DejaVuSans-61\" x=\"59.179688\"/>\n      <use xlink:href=\"#DejaVuSans-6c\" x=\"120.458984\"/>\n      <use xlink:href=\"#DejaVuSans-5f\" x=\"148.242188\"/>\n      <use xlink:href=\"#DejaVuSans-6c\" x=\"198.242188\"/>\n      <use xlink:href=\"#DejaVuSans-6f\" x=\"226.025391\"/>\n      <use xlink:href=\"#DejaVuSans-73\" x=\"287.207031\"/>\n      <use xlink:href=\"#DejaVuSans-73\" x=\"339.306641\"/>\n     </g>\n    </g>\n    <g id=\"line2d_129\">\n     <path d=\"M 140.8125 50.210938 \nL 150.8125 50.210938 \nL 160.8125 50.210938 \n\" style=\"fill: none; stroke-dasharray: 9.6,2.4,1.5,2.4; stroke-dashoffset: 0; stroke: #2ca02c; stroke-width: 1.5\"/>\n    </g>\n    <g id=\"text_14\">\n     <!-- val_acc -->\n     <g transform=\"translate(168.8125 53.710938) scale(0.1 -0.1)\">\n      <use xlink:href=\"#DejaVuSans-76\"/>\n      <use xlink:href=\"#DejaVuSans-61\" x=\"59.179688\"/>\n      <use xlink:href=\"#DejaVuSans-6c\" x=\"120.458984\"/>\n      <use xlink:href=\"#DejaVuSans-5f\" x=\"148.242188\"/>\n      <use xlink:href=\"#DejaVuSans-61\" x=\"198.242188\"/>\n      <use xlink:href=\"#DejaVuSans-63\" x=\"259.521484\"/>\n      <use xlink:href=\"#DejaVuSans-63\" x=\"314.501953\"/>\n     </g>\n    </g>\n   </g>\n  </g>\n </g>\n <defs>\n  <clipPath id=\"p970be07a3c\">\n   <rect x=\"30.103125\" y=\"7.2\" width=\"195.3\" height=\"138.6\"/>\n  </clipPath>\n </defs>\n</svg>\n"
          },
          "metadata": {}
        }
      ]
    },
    {
      "cell_type": "markdown",
      "source": [
        "Discussion :\n",
        "\n",
        "*   Convolutional Neural Networks are sensitive to the image size (input dimension), mentioned by author that to put the MNIST dataset into the original AlexNet, they needed to upscale the images, is there a way to make this not necessary\n",
        "*   Is there a model/architecture that can generalize on different image resolutions\n",
        "\n"
      ],
      "metadata": {
        "id": "bnAm2RStszx5"
      }
    },
    {
      "cell_type": "markdown",
      "source": [
        "## 8.2 Network Using Blocks (VGG)"
      ],
      "metadata": {
        "id": "9Kalho_buKWj"
      }
    },
    {
      "cell_type": "markdown",
      "source": [
        "### 8.2.1 VGG Blocks"
      ],
      "metadata": {
        "id": "DibHRL1dxvwE"
      }
    },
    {
      "cell_type": "code",
      "source": [
        "def vgg_block(num_convs, out_channels):\n",
        "    layers = []\n",
        "    for _ in range(num_convs):\n",
        "        layers.append(nn.LazyConv2d(out_channels, kernel_size=3, padding=1))\n",
        "        layers.append(nn.ReLU())\n",
        "    layers.append(nn.MaxPool2d(kernel_size=2,stride=2))\n",
        "    return nn.Sequential(*layers)"
      ],
      "metadata": {
        "id": "_bT4KuFQuNqX"
      },
      "execution_count": null,
      "outputs": []
    },
    {
      "cell_type": "markdown",
      "source": [
        "### 8.2.2 VGG Network"
      ],
      "metadata": {
        "id": "kmR34MZjxxjx"
      }
    },
    {
      "cell_type": "code",
      "source": [
        "class VGG(d2l.Classifier):\n",
        "    def __init__(self, arch, lr=0.1, num_classes=10):\n",
        "        super().__init__()\n",
        "        self.save_hyperparameters()\n",
        "        conv_blks = []\n",
        "        for (num_convs, out_channels) in arch:\n",
        "            conv_blks.append(vgg_block(num_convs, out_channels))\n",
        "        self.net = nn.Sequential(\n",
        "            *conv_blks, nn.Flatten(),\n",
        "            nn.LazyLinear(4096), nn.ReLU(), nn.Dropout(0.5),\n",
        "            nn.LazyLinear(4096), nn.ReLU(), nn.Dropout(0.5),\n",
        "            nn.LazyLinear(num_classes))\n",
        "        self.net.apply(d2l.init_cnn)"
      ],
      "metadata": {
        "id": "DXuKF9cFwykO"
      },
      "execution_count": null,
      "outputs": []
    },
    {
      "cell_type": "code",
      "source": [
        "VGG(arch=((1, 64), (1, 128), (2, 256), (2, 512), (2, 512))).layer_summary(\n",
        "    (1, 1, 224, 224))"
      ],
      "metadata": {
        "id": "oguip882xjJU",
        "colab": {
          "base_uri": "https://localhost:8080/"
        },
        "outputId": "83e9b99b-40ed-4775-8b82-e5a193765e8e"
      },
      "execution_count": null,
      "outputs": [
        {
          "output_type": "stream",
          "name": "stdout",
          "text": [
            "Sequential output shape:\t torch.Size([1, 64, 112, 112])\n",
            "Sequential output shape:\t torch.Size([1, 128, 56, 56])\n",
            "Sequential output shape:\t torch.Size([1, 256, 28, 28])\n",
            "Sequential output shape:\t torch.Size([1, 512, 14, 14])\n",
            "Sequential output shape:\t torch.Size([1, 512, 7, 7])\n",
            "Flatten output shape:\t torch.Size([1, 25088])\n",
            "Linear output shape:\t torch.Size([1, 4096])\n",
            "ReLU output shape:\t torch.Size([1, 4096])\n",
            "Dropout output shape:\t torch.Size([1, 4096])\n",
            "Linear output shape:\t torch.Size([1, 4096])\n",
            "ReLU output shape:\t torch.Size([1, 4096])\n",
            "Dropout output shape:\t torch.Size([1, 4096])\n",
            "Linear output shape:\t torch.Size([1, 10])\n"
          ]
        }
      ]
    },
    {
      "cell_type": "markdown",
      "source": [
        "Notes :\n",
        "\n",
        "*   Essentially seperating and restructuring larger kernel (filters) from the typical CNN such as AlexNet into blocks of 3x3 Convolution (2 3x3 Conv is similar to 1 5x5, 3 3x3 Conv is similar to 1 7x7, etc.)\n",
        "\n"
      ],
      "metadata": {
        "id": "aPmeNbFLyuVQ"
      }
    },
    {
      "cell_type": "markdown",
      "source": [
        "### 8.2.3 Training"
      ],
      "metadata": {
        "id": "y_JQXSFwxnhl"
      }
    },
    {
      "cell_type": "code",
      "source": [
        "model = VGG(arch=((1, 16), (1, 32), (2, 64), (2, 128), (2, 128)), lr=0.01)\n",
        "trainer = d2l.Trainer(max_epochs=10, num_gpus=1)\n",
        "data = d2l.FashionMNIST(batch_size=128, resize=(224, 224))\n",
        "model.apply_init([next(iter(data.get_dataloader(True)))[0]], d2l.init_cnn)\n",
        "trainer.fit(model, data)"
      ],
      "metadata": {
        "id": "Lkt61rd5x5rn",
        "colab": {
          "base_uri": "https://localhost:8080/",
          "height": 265
        },
        "outputId": "1cf97437-c3b6-41e1-9c50-d3d865f808f2"
      },
      "execution_count": null,
      "outputs": [
        {
          "output_type": "display_data",
          "data": {
            "text/plain": [
              "<Figure size 350x250 with 1 Axes>"
            ],
            "image/svg+xml": "<?xml version=\"1.0\" encoding=\"utf-8\" standalone=\"no\"?>\n<!DOCTYPE svg PUBLIC \"-//W3C//DTD SVG 1.1//EN\"\n  \"http://www.w3.org/Graphics/SVG/1.1/DTD/svg11.dtd\">\n<svg xmlns:xlink=\"http://www.w3.org/1999/xlink\" width=\"238.965625pt\" height=\"183.35625pt\" viewBox=\"0 0 238.965625 183.35625\" xmlns=\"http://www.w3.org/2000/svg\" version=\"1.1\">\n <metadata>\n  <rdf:RDF xmlns:dc=\"http://purl.org/dc/elements/1.1/\" xmlns:cc=\"http://creativecommons.org/ns#\" xmlns:rdf=\"http://www.w3.org/1999/02/22-rdf-syntax-ns#\">\n   <cc:Work>\n    <dc:type rdf:resource=\"http://purl.org/dc/dcmitype/StillImage\"/>\n    <dc:date>2024-10-09T07:53:19.012764</dc:date>\n    <dc:format>image/svg+xml</dc:format>\n    <dc:creator>\n     <cc:Agent>\n      <dc:title>Matplotlib v3.7.2, https://matplotlib.org/</dc:title>\n     </cc:Agent>\n    </dc:creator>\n   </cc:Work>\n  </rdf:RDF>\n </metadata>\n <defs>\n  <style type=\"text/css\">*{stroke-linejoin: round; stroke-linecap: butt}</style>\n </defs>\n <g id=\"figure_1\">\n  <g id=\"patch_1\">\n   <path d=\"M 0 183.35625 \nL 238.965625 183.35625 \nL 238.965625 0 \nL 0 0 \nz\n\" style=\"fill: #ffffff\"/>\n  </g>\n  <g id=\"axes_1\">\n   <g id=\"patch_2\">\n    <path d=\"M 30.103125 145.8 \nL 225.403125 145.8 \nL 225.403125 7.2 \nL 30.103125 7.2 \nz\n\" style=\"fill: #ffffff\"/>\n   </g>\n   <g id=\"matplotlib.axis_1\">\n    <g id=\"xtick_1\">\n     <g id=\"line2d_1\">\n      <defs>\n       <path id=\"m83186aa415\" d=\"M 0 0 \nL 0 3.5 \n\" style=\"stroke: #000000; stroke-width: 0.8\"/>\n      </defs>\n      <g>\n       <use xlink:href=\"#m83186aa415\" x=\"30.103125\" y=\"145.8\" style=\"stroke: #000000; stroke-width: 0.8\"/>\n      </g>\n     </g>\n     <g id=\"text_1\">\n      <!-- 0 -->\n      <g transform=\"translate(26.921875 160.398438) scale(0.1 -0.1)\">\n       <defs>\n        <path id=\"DejaVuSans-30\" d=\"M 2034 4250 \nQ 1547 4250 1301 3770 \nQ 1056 3291 1056 2328 \nQ 1056 1369 1301 889 \nQ 1547 409 2034 409 \nQ 2525 409 2770 889 \nQ 3016 1369 3016 2328 \nQ 3016 3291 2770 3770 \nQ 2525 4250 2034 4250 \nz\nM 2034 4750 \nQ 2819 4750 3233 4129 \nQ 3647 3509 3647 2328 \nQ 3647 1150 3233 529 \nQ 2819 -91 2034 -91 \nQ 1250 -91 836 529 \nQ 422 1150 422 2328 \nQ 422 3509 836 4129 \nQ 1250 4750 2034 4750 \nz\n\" transform=\"scale(0.015625)\"/>\n       </defs>\n       <use xlink:href=\"#DejaVuSans-30\"/>\n      </g>\n     </g>\n    </g>\n    <g id=\"xtick_2\">\n     <g id=\"line2d_2\">\n      <g>\n       <use xlink:href=\"#m83186aa415\" x=\"69.163125\" y=\"145.8\" style=\"stroke: #000000; stroke-width: 0.8\"/>\n      </g>\n     </g>\n     <g id=\"text_2\">\n      <!-- 2 -->\n      <g transform=\"translate(65.981875 160.398438) scale(0.1 -0.1)\">\n       <defs>\n        <path id=\"DejaVuSans-32\" d=\"M 1228 531 \nL 3431 531 \nL 3431 0 \nL 469 0 \nL 469 531 \nQ 828 903 1448 1529 \nQ 2069 2156 2228 2338 \nQ 2531 2678 2651 2914 \nQ 2772 3150 2772 3378 \nQ 2772 3750 2511 3984 \nQ 2250 4219 1831 4219 \nQ 1534 4219 1204 4116 \nQ 875 4013 500 3803 \nL 500 4441 \nQ 881 4594 1212 4672 \nQ 1544 4750 1819 4750 \nQ 2544 4750 2975 4387 \nQ 3406 4025 3406 3419 \nQ 3406 3131 3298 2873 \nQ 3191 2616 2906 2266 \nQ 2828 2175 2409 1742 \nQ 1991 1309 1228 531 \nz\n\" transform=\"scale(0.015625)\"/>\n       </defs>\n       <use xlink:href=\"#DejaVuSans-32\"/>\n      </g>\n     </g>\n    </g>\n    <g id=\"xtick_3\">\n     <g id=\"line2d_3\">\n      <g>\n       <use xlink:href=\"#m83186aa415\" x=\"108.223125\" y=\"145.8\" style=\"stroke: #000000; stroke-width: 0.8\"/>\n      </g>\n     </g>\n     <g id=\"text_3\">\n      <!-- 4 -->\n      <g transform=\"translate(105.041875 160.398438) scale(0.1 -0.1)\">\n       <defs>\n        <path id=\"DejaVuSans-34\" d=\"M 2419 4116 \nL 825 1625 \nL 2419 1625 \nL 2419 4116 \nz\nM 2253 4666 \nL 3047 4666 \nL 3047 1625 \nL 3713 1625 \nL 3713 1100 \nL 3047 1100 \nL 3047 0 \nL 2419 0 \nL 2419 1100 \nL 313 1100 \nL 313 1709 \nL 2253 4666 \nz\n\" transform=\"scale(0.015625)\"/>\n       </defs>\n       <use xlink:href=\"#DejaVuSans-34\"/>\n      </g>\n     </g>\n    </g>\n    <g id=\"xtick_4\">\n     <g id=\"line2d_4\">\n      <g>\n       <use xlink:href=\"#m83186aa415\" x=\"147.283125\" y=\"145.8\" style=\"stroke: #000000; stroke-width: 0.8\"/>\n      </g>\n     </g>\n     <g id=\"text_4\">\n      <!-- 6 -->\n      <g transform=\"translate(144.101875 160.398438) scale(0.1 -0.1)\">\n       <defs>\n        <path id=\"DejaVuSans-36\" d=\"M 2113 2584 \nQ 1688 2584 1439 2293 \nQ 1191 2003 1191 1497 \nQ 1191 994 1439 701 \nQ 1688 409 2113 409 \nQ 2538 409 2786 701 \nQ 3034 994 3034 1497 \nQ 3034 2003 2786 2293 \nQ 2538 2584 2113 2584 \nz\nM 3366 4563 \nL 3366 3988 \nQ 3128 4100 2886 4159 \nQ 2644 4219 2406 4219 \nQ 1781 4219 1451 3797 \nQ 1122 3375 1075 2522 \nQ 1259 2794 1537 2939 \nQ 1816 3084 2150 3084 \nQ 2853 3084 3261 2657 \nQ 3669 2231 3669 1497 \nQ 3669 778 3244 343 \nQ 2819 -91 2113 -91 \nQ 1303 -91 875 529 \nQ 447 1150 447 2328 \nQ 447 3434 972 4092 \nQ 1497 4750 2381 4750 \nQ 2619 4750 2861 4703 \nQ 3103 4656 3366 4563 \nz\n\" transform=\"scale(0.015625)\"/>\n       </defs>\n       <use xlink:href=\"#DejaVuSans-36\"/>\n      </g>\n     </g>\n    </g>\n    <g id=\"xtick_5\">\n     <g id=\"line2d_5\">\n      <g>\n       <use xlink:href=\"#m83186aa415\" x=\"186.343125\" y=\"145.8\" style=\"stroke: #000000; stroke-width: 0.8\"/>\n      </g>\n     </g>\n     <g id=\"text_5\">\n      <!-- 8 -->\n      <g transform=\"translate(183.161875 160.398438) scale(0.1 -0.1)\">\n       <defs>\n        <path id=\"DejaVuSans-38\" d=\"M 2034 2216 \nQ 1584 2216 1326 1975 \nQ 1069 1734 1069 1313 \nQ 1069 891 1326 650 \nQ 1584 409 2034 409 \nQ 2484 409 2743 651 \nQ 3003 894 3003 1313 \nQ 3003 1734 2745 1975 \nQ 2488 2216 2034 2216 \nz\nM 1403 2484 \nQ 997 2584 770 2862 \nQ 544 3141 544 3541 \nQ 544 4100 942 4425 \nQ 1341 4750 2034 4750 \nQ 2731 4750 3128 4425 \nQ 3525 4100 3525 3541 \nQ 3525 3141 3298 2862 \nQ 3072 2584 2669 2484 \nQ 3125 2378 3379 2068 \nQ 3634 1759 3634 1313 \nQ 3634 634 3220 271 \nQ 2806 -91 2034 -91 \nQ 1263 -91 848 271 \nQ 434 634 434 1313 \nQ 434 1759 690 2068 \nQ 947 2378 1403 2484 \nz\nM 1172 3481 \nQ 1172 3119 1398 2916 \nQ 1625 2713 2034 2713 \nQ 2441 2713 2670 2916 \nQ 2900 3119 2900 3481 \nQ 2900 3844 2670 4047 \nQ 2441 4250 2034 4250 \nQ 1625 4250 1398 4047 \nQ 1172 3844 1172 3481 \nz\n\" transform=\"scale(0.015625)\"/>\n       </defs>\n       <use xlink:href=\"#DejaVuSans-38\"/>\n      </g>\n     </g>\n    </g>\n    <g id=\"xtick_6\">\n     <g id=\"line2d_6\">\n      <g>\n       <use xlink:href=\"#m83186aa415\" x=\"225.403125\" y=\"145.8\" style=\"stroke: #000000; stroke-width: 0.8\"/>\n      </g>\n     </g>\n     <g id=\"text_6\">\n      <!-- 10 -->\n      <g transform=\"translate(219.040625 160.398438) scale(0.1 -0.1)\">\n       <defs>\n        <path id=\"DejaVuSans-31\" d=\"M 794 531 \nL 1825 531 \nL 1825 4091 \nL 703 3866 \nL 703 4441 \nL 1819 4666 \nL 2450 4666 \nL 2450 531 \nL 3481 531 \nL 3481 0 \nL 794 0 \nL 794 531 \nz\n\" transform=\"scale(0.015625)\"/>\n       </defs>\n       <use xlink:href=\"#DejaVuSans-31\"/>\n       <use xlink:href=\"#DejaVuSans-30\" x=\"63.623047\"/>\n      </g>\n     </g>\n    </g>\n    <g id=\"text_7\">\n     <!-- epoch -->\n     <g transform=\"translate(112.525 174.076563) scale(0.1 -0.1)\">\n      <defs>\n       <path id=\"DejaVuSans-65\" d=\"M 3597 1894 \nL 3597 1613 \nL 953 1613 \nQ 991 1019 1311 708 \nQ 1631 397 2203 397 \nQ 2534 397 2845 478 \nQ 3156 559 3463 722 \nL 3463 178 \nQ 3153 47 2828 -22 \nQ 2503 -91 2169 -91 \nQ 1331 -91 842 396 \nQ 353 884 353 1716 \nQ 353 2575 817 3079 \nQ 1281 3584 2069 3584 \nQ 2775 3584 3186 3129 \nQ 3597 2675 3597 1894 \nz\nM 3022 2063 \nQ 3016 2534 2758 2815 \nQ 2500 3097 2075 3097 \nQ 1594 3097 1305 2825 \nQ 1016 2553 972 2059 \nL 3022 2063 \nz\n\" transform=\"scale(0.015625)\"/>\n       <path id=\"DejaVuSans-70\" d=\"M 1159 525 \nL 1159 -1331 \nL 581 -1331 \nL 581 3500 \nL 1159 3500 \nL 1159 2969 \nQ 1341 3281 1617 3432 \nQ 1894 3584 2278 3584 \nQ 2916 3584 3314 3078 \nQ 3713 2572 3713 1747 \nQ 3713 922 3314 415 \nQ 2916 -91 2278 -91 \nQ 1894 -91 1617 61 \nQ 1341 213 1159 525 \nz\nM 3116 1747 \nQ 3116 2381 2855 2742 \nQ 2594 3103 2138 3103 \nQ 1681 3103 1420 2742 \nQ 1159 2381 1159 1747 \nQ 1159 1113 1420 752 \nQ 1681 391 2138 391 \nQ 2594 391 2855 752 \nQ 3116 1113 3116 1747 \nz\n\" transform=\"scale(0.015625)\"/>\n       <path id=\"DejaVuSans-6f\" d=\"M 1959 3097 \nQ 1497 3097 1228 2736 \nQ 959 2375 959 1747 \nQ 959 1119 1226 758 \nQ 1494 397 1959 397 \nQ 2419 397 2687 759 \nQ 2956 1122 2956 1747 \nQ 2956 2369 2687 2733 \nQ 2419 3097 1959 3097 \nz\nM 1959 3584 \nQ 2709 3584 3137 3096 \nQ 3566 2609 3566 1747 \nQ 3566 888 3137 398 \nQ 2709 -91 1959 -91 \nQ 1206 -91 779 398 \nQ 353 888 353 1747 \nQ 353 2609 779 3096 \nQ 1206 3584 1959 3584 \nz\n\" transform=\"scale(0.015625)\"/>\n       <path id=\"DejaVuSans-63\" d=\"M 3122 3366 \nL 3122 2828 \nQ 2878 2963 2633 3030 \nQ 2388 3097 2138 3097 \nQ 1578 3097 1268 2742 \nQ 959 2388 959 1747 \nQ 959 1106 1268 751 \nQ 1578 397 2138 397 \nQ 2388 397 2633 464 \nQ 2878 531 3122 666 \nL 3122 134 \nQ 2881 22 2623 -34 \nQ 2366 -91 2075 -91 \nQ 1284 -91 818 406 \nQ 353 903 353 1747 \nQ 353 2603 823 3093 \nQ 1294 3584 2113 3584 \nQ 2378 3584 2631 3529 \nQ 2884 3475 3122 3366 \nz\n\" transform=\"scale(0.015625)\"/>\n       <path id=\"DejaVuSans-68\" d=\"M 3513 2113 \nL 3513 0 \nL 2938 0 \nL 2938 2094 \nQ 2938 2591 2744 2837 \nQ 2550 3084 2163 3084 \nQ 1697 3084 1428 2787 \nQ 1159 2491 1159 1978 \nL 1159 0 \nL 581 0 \nL 581 4863 \nL 1159 4863 \nL 1159 2956 \nQ 1366 3272 1645 3428 \nQ 1925 3584 2291 3584 \nQ 2894 3584 3203 3211 \nQ 3513 2838 3513 2113 \nz\n\" transform=\"scale(0.015625)\"/>\n      </defs>\n      <use xlink:href=\"#DejaVuSans-65\"/>\n      <use xlink:href=\"#DejaVuSans-70\" x=\"61.523438\"/>\n      <use xlink:href=\"#DejaVuSans-6f\" x=\"125\"/>\n      <use xlink:href=\"#DejaVuSans-63\" x=\"186.181641\"/>\n      <use xlink:href=\"#DejaVuSans-68\" x=\"241.162109\"/>\n     </g>\n    </g>\n   </g>\n   <g id=\"matplotlib.axis_2\">\n    <g id=\"ytick_1\">\n     <g id=\"line2d_7\">\n      <defs>\n       <path id=\"mcaf2c4612d\" d=\"M 0 0 \nL -3.5 0 \n\" style=\"stroke: #000000; stroke-width: 0.8\"/>\n      </defs>\n      <g>\n       <use xlink:href=\"#mcaf2c4612d\" x=\"30.103125\" y=\"126.538641\" style=\"stroke: #000000; stroke-width: 0.8\"/>\n      </g>\n     </g>\n     <g id=\"text_8\">\n      <!-- 0.5 -->\n      <g transform=\"translate(7.2 130.337859) scale(0.1 -0.1)\">\n       <defs>\n        <path id=\"DejaVuSans-2e\" d=\"M 684 794 \nL 1344 794 \nL 1344 0 \nL 684 0 \nL 684 794 \nz\n\" transform=\"scale(0.015625)\"/>\n        <path id=\"DejaVuSans-35\" d=\"M 691 4666 \nL 3169 4666 \nL 3169 4134 \nL 1269 4134 \nL 1269 2991 \nQ 1406 3038 1543 3061 \nQ 1681 3084 1819 3084 \nQ 2600 3084 3056 2656 \nQ 3513 2228 3513 1497 \nQ 3513 744 3044 326 \nQ 2575 -91 1722 -91 \nQ 1428 -91 1123 -41 \nQ 819 9 494 109 \nL 494 744 \nQ 775 591 1075 516 \nQ 1375 441 1709 441 \nQ 2250 441 2565 725 \nQ 2881 1009 2881 1497 \nQ 2881 1984 2565 2268 \nQ 2250 2553 1709 2553 \nQ 1456 2553 1204 2497 \nQ 953 2441 691 2322 \nL 691 4666 \nz\n\" transform=\"scale(0.015625)\"/>\n       </defs>\n       <use xlink:href=\"#DejaVuSans-30\"/>\n       <use xlink:href=\"#DejaVuSans-2e\" x=\"63.623047\"/>\n       <use xlink:href=\"#DejaVuSans-35\" x=\"95.410156\"/>\n      </g>\n     </g>\n    </g>\n    <g id=\"ytick_2\">\n     <g id=\"line2d_8\">\n      <g>\n       <use xlink:href=\"#mcaf2c4612d\" x=\"30.103125\" y=\"95.039063\" style=\"stroke: #000000; stroke-width: 0.8\"/>\n      </g>\n     </g>\n     <g id=\"text_9\">\n      <!-- 1.0 -->\n      <g transform=\"translate(7.2 98.838282) scale(0.1 -0.1)\">\n       <use xlink:href=\"#DejaVuSans-31\"/>\n       <use xlink:href=\"#DejaVuSans-2e\" x=\"63.623047\"/>\n       <use xlink:href=\"#DejaVuSans-30\" x=\"95.410156\"/>\n      </g>\n     </g>\n    </g>\n    <g id=\"ytick_3\">\n     <g id=\"line2d_9\">\n      <g>\n       <use xlink:href=\"#mcaf2c4612d\" x=\"30.103125\" y=\"63.539485\" style=\"stroke: #000000; stroke-width: 0.8\"/>\n      </g>\n     </g>\n     <g id=\"text_10\">\n      <!-- 1.5 -->\n      <g transform=\"translate(7.2 67.338704) scale(0.1 -0.1)\">\n       <use xlink:href=\"#DejaVuSans-31\"/>\n       <use xlink:href=\"#DejaVuSans-2e\" x=\"63.623047\"/>\n       <use xlink:href=\"#DejaVuSans-35\" x=\"95.410156\"/>\n      </g>\n     </g>\n    </g>\n    <g id=\"ytick_4\">\n     <g id=\"line2d_10\">\n      <g>\n       <use xlink:href=\"#mcaf2c4612d\" x=\"30.103125\" y=\"32.039908\" style=\"stroke: #000000; stroke-width: 0.8\"/>\n      </g>\n     </g>\n     <g id=\"text_11\">\n      <!-- 2.0 -->\n      <g transform=\"translate(7.2 35.839127) scale(0.1 -0.1)\">\n       <use xlink:href=\"#DejaVuSans-32\"/>\n       <use xlink:href=\"#DejaVuSans-2e\" x=\"63.623047\"/>\n       <use xlink:href=\"#DejaVuSans-30\" x=\"95.410156\"/>\n      </g>\n     </g>\n    </g>\n   </g>\n   <g id=\"line2d_11\">\n    <path d=\"M 34.954394 13.5 \n\" clip-path=\"url(#p65e34465b7)\" style=\"fill: none; stroke: #1f77b4; stroke-width: 1.5; stroke-linecap: square\"/>\n   </g>\n   <g id=\"line2d_12\">\n    <path d=\"M 34.954394 13.5 \nL 44.698573 77.581469 \n\" clip-path=\"url(#p65e34465b7)\" style=\"fill: none; stroke: #1f77b4; stroke-width: 1.5; stroke-linecap: square\"/>\n   </g>\n   <g id=\"line2d_13\">\n    <path d=\"M 34.954394 13.5 \nL 44.698573 77.581469 \n\" clip-path=\"url(#p65e34465b7)\" style=\"fill: none; stroke: #1f77b4; stroke-width: 1.5; stroke-linecap: square\"/>\n   </g>\n   <g id=\"line2d_14\">\n    <path d=\"M 49.633125 107.194882 \n\" clip-path=\"url(#p65e34465b7)\" style=\"fill: none; stroke-dasharray: 5.55,2.4; stroke-dashoffset: 0; stroke: #ff7f0e; stroke-width: 1.5\"/>\n   </g>\n   <g id=\"line2d_15\"/>\n   <g id=\"line2d_16\">\n    <path d=\"M 34.954394 13.5 \nL 44.698573 77.581469 \n\" clip-path=\"url(#p65e34465b7)\" style=\"fill: none; stroke: #1f77b4; stroke-width: 1.5; stroke-linecap: square\"/>\n   </g>\n   <g id=\"line2d_17\">\n    <path d=\"M 49.633125 107.194882 \n\" clip-path=\"url(#p65e34465b7)\" style=\"fill: none; stroke-dasharray: 5.55,2.4; stroke-dashoffset: 0; stroke: #ff7f0e; stroke-width: 1.5\"/>\n   </g>\n   <g id=\"line2d_18\">\n    <path d=\"M 49.633125 114.371181 \n\" clip-path=\"url(#p65e34465b7)\" style=\"fill: none; stroke-dasharray: 9.6,2.4,1.5,2.4; stroke-dashoffset: 0; stroke: #2ca02c; stroke-width: 1.5\"/>\n   </g>\n   <g id=\"line2d_19\">\n    <path d=\"M 34.954394 13.5 \nL 44.698573 77.581469 \nL 54.442752 112.735602 \n\" clip-path=\"url(#p65e34465b7)\" style=\"fill: none; stroke: #1f77b4; stroke-width: 1.5; stroke-linecap: square\"/>\n   </g>\n   <g id=\"line2d_20\">\n    <path d=\"M 49.633125 107.194882 \n\" clip-path=\"url(#p65e34465b7)\" style=\"fill: none; stroke-dasharray: 5.55,2.4; stroke-dashoffset: 0; stroke: #ff7f0e; stroke-width: 1.5\"/>\n   </g>\n   <g id=\"line2d_21\">\n    <path d=\"M 49.633125 114.371181 \n\" clip-path=\"url(#p65e34465b7)\" style=\"fill: none; stroke-dasharray: 9.6,2.4,1.5,2.4; stroke-dashoffset: 0; stroke: #2ca02c; stroke-width: 1.5\"/>\n   </g>\n   <g id=\"line2d_22\">\n    <path d=\"M 34.954394 13.5 \nL 44.698573 77.581469 \nL 54.442752 112.735602 \nL 64.186931 120.136266 \n\" clip-path=\"url(#p65e34465b7)\" style=\"fill: none; stroke: #1f77b4; stroke-width: 1.5; stroke-linecap: square\"/>\n   </g>\n   <g id=\"line2d_23\">\n    <path d=\"M 49.633125 107.194882 \n\" clip-path=\"url(#p65e34465b7)\" style=\"fill: none; stroke-dasharray: 5.55,2.4; stroke-dashoffset: 0; stroke: #ff7f0e; stroke-width: 1.5\"/>\n   </g>\n   <g id=\"line2d_24\">\n    <path d=\"M 49.633125 114.371181 \n\" clip-path=\"url(#p65e34465b7)\" style=\"fill: none; stroke-dasharray: 9.6,2.4,1.5,2.4; stroke-dashoffset: 0; stroke: #2ca02c; stroke-width: 1.5\"/>\n   </g>\n   <g id=\"line2d_25\">\n    <path d=\"M 34.954394 13.5 \nL 44.698573 77.581469 \nL 54.442752 112.735602 \nL 64.186931 120.136266 \n\" clip-path=\"url(#p65e34465b7)\" style=\"fill: none; stroke: #1f77b4; stroke-width: 1.5; stroke-linecap: square\"/>\n   </g>\n   <g id=\"line2d_26\">\n    <path d=\"M 49.633125 107.194882 \nL 69.163125 126.373131 \n\" clip-path=\"url(#p65e34465b7)\" style=\"fill: none; stroke-dasharray: 5.55,2.4; stroke-dashoffset: 0; stroke: #ff7f0e; stroke-width: 1.5\"/>\n   </g>\n   <g id=\"line2d_27\">\n    <path d=\"M 49.633125 114.371181 \n\" clip-path=\"url(#p65e34465b7)\" style=\"fill: none; stroke-dasharray: 9.6,2.4,1.5,2.4; stroke-dashoffset: 0; stroke: #2ca02c; stroke-width: 1.5\"/>\n   </g>\n   <g id=\"line2d_28\">\n    <path d=\"M 34.954394 13.5 \nL 44.698573 77.581469 \nL 54.442752 112.735602 \nL 64.186931 120.136266 \n\" clip-path=\"url(#p65e34465b7)\" style=\"fill: none; stroke: #1f77b4; stroke-width: 1.5; stroke-linecap: square\"/>\n   </g>\n   <g id=\"line2d_29\">\n    <path d=\"M 49.633125 107.194882 \nL 69.163125 126.373131 \n\" clip-path=\"url(#p65e34465b7)\" style=\"fill: none; stroke-dasharray: 5.55,2.4; stroke-dashoffset: 0; stroke: #ff7f0e; stroke-width: 1.5\"/>\n   </g>\n   <g id=\"line2d_30\">\n    <path d=\"M 49.633125 114.371181 \nL 69.163125 106.851405 \n\" clip-path=\"url(#p65e34465b7)\" style=\"fill: none; stroke-dasharray: 9.6,2.4,1.5,2.4; stroke-dashoffset: 0; stroke: #2ca02c; stroke-width: 1.5\"/>\n   </g>\n   <g id=\"line2d_31\">\n    <path d=\"M 34.954394 13.5 \nL 44.698573 77.581469 \nL 54.442752 112.735602 \nL 64.186931 120.136266 \nL 73.93111 125.099813 \n\" clip-path=\"url(#p65e34465b7)\" style=\"fill: none; stroke: #1f77b4; stroke-width: 1.5; stroke-linecap: square\"/>\n   </g>\n   <g id=\"line2d_32\">\n    <path d=\"M 49.633125 107.194882 \nL 69.163125 126.373131 \n\" clip-path=\"url(#p65e34465b7)\" style=\"fill: none; stroke-dasharray: 5.55,2.4; stroke-dashoffset: 0; stroke: #ff7f0e; stroke-width: 1.5\"/>\n   </g>\n   <g id=\"line2d_33\">\n    <path d=\"M 49.633125 114.371181 \nL 69.163125 106.851405 \n\" clip-path=\"url(#p65e34465b7)\" style=\"fill: none; stroke-dasharray: 9.6,2.4,1.5,2.4; stroke-dashoffset: 0; stroke: #2ca02c; stroke-width: 1.5\"/>\n   </g>\n   <g id=\"line2d_34\">\n    <path d=\"M 34.954394 13.5 \nL 44.698573 77.581469 \nL 54.442752 112.735602 \nL 64.186931 120.136266 \nL 73.93111 125.099813 \nL 83.675289 127.82207 \n\" clip-path=\"url(#p65e34465b7)\" style=\"fill: none; stroke: #1f77b4; stroke-width: 1.5; stroke-linecap: square\"/>\n   </g>\n   <g id=\"line2d_35\">\n    <path d=\"M 49.633125 107.194882 \nL 69.163125 126.373131 \n\" clip-path=\"url(#p65e34465b7)\" style=\"fill: none; stroke-dasharray: 5.55,2.4; stroke-dashoffset: 0; stroke: #ff7f0e; stroke-width: 1.5\"/>\n   </g>\n   <g id=\"line2d_36\">\n    <path d=\"M 49.633125 114.371181 \nL 69.163125 106.851405 \n\" clip-path=\"url(#p65e34465b7)\" style=\"fill: none; stroke-dasharray: 9.6,2.4,1.5,2.4; stroke-dashoffset: 0; stroke: #2ca02c; stroke-width: 1.5\"/>\n   </g>\n   <g id=\"line2d_37\">\n    <path d=\"M 34.954394 13.5 \nL 44.698573 77.581469 \nL 54.442752 112.735602 \nL 64.186931 120.136266 \nL 73.93111 125.099813 \nL 83.675289 127.82207 \n\" clip-path=\"url(#p65e34465b7)\" style=\"fill: none; stroke: #1f77b4; stroke-width: 1.5; stroke-linecap: square\"/>\n   </g>\n   <g id=\"line2d_38\">\n    <path d=\"M 49.633125 107.194882 \nL 69.163125 126.373131 \nL 88.693125 130.077272 \n\" clip-path=\"url(#p65e34465b7)\" style=\"fill: none; stroke-dasharray: 5.55,2.4; stroke-dashoffset: 0; stroke: #ff7f0e; stroke-width: 1.5\"/>\n   </g>\n   <g id=\"line2d_39\">\n    <path d=\"M 49.633125 114.371181 \nL 69.163125 106.851405 \n\" clip-path=\"url(#p65e34465b7)\" style=\"fill: none; stroke-dasharray: 9.6,2.4,1.5,2.4; stroke-dashoffset: 0; stroke: #2ca02c; stroke-width: 1.5\"/>\n   </g>\n   <g id=\"line2d_40\">\n    <path d=\"M 34.954394 13.5 \nL 44.698573 77.581469 \nL 54.442752 112.735602 \nL 64.186931 120.136266 \nL 73.93111 125.099813 \nL 83.675289 127.82207 \n\" clip-path=\"url(#p65e34465b7)\" style=\"fill: none; stroke: #1f77b4; stroke-width: 1.5; stroke-linecap: square\"/>\n   </g>\n   <g id=\"line2d_41\">\n    <path d=\"M 49.633125 107.194882 \nL 69.163125 126.373131 \nL 88.693125 130.077272 \n\" clip-path=\"url(#p65e34465b7)\" style=\"fill: none; stroke-dasharray: 5.55,2.4; stroke-dashoffset: 0; stroke: #ff7f0e; stroke-width: 1.5\"/>\n   </g>\n   <g id=\"line2d_42\">\n    <path d=\"M 49.633125 114.371181 \nL 69.163125 106.851405 \nL 88.693125 105.181728 \n\" clip-path=\"url(#p65e34465b7)\" style=\"fill: none; stroke-dasharray: 9.6,2.4,1.5,2.4; stroke-dashoffset: 0; stroke: #2ca02c; stroke-width: 1.5\"/>\n   </g>\n   <g id=\"line2d_43\">\n    <path d=\"M 34.954394 13.5 \nL 44.698573 77.581469 \nL 54.442752 112.735602 \nL 64.186931 120.136266 \nL 73.93111 125.099813 \nL 83.675289 127.82207 \nL 93.419468 129.703254 \n\" clip-path=\"url(#p65e34465b7)\" style=\"fill: none; stroke: #1f77b4; stroke-width: 1.5; stroke-linecap: square\"/>\n   </g>\n   <g id=\"line2d_44\">\n    <path d=\"M 49.633125 107.194882 \nL 69.163125 126.373131 \nL 88.693125 130.077272 \n\" clip-path=\"url(#p65e34465b7)\" style=\"fill: none; stroke-dasharray: 5.55,2.4; stroke-dashoffset: 0; stroke: #ff7f0e; stroke-width: 1.5\"/>\n   </g>\n   <g id=\"line2d_45\">\n    <path d=\"M 49.633125 114.371181 \nL 69.163125 106.851405 \nL 88.693125 105.181728 \n\" clip-path=\"url(#p65e34465b7)\" style=\"fill: none; stroke-dasharray: 9.6,2.4,1.5,2.4; stroke-dashoffset: 0; stroke: #2ca02c; stroke-width: 1.5\"/>\n   </g>\n   <g id=\"line2d_46\">\n    <path d=\"M 34.954394 13.5 \nL 44.698573 77.581469 \nL 54.442752 112.735602 \nL 64.186931 120.136266 \nL 73.93111 125.099813 \nL 83.675289 127.82207 \nL 93.419468 129.703254 \nL 103.163647 131.389868 \n\" clip-path=\"url(#p65e34465b7)\" style=\"fill: none; stroke: #1f77b4; stroke-width: 1.5; stroke-linecap: square\"/>\n   </g>\n   <g id=\"line2d_47\">\n    <path d=\"M 49.633125 107.194882 \nL 69.163125 126.373131 \nL 88.693125 130.077272 \n\" clip-path=\"url(#p65e34465b7)\" style=\"fill: none; stroke-dasharray: 5.55,2.4; stroke-dashoffset: 0; stroke: #ff7f0e; stroke-width: 1.5\"/>\n   </g>\n   <g id=\"line2d_48\">\n    <path d=\"M 49.633125 114.371181 \nL 69.163125 106.851405 \nL 88.693125 105.181728 \n\" clip-path=\"url(#p65e34465b7)\" style=\"fill: none; stroke-dasharray: 9.6,2.4,1.5,2.4; stroke-dashoffset: 0; stroke: #2ca02c; stroke-width: 1.5\"/>\n   </g>\n   <g id=\"line2d_49\">\n    <path d=\"M 34.954394 13.5 \nL 44.698573 77.581469 \nL 54.442752 112.735602 \nL 64.186931 120.136266 \nL 73.93111 125.099813 \nL 83.675289 127.82207 \nL 93.419468 129.703254 \nL 103.163647 131.389868 \n\" clip-path=\"url(#p65e34465b7)\" style=\"fill: none; stroke: #1f77b4; stroke-width: 1.5; stroke-linecap: square\"/>\n   </g>\n   <g id=\"line2d_50\">\n    <path d=\"M 49.633125 107.194882 \nL 69.163125 126.373131 \nL 88.693125 130.077272 \nL 108.223125 133.424163 \n\" clip-path=\"url(#p65e34465b7)\" style=\"fill: none; stroke-dasharray: 5.55,2.4; stroke-dashoffset: 0; stroke: #ff7f0e; stroke-width: 1.5\"/>\n   </g>\n   <g id=\"line2d_51\">\n    <path d=\"M 49.633125 114.371181 \nL 69.163125 106.851405 \nL 88.693125 105.181728 \n\" clip-path=\"url(#p65e34465b7)\" style=\"fill: none; stroke-dasharray: 9.6,2.4,1.5,2.4; stroke-dashoffset: 0; stroke: #2ca02c; stroke-width: 1.5\"/>\n   </g>\n   <g id=\"line2d_52\">\n    <path d=\"M 34.954394 13.5 \nL 44.698573 77.581469 \nL 54.442752 112.735602 \nL 64.186931 120.136266 \nL 73.93111 125.099813 \nL 83.675289 127.82207 \nL 93.419468 129.703254 \nL 103.163647 131.389868 \n\" clip-path=\"url(#p65e34465b7)\" style=\"fill: none; stroke: #1f77b4; stroke-width: 1.5; stroke-linecap: square\"/>\n   </g>\n   <g id=\"line2d_53\">\n    <path d=\"M 49.633125 107.194882 \nL 69.163125 126.373131 \nL 88.693125 130.077272 \nL 108.223125 133.424163 \n\" clip-path=\"url(#p65e34465b7)\" style=\"fill: none; stroke-dasharray: 5.55,2.4; stroke-dashoffset: 0; stroke: #ff7f0e; stroke-width: 1.5\"/>\n   </g>\n   <g id=\"line2d_54\">\n    <path d=\"M 49.633125 114.371181 \nL 69.163125 106.851405 \nL 88.693125 105.181728 \nL 108.223125 104.072763 \n\" clip-path=\"url(#p65e34465b7)\" style=\"fill: none; stroke-dasharray: 9.6,2.4,1.5,2.4; stroke-dashoffset: 0; stroke: #2ca02c; stroke-width: 1.5\"/>\n   </g>\n   <g id=\"line2d_55\">\n    <path d=\"M 34.954394 13.5 \nL 44.698573 77.581469 \nL 54.442752 112.735602 \nL 64.186931 120.136266 \nL 73.93111 125.099813 \nL 83.675289 127.82207 \nL 93.419468 129.703254 \nL 103.163647 131.389868 \nL 112.907826 132.328888 \n\" clip-path=\"url(#p65e34465b7)\" style=\"fill: none; stroke: #1f77b4; stroke-width: 1.5; stroke-linecap: square\"/>\n   </g>\n   <g id=\"line2d_56\">\n    <path d=\"M 49.633125 107.194882 \nL 69.163125 126.373131 \nL 88.693125 130.077272 \nL 108.223125 133.424163 \n\" clip-path=\"url(#p65e34465b7)\" style=\"fill: none; stroke-dasharray: 5.55,2.4; stroke-dashoffset: 0; stroke: #ff7f0e; stroke-width: 1.5\"/>\n   </g>\n   <g id=\"line2d_57\">\n    <path d=\"M 49.633125 114.371181 \nL 69.163125 106.851405 \nL 88.693125 105.181728 \nL 108.223125 104.072763 \n\" clip-path=\"url(#p65e34465b7)\" style=\"fill: none; stroke-dasharray: 9.6,2.4,1.5,2.4; stroke-dashoffset: 0; stroke: #2ca02c; stroke-width: 1.5\"/>\n   </g>\n   <g id=\"line2d_58\">\n    <path d=\"M 34.954394 13.5 \nL 44.698573 77.581469 \nL 54.442752 112.735602 \nL 64.186931 120.136266 \nL 73.93111 125.099813 \nL 83.675289 127.82207 \nL 93.419468 129.703254 \nL 103.163647 131.389868 \nL 112.907826 132.328888 \nL 122.652006 133.725011 \n\" clip-path=\"url(#p65e34465b7)\" style=\"fill: none; stroke: #1f77b4; stroke-width: 1.5; stroke-linecap: square\"/>\n   </g>\n   <g id=\"line2d_59\">\n    <path d=\"M 49.633125 107.194882 \nL 69.163125 126.373131 \nL 88.693125 130.077272 \nL 108.223125 133.424163 \n\" clip-path=\"url(#p65e34465b7)\" style=\"fill: none; stroke-dasharray: 5.55,2.4; stroke-dashoffset: 0; stroke: #ff7f0e; stroke-width: 1.5\"/>\n   </g>\n   <g id=\"line2d_60\">\n    <path d=\"M 49.633125 114.371181 \nL 69.163125 106.851405 \nL 88.693125 105.181728 \nL 108.223125 104.072763 \n\" clip-path=\"url(#p65e34465b7)\" style=\"fill: none; stroke-dasharray: 9.6,2.4,1.5,2.4; stroke-dashoffset: 0; stroke: #2ca02c; stroke-width: 1.5\"/>\n   </g>\n   <g id=\"line2d_61\">\n    <path d=\"M 34.954394 13.5 \nL 44.698573 77.581469 \nL 54.442752 112.735602 \nL 64.186931 120.136266 \nL 73.93111 125.099813 \nL 83.675289 127.82207 \nL 93.419468 129.703254 \nL 103.163647 131.389868 \nL 112.907826 132.328888 \nL 122.652006 133.725011 \n\" clip-path=\"url(#p65e34465b7)\" style=\"fill: none; stroke: #1f77b4; stroke-width: 1.5; stroke-linecap: square\"/>\n   </g>\n   <g id=\"line2d_62\">\n    <path d=\"M 49.633125 107.194882 \nL 69.163125 126.373131 \nL 88.693125 130.077272 \nL 108.223125 133.424163 \nL 127.753125 135.419721 \n\" clip-path=\"url(#p65e34465b7)\" style=\"fill: none; stroke-dasharray: 5.55,2.4; stroke-dashoffset: 0; stroke: #ff7f0e; stroke-width: 1.5\"/>\n   </g>\n   <g id=\"line2d_63\">\n    <path d=\"M 49.633125 114.371181 \nL 69.163125 106.851405 \nL 88.693125 105.181728 \nL 108.223125 104.072763 \n\" clip-path=\"url(#p65e34465b7)\" style=\"fill: none; stroke-dasharray: 9.6,2.4,1.5,2.4; stroke-dashoffset: 0; stroke: #2ca02c; stroke-width: 1.5\"/>\n   </g>\n   <g id=\"line2d_64\">\n    <path d=\"M 34.954394 13.5 \nL 44.698573 77.581469 \nL 54.442752 112.735602 \nL 64.186931 120.136266 \nL 73.93111 125.099813 \nL 83.675289 127.82207 \nL 93.419468 129.703254 \nL 103.163647 131.389868 \nL 112.907826 132.328888 \nL 122.652006 133.725011 \n\" clip-path=\"url(#p65e34465b7)\" style=\"fill: none; stroke: #1f77b4; stroke-width: 1.5; stroke-linecap: square\"/>\n   </g>\n   <g id=\"line2d_65\">\n    <path d=\"M 49.633125 107.194882 \nL 69.163125 126.373131 \nL 88.693125 130.077272 \nL 108.223125 133.424163 \nL 127.753125 135.419721 \n\" clip-path=\"url(#p65e34465b7)\" style=\"fill: none; stroke-dasharray: 5.55,2.4; stroke-dashoffset: 0; stroke: #ff7f0e; stroke-width: 1.5\"/>\n   </g>\n   <g id=\"line2d_66\">\n    <path d=\"M 49.633125 114.371181 \nL 69.163125 106.851405 \nL 88.693125 105.181728 \nL 108.223125 104.072763 \nL 127.753125 103.200544 \n\" clip-path=\"url(#p65e34465b7)\" style=\"fill: none; stroke-dasharray: 9.6,2.4,1.5,2.4; stroke-dashoffset: 0; stroke: #2ca02c; stroke-width: 1.5\"/>\n   </g>\n   <g id=\"line2d_67\">\n    <path d=\"M 34.954394 13.5 \nL 44.698573 77.581469 \nL 54.442752 112.735602 \nL 64.186931 120.136266 \nL 73.93111 125.099813 \nL 83.675289 127.82207 \nL 93.419468 129.703254 \nL 103.163647 131.389868 \nL 112.907826 132.328888 \nL 122.652006 133.725011 \nL 132.396185 134.549214 \n\" clip-path=\"url(#p65e34465b7)\" style=\"fill: none; stroke: #1f77b4; stroke-width: 1.5; stroke-linecap: square\"/>\n   </g>\n   <g id=\"line2d_68\">\n    <path d=\"M 49.633125 107.194882 \nL 69.163125 126.373131 \nL 88.693125 130.077272 \nL 108.223125 133.424163 \nL 127.753125 135.419721 \n\" clip-path=\"url(#p65e34465b7)\" style=\"fill: none; stroke-dasharray: 5.55,2.4; stroke-dashoffset: 0; stroke: #ff7f0e; stroke-width: 1.5\"/>\n   </g>\n   <g id=\"line2d_69\">\n    <path d=\"M 49.633125 114.371181 \nL 69.163125 106.851405 \nL 88.693125 105.181728 \nL 108.223125 104.072763 \nL 127.753125 103.200544 \n\" clip-path=\"url(#p65e34465b7)\" style=\"fill: none; stroke-dasharray: 9.6,2.4,1.5,2.4; stroke-dashoffset: 0; stroke: #2ca02c; stroke-width: 1.5\"/>\n   </g>\n   <g id=\"line2d_70\">\n    <path d=\"M 34.954394 13.5 \nL 44.698573 77.581469 \nL 54.442752 112.735602 \nL 64.186931 120.136266 \nL 73.93111 125.099813 \nL 83.675289 127.82207 \nL 93.419468 129.703254 \nL 103.163647 131.389868 \nL 112.907826 132.328888 \nL 122.652006 133.725011 \nL 132.396185 134.549214 \nL 142.140364 135.139896 \n\" clip-path=\"url(#p65e34465b7)\" style=\"fill: none; stroke: #1f77b4; stroke-width: 1.5; stroke-linecap: square\"/>\n   </g>\n   <g id=\"line2d_71\">\n    <path d=\"M 49.633125 107.194882 \nL 69.163125 126.373131 \nL 88.693125 130.077272 \nL 108.223125 133.424163 \nL 127.753125 135.419721 \n\" clip-path=\"url(#p65e34465b7)\" style=\"fill: none; stroke-dasharray: 5.55,2.4; stroke-dashoffset: 0; stroke: #ff7f0e; stroke-width: 1.5\"/>\n   </g>\n   <g id=\"line2d_72\">\n    <path d=\"M 49.633125 114.371181 \nL 69.163125 106.851405 \nL 88.693125 105.181728 \nL 108.223125 104.072763 \nL 127.753125 103.200544 \n\" clip-path=\"url(#p65e34465b7)\" style=\"fill: none; stroke-dasharray: 9.6,2.4,1.5,2.4; stroke-dashoffset: 0; stroke: #2ca02c; stroke-width: 1.5\"/>\n   </g>\n   <g id=\"line2d_73\">\n    <path d=\"M 34.954394 13.5 \nL 44.698573 77.581469 \nL 54.442752 112.735602 \nL 64.186931 120.136266 \nL 73.93111 125.099813 \nL 83.675289 127.82207 \nL 93.419468 129.703254 \nL 103.163647 131.389868 \nL 112.907826 132.328888 \nL 122.652006 133.725011 \nL 132.396185 134.549214 \nL 142.140364 135.139896 \n\" clip-path=\"url(#p65e34465b7)\" style=\"fill: none; stroke: #1f77b4; stroke-width: 1.5; stroke-linecap: square\"/>\n   </g>\n   <g id=\"line2d_74\">\n    <path d=\"M 49.633125 107.194882 \nL 69.163125 126.373131 \nL 88.693125 130.077272 \nL 108.223125 133.424163 \nL 127.753125 135.419721 \nL 147.283125 135.604196 \n\" clip-path=\"url(#p65e34465b7)\" style=\"fill: none; stroke-dasharray: 5.55,2.4; stroke-dashoffset: 0; stroke: #ff7f0e; stroke-width: 1.5\"/>\n   </g>\n   <g id=\"line2d_75\">\n    <path d=\"M 49.633125 114.371181 \nL 69.163125 106.851405 \nL 88.693125 105.181728 \nL 108.223125 104.072763 \nL 127.753125 103.200544 \n\" clip-path=\"url(#p65e34465b7)\" style=\"fill: none; stroke-dasharray: 9.6,2.4,1.5,2.4; stroke-dashoffset: 0; stroke: #2ca02c; stroke-width: 1.5\"/>\n   </g>\n   <g id=\"line2d_76\">\n    <path d=\"M 34.954394 13.5 \nL 44.698573 77.581469 \nL 54.442752 112.735602 \nL 64.186931 120.136266 \nL 73.93111 125.099813 \nL 83.675289 127.82207 \nL 93.419468 129.703254 \nL 103.163647 131.389868 \nL 112.907826 132.328888 \nL 122.652006 133.725011 \nL 132.396185 134.549214 \nL 142.140364 135.139896 \n\" clip-path=\"url(#p65e34465b7)\" style=\"fill: none; stroke: #1f77b4; stroke-width: 1.5; stroke-linecap: square\"/>\n   </g>\n   <g id=\"line2d_77\">\n    <path d=\"M 49.633125 107.194882 \nL 69.163125 126.373131 \nL 88.693125 130.077272 \nL 108.223125 133.424163 \nL 127.753125 135.419721 \nL 147.283125 135.604196 \n\" clip-path=\"url(#p65e34465b7)\" style=\"fill: none; stroke-dasharray: 5.55,2.4; stroke-dashoffset: 0; stroke: #ff7f0e; stroke-width: 1.5\"/>\n   </g>\n   <g id=\"line2d_78\">\n    <path d=\"M 49.633125 114.371181 \nL 69.163125 106.851405 \nL 88.693125 105.181728 \nL 108.223125 104.072763 \nL 127.753125 103.200544 \nL 147.283125 103.406138 \n\" clip-path=\"url(#p65e34465b7)\" style=\"fill: none; stroke-dasharray: 9.6,2.4,1.5,2.4; stroke-dashoffset: 0; stroke: #2ca02c; stroke-width: 1.5\"/>\n   </g>\n   <g id=\"line2d_79\">\n    <path d=\"M 34.954394 13.5 \nL 44.698573 77.581469 \nL 54.442752 112.735602 \nL 64.186931 120.136266 \nL 73.93111 125.099813 \nL 83.675289 127.82207 \nL 93.419468 129.703254 \nL 103.163647 131.389868 \nL 112.907826 132.328888 \nL 122.652006 133.725011 \nL 132.396185 134.549214 \nL 142.140364 135.139896 \nL 151.884543 136.064495 \n\" clip-path=\"url(#p65e34465b7)\" style=\"fill: none; stroke: #1f77b4; stroke-width: 1.5; stroke-linecap: square\"/>\n   </g>\n   <g id=\"line2d_80\">\n    <path d=\"M 49.633125 107.194882 \nL 69.163125 126.373131 \nL 88.693125 130.077272 \nL 108.223125 133.424163 \nL 127.753125 135.419721 \nL 147.283125 135.604196 \n\" clip-path=\"url(#p65e34465b7)\" style=\"fill: none; stroke-dasharray: 5.55,2.4; stroke-dashoffset: 0; stroke: #ff7f0e; stroke-width: 1.5\"/>\n   </g>\n   <g id=\"line2d_81\">\n    <path d=\"M 49.633125 114.371181 \nL 69.163125 106.851405 \nL 88.693125 105.181728 \nL 108.223125 104.072763 \nL 127.753125 103.200544 \nL 147.283125 103.406138 \n\" clip-path=\"url(#p65e34465b7)\" style=\"fill: none; stroke-dasharray: 9.6,2.4,1.5,2.4; stroke-dashoffset: 0; stroke: #2ca02c; stroke-width: 1.5\"/>\n   </g>\n   <g id=\"line2d_82\">\n    <path d=\"M 34.954394 13.5 \nL 44.698573 77.581469 \nL 54.442752 112.735602 \nL 64.186931 120.136266 \nL 73.93111 125.099813 \nL 83.675289 127.82207 \nL 93.419468 129.703254 \nL 103.163647 131.389868 \nL 112.907826 132.328888 \nL 122.652006 133.725011 \nL 132.396185 134.549214 \nL 142.140364 135.139896 \nL 151.884543 136.064495 \nL 161.628722 136.807761 \n\" clip-path=\"url(#p65e34465b7)\" style=\"fill: none; stroke: #1f77b4; stroke-width: 1.5; stroke-linecap: square\"/>\n   </g>\n   <g id=\"line2d_83\">\n    <path d=\"M 49.633125 107.194882 \nL 69.163125 126.373131 \nL 88.693125 130.077272 \nL 108.223125 133.424163 \nL 127.753125 135.419721 \nL 147.283125 135.604196 \n\" clip-path=\"url(#p65e34465b7)\" style=\"fill: none; stroke-dasharray: 5.55,2.4; stroke-dashoffset: 0; stroke: #ff7f0e; stroke-width: 1.5\"/>\n   </g>\n   <g id=\"line2d_84\">\n    <path d=\"M 49.633125 114.371181 \nL 69.163125 106.851405 \nL 88.693125 105.181728 \nL 108.223125 104.072763 \nL 127.753125 103.200544 \nL 147.283125 103.406138 \n\" clip-path=\"url(#p65e34465b7)\" style=\"fill: none; stroke-dasharray: 9.6,2.4,1.5,2.4; stroke-dashoffset: 0; stroke: #2ca02c; stroke-width: 1.5\"/>\n   </g>\n   <g id=\"line2d_85\">\n    <path d=\"M 34.954394 13.5 \nL 44.698573 77.581469 \nL 54.442752 112.735602 \nL 64.186931 120.136266 \nL 73.93111 125.099813 \nL 83.675289 127.82207 \nL 93.419468 129.703254 \nL 103.163647 131.389868 \nL 112.907826 132.328888 \nL 122.652006 133.725011 \nL 132.396185 134.549214 \nL 142.140364 135.139896 \nL 151.884543 136.064495 \nL 161.628722 136.807761 \n\" clip-path=\"url(#p65e34465b7)\" style=\"fill: none; stroke: #1f77b4; stroke-width: 1.5; stroke-linecap: square\"/>\n   </g>\n   <g id=\"line2d_86\">\n    <path d=\"M 49.633125 107.194882 \nL 69.163125 126.373131 \nL 88.693125 130.077272 \nL 108.223125 133.424163 \nL 127.753125 135.419721 \nL 147.283125 135.604196 \nL 166.813125 137.168082 \n\" clip-path=\"url(#p65e34465b7)\" style=\"fill: none; stroke-dasharray: 5.55,2.4; stroke-dashoffset: 0; stroke: #ff7f0e; stroke-width: 1.5\"/>\n   </g>\n   <g id=\"line2d_87\">\n    <path d=\"M 49.633125 114.371181 \nL 69.163125 106.851405 \nL 88.693125 105.181728 \nL 108.223125 104.072763 \nL 127.753125 103.200544 \nL 147.283125 103.406138 \n\" clip-path=\"url(#p65e34465b7)\" style=\"fill: none; stroke-dasharray: 9.6,2.4,1.5,2.4; stroke-dashoffset: 0; stroke: #2ca02c; stroke-width: 1.5\"/>\n   </g>\n   <g id=\"line2d_88\">\n    <path d=\"M 34.954394 13.5 \nL 44.698573 77.581469 \nL 54.442752 112.735602 \nL 64.186931 120.136266 \nL 73.93111 125.099813 \nL 83.675289 127.82207 \nL 93.419468 129.703254 \nL 103.163647 131.389868 \nL 112.907826 132.328888 \nL 122.652006 133.725011 \nL 132.396185 134.549214 \nL 142.140364 135.139896 \nL 151.884543 136.064495 \nL 161.628722 136.807761 \n\" clip-path=\"url(#p65e34465b7)\" style=\"fill: none; stroke: #1f77b4; stroke-width: 1.5; stroke-linecap: square\"/>\n   </g>\n   <g id=\"line2d_89\">\n    <path d=\"M 49.633125 107.194882 \nL 69.163125 126.373131 \nL 88.693125 130.077272 \nL 108.223125 133.424163 \nL 127.753125 135.419721 \nL 147.283125 135.604196 \nL 166.813125 137.168082 \n\" clip-path=\"url(#p65e34465b7)\" style=\"fill: none; stroke-dasharray: 5.55,2.4; stroke-dashoffset: 0; stroke: #ff7f0e; stroke-width: 1.5\"/>\n   </g>\n   <g id=\"line2d_90\">\n    <path d=\"M 49.633125 114.371181 \nL 69.163125 106.851405 \nL 88.693125 105.181728 \nL 108.223125 104.072763 \nL 127.753125 103.200544 \nL 147.283125 103.406138 \nL 166.813125 102.515229 \n\" clip-path=\"url(#p65e34465b7)\" style=\"fill: none; stroke-dasharray: 9.6,2.4,1.5,2.4; stroke-dashoffset: 0; stroke: #2ca02c; stroke-width: 1.5\"/>\n   </g>\n   <g id=\"line2d_91\">\n    <path d=\"M 34.954394 13.5 \nL 44.698573 77.581469 \nL 54.442752 112.735602 \nL 64.186931 120.136266 \nL 73.93111 125.099813 \nL 83.675289 127.82207 \nL 93.419468 129.703254 \nL 103.163647 131.389868 \nL 112.907826 132.328888 \nL 122.652006 133.725011 \nL 132.396185 134.549214 \nL 142.140364 135.139896 \nL 151.884543 136.064495 \nL 161.628722 136.807761 \nL 171.372901 137.036033 \n\" clip-path=\"url(#p65e34465b7)\" style=\"fill: none; stroke: #1f77b4; stroke-width: 1.5; stroke-linecap: square\"/>\n   </g>\n   <g id=\"line2d_92\">\n    <path d=\"M 49.633125 107.194882 \nL 69.163125 126.373131 \nL 88.693125 130.077272 \nL 108.223125 133.424163 \nL 127.753125 135.419721 \nL 147.283125 135.604196 \nL 166.813125 137.168082 \n\" clip-path=\"url(#p65e34465b7)\" style=\"fill: none; stroke-dasharray: 5.55,2.4; stroke-dashoffset: 0; stroke: #ff7f0e; stroke-width: 1.5\"/>\n   </g>\n   <g id=\"line2d_93\">\n    <path d=\"M 49.633125 114.371181 \nL 69.163125 106.851405 \nL 88.693125 105.181728 \nL 108.223125 104.072763 \nL 127.753125 103.200544 \nL 147.283125 103.406138 \nL 166.813125 102.515229 \n\" clip-path=\"url(#p65e34465b7)\" style=\"fill: none; stroke-dasharray: 9.6,2.4,1.5,2.4; stroke-dashoffset: 0; stroke: #2ca02c; stroke-width: 1.5\"/>\n   </g>\n   <g id=\"line2d_94\">\n    <path d=\"M 34.954394 13.5 \nL 44.698573 77.581469 \nL 54.442752 112.735602 \nL 64.186931 120.136266 \nL 73.93111 125.099813 \nL 83.675289 127.82207 \nL 93.419468 129.703254 \nL 103.163647 131.389868 \nL 112.907826 132.328888 \nL 122.652006 133.725011 \nL 132.396185 134.549214 \nL 142.140364 135.139896 \nL 151.884543 136.064495 \nL 161.628722 136.807761 \nL 171.372901 137.036033 \nL 181.11708 137.765518 \n\" clip-path=\"url(#p65e34465b7)\" style=\"fill: none; stroke: #1f77b4; stroke-width: 1.5; stroke-linecap: square\"/>\n   </g>\n   <g id=\"line2d_95\">\n    <path d=\"M 49.633125 107.194882 \nL 69.163125 126.373131 \nL 88.693125 130.077272 \nL 108.223125 133.424163 \nL 127.753125 135.419721 \nL 147.283125 135.604196 \nL 166.813125 137.168082 \n\" clip-path=\"url(#p65e34465b7)\" style=\"fill: none; stroke-dasharray: 5.55,2.4; stroke-dashoffset: 0; stroke: #ff7f0e; stroke-width: 1.5\"/>\n   </g>\n   <g id=\"line2d_96\">\n    <path d=\"M 49.633125 114.371181 \nL 69.163125 106.851405 \nL 88.693125 105.181728 \nL 108.223125 104.072763 \nL 127.753125 103.200544 \nL 147.283125 103.406138 \nL 166.813125 102.515229 \n\" clip-path=\"url(#p65e34465b7)\" style=\"fill: none; stroke-dasharray: 9.6,2.4,1.5,2.4; stroke-dashoffset: 0; stroke: #2ca02c; stroke-width: 1.5\"/>\n   </g>\n   <g id=\"line2d_97\">\n    <path d=\"M 34.954394 13.5 \nL 44.698573 77.581469 \nL 54.442752 112.735602 \nL 64.186931 120.136266 \nL 73.93111 125.099813 \nL 83.675289 127.82207 \nL 93.419468 129.703254 \nL 103.163647 131.389868 \nL 112.907826 132.328888 \nL 122.652006 133.725011 \nL 132.396185 134.549214 \nL 142.140364 135.139896 \nL 151.884543 136.064495 \nL 161.628722 136.807761 \nL 171.372901 137.036033 \nL 181.11708 137.765518 \n\" clip-path=\"url(#p65e34465b7)\" style=\"fill: none; stroke: #1f77b4; stroke-width: 1.5; stroke-linecap: square\"/>\n   </g>\n   <g id=\"line2d_98\">\n    <path d=\"M 49.633125 107.194882 \nL 69.163125 126.373131 \nL 88.693125 130.077272 \nL 108.223125 133.424163 \nL 127.753125 135.419721 \nL 147.283125 135.604196 \nL 166.813125 137.168082 \nL 186.343125 138.359478 \n\" clip-path=\"url(#p65e34465b7)\" style=\"fill: none; stroke-dasharray: 5.55,2.4; stroke-dashoffset: 0; stroke: #ff7f0e; stroke-width: 1.5\"/>\n   </g>\n   <g id=\"line2d_99\">\n    <path d=\"M 49.633125 114.371181 \nL 69.163125 106.851405 \nL 88.693125 105.181728 \nL 108.223125 104.072763 \nL 127.753125 103.200544 \nL 147.283125 103.406138 \nL 166.813125 102.515229 \n\" clip-path=\"url(#p65e34465b7)\" style=\"fill: none; stroke-dasharray: 9.6,2.4,1.5,2.4; stroke-dashoffset: 0; stroke: #2ca02c; stroke-width: 1.5\"/>\n   </g>\n   <g id=\"line2d_100\">\n    <path d=\"M 34.954394 13.5 \nL 44.698573 77.581469 \nL 54.442752 112.735602 \nL 64.186931 120.136266 \nL 73.93111 125.099813 \nL 83.675289 127.82207 \nL 93.419468 129.703254 \nL 103.163647 131.389868 \nL 112.907826 132.328888 \nL 122.652006 133.725011 \nL 132.396185 134.549214 \nL 142.140364 135.139896 \nL 151.884543 136.064495 \nL 161.628722 136.807761 \nL 171.372901 137.036033 \nL 181.11708 137.765518 \n\" clip-path=\"url(#p65e34465b7)\" style=\"fill: none; stroke: #1f77b4; stroke-width: 1.5; stroke-linecap: square\"/>\n   </g>\n   <g id=\"line2d_101\">\n    <path d=\"M 49.633125 107.194882 \nL 69.163125 126.373131 \nL 88.693125 130.077272 \nL 108.223125 133.424163 \nL 127.753125 135.419721 \nL 147.283125 135.604196 \nL 166.813125 137.168082 \nL 186.343125 138.359478 \n\" clip-path=\"url(#p65e34465b7)\" style=\"fill: none; stroke-dasharray: 5.55,2.4; stroke-dashoffset: 0; stroke: #ff7f0e; stroke-width: 1.5\"/>\n   </g>\n   <g id=\"line2d_102\">\n    <path d=\"M 49.633125 114.371181 \nL 69.163125 106.851405 \nL 88.693125 105.181728 \nL 108.223125 104.072763 \nL 127.753125 103.200544 \nL 147.283125 103.406138 \nL 166.813125 102.515229 \nL 186.343125 102.060429 \n\" clip-path=\"url(#p65e34465b7)\" style=\"fill: none; stroke-dasharray: 9.6,2.4,1.5,2.4; stroke-dashoffset: 0; stroke: #2ca02c; stroke-width: 1.5\"/>\n   </g>\n   <g id=\"line2d_103\">\n    <path d=\"M 34.954394 13.5 \nL 44.698573 77.581469 \nL 54.442752 112.735602 \nL 64.186931 120.136266 \nL 73.93111 125.099813 \nL 83.675289 127.82207 \nL 93.419468 129.703254 \nL 103.163647 131.389868 \nL 112.907826 132.328888 \nL 122.652006 133.725011 \nL 132.396185 134.549214 \nL 142.140364 135.139896 \nL 151.884543 136.064495 \nL 161.628722 136.807761 \nL 171.372901 137.036033 \nL 181.11708 137.765518 \nL 190.861259 138.377561 \n\" clip-path=\"url(#p65e34465b7)\" style=\"fill: none; stroke: #1f77b4; stroke-width: 1.5; stroke-linecap: square\"/>\n   </g>\n   <g id=\"line2d_104\">\n    <path d=\"M 49.633125 107.194882 \nL 69.163125 126.373131 \nL 88.693125 130.077272 \nL 108.223125 133.424163 \nL 127.753125 135.419721 \nL 147.283125 135.604196 \nL 166.813125 137.168082 \nL 186.343125 138.359478 \n\" clip-path=\"url(#p65e34465b7)\" style=\"fill: none; stroke-dasharray: 5.55,2.4; stroke-dashoffset: 0; stroke: #ff7f0e; stroke-width: 1.5\"/>\n   </g>\n   <g id=\"line2d_105\">\n    <path d=\"M 49.633125 114.371181 \nL 69.163125 106.851405 \nL 88.693125 105.181728 \nL 108.223125 104.072763 \nL 127.753125 103.200544 \nL 147.283125 103.406138 \nL 166.813125 102.515229 \nL 186.343125 102.060429 \n\" clip-path=\"url(#p65e34465b7)\" style=\"fill: none; stroke-dasharray: 9.6,2.4,1.5,2.4; stroke-dashoffset: 0; stroke: #2ca02c; stroke-width: 1.5\"/>\n   </g>\n   <g id=\"line2d_106\">\n    <path d=\"M 34.954394 13.5 \nL 44.698573 77.581469 \nL 54.442752 112.735602 \nL 64.186931 120.136266 \nL 73.93111 125.099813 \nL 83.675289 127.82207 \nL 93.419468 129.703254 \nL 103.163647 131.389868 \nL 112.907826 132.328888 \nL 122.652006 133.725011 \nL 132.396185 134.549214 \nL 142.140364 135.139896 \nL 151.884543 136.064495 \nL 161.628722 136.807761 \nL 171.372901 137.036033 \nL 181.11708 137.765518 \nL 190.861259 138.377561 \nL 200.605438 138.642231 \n\" clip-path=\"url(#p65e34465b7)\" style=\"fill: none; stroke: #1f77b4; stroke-width: 1.5; stroke-linecap: square\"/>\n   </g>\n   <g id=\"line2d_107\">\n    <path d=\"M 49.633125 107.194882 \nL 69.163125 126.373131 \nL 88.693125 130.077272 \nL 108.223125 133.424163 \nL 127.753125 135.419721 \nL 147.283125 135.604196 \nL 166.813125 137.168082 \nL 186.343125 138.359478 \n\" clip-path=\"url(#p65e34465b7)\" style=\"fill: none; stroke-dasharray: 5.55,2.4; stroke-dashoffset: 0; stroke: #ff7f0e; stroke-width: 1.5\"/>\n   </g>\n   <g id=\"line2d_108\">\n    <path d=\"M 49.633125 114.371181 \nL 69.163125 106.851405 \nL 88.693125 105.181728 \nL 108.223125 104.072763 \nL 127.753125 103.200544 \nL 147.283125 103.406138 \nL 166.813125 102.515229 \nL 186.343125 102.060429 \n\" clip-path=\"url(#p65e34465b7)\" style=\"fill: none; stroke-dasharray: 9.6,2.4,1.5,2.4; stroke-dashoffset: 0; stroke: #2ca02c; stroke-width: 1.5\"/>\n   </g>\n   <g id=\"line2d_109\">\n    <path d=\"M 34.954394 13.5 \nL 44.698573 77.581469 \nL 54.442752 112.735602 \nL 64.186931 120.136266 \nL 73.93111 125.099813 \nL 83.675289 127.82207 \nL 93.419468 129.703254 \nL 103.163647 131.389868 \nL 112.907826 132.328888 \nL 122.652006 133.725011 \nL 132.396185 134.549214 \nL 142.140364 135.139896 \nL 151.884543 136.064495 \nL 161.628722 136.807761 \nL 171.372901 137.036033 \nL 181.11708 137.765518 \nL 190.861259 138.377561 \nL 200.605438 138.642231 \n\" clip-path=\"url(#p65e34465b7)\" style=\"fill: none; stroke: #1f77b4; stroke-width: 1.5; stroke-linecap: square\"/>\n   </g>\n   <g id=\"line2d_110\">\n    <path d=\"M 49.633125 107.194882 \nL 69.163125 126.373131 \nL 88.693125 130.077272 \nL 108.223125 133.424163 \nL 127.753125 135.419721 \nL 147.283125 135.604196 \nL 166.813125 137.168082 \nL 186.343125 138.359478 \nL 205.873125 139.115517 \n\" clip-path=\"url(#p65e34465b7)\" style=\"fill: none; stroke-dasharray: 5.55,2.4; stroke-dashoffset: 0; stroke: #ff7f0e; stroke-width: 1.5\"/>\n   </g>\n   <g id=\"line2d_111\">\n    <path d=\"M 49.633125 114.371181 \nL 69.163125 106.851405 \nL 88.693125 105.181728 \nL 108.223125 104.072763 \nL 127.753125 103.200544 \nL 147.283125 103.406138 \nL 166.813125 102.515229 \nL 186.343125 102.060429 \n\" clip-path=\"url(#p65e34465b7)\" style=\"fill: none; stroke-dasharray: 9.6,2.4,1.5,2.4; stroke-dashoffset: 0; stroke: #2ca02c; stroke-width: 1.5\"/>\n   </g>\n   <g id=\"line2d_112\">\n    <path d=\"M 34.954394 13.5 \nL 44.698573 77.581469 \nL 54.442752 112.735602 \nL 64.186931 120.136266 \nL 73.93111 125.099813 \nL 83.675289 127.82207 \nL 93.419468 129.703254 \nL 103.163647 131.389868 \nL 112.907826 132.328888 \nL 122.652006 133.725011 \nL 132.396185 134.549214 \nL 142.140364 135.139896 \nL 151.884543 136.064495 \nL 161.628722 136.807761 \nL 171.372901 137.036033 \nL 181.11708 137.765518 \nL 190.861259 138.377561 \nL 200.605438 138.642231 \n\" clip-path=\"url(#p65e34465b7)\" style=\"fill: none; stroke: #1f77b4; stroke-width: 1.5; stroke-linecap: square\"/>\n   </g>\n   <g id=\"line2d_113\">\n    <path d=\"M 49.633125 107.194882 \nL 69.163125 126.373131 \nL 88.693125 130.077272 \nL 108.223125 133.424163 \nL 127.753125 135.419721 \nL 147.283125 135.604196 \nL 166.813125 137.168082 \nL 186.343125 138.359478 \nL 205.873125 139.115517 \n\" clip-path=\"url(#p65e34465b7)\" style=\"fill: none; stroke-dasharray: 5.55,2.4; stroke-dashoffset: 0; stroke: #ff7f0e; stroke-width: 1.5\"/>\n   </g>\n   <g id=\"line2d_114\">\n    <path d=\"M 49.633125 114.371181 \nL 69.163125 106.851405 \nL 88.693125 105.181728 \nL 108.223125 104.072763 \nL 127.753125 103.200544 \nL 147.283125 103.406138 \nL 166.813125 102.515229 \nL 186.343125 102.060429 \nL 205.873125 101.780072 \n\" clip-path=\"url(#p65e34465b7)\" style=\"fill: none; stroke-dasharray: 9.6,2.4,1.5,2.4; stroke-dashoffset: 0; stroke: #2ca02c; stroke-width: 1.5\"/>\n   </g>\n   <g id=\"line2d_115\">\n    <path d=\"M 34.954394 13.5 \nL 44.698573 77.581469 \nL 54.442752 112.735602 \nL 64.186931 120.136266 \nL 73.93111 125.099813 \nL 83.675289 127.82207 \nL 93.419468 129.703254 \nL 103.163647 131.389868 \nL 112.907826 132.328888 \nL 122.652006 133.725011 \nL 132.396185 134.549214 \nL 142.140364 135.139896 \nL 151.884543 136.064495 \nL 161.628722 136.807761 \nL 171.372901 137.036033 \nL 181.11708 137.765518 \nL 190.861259 138.377561 \nL 200.605438 138.642231 \nL 210.349618 139.289538 \n\" clip-path=\"url(#p65e34465b7)\" style=\"fill: none; stroke: #1f77b4; stroke-width: 1.5; stroke-linecap: square\"/>\n   </g>\n   <g id=\"line2d_116\">\n    <path d=\"M 49.633125 107.194882 \nL 69.163125 126.373131 \nL 88.693125 130.077272 \nL 108.223125 133.424163 \nL 127.753125 135.419721 \nL 147.283125 135.604196 \nL 166.813125 137.168082 \nL 186.343125 138.359478 \nL 205.873125 139.115517 \n\" clip-path=\"url(#p65e34465b7)\" style=\"fill: none; stroke-dasharray: 5.55,2.4; stroke-dashoffset: 0; stroke: #ff7f0e; stroke-width: 1.5\"/>\n   </g>\n   <g id=\"line2d_117\">\n    <path d=\"M 49.633125 114.371181 \nL 69.163125 106.851405 \nL 88.693125 105.181728 \nL 108.223125 104.072763 \nL 127.753125 103.200544 \nL 147.283125 103.406138 \nL 166.813125 102.515229 \nL 186.343125 102.060429 \nL 205.873125 101.780072 \n\" clip-path=\"url(#p65e34465b7)\" style=\"fill: none; stroke-dasharray: 9.6,2.4,1.5,2.4; stroke-dashoffset: 0; stroke: #2ca02c; stroke-width: 1.5\"/>\n   </g>\n   <g id=\"line2d_118\">\n    <path d=\"M 34.954394 13.5 \nL 44.698573 77.581469 \nL 54.442752 112.735602 \nL 64.186931 120.136266 \nL 73.93111 125.099813 \nL 83.675289 127.82207 \nL 93.419468 129.703254 \nL 103.163647 131.389868 \nL 112.907826 132.328888 \nL 122.652006 133.725011 \nL 132.396185 134.549214 \nL 142.140364 135.139896 \nL 151.884543 136.064495 \nL 161.628722 136.807761 \nL 171.372901 137.036033 \nL 181.11708 137.765518 \nL 190.861259 138.377561 \nL 200.605438 138.642231 \nL 210.349618 139.289538 \nL 220.093797 139.5 \n\" clip-path=\"url(#p65e34465b7)\" style=\"fill: none; stroke: #1f77b4; stroke-width: 1.5; stroke-linecap: square\"/>\n   </g>\n   <g id=\"line2d_119\">\n    <path d=\"M 49.633125 107.194882 \nL 69.163125 126.373131 \nL 88.693125 130.077272 \nL 108.223125 133.424163 \nL 127.753125 135.419721 \nL 147.283125 135.604196 \nL 166.813125 137.168082 \nL 186.343125 138.359478 \nL 205.873125 139.115517 \n\" clip-path=\"url(#p65e34465b7)\" style=\"fill: none; stroke-dasharray: 5.55,2.4; stroke-dashoffset: 0; stroke: #ff7f0e; stroke-width: 1.5\"/>\n   </g>\n   <g id=\"line2d_120\">\n    <path d=\"M 49.633125 114.371181 \nL 69.163125 106.851405 \nL 88.693125 105.181728 \nL 108.223125 104.072763 \nL 127.753125 103.200544 \nL 147.283125 103.406138 \nL 166.813125 102.515229 \nL 186.343125 102.060429 \nL 205.873125 101.780072 \n\" clip-path=\"url(#p65e34465b7)\" style=\"fill: none; stroke-dasharray: 9.6,2.4,1.5,2.4; stroke-dashoffset: 0; stroke: #2ca02c; stroke-width: 1.5\"/>\n   </g>\n   <g id=\"line2d_121\">\n    <path d=\"M 34.954394 13.5 \nL 44.698573 77.581469 \nL 54.442752 112.735602 \nL 64.186931 120.136266 \nL 73.93111 125.099813 \nL 83.675289 127.82207 \nL 93.419468 129.703254 \nL 103.163647 131.389868 \nL 112.907826 132.328888 \nL 122.652006 133.725011 \nL 132.396185 134.549214 \nL 142.140364 135.139896 \nL 151.884543 136.064495 \nL 161.628722 136.807761 \nL 171.372901 137.036033 \nL 181.11708 137.765518 \nL 190.861259 138.377561 \nL 200.605438 138.642231 \nL 210.349618 139.289538 \nL 220.093797 139.5 \n\" clip-path=\"url(#p65e34465b7)\" style=\"fill: none; stroke: #1f77b4; stroke-width: 1.5; stroke-linecap: square\"/>\n   </g>\n   <g id=\"line2d_122\">\n    <path d=\"M 49.633125 107.194882 \nL 69.163125 126.373131 \nL 88.693125 130.077272 \nL 108.223125 133.424163 \nL 127.753125 135.419721 \nL 147.283125 135.604196 \nL 166.813125 137.168082 \nL 186.343125 138.359478 \nL 205.873125 139.115517 \nL 225.403125 138.848874 \n\" clip-path=\"url(#p65e34465b7)\" style=\"fill: none; stroke-dasharray: 5.55,2.4; stroke-dashoffset: 0; stroke: #ff7f0e; stroke-width: 1.5\"/>\n   </g>\n   <g id=\"line2d_123\">\n    <path d=\"M 49.633125 114.371181 \nL 69.163125 106.851405 \nL 88.693125 105.181728 \nL 108.223125 104.072763 \nL 127.753125 103.200544 \nL 147.283125 103.406138 \nL 166.813125 102.515229 \nL 186.343125 102.060429 \nL 205.873125 101.780072 \n\" clip-path=\"url(#p65e34465b7)\" style=\"fill: none; stroke-dasharray: 9.6,2.4,1.5,2.4; stroke-dashoffset: 0; stroke: #2ca02c; stroke-width: 1.5\"/>\n   </g>\n   <g id=\"line2d_124\">\n    <path d=\"M 34.954394 13.5 \nL 44.698573 77.581469 \nL 54.442752 112.735602 \nL 64.186931 120.136266 \nL 73.93111 125.099813 \nL 83.675289 127.82207 \nL 93.419468 129.703254 \nL 103.163647 131.389868 \nL 112.907826 132.328888 \nL 122.652006 133.725011 \nL 132.396185 134.549214 \nL 142.140364 135.139896 \nL 151.884543 136.064495 \nL 161.628722 136.807761 \nL 171.372901 137.036033 \nL 181.11708 137.765518 \nL 190.861259 138.377561 \nL 200.605438 138.642231 \nL 210.349618 139.289538 \nL 220.093797 139.5 \n\" clip-path=\"url(#p65e34465b7)\" style=\"fill: none; stroke: #1f77b4; stroke-width: 1.5; stroke-linecap: square\"/>\n   </g>\n   <g id=\"line2d_125\">\n    <path d=\"M 49.633125 107.194882 \nL 69.163125 126.373131 \nL 88.693125 130.077272 \nL 108.223125 133.424163 \nL 127.753125 135.419721 \nL 147.283125 135.604196 \nL 166.813125 137.168082 \nL 186.343125 138.359478 \nL 205.873125 139.115517 \nL 225.403125 138.848874 \n\" clip-path=\"url(#p65e34465b7)\" style=\"fill: none; stroke-dasharray: 5.55,2.4; stroke-dashoffset: 0; stroke: #ff7f0e; stroke-width: 1.5\"/>\n   </g>\n   <g id=\"line2d_126\">\n    <path d=\"M 49.633125 114.371181 \nL 69.163125 106.851405 \nL 88.693125 105.181728 \nL 108.223125 104.072763 \nL 127.753125 103.200544 \nL 147.283125 103.406138 \nL 166.813125 102.515229 \nL 186.343125 102.060429 \nL 205.873125 101.780072 \nL 225.403125 102.216182 \n\" clip-path=\"url(#p65e34465b7)\" style=\"fill: none; stroke-dasharray: 9.6,2.4,1.5,2.4; stroke-dashoffset: 0; stroke: #2ca02c; stroke-width: 1.5\"/>\n   </g>\n   <g id=\"patch_3\">\n    <path d=\"M 30.103125 145.8 \nL 30.103125 7.2 \n\" style=\"fill: none; stroke: #000000; stroke-width: 0.8; stroke-linejoin: miter; stroke-linecap: square\"/>\n   </g>\n   <g id=\"patch_4\">\n    <path d=\"M 225.403125 145.8 \nL 225.403125 7.2 \n\" style=\"fill: none; stroke: #000000; stroke-width: 0.8; stroke-linejoin: miter; stroke-linecap: square\"/>\n   </g>\n   <g id=\"patch_5\">\n    <path d=\"M 30.103125 145.8 \nL 225.403125 145.8 \n\" style=\"fill: none; stroke: #000000; stroke-width: 0.8; stroke-linejoin: miter; stroke-linecap: square\"/>\n   </g>\n   <g id=\"patch_6\">\n    <path d=\"M 30.103125 7.2 \nL 225.403125 7.2 \n\" style=\"fill: none; stroke: #000000; stroke-width: 0.8; stroke-linejoin: miter; stroke-linecap: square\"/>\n   </g>\n   <g id=\"legend_1\">\n    <g id=\"patch_7\">\n     <path d=\"M 138.8125 60.06875 \nL 218.403125 60.06875 \nQ 220.403125 60.06875 220.403125 58.06875 \nL 220.403125 14.2 \nQ 220.403125 12.2 218.403125 12.2 \nL 138.8125 12.2 \nQ 136.8125 12.2 136.8125 14.2 \nL 136.8125 58.06875 \nQ 136.8125 60.06875 138.8125 60.06875 \nz\n\" style=\"fill: #ffffff; opacity: 0.8; stroke: #cccccc; stroke-linejoin: miter\"/>\n    </g>\n    <g id=\"line2d_127\">\n     <path d=\"M 140.8125 20.298438 \nL 150.8125 20.298438 \nL 160.8125 20.298438 \n\" style=\"fill: none; stroke: #1f77b4; stroke-width: 1.5; stroke-linecap: square\"/>\n    </g>\n    <g id=\"text_12\">\n     <!-- train_loss -->\n     <g transform=\"translate(168.8125 23.798438) scale(0.1 -0.1)\">\n      <defs>\n       <path id=\"DejaVuSans-74\" d=\"M 1172 4494 \nL 1172 3500 \nL 2356 3500 \nL 2356 3053 \nL 1172 3053 \nL 1172 1153 \nQ 1172 725 1289 603 \nQ 1406 481 1766 481 \nL 2356 481 \nL 2356 0 \nL 1766 0 \nQ 1100 0 847 248 \nQ 594 497 594 1153 \nL 594 3053 \nL 172 3053 \nL 172 3500 \nL 594 3500 \nL 594 4494 \nL 1172 4494 \nz\n\" transform=\"scale(0.015625)\"/>\n       <path id=\"DejaVuSans-72\" d=\"M 2631 2963 \nQ 2534 3019 2420 3045 \nQ 2306 3072 2169 3072 \nQ 1681 3072 1420 2755 \nQ 1159 2438 1159 1844 \nL 1159 0 \nL 581 0 \nL 581 3500 \nL 1159 3500 \nL 1159 2956 \nQ 1341 3275 1631 3429 \nQ 1922 3584 2338 3584 \nQ 2397 3584 2469 3576 \nQ 2541 3569 2628 3553 \nL 2631 2963 \nz\n\" transform=\"scale(0.015625)\"/>\n       <path id=\"DejaVuSans-61\" d=\"M 2194 1759 \nQ 1497 1759 1228 1600 \nQ 959 1441 959 1056 \nQ 959 750 1161 570 \nQ 1363 391 1709 391 \nQ 2188 391 2477 730 \nQ 2766 1069 2766 1631 \nL 2766 1759 \nL 2194 1759 \nz\nM 3341 1997 \nL 3341 0 \nL 2766 0 \nL 2766 531 \nQ 2569 213 2275 61 \nQ 1981 -91 1556 -91 \nQ 1019 -91 701 211 \nQ 384 513 384 1019 \nQ 384 1609 779 1909 \nQ 1175 2209 1959 2209 \nL 2766 2209 \nL 2766 2266 \nQ 2766 2663 2505 2880 \nQ 2244 3097 1772 3097 \nQ 1472 3097 1187 3025 \nQ 903 2953 641 2809 \nL 641 3341 \nQ 956 3463 1253 3523 \nQ 1550 3584 1831 3584 \nQ 2591 3584 2966 3190 \nQ 3341 2797 3341 1997 \nz\n\" transform=\"scale(0.015625)\"/>\n       <path id=\"DejaVuSans-69\" d=\"M 603 3500 \nL 1178 3500 \nL 1178 0 \nL 603 0 \nL 603 3500 \nz\nM 603 4863 \nL 1178 4863 \nL 1178 4134 \nL 603 4134 \nL 603 4863 \nz\n\" transform=\"scale(0.015625)\"/>\n       <path id=\"DejaVuSans-6e\" d=\"M 3513 2113 \nL 3513 0 \nL 2938 0 \nL 2938 2094 \nQ 2938 2591 2744 2837 \nQ 2550 3084 2163 3084 \nQ 1697 3084 1428 2787 \nQ 1159 2491 1159 1978 \nL 1159 0 \nL 581 0 \nL 581 3500 \nL 1159 3500 \nL 1159 2956 \nQ 1366 3272 1645 3428 \nQ 1925 3584 2291 3584 \nQ 2894 3584 3203 3211 \nQ 3513 2838 3513 2113 \nz\n\" transform=\"scale(0.015625)\"/>\n       <path id=\"DejaVuSans-5f\" d=\"M 3263 -1063 \nL 3263 -1509 \nL -63 -1509 \nL -63 -1063 \nL 3263 -1063 \nz\n\" transform=\"scale(0.015625)\"/>\n       <path id=\"DejaVuSans-6c\" d=\"M 603 4863 \nL 1178 4863 \nL 1178 0 \nL 603 0 \nL 603 4863 \nz\n\" transform=\"scale(0.015625)\"/>\n       <path id=\"DejaVuSans-73\" d=\"M 2834 3397 \nL 2834 2853 \nQ 2591 2978 2328 3040 \nQ 2066 3103 1784 3103 \nQ 1356 3103 1142 2972 \nQ 928 2841 928 2578 \nQ 928 2378 1081 2264 \nQ 1234 2150 1697 2047 \nL 1894 2003 \nQ 2506 1872 2764 1633 \nQ 3022 1394 3022 966 \nQ 3022 478 2636 193 \nQ 2250 -91 1575 -91 \nQ 1294 -91 989 -36 \nQ 684 19 347 128 \nL 347 722 \nQ 666 556 975 473 \nQ 1284 391 1588 391 \nQ 1994 391 2212 530 \nQ 2431 669 2431 922 \nQ 2431 1156 2273 1281 \nQ 2116 1406 1581 1522 \nL 1381 1569 \nQ 847 1681 609 1914 \nQ 372 2147 372 2553 \nQ 372 3047 722 3315 \nQ 1072 3584 1716 3584 \nQ 2034 3584 2315 3537 \nQ 2597 3491 2834 3397 \nz\n\" transform=\"scale(0.015625)\"/>\n      </defs>\n      <use xlink:href=\"#DejaVuSans-74\"/>\n      <use xlink:href=\"#DejaVuSans-72\" x=\"39.208984\"/>\n      <use xlink:href=\"#DejaVuSans-61\" x=\"80.322266\"/>\n      <use xlink:href=\"#DejaVuSans-69\" x=\"141.601562\"/>\n      <use xlink:href=\"#DejaVuSans-6e\" x=\"169.384766\"/>\n      <use xlink:href=\"#DejaVuSans-5f\" x=\"232.763672\"/>\n      <use xlink:href=\"#DejaVuSans-6c\" x=\"282.763672\"/>\n      <use xlink:href=\"#DejaVuSans-6f\" x=\"310.546875\"/>\n      <use xlink:href=\"#DejaVuSans-73\" x=\"371.728516\"/>\n      <use xlink:href=\"#DejaVuSans-73\" x=\"423.828125\"/>\n     </g>\n    </g>\n    <g id=\"line2d_128\">\n     <path d=\"M 140.8125 35.254688 \nL 150.8125 35.254688 \nL 160.8125 35.254688 \n\" style=\"fill: none; stroke-dasharray: 5.55,2.4; stroke-dashoffset: 0; stroke: #ff7f0e; stroke-width: 1.5\"/>\n    </g>\n    <g id=\"text_13\">\n     <!-- val_loss -->\n     <g transform=\"translate(168.8125 38.754688) scale(0.1 -0.1)\">\n      <defs>\n       <path id=\"DejaVuSans-76\" d=\"M 191 3500 \nL 800 3500 \nL 1894 563 \nL 2988 3500 \nL 3597 3500 \nL 2284 0 \nL 1503 0 \nL 191 3500 \nz\n\" transform=\"scale(0.015625)\"/>\n      </defs>\n      <use xlink:href=\"#DejaVuSans-76\"/>\n      <use xlink:href=\"#DejaVuSans-61\" x=\"59.179688\"/>\n      <use xlink:href=\"#DejaVuSans-6c\" x=\"120.458984\"/>\n      <use xlink:href=\"#DejaVuSans-5f\" x=\"148.242188\"/>\n      <use xlink:href=\"#DejaVuSans-6c\" x=\"198.242188\"/>\n      <use xlink:href=\"#DejaVuSans-6f\" x=\"226.025391\"/>\n      <use xlink:href=\"#DejaVuSans-73\" x=\"287.207031\"/>\n      <use xlink:href=\"#DejaVuSans-73\" x=\"339.306641\"/>\n     </g>\n    </g>\n    <g id=\"line2d_129\">\n     <path d=\"M 140.8125 50.210938 \nL 150.8125 50.210938 \nL 160.8125 50.210938 \n\" style=\"fill: none; stroke-dasharray: 9.6,2.4,1.5,2.4; stroke-dashoffset: 0; stroke: #2ca02c; stroke-width: 1.5\"/>\n    </g>\n    <g id=\"text_14\">\n     <!-- val_acc -->\n     <g transform=\"translate(168.8125 53.710938) scale(0.1 -0.1)\">\n      <use xlink:href=\"#DejaVuSans-76\"/>\n      <use xlink:href=\"#DejaVuSans-61\" x=\"59.179688\"/>\n      <use xlink:href=\"#DejaVuSans-6c\" x=\"120.458984\"/>\n      <use xlink:href=\"#DejaVuSans-5f\" x=\"148.242188\"/>\n      <use xlink:href=\"#DejaVuSans-61\" x=\"198.242188\"/>\n      <use xlink:href=\"#DejaVuSans-63\" x=\"259.521484\"/>\n      <use xlink:href=\"#DejaVuSans-63\" x=\"314.501953\"/>\n     </g>\n    </g>\n   </g>\n  </g>\n </g>\n <defs>\n  <clipPath id=\"p65e34465b7\">\n   <rect x=\"30.103125\" y=\"7.2\" width=\"195.3\" height=\"138.6\"/>\n  </clipPath>\n </defs>\n</svg>\n"
          },
          "metadata": {}
        }
      ]
    },
    {
      "cell_type": "markdown",
      "source": [
        "## 8.6 Residual Network (ResNet) and ResNeXt"
      ],
      "metadata": {
        "id": "bwxN2kah4yP4"
      }
    },
    {
      "cell_type": "code",
      "source": [
        "from torch.nn import functional as F"
      ],
      "metadata": {
        "id": "EeOSrDoDLF2G"
      },
      "execution_count": null,
      "outputs": []
    },
    {
      "cell_type": "markdown",
      "source": [
        "### 8.6.2 Residual Blocks"
      ],
      "metadata": {
        "id": "-TvD2Pdd49t1"
      }
    },
    {
      "cell_type": "code",
      "source": [
        "class Residual(nn.Module):\n",
        "    \"\"\"The Residual block of ResNet models.\"\"\"\n",
        "    def __init__(self, num_channels, use_1x1conv=False, strides=1):\n",
        "        super().__init__()\n",
        "        self.conv1 = nn.LazyConv2d(num_channels, kernel_size=3, padding=1,\n",
        "                                   stride=strides)\n",
        "        self.conv2 = nn.LazyConv2d(num_channels, kernel_size=3, padding=1)\n",
        "        if use_1x1conv:\n",
        "            self.conv3 = nn.LazyConv2d(num_channels, kernel_size=1,\n",
        "                                       stride=strides)\n",
        "        else:\n",
        "            self.conv3 = None\n",
        "        self.bn1 = nn.LazyBatchNorm2d()\n",
        "        self.bn2 = nn.LazyBatchNorm2d()\n",
        "\n",
        "    def forward(self, X):\n",
        "        Y = F.relu(self.bn1(self.conv1(X)))\n",
        "        Y = self.bn2(self.conv2(Y))\n",
        "        if self.conv3:\n",
        "            X = self.conv3(X)\n",
        "        Y += X\n",
        "        return F.relu(Y)"
      ],
      "metadata": {
        "id": "Q8VsZXZX48BU"
      },
      "execution_count": null,
      "outputs": []
    },
    {
      "cell_type": "code",
      "source": [
        "blk = Residual(3)\n",
        "X = torch.randn(4, 3, 6, 6)\n",
        "blk(X).shape"
      ],
      "metadata": {
        "id": "WE-wtQqb5IWp",
        "colab": {
          "base_uri": "https://localhost:8080/"
        },
        "outputId": "ff30960e-225a-4334-f599-1cb2bbb1c13c"
      },
      "execution_count": null,
      "outputs": [
        {
          "output_type": "execute_result",
          "data": {
            "text/plain": [
              "torch.Size([4, 3, 6, 6])"
            ]
          },
          "metadata": {},
          "execution_count": 87
        }
      ]
    },
    {
      "cell_type": "code",
      "source": [
        "blk = Residual(6, use_1x1conv=True, strides=2)\n",
        "blk(X).shape"
      ],
      "metadata": {
        "id": "hUxIFh_C5gPH",
        "colab": {
          "base_uri": "https://localhost:8080/"
        },
        "outputId": "4768460f-5644-4df5-8c19-34c0705ebeac"
      },
      "execution_count": null,
      "outputs": [
        {
          "output_type": "execute_result",
          "data": {
            "text/plain": [
              "torch.Size([4, 6, 3, 3])"
            ]
          },
          "metadata": {},
          "execution_count": 88
        }
      ]
    },
    {
      "cell_type": "markdown",
      "source": [
        "### 8.6.3 ResNet Model"
      ],
      "metadata": {
        "id": "mYlgXeFs5p7o"
      }
    },
    {
      "cell_type": "code",
      "source": [
        "class ResNet(d2l.Classifier):\n",
        "    def b1(self):\n",
        "        return nn.Sequential(\n",
        "            nn.LazyConv2d(64, kernel_size=7, stride=2, padding=3),\n",
        "            nn.LazyBatchNorm2d(), nn.ReLU(),\n",
        "            nn.MaxPool2d(kernel_size=3, stride=2, padding=1))"
      ],
      "metadata": {
        "id": "qincaJqM5tEt"
      },
      "execution_count": null,
      "outputs": []
    },
    {
      "cell_type": "code",
      "source": [
        "@d2l.add_to_class(ResNet)\n",
        "def block(self, num_residuals, num_channels, first_block=False):\n",
        "    blk = []\n",
        "    for i in range(num_residuals):\n",
        "        if i == 0 and not first_block:\n",
        "            blk.append(Residual(num_channels, use_1x1conv=True, strides=2))\n",
        "        else:\n",
        "            blk.append(Residual(num_channels))\n",
        "    return nn.Sequential(*blk)"
      ],
      "metadata": {
        "id": "7WYGBiCZ55lL"
      },
      "execution_count": null,
      "outputs": []
    },
    {
      "cell_type": "code",
      "source": [
        "@d2l.add_to_class(ResNet)\n",
        "def __init__(self, arch, lr=0.1, num_classes=10):\n",
        "    super(ResNet, self).__init__()\n",
        "    self.save_hyperparameters()\n",
        "    self.net = nn.Sequential(self.b1())\n",
        "    for i, b in enumerate(arch):\n",
        "        self.net.add_module(f'b{i+2}', self.block(*b, first_block=(i==0)))\n",
        "    self.net.add_module('last', nn.Sequential(\n",
        "        nn.AdaptiveAvgPool2d((1, 1)), nn.Flatten(),\n",
        "        nn.LazyLinear(num_classes)))\n",
        "    self.net.apply(d2l.init_cnn)"
      ],
      "metadata": {
        "id": "9b5XCVy_6CRx"
      },
      "execution_count": null,
      "outputs": []
    },
    {
      "cell_type": "code",
      "source": [
        "class ResNet18(ResNet):\n",
        "    def __init__(self, lr=0.1, num_classes=10):\n",
        "        super().__init__(((2, 64), (2, 128), (2, 256), (2, 512)),\n",
        "                       lr, num_classes)\n",
        "\n",
        "ResNet18().layer_summary((1, 1, 96, 96))"
      ],
      "metadata": {
        "id": "hObwdQEt6FOc",
        "colab": {
          "base_uri": "https://localhost:8080/"
        },
        "outputId": "06c348ed-3a2f-4c0e-b8fc-68a933a3f78f"
      },
      "execution_count": null,
      "outputs": [
        {
          "output_type": "stream",
          "name": "stdout",
          "text": [
            "Sequential output shape:\t torch.Size([1, 64, 24, 24])\n",
            "Sequential output shape:\t torch.Size([1, 64, 24, 24])\n",
            "Sequential output shape:\t torch.Size([1, 128, 12, 12])\n",
            "Sequential output shape:\t torch.Size([1, 256, 6, 6])\n",
            "Sequential output shape:\t torch.Size([1, 512, 3, 3])\n",
            "Sequential output shape:\t torch.Size([1, 10])\n"
          ]
        }
      ]
    },
    {
      "cell_type": "markdown",
      "source": [
        "### 8.6.4 Training"
      ],
      "metadata": {
        "id": "HXW8k-rH6Huq"
      }
    },
    {
      "cell_type": "code",
      "source": [
        "model = ResNet18(lr=0.01)\n",
        "trainer = d2l.Trainer(max_epochs=10, num_gpus=1)\n",
        "data = d2l.FashionMNIST(batch_size=128, resize=(96, 96))\n",
        "model.apply_init([next(iter(data.get_dataloader(True)))[0]], d2l.init_cnn)\n",
        "trainer.fit(model, data)"
      ],
      "metadata": {
        "id": "qZ81HxDi6JWM",
        "colab": {
          "base_uri": "https://localhost:8080/",
          "height": 265
        },
        "outputId": "db192e25-ad36-4c5d-b19a-094d60ca8bd0"
      },
      "execution_count": null,
      "outputs": [
        {
          "output_type": "display_data",
          "data": {
            "text/plain": [
              "<Figure size 350x250 with 1 Axes>"
            ],
            "image/svg+xml": "<?xml version=\"1.0\" encoding=\"utf-8\" standalone=\"no\"?>\n<!DOCTYPE svg PUBLIC \"-//W3C//DTD SVG 1.1//EN\"\n  \"http://www.w3.org/Graphics/SVG/1.1/DTD/svg11.dtd\">\n<svg xmlns:xlink=\"http://www.w3.org/1999/xlink\" width=\"238.965625pt\" height=\"183.35625pt\" viewBox=\"0 0 238.965625 183.35625\" xmlns=\"http://www.w3.org/2000/svg\" version=\"1.1\">\n <metadata>\n  <rdf:RDF xmlns:dc=\"http://purl.org/dc/elements/1.1/\" xmlns:cc=\"http://creativecommons.org/ns#\" xmlns:rdf=\"http://www.w3.org/1999/02/22-rdf-syntax-ns#\">\n   <cc:Work>\n    <dc:type rdf:resource=\"http://purl.org/dc/dcmitype/StillImage\"/>\n    <dc:date>2024-10-09T08:00:59.484528</dc:date>\n    <dc:format>image/svg+xml</dc:format>\n    <dc:creator>\n     <cc:Agent>\n      <dc:title>Matplotlib v3.7.2, https://matplotlib.org/</dc:title>\n     </cc:Agent>\n    </dc:creator>\n   </cc:Work>\n  </rdf:RDF>\n </metadata>\n <defs>\n  <style type=\"text/css\">*{stroke-linejoin: round; stroke-linecap: butt}</style>\n </defs>\n <g id=\"figure_1\">\n  <g id=\"patch_1\">\n   <path d=\"M 0 183.35625 \nL 238.965625 183.35625 \nL 238.965625 0 \nL 0 0 \nz\n\" style=\"fill: #ffffff\"/>\n  </g>\n  <g id=\"axes_1\">\n   <g id=\"patch_2\">\n    <path d=\"M 30.103125 145.8 \nL 225.403125 145.8 \nL 225.403125 7.2 \nL 30.103125 7.2 \nz\n\" style=\"fill: #ffffff\"/>\n   </g>\n   <g id=\"matplotlib.axis_1\">\n    <g id=\"xtick_1\">\n     <g id=\"line2d_1\">\n      <defs>\n       <path id=\"m026d0eae8d\" d=\"M 0 0 \nL 0 3.5 \n\" style=\"stroke: #000000; stroke-width: 0.8\"/>\n      </defs>\n      <g>\n       <use xlink:href=\"#m026d0eae8d\" x=\"30.103125\" y=\"145.8\" style=\"stroke: #000000; stroke-width: 0.8\"/>\n      </g>\n     </g>\n     <g id=\"text_1\">\n      <!-- 0 -->\n      <g transform=\"translate(26.921875 160.398438) scale(0.1 -0.1)\">\n       <defs>\n        <path id=\"DejaVuSans-30\" d=\"M 2034 4250 \nQ 1547 4250 1301 3770 \nQ 1056 3291 1056 2328 \nQ 1056 1369 1301 889 \nQ 1547 409 2034 409 \nQ 2525 409 2770 889 \nQ 3016 1369 3016 2328 \nQ 3016 3291 2770 3770 \nQ 2525 4250 2034 4250 \nz\nM 2034 4750 \nQ 2819 4750 3233 4129 \nQ 3647 3509 3647 2328 \nQ 3647 1150 3233 529 \nQ 2819 -91 2034 -91 \nQ 1250 -91 836 529 \nQ 422 1150 422 2328 \nQ 422 3509 836 4129 \nQ 1250 4750 2034 4750 \nz\n\" transform=\"scale(0.015625)\"/>\n       </defs>\n       <use xlink:href=\"#DejaVuSans-30\"/>\n      </g>\n     </g>\n    </g>\n    <g id=\"xtick_2\">\n     <g id=\"line2d_2\">\n      <g>\n       <use xlink:href=\"#m026d0eae8d\" x=\"69.163125\" y=\"145.8\" style=\"stroke: #000000; stroke-width: 0.8\"/>\n      </g>\n     </g>\n     <g id=\"text_2\">\n      <!-- 2 -->\n      <g transform=\"translate(65.981875 160.398438) scale(0.1 -0.1)\">\n       <defs>\n        <path id=\"DejaVuSans-32\" d=\"M 1228 531 \nL 3431 531 \nL 3431 0 \nL 469 0 \nL 469 531 \nQ 828 903 1448 1529 \nQ 2069 2156 2228 2338 \nQ 2531 2678 2651 2914 \nQ 2772 3150 2772 3378 \nQ 2772 3750 2511 3984 \nQ 2250 4219 1831 4219 \nQ 1534 4219 1204 4116 \nQ 875 4013 500 3803 \nL 500 4441 \nQ 881 4594 1212 4672 \nQ 1544 4750 1819 4750 \nQ 2544 4750 2975 4387 \nQ 3406 4025 3406 3419 \nQ 3406 3131 3298 2873 \nQ 3191 2616 2906 2266 \nQ 2828 2175 2409 1742 \nQ 1991 1309 1228 531 \nz\n\" transform=\"scale(0.015625)\"/>\n       </defs>\n       <use xlink:href=\"#DejaVuSans-32\"/>\n      </g>\n     </g>\n    </g>\n    <g id=\"xtick_3\">\n     <g id=\"line2d_3\">\n      <g>\n       <use xlink:href=\"#m026d0eae8d\" x=\"108.223125\" y=\"145.8\" style=\"stroke: #000000; stroke-width: 0.8\"/>\n      </g>\n     </g>\n     <g id=\"text_3\">\n      <!-- 4 -->\n      <g transform=\"translate(105.041875 160.398438) scale(0.1 -0.1)\">\n       <defs>\n        <path id=\"DejaVuSans-34\" d=\"M 2419 4116 \nL 825 1625 \nL 2419 1625 \nL 2419 4116 \nz\nM 2253 4666 \nL 3047 4666 \nL 3047 1625 \nL 3713 1625 \nL 3713 1100 \nL 3047 1100 \nL 3047 0 \nL 2419 0 \nL 2419 1100 \nL 313 1100 \nL 313 1709 \nL 2253 4666 \nz\n\" transform=\"scale(0.015625)\"/>\n       </defs>\n       <use xlink:href=\"#DejaVuSans-34\"/>\n      </g>\n     </g>\n    </g>\n    <g id=\"xtick_4\">\n     <g id=\"line2d_4\">\n      <g>\n       <use xlink:href=\"#m026d0eae8d\" x=\"147.283125\" y=\"145.8\" style=\"stroke: #000000; stroke-width: 0.8\"/>\n      </g>\n     </g>\n     <g id=\"text_4\">\n      <!-- 6 -->\n      <g transform=\"translate(144.101875 160.398438) scale(0.1 -0.1)\">\n       <defs>\n        <path id=\"DejaVuSans-36\" d=\"M 2113 2584 \nQ 1688 2584 1439 2293 \nQ 1191 2003 1191 1497 \nQ 1191 994 1439 701 \nQ 1688 409 2113 409 \nQ 2538 409 2786 701 \nQ 3034 994 3034 1497 \nQ 3034 2003 2786 2293 \nQ 2538 2584 2113 2584 \nz\nM 3366 4563 \nL 3366 3988 \nQ 3128 4100 2886 4159 \nQ 2644 4219 2406 4219 \nQ 1781 4219 1451 3797 \nQ 1122 3375 1075 2522 \nQ 1259 2794 1537 2939 \nQ 1816 3084 2150 3084 \nQ 2853 3084 3261 2657 \nQ 3669 2231 3669 1497 \nQ 3669 778 3244 343 \nQ 2819 -91 2113 -91 \nQ 1303 -91 875 529 \nQ 447 1150 447 2328 \nQ 447 3434 972 4092 \nQ 1497 4750 2381 4750 \nQ 2619 4750 2861 4703 \nQ 3103 4656 3366 4563 \nz\n\" transform=\"scale(0.015625)\"/>\n       </defs>\n       <use xlink:href=\"#DejaVuSans-36\"/>\n      </g>\n     </g>\n    </g>\n    <g id=\"xtick_5\">\n     <g id=\"line2d_5\">\n      <g>\n       <use xlink:href=\"#m026d0eae8d\" x=\"186.343125\" y=\"145.8\" style=\"stroke: #000000; stroke-width: 0.8\"/>\n      </g>\n     </g>\n     <g id=\"text_5\">\n      <!-- 8 -->\n      <g transform=\"translate(183.161875 160.398438) scale(0.1 -0.1)\">\n       <defs>\n        <path id=\"DejaVuSans-38\" d=\"M 2034 2216 \nQ 1584 2216 1326 1975 \nQ 1069 1734 1069 1313 \nQ 1069 891 1326 650 \nQ 1584 409 2034 409 \nQ 2484 409 2743 651 \nQ 3003 894 3003 1313 \nQ 3003 1734 2745 1975 \nQ 2488 2216 2034 2216 \nz\nM 1403 2484 \nQ 997 2584 770 2862 \nQ 544 3141 544 3541 \nQ 544 4100 942 4425 \nQ 1341 4750 2034 4750 \nQ 2731 4750 3128 4425 \nQ 3525 4100 3525 3541 \nQ 3525 3141 3298 2862 \nQ 3072 2584 2669 2484 \nQ 3125 2378 3379 2068 \nQ 3634 1759 3634 1313 \nQ 3634 634 3220 271 \nQ 2806 -91 2034 -91 \nQ 1263 -91 848 271 \nQ 434 634 434 1313 \nQ 434 1759 690 2068 \nQ 947 2378 1403 2484 \nz\nM 1172 3481 \nQ 1172 3119 1398 2916 \nQ 1625 2713 2034 2713 \nQ 2441 2713 2670 2916 \nQ 2900 3119 2900 3481 \nQ 2900 3844 2670 4047 \nQ 2441 4250 2034 4250 \nQ 1625 4250 1398 4047 \nQ 1172 3844 1172 3481 \nz\n\" transform=\"scale(0.015625)\"/>\n       </defs>\n       <use xlink:href=\"#DejaVuSans-38\"/>\n      </g>\n     </g>\n    </g>\n    <g id=\"xtick_6\">\n     <g id=\"line2d_6\">\n      <g>\n       <use xlink:href=\"#m026d0eae8d\" x=\"225.403125\" y=\"145.8\" style=\"stroke: #000000; stroke-width: 0.8\"/>\n      </g>\n     </g>\n     <g id=\"text_6\">\n      <!-- 10 -->\n      <g transform=\"translate(219.040625 160.398438) scale(0.1 -0.1)\">\n       <defs>\n        <path id=\"DejaVuSans-31\" d=\"M 794 531 \nL 1825 531 \nL 1825 4091 \nL 703 3866 \nL 703 4441 \nL 1819 4666 \nL 2450 4666 \nL 2450 531 \nL 3481 531 \nL 3481 0 \nL 794 0 \nL 794 531 \nz\n\" transform=\"scale(0.015625)\"/>\n       </defs>\n       <use xlink:href=\"#DejaVuSans-31\"/>\n       <use xlink:href=\"#DejaVuSans-30\" x=\"63.623047\"/>\n      </g>\n     </g>\n    </g>\n    <g id=\"text_7\">\n     <!-- epoch -->\n     <g transform=\"translate(112.525 174.076563) scale(0.1 -0.1)\">\n      <defs>\n       <path id=\"DejaVuSans-65\" d=\"M 3597 1894 \nL 3597 1613 \nL 953 1613 \nQ 991 1019 1311 708 \nQ 1631 397 2203 397 \nQ 2534 397 2845 478 \nQ 3156 559 3463 722 \nL 3463 178 \nQ 3153 47 2828 -22 \nQ 2503 -91 2169 -91 \nQ 1331 -91 842 396 \nQ 353 884 353 1716 \nQ 353 2575 817 3079 \nQ 1281 3584 2069 3584 \nQ 2775 3584 3186 3129 \nQ 3597 2675 3597 1894 \nz\nM 3022 2063 \nQ 3016 2534 2758 2815 \nQ 2500 3097 2075 3097 \nQ 1594 3097 1305 2825 \nQ 1016 2553 972 2059 \nL 3022 2063 \nz\n\" transform=\"scale(0.015625)\"/>\n       <path id=\"DejaVuSans-70\" d=\"M 1159 525 \nL 1159 -1331 \nL 581 -1331 \nL 581 3500 \nL 1159 3500 \nL 1159 2969 \nQ 1341 3281 1617 3432 \nQ 1894 3584 2278 3584 \nQ 2916 3584 3314 3078 \nQ 3713 2572 3713 1747 \nQ 3713 922 3314 415 \nQ 2916 -91 2278 -91 \nQ 1894 -91 1617 61 \nQ 1341 213 1159 525 \nz\nM 3116 1747 \nQ 3116 2381 2855 2742 \nQ 2594 3103 2138 3103 \nQ 1681 3103 1420 2742 \nQ 1159 2381 1159 1747 \nQ 1159 1113 1420 752 \nQ 1681 391 2138 391 \nQ 2594 391 2855 752 \nQ 3116 1113 3116 1747 \nz\n\" transform=\"scale(0.015625)\"/>\n       <path id=\"DejaVuSans-6f\" d=\"M 1959 3097 \nQ 1497 3097 1228 2736 \nQ 959 2375 959 1747 \nQ 959 1119 1226 758 \nQ 1494 397 1959 397 \nQ 2419 397 2687 759 \nQ 2956 1122 2956 1747 \nQ 2956 2369 2687 2733 \nQ 2419 3097 1959 3097 \nz\nM 1959 3584 \nQ 2709 3584 3137 3096 \nQ 3566 2609 3566 1747 \nQ 3566 888 3137 398 \nQ 2709 -91 1959 -91 \nQ 1206 -91 779 398 \nQ 353 888 353 1747 \nQ 353 2609 779 3096 \nQ 1206 3584 1959 3584 \nz\n\" transform=\"scale(0.015625)\"/>\n       <path id=\"DejaVuSans-63\" d=\"M 3122 3366 \nL 3122 2828 \nQ 2878 2963 2633 3030 \nQ 2388 3097 2138 3097 \nQ 1578 3097 1268 2742 \nQ 959 2388 959 1747 \nQ 959 1106 1268 751 \nQ 1578 397 2138 397 \nQ 2388 397 2633 464 \nQ 2878 531 3122 666 \nL 3122 134 \nQ 2881 22 2623 -34 \nQ 2366 -91 2075 -91 \nQ 1284 -91 818 406 \nQ 353 903 353 1747 \nQ 353 2603 823 3093 \nQ 1294 3584 2113 3584 \nQ 2378 3584 2631 3529 \nQ 2884 3475 3122 3366 \nz\n\" transform=\"scale(0.015625)\"/>\n       <path id=\"DejaVuSans-68\" d=\"M 3513 2113 \nL 3513 0 \nL 2938 0 \nL 2938 2094 \nQ 2938 2591 2744 2837 \nQ 2550 3084 2163 3084 \nQ 1697 3084 1428 2787 \nQ 1159 2491 1159 1978 \nL 1159 0 \nL 581 0 \nL 581 4863 \nL 1159 4863 \nL 1159 2956 \nQ 1366 3272 1645 3428 \nQ 1925 3584 2291 3584 \nQ 2894 3584 3203 3211 \nQ 3513 2838 3513 2113 \nz\n\" transform=\"scale(0.015625)\"/>\n      </defs>\n      <use xlink:href=\"#DejaVuSans-65\"/>\n      <use xlink:href=\"#DejaVuSans-70\" x=\"61.523438\"/>\n      <use xlink:href=\"#DejaVuSans-6f\" x=\"125\"/>\n      <use xlink:href=\"#DejaVuSans-63\" x=\"186.181641\"/>\n      <use xlink:href=\"#DejaVuSans-68\" x=\"241.162109\"/>\n     </g>\n    </g>\n   </g>\n   <g id=\"matplotlib.axis_2\">\n    <g id=\"ytick_1\">\n     <g id=\"line2d_7\">\n      <defs>\n       <path id=\"m03fe71d3d0\" d=\"M 0 0 \nL -3.5 0 \n\" style=\"stroke: #000000; stroke-width: 0.8\"/>\n      </defs>\n      <g>\n       <use xlink:href=\"#m03fe71d3d0\" x=\"30.103125\" y=\"142.86521\" style=\"stroke: #000000; stroke-width: 0.8\"/>\n      </g>\n     </g>\n     <g id=\"text_8\">\n      <!-- 0.0 -->\n      <g transform=\"translate(7.2 146.664429) scale(0.1 -0.1)\">\n       <defs>\n        <path id=\"DejaVuSans-2e\" d=\"M 684 794 \nL 1344 794 \nL 1344 0 \nL 684 0 \nL 684 794 \nz\n\" transform=\"scale(0.015625)\"/>\n       </defs>\n       <use xlink:href=\"#DejaVuSans-30\"/>\n       <use xlink:href=\"#DejaVuSans-2e\" x=\"63.623047\"/>\n       <use xlink:href=\"#DejaVuSans-30\" x=\"95.410156\"/>\n      </g>\n     </g>\n    </g>\n    <g id=\"ytick_2\">\n     <g id=\"line2d_8\">\n      <g>\n       <use xlink:href=\"#m03fe71d3d0\" x=\"30.103125\" y=\"114.565783\" style=\"stroke: #000000; stroke-width: 0.8\"/>\n      </g>\n     </g>\n     <g id=\"text_9\">\n      <!-- 0.2 -->\n      <g transform=\"translate(7.2 118.365002) scale(0.1 -0.1)\">\n       <use xlink:href=\"#DejaVuSans-30\"/>\n       <use xlink:href=\"#DejaVuSans-2e\" x=\"63.623047\"/>\n       <use xlink:href=\"#DejaVuSans-32\" x=\"95.410156\"/>\n      </g>\n     </g>\n    </g>\n    <g id=\"ytick_3\">\n     <g id=\"line2d_9\">\n      <g>\n       <use xlink:href=\"#m03fe71d3d0\" x=\"30.103125\" y=\"86.266357\" style=\"stroke: #000000; stroke-width: 0.8\"/>\n      </g>\n     </g>\n     <g id=\"text_10\">\n      <!-- 0.4 -->\n      <g transform=\"translate(7.2 90.065575) scale(0.1 -0.1)\">\n       <use xlink:href=\"#DejaVuSans-30\"/>\n       <use xlink:href=\"#DejaVuSans-2e\" x=\"63.623047\"/>\n       <use xlink:href=\"#DejaVuSans-34\" x=\"95.410156\"/>\n      </g>\n     </g>\n    </g>\n    <g id=\"ytick_4\">\n     <g id=\"line2d_10\">\n      <g>\n       <use xlink:href=\"#m03fe71d3d0\" x=\"30.103125\" y=\"57.96693\" style=\"stroke: #000000; stroke-width: 0.8\"/>\n      </g>\n     </g>\n     <g id=\"text_11\">\n      <!-- 0.6 -->\n      <g transform=\"translate(7.2 61.766148) scale(0.1 -0.1)\">\n       <use xlink:href=\"#DejaVuSans-30\"/>\n       <use xlink:href=\"#DejaVuSans-2e\" x=\"63.623047\"/>\n       <use xlink:href=\"#DejaVuSans-36\" x=\"95.410156\"/>\n      </g>\n     </g>\n    </g>\n    <g id=\"ytick_5\">\n     <g id=\"line2d_11\">\n      <g>\n       <use xlink:href=\"#m03fe71d3d0\" x=\"30.103125\" y=\"29.667503\" style=\"stroke: #000000; stroke-width: 0.8\"/>\n      </g>\n     </g>\n     <g id=\"text_12\">\n      <!-- 0.8 -->\n      <g transform=\"translate(7.2 33.466722) scale(0.1 -0.1)\">\n       <use xlink:href=\"#DejaVuSans-30\"/>\n       <use xlink:href=\"#DejaVuSans-2e\" x=\"63.623047\"/>\n       <use xlink:href=\"#DejaVuSans-38\" x=\"95.410156\"/>\n      </g>\n     </g>\n    </g>\n   </g>\n   <g id=\"line2d_12\">\n    <path d=\"M 34.954394 66.155988 \n\" clip-path=\"url(#p017039849b)\" style=\"fill: none; stroke: #1f77b4; stroke-width: 1.5; stroke-linecap: square\"/>\n   </g>\n   <g id=\"line2d_13\">\n    <path d=\"M 34.954394 66.155988 \nL 44.698573 93.634909 \n\" clip-path=\"url(#p017039849b)\" style=\"fill: none; stroke: #1f77b4; stroke-width: 1.5; stroke-linecap: square\"/>\n   </g>\n   <g id=\"line2d_14\">\n    <path d=\"M 34.954394 66.155988 \nL 44.698573 93.634909 \n\" clip-path=\"url(#p017039849b)\" style=\"fill: none; stroke: #1f77b4; stroke-width: 1.5; stroke-linecap: square\"/>\n   </g>\n   <g id=\"line2d_15\">\n    <path d=\"M 49.633125 90.494403 \n\" clip-path=\"url(#p017039849b)\" style=\"fill: none; stroke-dasharray: 5.55,2.4; stroke-dashoffset: 0; stroke: #ff7f0e; stroke-width: 1.5\"/>\n   </g>\n   <g id=\"line2d_16\"/>\n   <g id=\"line2d_17\">\n    <path d=\"M 34.954394 66.155988 \nL 44.698573 93.634909 \n\" clip-path=\"url(#p017039849b)\" style=\"fill: none; stroke: #1f77b4; stroke-width: 1.5; stroke-linecap: square\"/>\n   </g>\n   <g id=\"line2d_18\">\n    <path d=\"M 49.633125 90.494403 \n\" clip-path=\"url(#p017039849b)\" style=\"fill: none; stroke-dasharray: 5.55,2.4; stroke-dashoffset: 0; stroke: #ff7f0e; stroke-width: 1.5\"/>\n   </g>\n   <g id=\"line2d_19\">\n    <path d=\"M 49.633125 20.832328 \n\" clip-path=\"url(#p017039849b)\" style=\"fill: none; stroke-dasharray: 9.6,2.4,1.5,2.4; stroke-dashoffset: 0; stroke: #2ca02c; stroke-width: 1.5\"/>\n   </g>\n   <g id=\"line2d_20\">\n    <path d=\"M 34.954394 66.155988 \nL 44.698573 93.634909 \nL 54.442752 104.123879 \n\" clip-path=\"url(#p017039849b)\" style=\"fill: none; stroke: #1f77b4; stroke-width: 1.5; stroke-linecap: square\"/>\n   </g>\n   <g id=\"line2d_21\">\n    <path d=\"M 49.633125 90.494403 \n\" clip-path=\"url(#p017039849b)\" style=\"fill: none; stroke-dasharray: 5.55,2.4; stroke-dashoffset: 0; stroke: #ff7f0e; stroke-width: 1.5\"/>\n   </g>\n   <g id=\"line2d_22\">\n    <path d=\"M 49.633125 20.832328 \n\" clip-path=\"url(#p017039849b)\" style=\"fill: none; stroke-dasharray: 9.6,2.4,1.5,2.4; stroke-dashoffset: 0; stroke: #2ca02c; stroke-width: 1.5\"/>\n   </g>\n   <g id=\"line2d_23\">\n    <path d=\"M 34.954394 66.155988 \nL 44.698573 93.634909 \nL 54.442752 104.123879 \nL 64.186931 106.399957 \n\" clip-path=\"url(#p017039849b)\" style=\"fill: none; stroke: #1f77b4; stroke-width: 1.5; stroke-linecap: square\"/>\n   </g>\n   <g id=\"line2d_24\">\n    <path d=\"M 49.633125 90.494403 \n\" clip-path=\"url(#p017039849b)\" style=\"fill: none; stroke-dasharray: 5.55,2.4; stroke-dashoffset: 0; stroke: #ff7f0e; stroke-width: 1.5\"/>\n   </g>\n   <g id=\"line2d_25\">\n    <path d=\"M 49.633125 20.832328 \n\" clip-path=\"url(#p017039849b)\" style=\"fill: none; stroke-dasharray: 9.6,2.4,1.5,2.4; stroke-dashoffset: 0; stroke: #2ca02c; stroke-width: 1.5\"/>\n   </g>\n   <g id=\"line2d_26\">\n    <path d=\"M 34.954394 66.155988 \nL 44.698573 93.634909 \nL 54.442752 104.123879 \nL 64.186931 106.399957 \n\" clip-path=\"url(#p017039849b)\" style=\"fill: none; stroke: #1f77b4; stroke-width: 1.5; stroke-linecap: square\"/>\n   </g>\n   <g id=\"line2d_27\">\n    <path d=\"M 49.633125 90.494403 \nL 69.163125 100.991077 \n\" clip-path=\"url(#p017039849b)\" style=\"fill: none; stroke-dasharray: 5.55,2.4; stroke-dashoffset: 0; stroke: #ff7f0e; stroke-width: 1.5\"/>\n   </g>\n   <g id=\"line2d_28\">\n    <path d=\"M 49.633125 20.832328 \n\" clip-path=\"url(#p017039849b)\" style=\"fill: none; stroke-dasharray: 9.6,2.4,1.5,2.4; stroke-dashoffset: 0; stroke: #2ca02c; stroke-width: 1.5\"/>\n   </g>\n   <g id=\"line2d_29\">\n    <path d=\"M 34.954394 66.155988 \nL 44.698573 93.634909 \nL 54.442752 104.123879 \nL 64.186931 106.399957 \n\" clip-path=\"url(#p017039849b)\" style=\"fill: none; stroke: #1f77b4; stroke-width: 1.5; stroke-linecap: square\"/>\n   </g>\n   <g id=\"line2d_30\">\n    <path d=\"M 49.633125 90.494403 \nL 69.163125 100.991077 \n\" clip-path=\"url(#p017039849b)\" style=\"fill: none; stroke-dasharray: 5.55,2.4; stroke-dashoffset: 0; stroke: #ff7f0e; stroke-width: 1.5\"/>\n   </g>\n   <g id=\"line2d_31\">\n    <path d=\"M 49.633125 20.832328 \nL 69.163125 16.396549 \n\" clip-path=\"url(#p017039849b)\" style=\"fill: none; stroke-dasharray: 9.6,2.4,1.5,2.4; stroke-dashoffset: 0; stroke: #2ca02c; stroke-width: 1.5\"/>\n   </g>\n   <g id=\"line2d_32\">\n    <path d=\"M 34.954394 66.155988 \nL 44.698573 93.634909 \nL 54.442752 104.123879 \nL 64.186931 106.399957 \nL 73.93111 113.978169 \n\" clip-path=\"url(#p017039849b)\" style=\"fill: none; stroke: #1f77b4; stroke-width: 1.5; stroke-linecap: square\"/>\n   </g>\n   <g id=\"line2d_33\">\n    <path d=\"M 49.633125 90.494403 \nL 69.163125 100.991077 \n\" clip-path=\"url(#p017039849b)\" style=\"fill: none; stroke-dasharray: 5.55,2.4; stroke-dashoffset: 0; stroke: #ff7f0e; stroke-width: 1.5\"/>\n   </g>\n   <g id=\"line2d_34\">\n    <path d=\"M 49.633125 20.832328 \nL 69.163125 16.396549 \n\" clip-path=\"url(#p017039849b)\" style=\"fill: none; stroke-dasharray: 9.6,2.4,1.5,2.4; stroke-dashoffset: 0; stroke: #2ca02c; stroke-width: 1.5\"/>\n   </g>\n   <g id=\"line2d_35\">\n    <path d=\"M 34.954394 66.155988 \nL 44.698573 93.634909 \nL 54.442752 104.123879 \nL 64.186931 106.399957 \nL 73.93111 113.978169 \nL 83.675289 113.574542 \n\" clip-path=\"url(#p017039849b)\" style=\"fill: none; stroke: #1f77b4; stroke-width: 1.5; stroke-linecap: square\"/>\n   </g>\n   <g id=\"line2d_36\">\n    <path d=\"M 49.633125 90.494403 \nL 69.163125 100.991077 \n\" clip-path=\"url(#p017039849b)\" style=\"fill: none; stroke-dasharray: 5.55,2.4; stroke-dashoffset: 0; stroke: #ff7f0e; stroke-width: 1.5\"/>\n   </g>\n   <g id=\"line2d_37\">\n    <path d=\"M 49.633125 20.832328 \nL 69.163125 16.396549 \n\" clip-path=\"url(#p017039849b)\" style=\"fill: none; stroke-dasharray: 9.6,2.4,1.5,2.4; stroke-dashoffset: 0; stroke: #2ca02c; stroke-width: 1.5\"/>\n   </g>\n   <g id=\"line2d_38\">\n    <path d=\"M 34.954394 66.155988 \nL 44.698573 93.634909 \nL 54.442752 104.123879 \nL 64.186931 106.399957 \nL 73.93111 113.978169 \nL 83.675289 113.574542 \n\" clip-path=\"url(#p017039849b)\" style=\"fill: none; stroke: #1f77b4; stroke-width: 1.5; stroke-linecap: square\"/>\n   </g>\n   <g id=\"line2d_39\">\n    <path d=\"M 49.633125 90.494403 \nL 69.163125 100.991077 \nL 88.693125 103.623563 \n\" clip-path=\"url(#p017039849b)\" style=\"fill: none; stroke-dasharray: 5.55,2.4; stroke-dashoffset: 0; stroke: #ff7f0e; stroke-width: 1.5\"/>\n   </g>\n   <g id=\"line2d_40\">\n    <path d=\"M 49.633125 20.832328 \nL 69.163125 16.396549 \n\" clip-path=\"url(#p017039849b)\" style=\"fill: none; stroke-dasharray: 9.6,2.4,1.5,2.4; stroke-dashoffset: 0; stroke: #2ca02c; stroke-width: 1.5\"/>\n   </g>\n   <g id=\"line2d_41\">\n    <path d=\"M 34.954394 66.155988 \nL 44.698573 93.634909 \nL 54.442752 104.123879 \nL 64.186931 106.399957 \nL 73.93111 113.978169 \nL 83.675289 113.574542 \n\" clip-path=\"url(#p017039849b)\" style=\"fill: none; stroke: #1f77b4; stroke-width: 1.5; stroke-linecap: square\"/>\n   </g>\n   <g id=\"line2d_42\">\n    <path d=\"M 49.633125 90.494403 \nL 69.163125 100.991077 \nL 88.693125 103.623563 \n\" clip-path=\"url(#p017039849b)\" style=\"fill: none; stroke-dasharray: 5.55,2.4; stroke-dashoffset: 0; stroke: #ff7f0e; stroke-width: 1.5\"/>\n   </g>\n   <g id=\"line2d_43\">\n    <path d=\"M 49.633125 20.832328 \nL 69.163125 16.396549 \nL 88.693125 15.6969 \n\" clip-path=\"url(#p017039849b)\" style=\"fill: none; stroke-dasharray: 9.6,2.4,1.5,2.4; stroke-dashoffset: 0; stroke: #2ca02c; stroke-width: 1.5\"/>\n   </g>\n   <g id=\"line2d_44\">\n    <path d=\"M 34.954394 66.155988 \nL 44.698573 93.634909 \nL 54.442752 104.123879 \nL 64.186931 106.399957 \nL 73.93111 113.978169 \nL 83.675289 113.574542 \nL 93.419468 120.143346 \n\" clip-path=\"url(#p017039849b)\" style=\"fill: none; stroke: #1f77b4; stroke-width: 1.5; stroke-linecap: square\"/>\n   </g>\n   <g id=\"line2d_45\">\n    <path d=\"M 49.633125 90.494403 \nL 69.163125 100.991077 \nL 88.693125 103.623563 \n\" clip-path=\"url(#p017039849b)\" style=\"fill: none; stroke-dasharray: 5.55,2.4; stroke-dashoffset: 0; stroke: #ff7f0e; stroke-width: 1.5\"/>\n   </g>\n   <g id=\"line2d_46\">\n    <path d=\"M 49.633125 20.832328 \nL 69.163125 16.396549 \nL 88.693125 15.6969 \n\" clip-path=\"url(#p017039849b)\" style=\"fill: none; stroke-dasharray: 9.6,2.4,1.5,2.4; stroke-dashoffset: 0; stroke: #2ca02c; stroke-width: 1.5\"/>\n   </g>\n   <g id=\"line2d_47\">\n    <path d=\"M 34.954394 66.155988 \nL 44.698573 93.634909 \nL 54.442752 104.123879 \nL 64.186931 106.399957 \nL 73.93111 113.978169 \nL 83.675289 113.574542 \nL 93.419468 120.143346 \nL 103.163647 119.160501 \n\" clip-path=\"url(#p017039849b)\" style=\"fill: none; stroke: #1f77b4; stroke-width: 1.5; stroke-linecap: square\"/>\n   </g>\n   <g id=\"line2d_48\">\n    <path d=\"M 49.633125 90.494403 \nL 69.163125 100.991077 \nL 88.693125 103.623563 \n\" clip-path=\"url(#p017039849b)\" style=\"fill: none; stroke-dasharray: 5.55,2.4; stroke-dashoffset: 0; stroke: #ff7f0e; stroke-width: 1.5\"/>\n   </g>\n   <g id=\"line2d_49\">\n    <path d=\"M 49.633125 20.832328 \nL 69.163125 16.396549 \nL 88.693125 15.6969 \n\" clip-path=\"url(#p017039849b)\" style=\"fill: none; stroke-dasharray: 9.6,2.4,1.5,2.4; stroke-dashoffset: 0; stroke: #2ca02c; stroke-width: 1.5\"/>\n   </g>\n   <g id=\"line2d_50\">\n    <path d=\"M 34.954394 66.155988 \nL 44.698573 93.634909 \nL 54.442752 104.123879 \nL 64.186931 106.399957 \nL 73.93111 113.978169 \nL 83.675289 113.574542 \nL 93.419468 120.143346 \nL 103.163647 119.160501 \n\" clip-path=\"url(#p017039849b)\" style=\"fill: none; stroke: #1f77b4; stroke-width: 1.5; stroke-linecap: square\"/>\n   </g>\n   <g id=\"line2d_51\">\n    <path d=\"M 49.633125 90.494403 \nL 69.163125 100.991077 \nL 88.693125 103.623563 \nL 108.223125 93.069831 \n\" clip-path=\"url(#p017039849b)\" style=\"fill: none; stroke-dasharray: 5.55,2.4; stroke-dashoffset: 0; stroke: #ff7f0e; stroke-width: 1.5\"/>\n   </g>\n   <g id=\"line2d_52\">\n    <path d=\"M 49.633125 20.832328 \nL 69.163125 16.396549 \nL 88.693125 15.6969 \n\" clip-path=\"url(#p017039849b)\" style=\"fill: none; stroke-dasharray: 9.6,2.4,1.5,2.4; stroke-dashoffset: 0; stroke: #2ca02c; stroke-width: 1.5\"/>\n   </g>\n   <g id=\"line2d_53\">\n    <path d=\"M 34.954394 66.155988 \nL 44.698573 93.634909 \nL 54.442752 104.123879 \nL 64.186931 106.399957 \nL 73.93111 113.978169 \nL 83.675289 113.574542 \nL 93.419468 120.143346 \nL 103.163647 119.160501 \n\" clip-path=\"url(#p017039849b)\" style=\"fill: none; stroke: #1f77b4; stroke-width: 1.5; stroke-linecap: square\"/>\n   </g>\n   <g id=\"line2d_54\">\n    <path d=\"M 49.633125 90.494403 \nL 69.163125 100.991077 \nL 88.693125 103.623563 \nL 108.223125 93.069831 \n\" clip-path=\"url(#p017039849b)\" style=\"fill: none; stroke-dasharray: 5.55,2.4; stroke-dashoffset: 0; stroke: #ff7f0e; stroke-width: 1.5\"/>\n   </g>\n   <g id=\"line2d_55\">\n    <path d=\"M 49.633125 20.832328 \nL 69.163125 16.396549 \nL 88.693125 15.6969 \nL 108.223125 19.39105 \n\" clip-path=\"url(#p017039849b)\" style=\"fill: none; stroke-dasharray: 9.6,2.4,1.5,2.4; stroke-dashoffset: 0; stroke: #2ca02c; stroke-width: 1.5\"/>\n   </g>\n   <g id=\"line2d_56\">\n    <path d=\"M 34.954394 66.155988 \nL 44.698573 93.634909 \nL 54.442752 104.123879 \nL 64.186931 106.399957 \nL 73.93111 113.978169 \nL 83.675289 113.574542 \nL 93.419468 120.143346 \nL 103.163647 119.160501 \nL 112.907826 125.199485 \n\" clip-path=\"url(#p017039849b)\" style=\"fill: none; stroke: #1f77b4; stroke-width: 1.5; stroke-linecap: square\"/>\n   </g>\n   <g id=\"line2d_57\">\n    <path d=\"M 49.633125 90.494403 \nL 69.163125 100.991077 \nL 88.693125 103.623563 \nL 108.223125 93.069831 \n\" clip-path=\"url(#p017039849b)\" style=\"fill: none; stroke-dasharray: 5.55,2.4; stroke-dashoffset: 0; stroke: #ff7f0e; stroke-width: 1.5\"/>\n   </g>\n   <g id=\"line2d_58\">\n    <path d=\"M 49.633125 20.832328 \nL 69.163125 16.396549 \nL 88.693125 15.6969 \nL 108.223125 19.39105 \n\" clip-path=\"url(#p017039849b)\" style=\"fill: none; stroke-dasharray: 9.6,2.4,1.5,2.4; stroke-dashoffset: 0; stroke: #2ca02c; stroke-width: 1.5\"/>\n   </g>\n   <g id=\"line2d_59\">\n    <path d=\"M 34.954394 66.155988 \nL 44.698573 93.634909 \nL 54.442752 104.123879 \nL 64.186931 106.399957 \nL 73.93111 113.978169 \nL 83.675289 113.574542 \nL 93.419468 120.143346 \nL 103.163647 119.160501 \nL 112.907826 125.199485 \nL 122.652006 124.318558 \n\" clip-path=\"url(#p017039849b)\" style=\"fill: none; stroke: #1f77b4; stroke-width: 1.5; stroke-linecap: square\"/>\n   </g>\n   <g id=\"line2d_60\">\n    <path d=\"M 49.633125 90.494403 \nL 69.163125 100.991077 \nL 88.693125 103.623563 \nL 108.223125 93.069831 \n\" clip-path=\"url(#p017039849b)\" style=\"fill: none; stroke-dasharray: 5.55,2.4; stroke-dashoffset: 0; stroke: #ff7f0e; stroke-width: 1.5\"/>\n   </g>\n   <g id=\"line2d_61\">\n    <path d=\"M 49.633125 20.832328 \nL 69.163125 16.396549 \nL 88.693125 15.6969 \nL 108.223125 19.39105 \n\" clip-path=\"url(#p017039849b)\" style=\"fill: none; stroke-dasharray: 9.6,2.4,1.5,2.4; stroke-dashoffset: 0; stroke: #2ca02c; stroke-width: 1.5\"/>\n   </g>\n   <g id=\"line2d_62\">\n    <path d=\"M 34.954394 66.155988 \nL 44.698573 93.634909 \nL 54.442752 104.123879 \nL 64.186931 106.399957 \nL 73.93111 113.978169 \nL 83.675289 113.574542 \nL 93.419468 120.143346 \nL 103.163647 119.160501 \nL 112.907826 125.199485 \nL 122.652006 124.318558 \n\" clip-path=\"url(#p017039849b)\" style=\"fill: none; stroke: #1f77b4; stroke-width: 1.5; stroke-linecap: square\"/>\n   </g>\n   <g id=\"line2d_63\">\n    <path d=\"M 49.633125 90.494403 \nL 69.163125 100.991077 \nL 88.693125 103.623563 \nL 108.223125 93.069831 \nL 127.753125 100.000256 \n\" clip-path=\"url(#p017039849b)\" style=\"fill: none; stroke-dasharray: 5.55,2.4; stroke-dashoffset: 0; stroke: #ff7f0e; stroke-width: 1.5\"/>\n   </g>\n   <g id=\"line2d_64\">\n    <path d=\"M 49.633125 20.832328 \nL 69.163125 16.396549 \nL 88.693125 15.6969 \nL 108.223125 19.39105 \n\" clip-path=\"url(#p017039849b)\" style=\"fill: none; stroke-dasharray: 9.6,2.4,1.5,2.4; stroke-dashoffset: 0; stroke: #2ca02c; stroke-width: 1.5\"/>\n   </g>\n   <g id=\"line2d_65\">\n    <path d=\"M 34.954394 66.155988 \nL 44.698573 93.634909 \nL 54.442752 104.123879 \nL 64.186931 106.399957 \nL 73.93111 113.978169 \nL 83.675289 113.574542 \nL 93.419468 120.143346 \nL 103.163647 119.160501 \nL 112.907826 125.199485 \nL 122.652006 124.318558 \n\" clip-path=\"url(#p017039849b)\" style=\"fill: none; stroke: #1f77b4; stroke-width: 1.5; stroke-linecap: square\"/>\n   </g>\n   <g id=\"line2d_66\">\n    <path d=\"M 49.633125 90.494403 \nL 69.163125 100.991077 \nL 88.693125 103.623563 \nL 108.223125 93.069831 \nL 127.753125 100.000256 \n\" clip-path=\"url(#p017039849b)\" style=\"fill: none; stroke-dasharray: 5.55,2.4; stroke-dashoffset: 0; stroke: #ff7f0e; stroke-width: 1.5\"/>\n   </g>\n   <g id=\"line2d_67\">\n    <path d=\"M 49.633125 20.832328 \nL 69.163125 16.396549 \nL 88.693125 15.6969 \nL 108.223125 19.39105 \nL 127.753125 15.514991 \n\" clip-path=\"url(#p017039849b)\" style=\"fill: none; stroke-dasharray: 9.6,2.4,1.5,2.4; stroke-dashoffset: 0; stroke: #2ca02c; stroke-width: 1.5\"/>\n   </g>\n   <g id=\"line2d_68\">\n    <path d=\"M 34.954394 66.155988 \nL 44.698573 93.634909 \nL 54.442752 104.123879 \nL 64.186931 106.399957 \nL 73.93111 113.978169 \nL 83.675289 113.574542 \nL 93.419468 120.143346 \nL 103.163647 119.160501 \nL 112.907826 125.199485 \nL 122.652006 124.318558 \nL 132.396185 129.954573 \n\" clip-path=\"url(#p017039849b)\" style=\"fill: none; stroke: #1f77b4; stroke-width: 1.5; stroke-linecap: square\"/>\n   </g>\n   <g id=\"line2d_69\">\n    <path d=\"M 49.633125 90.494403 \nL 69.163125 100.991077 \nL 88.693125 103.623563 \nL 108.223125 93.069831 \nL 127.753125 100.000256 \n\" clip-path=\"url(#p017039849b)\" style=\"fill: none; stroke-dasharray: 5.55,2.4; stroke-dashoffset: 0; stroke: #ff7f0e; stroke-width: 1.5\"/>\n   </g>\n   <g id=\"line2d_70\">\n    <path d=\"M 49.633125 20.832328 \nL 69.163125 16.396549 \nL 88.693125 15.6969 \nL 108.223125 19.39105 \nL 127.753125 15.514991 \n\" clip-path=\"url(#p017039849b)\" style=\"fill: none; stroke-dasharray: 9.6,2.4,1.5,2.4; stroke-dashoffset: 0; stroke: #2ca02c; stroke-width: 1.5\"/>\n   </g>\n   <g id=\"line2d_71\">\n    <path d=\"M 34.954394 66.155988 \nL 44.698573 93.634909 \nL 54.442752 104.123879 \nL 64.186931 106.399957 \nL 73.93111 113.978169 \nL 83.675289 113.574542 \nL 93.419468 120.143346 \nL 103.163647 119.160501 \nL 112.907826 125.199485 \nL 122.652006 124.318558 \nL 132.396185 129.954573 \nL 142.140364 128.638897 \n\" clip-path=\"url(#p017039849b)\" style=\"fill: none; stroke: #1f77b4; stroke-width: 1.5; stroke-linecap: square\"/>\n   </g>\n   <g id=\"line2d_72\">\n    <path d=\"M 49.633125 90.494403 \nL 69.163125 100.991077 \nL 88.693125 103.623563 \nL 108.223125 93.069831 \nL 127.753125 100.000256 \n\" clip-path=\"url(#p017039849b)\" style=\"fill: none; stroke-dasharray: 5.55,2.4; stroke-dashoffset: 0; stroke: #ff7f0e; stroke-width: 1.5\"/>\n   </g>\n   <g id=\"line2d_73\">\n    <path d=\"M 49.633125 20.832328 \nL 69.163125 16.396549 \nL 88.693125 15.6969 \nL 108.223125 19.39105 \nL 127.753125 15.514991 \n\" clip-path=\"url(#p017039849b)\" style=\"fill: none; stroke-dasharray: 9.6,2.4,1.5,2.4; stroke-dashoffset: 0; stroke: #2ca02c; stroke-width: 1.5\"/>\n   </g>\n   <g id=\"line2d_74\">\n    <path d=\"M 34.954394 66.155988 \nL 44.698573 93.634909 \nL 54.442752 104.123879 \nL 64.186931 106.399957 \nL 73.93111 113.978169 \nL 83.675289 113.574542 \nL 93.419468 120.143346 \nL 103.163647 119.160501 \nL 112.907826 125.199485 \nL 122.652006 124.318558 \nL 132.396185 129.954573 \nL 142.140364 128.638897 \n\" clip-path=\"url(#p017039849b)\" style=\"fill: none; stroke: #1f77b4; stroke-width: 1.5; stroke-linecap: square\"/>\n   </g>\n   <g id=\"line2d_75\">\n    <path d=\"M 49.633125 90.494403 \nL 69.163125 100.991077 \nL 88.693125 103.623563 \nL 108.223125 93.069831 \nL 127.753125 100.000256 \nL 147.283125 100.33446 \n\" clip-path=\"url(#p017039849b)\" style=\"fill: none; stroke-dasharray: 5.55,2.4; stroke-dashoffset: 0; stroke: #ff7f0e; stroke-width: 1.5\"/>\n   </g>\n   <g id=\"line2d_76\">\n    <path d=\"M 49.633125 20.832328 \nL 69.163125 16.396549 \nL 88.693125 15.6969 \nL 108.223125 19.39105 \nL 127.753125 15.514991 \n\" clip-path=\"url(#p017039849b)\" style=\"fill: none; stroke-dasharray: 9.6,2.4,1.5,2.4; stroke-dashoffset: 0; stroke: #2ca02c; stroke-width: 1.5\"/>\n   </g>\n   <g id=\"line2d_77\">\n    <path d=\"M 34.954394 66.155988 \nL 44.698573 93.634909 \nL 54.442752 104.123879 \nL 64.186931 106.399957 \nL 73.93111 113.978169 \nL 83.675289 113.574542 \nL 93.419468 120.143346 \nL 103.163647 119.160501 \nL 112.907826 125.199485 \nL 122.652006 124.318558 \nL 132.396185 129.954573 \nL 142.140364 128.638897 \n\" clip-path=\"url(#p017039849b)\" style=\"fill: none; stroke: #1f77b4; stroke-width: 1.5; stroke-linecap: square\"/>\n   </g>\n   <g id=\"line2d_78\">\n    <path d=\"M 49.633125 90.494403 \nL 69.163125 100.991077 \nL 88.693125 103.623563 \nL 108.223125 93.069831 \nL 127.753125 100.000256 \nL 147.283125 100.33446 \n\" clip-path=\"url(#p017039849b)\" style=\"fill: none; stroke-dasharray: 5.55,2.4; stroke-dashoffset: 0; stroke: #ff7f0e; stroke-width: 1.5\"/>\n   </g>\n   <g id=\"line2d_79\">\n    <path d=\"M 49.633125 20.832328 \nL 69.163125 16.396549 \nL 88.693125 15.6969 \nL 108.223125 19.39105 \nL 127.753125 15.514991 \nL 147.283125 15.333082 \n\" clip-path=\"url(#p017039849b)\" style=\"fill: none; stroke-dasharray: 9.6,2.4,1.5,2.4; stroke-dashoffset: 0; stroke: #2ca02c; stroke-width: 1.5\"/>\n   </g>\n   <g id=\"line2d_80\">\n    <path d=\"M 34.954394 66.155988 \nL 44.698573 93.634909 \nL 54.442752 104.123879 \nL 64.186931 106.399957 \nL 73.93111 113.978169 \nL 83.675289 113.574542 \nL 93.419468 120.143346 \nL 103.163647 119.160501 \nL 112.907826 125.199485 \nL 122.652006 124.318558 \nL 132.396185 129.954573 \nL 142.140364 128.638897 \nL 151.884543 133.383359 \n\" clip-path=\"url(#p017039849b)\" style=\"fill: none; stroke: #1f77b4; stroke-width: 1.5; stroke-linecap: square\"/>\n   </g>\n   <g id=\"line2d_81\">\n    <path d=\"M 49.633125 90.494403 \nL 69.163125 100.991077 \nL 88.693125 103.623563 \nL 108.223125 93.069831 \nL 127.753125 100.000256 \nL 147.283125 100.33446 \n\" clip-path=\"url(#p017039849b)\" style=\"fill: none; stroke-dasharray: 5.55,2.4; stroke-dashoffset: 0; stroke: #ff7f0e; stroke-width: 1.5\"/>\n   </g>\n   <g id=\"line2d_82\">\n    <path d=\"M 49.633125 20.832328 \nL 69.163125 16.396549 \nL 88.693125 15.6969 \nL 108.223125 19.39105 \nL 127.753125 15.514991 \nL 147.283125 15.333082 \n\" clip-path=\"url(#p017039849b)\" style=\"fill: none; stroke-dasharray: 9.6,2.4,1.5,2.4; stroke-dashoffset: 0; stroke: #2ca02c; stroke-width: 1.5\"/>\n   </g>\n   <g id=\"line2d_83\">\n    <path d=\"M 34.954394 66.155988 \nL 44.698573 93.634909 \nL 54.442752 104.123879 \nL 64.186931 106.399957 \nL 73.93111 113.978169 \nL 83.675289 113.574542 \nL 93.419468 120.143346 \nL 103.163647 119.160501 \nL 112.907826 125.199485 \nL 122.652006 124.318558 \nL 132.396185 129.954573 \nL 142.140364 128.638897 \nL 151.884543 133.383359 \nL 161.628722 132.519638 \n\" clip-path=\"url(#p017039849b)\" style=\"fill: none; stroke: #1f77b4; stroke-width: 1.5; stroke-linecap: square\"/>\n   </g>\n   <g id=\"line2d_84\">\n    <path d=\"M 49.633125 90.494403 \nL 69.163125 100.991077 \nL 88.693125 103.623563 \nL 108.223125 93.069831 \nL 127.753125 100.000256 \nL 147.283125 100.33446 \n\" clip-path=\"url(#p017039849b)\" style=\"fill: none; stroke-dasharray: 5.55,2.4; stroke-dashoffset: 0; stroke: #ff7f0e; stroke-width: 1.5\"/>\n   </g>\n   <g id=\"line2d_85\">\n    <path d=\"M 49.633125 20.832328 \nL 69.163125 16.396549 \nL 88.693125 15.6969 \nL 108.223125 19.39105 \nL 127.753125 15.514991 \nL 147.283125 15.333082 \n\" clip-path=\"url(#p017039849b)\" style=\"fill: none; stroke-dasharray: 9.6,2.4,1.5,2.4; stroke-dashoffset: 0; stroke: #2ca02c; stroke-width: 1.5\"/>\n   </g>\n   <g id=\"line2d_86\">\n    <path d=\"M 34.954394 66.155988 \nL 44.698573 93.634909 \nL 54.442752 104.123879 \nL 64.186931 106.399957 \nL 73.93111 113.978169 \nL 83.675289 113.574542 \nL 93.419468 120.143346 \nL 103.163647 119.160501 \nL 112.907826 125.199485 \nL 122.652006 124.318558 \nL 132.396185 129.954573 \nL 142.140364 128.638897 \nL 151.884543 133.383359 \nL 161.628722 132.519638 \n\" clip-path=\"url(#p017039849b)\" style=\"fill: none; stroke: #1f77b4; stroke-width: 1.5; stroke-linecap: square\"/>\n   </g>\n   <g id=\"line2d_87\">\n    <path d=\"M 49.633125 90.494403 \nL 69.163125 100.991077 \nL 88.693125 103.623563 \nL 108.223125 93.069831 \nL 127.753125 100.000256 \nL 147.283125 100.33446 \nL 166.813125 101.441026 \n\" clip-path=\"url(#p017039849b)\" style=\"fill: none; stroke-dasharray: 5.55,2.4; stroke-dashoffset: 0; stroke: #ff7f0e; stroke-width: 1.5\"/>\n   </g>\n   <g id=\"line2d_88\">\n    <path d=\"M 49.633125 20.832328 \nL 69.163125 16.396549 \nL 88.693125 15.6969 \nL 108.223125 19.39105 \nL 127.753125 15.514991 \nL 147.283125 15.333082 \n\" clip-path=\"url(#p017039849b)\" style=\"fill: none; stroke-dasharray: 9.6,2.4,1.5,2.4; stroke-dashoffset: 0; stroke: #2ca02c; stroke-width: 1.5\"/>\n   </g>\n   <g id=\"line2d_89\">\n    <path d=\"M 34.954394 66.155988 \nL 44.698573 93.634909 \nL 54.442752 104.123879 \nL 64.186931 106.399957 \nL 73.93111 113.978169 \nL 83.675289 113.574542 \nL 93.419468 120.143346 \nL 103.163647 119.160501 \nL 112.907826 125.199485 \nL 122.652006 124.318558 \nL 132.396185 129.954573 \nL 142.140364 128.638897 \nL 151.884543 133.383359 \nL 161.628722 132.519638 \n\" clip-path=\"url(#p017039849b)\" style=\"fill: none; stroke: #1f77b4; stroke-width: 1.5; stroke-linecap: square\"/>\n   </g>\n   <g id=\"line2d_90\">\n    <path d=\"M 49.633125 90.494403 \nL 69.163125 100.991077 \nL 88.693125 103.623563 \nL 108.223125 93.069831 \nL 127.753125 100.000256 \nL 147.283125 100.33446 \nL 166.813125 101.441026 \n\" clip-path=\"url(#p017039849b)\" style=\"fill: none; stroke-dasharray: 5.55,2.4; stroke-dashoffset: 0; stroke: #ff7f0e; stroke-width: 1.5\"/>\n   </g>\n   <g id=\"line2d_91\">\n    <path d=\"M 49.633125 20.832328 \nL 69.163125 16.396549 \nL 88.693125 15.6969 \nL 108.223125 19.39105 \nL 127.753125 15.514991 \nL 147.283125 15.333082 \nL 166.813125 13.933783 \n\" clip-path=\"url(#p017039849b)\" style=\"fill: none; stroke-dasharray: 9.6,2.4,1.5,2.4; stroke-dashoffset: 0; stroke: #2ca02c; stroke-width: 1.5\"/>\n   </g>\n   <g id=\"line2d_92\">\n    <path d=\"M 34.954394 66.155988 \nL 44.698573 93.634909 \nL 54.442752 104.123879 \nL 64.186931 106.399957 \nL 73.93111 113.978169 \nL 83.675289 113.574542 \nL 93.419468 120.143346 \nL 103.163647 119.160501 \nL 112.907826 125.199485 \nL 122.652006 124.318558 \nL 132.396185 129.954573 \nL 142.140364 128.638897 \nL 151.884543 133.383359 \nL 161.628722 132.519638 \nL 171.372901 136.133066 \n\" clip-path=\"url(#p017039849b)\" style=\"fill: none; stroke: #1f77b4; stroke-width: 1.5; stroke-linecap: square\"/>\n   </g>\n   <g id=\"line2d_93\">\n    <path d=\"M 49.633125 90.494403 \nL 69.163125 100.991077 \nL 88.693125 103.623563 \nL 108.223125 93.069831 \nL 127.753125 100.000256 \nL 147.283125 100.33446 \nL 166.813125 101.441026 \n\" clip-path=\"url(#p017039849b)\" style=\"fill: none; stroke-dasharray: 5.55,2.4; stroke-dashoffset: 0; stroke: #ff7f0e; stroke-width: 1.5\"/>\n   </g>\n   <g id=\"line2d_94\">\n    <path d=\"M 49.633125 20.832328 \nL 69.163125 16.396549 \nL 88.693125 15.6969 \nL 108.223125 19.39105 \nL 127.753125 15.514991 \nL 147.283125 15.333082 \nL 166.813125 13.933783 \n\" clip-path=\"url(#p017039849b)\" style=\"fill: none; stroke-dasharray: 9.6,2.4,1.5,2.4; stroke-dashoffset: 0; stroke: #2ca02c; stroke-width: 1.5\"/>\n   </g>\n   <g id=\"line2d_95\">\n    <path d=\"M 34.954394 66.155988 \nL 44.698573 93.634909 \nL 54.442752 104.123879 \nL 64.186931 106.399957 \nL 73.93111 113.978169 \nL 83.675289 113.574542 \nL 93.419468 120.143346 \nL 103.163647 119.160501 \nL 112.907826 125.199485 \nL 122.652006 124.318558 \nL 132.396185 129.954573 \nL 142.140364 128.638897 \nL 151.884543 133.383359 \nL 161.628722 132.519638 \nL 171.372901 136.133066 \nL 181.11708 135.381919 \n\" clip-path=\"url(#p017039849b)\" style=\"fill: none; stroke: #1f77b4; stroke-width: 1.5; stroke-linecap: square\"/>\n   </g>\n   <g id=\"line2d_96\">\n    <path d=\"M 49.633125 90.494403 \nL 69.163125 100.991077 \nL 88.693125 103.623563 \nL 108.223125 93.069831 \nL 127.753125 100.000256 \nL 147.283125 100.33446 \nL 166.813125 101.441026 \n\" clip-path=\"url(#p017039849b)\" style=\"fill: none; stroke-dasharray: 5.55,2.4; stroke-dashoffset: 0; stroke: #ff7f0e; stroke-width: 1.5\"/>\n   </g>\n   <g id=\"line2d_97\">\n    <path d=\"M 49.633125 20.832328 \nL 69.163125 16.396549 \nL 88.693125 15.6969 \nL 108.223125 19.39105 \nL 127.753125 15.514991 \nL 147.283125 15.333082 \nL 166.813125 13.933783 \n\" clip-path=\"url(#p017039849b)\" style=\"fill: none; stroke-dasharray: 9.6,2.4,1.5,2.4; stroke-dashoffset: 0; stroke: #2ca02c; stroke-width: 1.5\"/>\n   </g>\n   <g id=\"line2d_98\">\n    <path d=\"M 34.954394 66.155988 \nL 44.698573 93.634909 \nL 54.442752 104.123879 \nL 64.186931 106.399957 \nL 73.93111 113.978169 \nL 83.675289 113.574542 \nL 93.419468 120.143346 \nL 103.163647 119.160501 \nL 112.907826 125.199485 \nL 122.652006 124.318558 \nL 132.396185 129.954573 \nL 142.140364 128.638897 \nL 151.884543 133.383359 \nL 161.628722 132.519638 \nL 171.372901 136.133066 \nL 181.11708 135.381919 \n\" clip-path=\"url(#p017039849b)\" style=\"fill: none; stroke: #1f77b4; stroke-width: 1.5; stroke-linecap: square\"/>\n   </g>\n   <g id=\"line2d_99\">\n    <path d=\"M 49.633125 90.494403 \nL 69.163125 100.991077 \nL 88.693125 103.623563 \nL 108.223125 93.069831 \nL 127.753125 100.000256 \nL 147.283125 100.33446 \nL 166.813125 101.441026 \nL 186.343125 101.849526 \n\" clip-path=\"url(#p017039849b)\" style=\"fill: none; stroke-dasharray: 5.55,2.4; stroke-dashoffset: 0; stroke: #ff7f0e; stroke-width: 1.5\"/>\n   </g>\n   <g id=\"line2d_100\">\n    <path d=\"M 49.633125 20.832328 \nL 69.163125 16.396549 \nL 88.693125 15.6969 \nL 108.223125 19.39105 \nL 127.753125 15.514991 \nL 147.283125 15.333082 \nL 166.813125 13.933783 \n\" clip-path=\"url(#p017039849b)\" style=\"fill: none; stroke-dasharray: 9.6,2.4,1.5,2.4; stroke-dashoffset: 0; stroke: #2ca02c; stroke-width: 1.5\"/>\n   </g>\n   <g id=\"line2d_101\">\n    <path d=\"M 34.954394 66.155988 \nL 44.698573 93.634909 \nL 54.442752 104.123879 \nL 64.186931 106.399957 \nL 73.93111 113.978169 \nL 83.675289 113.574542 \nL 93.419468 120.143346 \nL 103.163647 119.160501 \nL 112.907826 125.199485 \nL 122.652006 124.318558 \nL 132.396185 129.954573 \nL 142.140364 128.638897 \nL 151.884543 133.383359 \nL 161.628722 132.519638 \nL 171.372901 136.133066 \nL 181.11708 135.381919 \n\" clip-path=\"url(#p017039849b)\" style=\"fill: none; stroke: #1f77b4; stroke-width: 1.5; stroke-linecap: square\"/>\n   </g>\n   <g id=\"line2d_102\">\n    <path d=\"M 49.633125 90.494403 \nL 69.163125 100.991077 \nL 88.693125 103.623563 \nL 108.223125 93.069831 \nL 127.753125 100.000256 \nL 147.283125 100.33446 \nL 166.813125 101.441026 \nL 186.343125 101.849526 \n\" clip-path=\"url(#p017039849b)\" style=\"fill: none; stroke-dasharray: 5.55,2.4; stroke-dashoffset: 0; stroke: #ff7f0e; stroke-width: 1.5\"/>\n   </g>\n   <g id=\"line2d_103\">\n    <path d=\"M 49.633125 20.832328 \nL 69.163125 16.396549 \nL 88.693125 15.6969 \nL 108.223125 19.39105 \nL 127.753125 15.514991 \nL 147.283125 15.333082 \nL 166.813125 13.933783 \nL 186.343125 14.255622 \n\" clip-path=\"url(#p017039849b)\" style=\"fill: none; stroke-dasharray: 9.6,2.4,1.5,2.4; stroke-dashoffset: 0; stroke: #2ca02c; stroke-width: 1.5\"/>\n   </g>\n   <g id=\"line2d_104\">\n    <path d=\"M 34.954394 66.155988 \nL 44.698573 93.634909 \nL 54.442752 104.123879 \nL 64.186931 106.399957 \nL 73.93111 113.978169 \nL 83.675289 113.574542 \nL 93.419468 120.143346 \nL 103.163647 119.160501 \nL 112.907826 125.199485 \nL 122.652006 124.318558 \nL 132.396185 129.954573 \nL 142.140364 128.638897 \nL 151.884543 133.383359 \nL 161.628722 132.519638 \nL 171.372901 136.133066 \nL 181.11708 135.381919 \nL 190.861259 138.541667 \n\" clip-path=\"url(#p017039849b)\" style=\"fill: none; stroke: #1f77b4; stroke-width: 1.5; stroke-linecap: square\"/>\n   </g>\n   <g id=\"line2d_105\">\n    <path d=\"M 49.633125 90.494403 \nL 69.163125 100.991077 \nL 88.693125 103.623563 \nL 108.223125 93.069831 \nL 127.753125 100.000256 \nL 147.283125 100.33446 \nL 166.813125 101.441026 \nL 186.343125 101.849526 \n\" clip-path=\"url(#p017039849b)\" style=\"fill: none; stroke-dasharray: 5.55,2.4; stroke-dashoffset: 0; stroke: #ff7f0e; stroke-width: 1.5\"/>\n   </g>\n   <g id=\"line2d_106\">\n    <path d=\"M 49.633125 20.832328 \nL 69.163125 16.396549 \nL 88.693125 15.6969 \nL 108.223125 19.39105 \nL 127.753125 15.514991 \nL 147.283125 15.333082 \nL 166.813125 13.933783 \nL 186.343125 14.255622 \n\" clip-path=\"url(#p017039849b)\" style=\"fill: none; stroke-dasharray: 9.6,2.4,1.5,2.4; stroke-dashoffset: 0; stroke: #2ca02c; stroke-width: 1.5\"/>\n   </g>\n   <g id=\"line2d_107\">\n    <path d=\"M 34.954394 66.155988 \nL 44.698573 93.634909 \nL 54.442752 104.123879 \nL 64.186931 106.399957 \nL 73.93111 113.978169 \nL 83.675289 113.574542 \nL 93.419468 120.143346 \nL 103.163647 119.160501 \nL 112.907826 125.199485 \nL 122.652006 124.318558 \nL 132.396185 129.954573 \nL 142.140364 128.638897 \nL 151.884543 133.383359 \nL 161.628722 132.519638 \nL 171.372901 136.133066 \nL 181.11708 135.381919 \nL 190.861259 138.541667 \nL 200.605438 137.336878 \n\" clip-path=\"url(#p017039849b)\" style=\"fill: none; stroke: #1f77b4; stroke-width: 1.5; stroke-linecap: square\"/>\n   </g>\n   <g id=\"line2d_108\">\n    <path d=\"M 49.633125 90.494403 \nL 69.163125 100.991077 \nL 88.693125 103.623563 \nL 108.223125 93.069831 \nL 127.753125 100.000256 \nL 147.283125 100.33446 \nL 166.813125 101.441026 \nL 186.343125 101.849526 \n\" clip-path=\"url(#p017039849b)\" style=\"fill: none; stroke-dasharray: 5.55,2.4; stroke-dashoffset: 0; stroke: #ff7f0e; stroke-width: 1.5\"/>\n   </g>\n   <g id=\"line2d_109\">\n    <path d=\"M 49.633125 20.832328 \nL 69.163125 16.396549 \nL 88.693125 15.6969 \nL 108.223125 19.39105 \nL 127.753125 15.514991 \nL 147.283125 15.333082 \nL 166.813125 13.933783 \nL 186.343125 14.255622 \n\" clip-path=\"url(#p017039849b)\" style=\"fill: none; stroke-dasharray: 9.6,2.4,1.5,2.4; stroke-dashoffset: 0; stroke: #2ca02c; stroke-width: 1.5\"/>\n   </g>\n   <g id=\"line2d_110\">\n    <path d=\"M 34.954394 66.155988 \nL 44.698573 93.634909 \nL 54.442752 104.123879 \nL 64.186931 106.399957 \nL 73.93111 113.978169 \nL 83.675289 113.574542 \nL 93.419468 120.143346 \nL 103.163647 119.160501 \nL 112.907826 125.199485 \nL 122.652006 124.318558 \nL 132.396185 129.954573 \nL 142.140364 128.638897 \nL 151.884543 133.383359 \nL 161.628722 132.519638 \nL 171.372901 136.133066 \nL 181.11708 135.381919 \nL 190.861259 138.541667 \nL 200.605438 137.336878 \n\" clip-path=\"url(#p017039849b)\" style=\"fill: none; stroke: #1f77b4; stroke-width: 1.5; stroke-linecap: square\"/>\n   </g>\n   <g id=\"line2d_111\">\n    <path d=\"M 49.633125 90.494403 \nL 69.163125 100.991077 \nL 88.693125 103.623563 \nL 108.223125 93.069831 \nL 127.753125 100.000256 \nL 147.283125 100.33446 \nL 166.813125 101.441026 \nL 186.343125 101.849526 \nL 205.873125 101.236286 \n\" clip-path=\"url(#p017039849b)\" style=\"fill: none; stroke-dasharray: 5.55,2.4; stroke-dashoffset: 0; stroke: #ff7f0e; stroke-width: 1.5\"/>\n   </g>\n   <g id=\"line2d_112\">\n    <path d=\"M 49.633125 20.832328 \nL 69.163125 16.396549 \nL 88.693125 15.6969 \nL 108.223125 19.39105 \nL 127.753125 15.514991 \nL 147.283125 15.333082 \nL 166.813125 13.933783 \nL 186.343125 14.255622 \n\" clip-path=\"url(#p017039849b)\" style=\"fill: none; stroke-dasharray: 9.6,2.4,1.5,2.4; stroke-dashoffset: 0; stroke: #2ca02c; stroke-width: 1.5\"/>\n   </g>\n   <g id=\"line2d_113\">\n    <path d=\"M 34.954394 66.155988 \nL 44.698573 93.634909 \nL 54.442752 104.123879 \nL 64.186931 106.399957 \nL 73.93111 113.978169 \nL 83.675289 113.574542 \nL 93.419468 120.143346 \nL 103.163647 119.160501 \nL 112.907826 125.199485 \nL 122.652006 124.318558 \nL 132.396185 129.954573 \nL 142.140364 128.638897 \nL 151.884543 133.383359 \nL 161.628722 132.519638 \nL 171.372901 136.133066 \nL 181.11708 135.381919 \nL 190.861259 138.541667 \nL 200.605438 137.336878 \n\" clip-path=\"url(#p017039849b)\" style=\"fill: none; stroke: #1f77b4; stroke-width: 1.5; stroke-linecap: square\"/>\n   </g>\n   <g id=\"line2d_114\">\n    <path d=\"M 49.633125 90.494403 \nL 69.163125 100.991077 \nL 88.693125 103.623563 \nL 108.223125 93.069831 \nL 127.753125 100.000256 \nL 147.283125 100.33446 \nL 166.813125 101.441026 \nL 186.343125 101.849526 \nL 205.873125 101.236286 \n\" clip-path=\"url(#p017039849b)\" style=\"fill: none; stroke-dasharray: 5.55,2.4; stroke-dashoffset: 0; stroke: #ff7f0e; stroke-width: 1.5\"/>\n   </g>\n   <g id=\"line2d_115\">\n    <path d=\"M 49.633125 20.832328 \nL 69.163125 16.396549 \nL 88.693125 15.6969 \nL 108.223125 19.39105 \nL 127.753125 15.514991 \nL 147.283125 15.333082 \nL 166.813125 13.933783 \nL 186.343125 14.255622 \nL 205.873125 13.5 \n\" clip-path=\"url(#p017039849b)\" style=\"fill: none; stroke-dasharray: 9.6,2.4,1.5,2.4; stroke-dashoffset: 0; stroke: #2ca02c; stroke-width: 1.5\"/>\n   </g>\n   <g id=\"line2d_116\">\n    <path d=\"M 34.954394 66.155988 \nL 44.698573 93.634909 \nL 54.442752 104.123879 \nL 64.186931 106.399957 \nL 73.93111 113.978169 \nL 83.675289 113.574542 \nL 93.419468 120.143346 \nL 103.163647 119.160501 \nL 112.907826 125.199485 \nL 122.652006 124.318558 \nL 132.396185 129.954573 \nL 142.140364 128.638897 \nL 151.884543 133.383359 \nL 161.628722 132.519638 \nL 171.372901 136.133066 \nL 181.11708 135.381919 \nL 190.861259 138.541667 \nL 200.605438 137.336878 \nL 210.349618 139.5 \n\" clip-path=\"url(#p017039849b)\" style=\"fill: none; stroke: #1f77b4; stroke-width: 1.5; stroke-linecap: square\"/>\n   </g>\n   <g id=\"line2d_117\">\n    <path d=\"M 49.633125 90.494403 \nL 69.163125 100.991077 \nL 88.693125 103.623563 \nL 108.223125 93.069831 \nL 127.753125 100.000256 \nL 147.283125 100.33446 \nL 166.813125 101.441026 \nL 186.343125 101.849526 \nL 205.873125 101.236286 \n\" clip-path=\"url(#p017039849b)\" style=\"fill: none; stroke-dasharray: 5.55,2.4; stroke-dashoffset: 0; stroke: #ff7f0e; stroke-width: 1.5\"/>\n   </g>\n   <g id=\"line2d_118\">\n    <path d=\"M 49.633125 20.832328 \nL 69.163125 16.396549 \nL 88.693125 15.6969 \nL 108.223125 19.39105 \nL 127.753125 15.514991 \nL 147.283125 15.333082 \nL 166.813125 13.933783 \nL 186.343125 14.255622 \nL 205.873125 13.5 \n\" clip-path=\"url(#p017039849b)\" style=\"fill: none; stroke-dasharray: 9.6,2.4,1.5,2.4; stroke-dashoffset: 0; stroke: #2ca02c; stroke-width: 1.5\"/>\n   </g>\n   <g id=\"line2d_119\">\n    <path d=\"M 34.954394 66.155988 \nL 44.698573 93.634909 \nL 54.442752 104.123879 \nL 64.186931 106.399957 \nL 73.93111 113.978169 \nL 83.675289 113.574542 \nL 93.419468 120.143346 \nL 103.163647 119.160501 \nL 112.907826 125.199485 \nL 122.652006 124.318558 \nL 132.396185 129.954573 \nL 142.140364 128.638897 \nL 151.884543 133.383359 \nL 161.628722 132.519638 \nL 171.372901 136.133066 \nL 181.11708 135.381919 \nL 190.861259 138.541667 \nL 200.605438 137.336878 \nL 210.349618 139.5 \nL 220.093797 138.156603 \n\" clip-path=\"url(#p017039849b)\" style=\"fill: none; stroke: #1f77b4; stroke-width: 1.5; stroke-linecap: square\"/>\n   </g>\n   <g id=\"line2d_120\">\n    <path d=\"M 49.633125 90.494403 \nL 69.163125 100.991077 \nL 88.693125 103.623563 \nL 108.223125 93.069831 \nL 127.753125 100.000256 \nL 147.283125 100.33446 \nL 166.813125 101.441026 \nL 186.343125 101.849526 \nL 205.873125 101.236286 \n\" clip-path=\"url(#p017039849b)\" style=\"fill: none; stroke-dasharray: 5.55,2.4; stroke-dashoffset: 0; stroke: #ff7f0e; stroke-width: 1.5\"/>\n   </g>\n   <g id=\"line2d_121\">\n    <path d=\"M 49.633125 20.832328 \nL 69.163125 16.396549 \nL 88.693125 15.6969 \nL 108.223125 19.39105 \nL 127.753125 15.514991 \nL 147.283125 15.333082 \nL 166.813125 13.933783 \nL 186.343125 14.255622 \nL 205.873125 13.5 \n\" clip-path=\"url(#p017039849b)\" style=\"fill: none; stroke-dasharray: 9.6,2.4,1.5,2.4; stroke-dashoffset: 0; stroke: #2ca02c; stroke-width: 1.5\"/>\n   </g>\n   <g id=\"line2d_122\">\n    <path d=\"M 34.954394 66.155988 \nL 44.698573 93.634909 \nL 54.442752 104.123879 \nL 64.186931 106.399957 \nL 73.93111 113.978169 \nL 83.675289 113.574542 \nL 93.419468 120.143346 \nL 103.163647 119.160501 \nL 112.907826 125.199485 \nL 122.652006 124.318558 \nL 132.396185 129.954573 \nL 142.140364 128.638897 \nL 151.884543 133.383359 \nL 161.628722 132.519638 \nL 171.372901 136.133066 \nL 181.11708 135.381919 \nL 190.861259 138.541667 \nL 200.605438 137.336878 \nL 210.349618 139.5 \nL 220.093797 138.156603 \n\" clip-path=\"url(#p017039849b)\" style=\"fill: none; stroke: #1f77b4; stroke-width: 1.5; stroke-linecap: square\"/>\n   </g>\n   <g id=\"line2d_123\">\n    <path d=\"M 49.633125 90.494403 \nL 69.163125 100.991077 \nL 88.693125 103.623563 \nL 108.223125 93.069831 \nL 127.753125 100.000256 \nL 147.283125 100.33446 \nL 166.813125 101.441026 \nL 186.343125 101.849526 \nL 205.873125 101.236286 \nL 225.403125 97.632519 \n\" clip-path=\"url(#p017039849b)\" style=\"fill: none; stroke-dasharray: 5.55,2.4; stroke-dashoffset: 0; stroke: #ff7f0e; stroke-width: 1.5\"/>\n   </g>\n   <g id=\"line2d_124\">\n    <path d=\"M 49.633125 20.832328 \nL 69.163125 16.396549 \nL 88.693125 15.6969 \nL 108.223125 19.39105 \nL 127.753125 15.514991 \nL 147.283125 15.333082 \nL 166.813125 13.933783 \nL 186.343125 14.255622 \nL 205.873125 13.5 \n\" clip-path=\"url(#p017039849b)\" style=\"fill: none; stroke-dasharray: 9.6,2.4,1.5,2.4; stroke-dashoffset: 0; stroke: #2ca02c; stroke-width: 1.5\"/>\n   </g>\n   <g id=\"line2d_125\">\n    <path d=\"M 34.954394 66.155988 \nL 44.698573 93.634909 \nL 54.442752 104.123879 \nL 64.186931 106.399957 \nL 73.93111 113.978169 \nL 83.675289 113.574542 \nL 93.419468 120.143346 \nL 103.163647 119.160501 \nL 112.907826 125.199485 \nL 122.652006 124.318558 \nL 132.396185 129.954573 \nL 142.140364 128.638897 \nL 151.884543 133.383359 \nL 161.628722 132.519638 \nL 171.372901 136.133066 \nL 181.11708 135.381919 \nL 190.861259 138.541667 \nL 200.605438 137.336878 \nL 210.349618 139.5 \nL 220.093797 138.156603 \n\" clip-path=\"url(#p017039849b)\" style=\"fill: none; stroke: #1f77b4; stroke-width: 1.5; stroke-linecap: square\"/>\n   </g>\n   <g id=\"line2d_126\">\n    <path d=\"M 49.633125 90.494403 \nL 69.163125 100.991077 \nL 88.693125 103.623563 \nL 108.223125 93.069831 \nL 127.753125 100.000256 \nL 147.283125 100.33446 \nL 166.813125 101.441026 \nL 186.343125 101.849526 \nL 205.873125 101.236286 \nL 225.403125 97.632519 \n\" clip-path=\"url(#p017039849b)\" style=\"fill: none; stroke-dasharray: 5.55,2.4; stroke-dashoffset: 0; stroke: #ff7f0e; stroke-width: 1.5\"/>\n   </g>\n   <g id=\"line2d_127\">\n    <path d=\"M 49.633125 20.832328 \nL 69.163125 16.396549 \nL 88.693125 15.6969 \nL 108.223125 19.39105 \nL 127.753125 15.514991 \nL 147.283125 15.333082 \nL 166.813125 13.933783 \nL 186.343125 14.255622 \nL 205.873125 13.5 \nL 225.403125 13.891804 \n\" clip-path=\"url(#p017039849b)\" style=\"fill: none; stroke-dasharray: 9.6,2.4,1.5,2.4; stroke-dashoffset: 0; stroke: #2ca02c; stroke-width: 1.5\"/>\n   </g>\n   <g id=\"patch_3\">\n    <path d=\"M 30.103125 145.8 \nL 30.103125 7.2 \n\" style=\"fill: none; stroke: #000000; stroke-width: 0.8; stroke-linejoin: miter; stroke-linecap: square\"/>\n   </g>\n   <g id=\"patch_4\">\n    <path d=\"M 225.403125 145.8 \nL 225.403125 7.2 \n\" style=\"fill: none; stroke: #000000; stroke-width: 0.8; stroke-linejoin: miter; stroke-linecap: square\"/>\n   </g>\n   <g id=\"patch_5\">\n    <path d=\"M 30.103125 145.8 \nL 225.403125 145.8 \n\" style=\"fill: none; stroke: #000000; stroke-width: 0.8; stroke-linejoin: miter; stroke-linecap: square\"/>\n   </g>\n   <g id=\"patch_6\">\n    <path d=\"M 30.103125 7.2 \nL 225.403125 7.2 \n\" style=\"fill: none; stroke: #000000; stroke-width: 0.8; stroke-linejoin: miter; stroke-linecap: square\"/>\n   </g>\n   <g id=\"legend_1\">\n    <g id=\"patch_7\">\n     <path d=\"M 138.8125 100.434375 \nL 218.403125 100.434375 \nQ 220.403125 100.434375 220.403125 98.434375 \nL 220.403125 54.565625 \nQ 220.403125 52.565625 218.403125 52.565625 \nL 138.8125 52.565625 \nQ 136.8125 52.565625 136.8125 54.565625 \nL 136.8125 98.434375 \nQ 136.8125 100.434375 138.8125 100.434375 \nz\n\" style=\"fill: #ffffff; opacity: 0.8; stroke: #cccccc; stroke-linejoin: miter\"/>\n    </g>\n    <g id=\"line2d_128\">\n     <path d=\"M 140.8125 60.664063 \nL 150.8125 60.664063 \nL 160.8125 60.664063 \n\" style=\"fill: none; stroke: #1f77b4; stroke-width: 1.5; stroke-linecap: square\"/>\n    </g>\n    <g id=\"text_13\">\n     <!-- train_loss -->\n     <g transform=\"translate(168.8125 64.164063) scale(0.1 -0.1)\">\n      <defs>\n       <path id=\"DejaVuSans-74\" d=\"M 1172 4494 \nL 1172 3500 \nL 2356 3500 \nL 2356 3053 \nL 1172 3053 \nL 1172 1153 \nQ 1172 725 1289 603 \nQ 1406 481 1766 481 \nL 2356 481 \nL 2356 0 \nL 1766 0 \nQ 1100 0 847 248 \nQ 594 497 594 1153 \nL 594 3053 \nL 172 3053 \nL 172 3500 \nL 594 3500 \nL 594 4494 \nL 1172 4494 \nz\n\" transform=\"scale(0.015625)\"/>\n       <path id=\"DejaVuSans-72\" d=\"M 2631 2963 \nQ 2534 3019 2420 3045 \nQ 2306 3072 2169 3072 \nQ 1681 3072 1420 2755 \nQ 1159 2438 1159 1844 \nL 1159 0 \nL 581 0 \nL 581 3500 \nL 1159 3500 \nL 1159 2956 \nQ 1341 3275 1631 3429 \nQ 1922 3584 2338 3584 \nQ 2397 3584 2469 3576 \nQ 2541 3569 2628 3553 \nL 2631 2963 \nz\n\" transform=\"scale(0.015625)\"/>\n       <path id=\"DejaVuSans-61\" d=\"M 2194 1759 \nQ 1497 1759 1228 1600 \nQ 959 1441 959 1056 \nQ 959 750 1161 570 \nQ 1363 391 1709 391 \nQ 2188 391 2477 730 \nQ 2766 1069 2766 1631 \nL 2766 1759 \nL 2194 1759 \nz\nM 3341 1997 \nL 3341 0 \nL 2766 0 \nL 2766 531 \nQ 2569 213 2275 61 \nQ 1981 -91 1556 -91 \nQ 1019 -91 701 211 \nQ 384 513 384 1019 \nQ 384 1609 779 1909 \nQ 1175 2209 1959 2209 \nL 2766 2209 \nL 2766 2266 \nQ 2766 2663 2505 2880 \nQ 2244 3097 1772 3097 \nQ 1472 3097 1187 3025 \nQ 903 2953 641 2809 \nL 641 3341 \nQ 956 3463 1253 3523 \nQ 1550 3584 1831 3584 \nQ 2591 3584 2966 3190 \nQ 3341 2797 3341 1997 \nz\n\" transform=\"scale(0.015625)\"/>\n       <path id=\"DejaVuSans-69\" d=\"M 603 3500 \nL 1178 3500 \nL 1178 0 \nL 603 0 \nL 603 3500 \nz\nM 603 4863 \nL 1178 4863 \nL 1178 4134 \nL 603 4134 \nL 603 4863 \nz\n\" transform=\"scale(0.015625)\"/>\n       <path id=\"DejaVuSans-6e\" d=\"M 3513 2113 \nL 3513 0 \nL 2938 0 \nL 2938 2094 \nQ 2938 2591 2744 2837 \nQ 2550 3084 2163 3084 \nQ 1697 3084 1428 2787 \nQ 1159 2491 1159 1978 \nL 1159 0 \nL 581 0 \nL 581 3500 \nL 1159 3500 \nL 1159 2956 \nQ 1366 3272 1645 3428 \nQ 1925 3584 2291 3584 \nQ 2894 3584 3203 3211 \nQ 3513 2838 3513 2113 \nz\n\" transform=\"scale(0.015625)\"/>\n       <path id=\"DejaVuSans-5f\" d=\"M 3263 -1063 \nL 3263 -1509 \nL -63 -1509 \nL -63 -1063 \nL 3263 -1063 \nz\n\" transform=\"scale(0.015625)\"/>\n       <path id=\"DejaVuSans-6c\" d=\"M 603 4863 \nL 1178 4863 \nL 1178 0 \nL 603 0 \nL 603 4863 \nz\n\" transform=\"scale(0.015625)\"/>\n       <path id=\"DejaVuSans-73\" d=\"M 2834 3397 \nL 2834 2853 \nQ 2591 2978 2328 3040 \nQ 2066 3103 1784 3103 \nQ 1356 3103 1142 2972 \nQ 928 2841 928 2578 \nQ 928 2378 1081 2264 \nQ 1234 2150 1697 2047 \nL 1894 2003 \nQ 2506 1872 2764 1633 \nQ 3022 1394 3022 966 \nQ 3022 478 2636 193 \nQ 2250 -91 1575 -91 \nQ 1294 -91 989 -36 \nQ 684 19 347 128 \nL 347 722 \nQ 666 556 975 473 \nQ 1284 391 1588 391 \nQ 1994 391 2212 530 \nQ 2431 669 2431 922 \nQ 2431 1156 2273 1281 \nQ 2116 1406 1581 1522 \nL 1381 1569 \nQ 847 1681 609 1914 \nQ 372 2147 372 2553 \nQ 372 3047 722 3315 \nQ 1072 3584 1716 3584 \nQ 2034 3584 2315 3537 \nQ 2597 3491 2834 3397 \nz\n\" transform=\"scale(0.015625)\"/>\n      </defs>\n      <use xlink:href=\"#DejaVuSans-74\"/>\n      <use xlink:href=\"#DejaVuSans-72\" x=\"39.208984\"/>\n      <use xlink:href=\"#DejaVuSans-61\" x=\"80.322266\"/>\n      <use xlink:href=\"#DejaVuSans-69\" x=\"141.601562\"/>\n      <use xlink:href=\"#DejaVuSans-6e\" x=\"169.384766\"/>\n      <use xlink:href=\"#DejaVuSans-5f\" x=\"232.763672\"/>\n      <use xlink:href=\"#DejaVuSans-6c\" x=\"282.763672\"/>\n      <use xlink:href=\"#DejaVuSans-6f\" x=\"310.546875\"/>\n      <use xlink:href=\"#DejaVuSans-73\" x=\"371.728516\"/>\n      <use xlink:href=\"#DejaVuSans-73\" x=\"423.828125\"/>\n     </g>\n    </g>\n    <g id=\"line2d_129\">\n     <path d=\"M 140.8125 75.620313 \nL 150.8125 75.620313 \nL 160.8125 75.620313 \n\" style=\"fill: none; stroke-dasharray: 5.55,2.4; stroke-dashoffset: 0; stroke: #ff7f0e; stroke-width: 1.5\"/>\n    </g>\n    <g id=\"text_14\">\n     <!-- val_loss -->\n     <g transform=\"translate(168.8125 79.120313) scale(0.1 -0.1)\">\n      <defs>\n       <path id=\"DejaVuSans-76\" d=\"M 191 3500 \nL 800 3500 \nL 1894 563 \nL 2988 3500 \nL 3597 3500 \nL 2284 0 \nL 1503 0 \nL 191 3500 \nz\n\" transform=\"scale(0.015625)\"/>\n      </defs>\n      <use xlink:href=\"#DejaVuSans-76\"/>\n      <use xlink:href=\"#DejaVuSans-61\" x=\"59.179688\"/>\n      <use xlink:href=\"#DejaVuSans-6c\" x=\"120.458984\"/>\n      <use xlink:href=\"#DejaVuSans-5f\" x=\"148.242188\"/>\n      <use xlink:href=\"#DejaVuSans-6c\" x=\"198.242188\"/>\n      <use xlink:href=\"#DejaVuSans-6f\" x=\"226.025391\"/>\n      <use xlink:href=\"#DejaVuSans-73\" x=\"287.207031\"/>\n      <use xlink:href=\"#DejaVuSans-73\" x=\"339.306641\"/>\n     </g>\n    </g>\n    <g id=\"line2d_130\">\n     <path d=\"M 140.8125 90.576563 \nL 150.8125 90.576563 \nL 160.8125 90.576563 \n\" style=\"fill: none; stroke-dasharray: 9.6,2.4,1.5,2.4; stroke-dashoffset: 0; stroke: #2ca02c; stroke-width: 1.5\"/>\n    </g>\n    <g id=\"text_15\">\n     <!-- val_acc -->\n     <g transform=\"translate(168.8125 94.076563) scale(0.1 -0.1)\">\n      <use xlink:href=\"#DejaVuSans-76\"/>\n      <use xlink:href=\"#DejaVuSans-61\" x=\"59.179688\"/>\n      <use xlink:href=\"#DejaVuSans-6c\" x=\"120.458984\"/>\n      <use xlink:href=\"#DejaVuSans-5f\" x=\"148.242188\"/>\n      <use xlink:href=\"#DejaVuSans-61\" x=\"198.242188\"/>\n      <use xlink:href=\"#DejaVuSans-63\" x=\"259.521484\"/>\n      <use xlink:href=\"#DejaVuSans-63\" x=\"314.501953\"/>\n     </g>\n    </g>\n   </g>\n  </g>\n </g>\n <defs>\n  <clipPath id=\"p017039849b\">\n   <rect x=\"30.103125\" y=\"7.2\" width=\"195.3\" height=\"138.6\"/>\n  </clipPath>\n </defs>\n</svg>\n"
          },
          "metadata": {}
        }
      ]
    },
    {
      "cell_type": "markdown",
      "source": [
        "### 8.6.5 ResNeXt"
      ],
      "metadata": {
        "id": "pDibxH7l6N_s"
      }
    },
    {
      "cell_type": "code",
      "source": [
        "class ResNeXtBlock(nn.Module):\n",
        "    \"\"\"The ResNeXt block.\"\"\"\n",
        "    def __init__(self, num_channels, groups, bot_mul, use_1x1conv=False,\n",
        "                 strides=1):\n",
        "        super().__init__()\n",
        "        bot_channels = int(round(num_channels * bot_mul))\n",
        "        self.conv1 = nn.LazyConv2d(bot_channels, kernel_size=1, stride=1)\n",
        "        self.conv2 = nn.LazyConv2d(bot_channels, kernel_size=3,\n",
        "                                   stride=strides, padding=1,\n",
        "                                   groups=bot_channels//groups)\n",
        "        self.conv3 = nn.LazyConv2d(num_channels, kernel_size=1, stride=1)\n",
        "        self.bn1 = nn.LazyBatchNorm2d()\n",
        "        self.bn2 = nn.LazyBatchNorm2d()\n",
        "        self.bn3 = nn.LazyBatchNorm2d()\n",
        "        if use_1x1conv:\n",
        "            self.conv4 = nn.LazyConv2d(num_channels, kernel_size=1,\n",
        "                                       stride=strides)\n",
        "            self.bn4 = nn.LazyBatchNorm2d()\n",
        "        else:\n",
        "            self.conv4 = None\n",
        "\n",
        "    def forward(self, X):\n",
        "        Y = F.relu(self.bn1(self.conv1(X)))\n",
        "        Y = F.relu(self.bn2(self.conv2(Y)))\n",
        "        Y = self.bn3(self.conv3(Y))\n",
        "        if self.conv4:\n",
        "            X = self.bn4(self.conv4(X))\n",
        "        return F.relu(Y + X)"
      ],
      "metadata": {
        "id": "cK3HyI6m6WNS"
      },
      "execution_count": null,
      "outputs": []
    },
    {
      "cell_type": "code",
      "source": [
        "blk = ResNeXtBlock(32, 16, 1)\n",
        "X = torch.randn(4, 32, 96, 96)\n",
        "blk(X).shape"
      ],
      "metadata": {
        "id": "GYe5Ivbv6Yu6",
        "colab": {
          "base_uri": "https://localhost:8080/"
        },
        "outputId": "c37a7c26-87f6-4690-eda8-10b8d7000126"
      },
      "execution_count": null,
      "outputs": [
        {
          "data": {
            "text/plain": [
              "torch.Size([4, 32, 96, 96])"
            ]
          },
          "execution_count": 95,
          "metadata": {},
          "output_type": "execute_result"
        },
        {
          "output_type": "execute_result",
          "data": {
            "text/plain": [
              "torch.Size([4, 32, 96, 96])"
            ]
          },
          "metadata": {},
          "execution_count": 95
        }
      ]
    }
  ],
  "metadata": {
    "colab": {
      "provenance": [],
      "toc_visible": true,
      "gpuType": "T4"
    },
    "kernelspec": {
      "display_name": "Python 3",
      "name": "python3"
    },
    "language_info": {
      "name": "python"
    },
    "accelerator": "GPU"
  },
  "nbformat": 4,
  "nbformat_minor": 0
}